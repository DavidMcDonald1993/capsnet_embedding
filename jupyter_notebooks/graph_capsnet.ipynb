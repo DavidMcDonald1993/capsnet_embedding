{
 "cells": [
  {
   "cell_type": "code",
   "execution_count": 1,
   "metadata": {
    "collapsed": true
   },
   "outputs": [],
   "source": [
    "import networkx as nx"
   ]
  },
  {
   "cell_type": "code",
   "execution_count": 2,
   "metadata": {
    "collapsed": true
   },
   "outputs": [],
   "source": [
    "G = nx.karate_club_graph()"
   ]
  },
  {
   "cell_type": "code",
   "execution_count": 3,
   "metadata": {
    "collapsed": true
   },
   "outputs": [],
   "source": [
    "nx.set_node_attributes(G=G, name=\"weight\", values=1)"
   ]
  },
  {
   "cell_type": "code",
   "execution_count": 4,
   "metadata": {},
   "outputs": [
    {
     "data": {
      "text/plain": [
       "NodeDataView({0: {'club': 'Mr. Hi', 'weight': 1}, 1: {'club': 'Mr. Hi', 'weight': 1}, 2: {'club': 'Mr. Hi', 'weight': 1}, 3: {'club': 'Mr. Hi', 'weight': 1}, 4: {'club': 'Mr. Hi', 'weight': 1}, 5: {'club': 'Mr. Hi', 'weight': 1}, 6: {'club': 'Mr. Hi', 'weight': 1}, 7: {'club': 'Mr. Hi', 'weight': 1}, 8: {'club': 'Mr. Hi', 'weight': 1}, 9: {'club': 'Officer', 'weight': 1}, 10: {'club': 'Mr. Hi', 'weight': 1}, 11: {'club': 'Mr. Hi', 'weight': 1}, 12: {'club': 'Mr. Hi', 'weight': 1}, 13: {'club': 'Mr. Hi', 'weight': 1}, 14: {'club': 'Officer', 'weight': 1}, 15: {'club': 'Officer', 'weight': 1}, 16: {'club': 'Mr. Hi', 'weight': 1}, 17: {'club': 'Mr. Hi', 'weight': 1}, 18: {'club': 'Officer', 'weight': 1}, 19: {'club': 'Mr. Hi', 'weight': 1}, 20: {'club': 'Officer', 'weight': 1}, 21: {'club': 'Mr. Hi', 'weight': 1}, 22: {'club': 'Officer', 'weight': 1}, 23: {'club': 'Officer', 'weight': 1}, 24: {'club': 'Officer', 'weight': 1}, 25: {'club': 'Officer', 'weight': 1}, 26: {'club': 'Officer', 'weight': 1}, 27: {'club': 'Officer', 'weight': 1}, 28: {'club': 'Officer', 'weight': 1}, 29: {'club': 'Officer', 'weight': 1}, 30: {'club': 'Officer', 'weight': 1}, 31: {'club': 'Officer', 'weight': 1}, 32: {'club': 'Officer', 'weight': 1}, 33: {'club': 'Officer', 'weight': 1}})"
      ]
     },
     "execution_count": 4,
     "metadata": {},
     "output_type": "execute_result"
    }
   ],
   "source": [
    "G.nodes(data=True)"
   ]
  },
  {
   "cell_type": "code",
   "execution_count": null,
   "metadata": {
    "collapsed": true
   },
   "outputs": [],
   "source": []
  }
 ],
 "metadata": {
  "kernelspec": {
   "display_name": "Python 2",
   "language": "python",
   "name": "python2"
  },
  "language_info": {
   "codemirror_mode": {
    "name": "ipython",
    "version": 2
   },
   "file_extension": ".py",
   "mimetype": "text/x-python",
   "name": "python",
   "nbconvert_exporter": "python",
   "pygments_lexer": "ipython2",
   "version": "2.7.13"
  }
 },
 "nbformat": 4,
 "nbformat_minor": 2
}
