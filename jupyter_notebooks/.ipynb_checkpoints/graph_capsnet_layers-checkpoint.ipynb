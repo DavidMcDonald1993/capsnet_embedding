{
 "cells": [
  {
   "cell_type": "code",
   "execution_count": 1,
   "metadata": {},
   "outputs": [
    {
     "name": "stderr",
     "output_type": "stream",
     "text": [
      "Using TensorFlow backend.\n"
     ]
    }
   ],
   "source": [
    "import numpy as np\n",
    "import tensorflow as tf\n",
    "import keras.backend as K"
   ]
  },
  {
   "cell_type": "code",
   "execution_count": 2,
   "metadata": {
    "collapsed": true
   },
   "outputs": [],
   "source": [
    "from keras.models import Model\n",
    "from keras.layers import Input, Dense"
   ]
  },
  {
   "cell_type": "code",
   "execution_count": 3,
   "metadata": {
    "collapsed": true
   },
   "outputs": [],
   "source": [
    "from functools import partial\n",
    "from multiprocessing import Pool"
   ]
  },
  {
   "cell_type": "code",
   "execution_count": 4,
   "metadata": {
    "collapsed": true
   },
   "outputs": [],
   "source": [
    "from sklearn.metrics import precision_recall_curve"
   ]
  },
  {
   "cell_type": "code",
   "execution_count": 5,
   "metadata": {
    "collapsed": true
   },
   "outputs": [],
   "source": [
    "?precision_recall_curve"
   ]
  },
  {
   "cell_type": "code",
   "execution_count": 6,
   "metadata": {
    "collapsed": true
   },
   "outputs": [],
   "source": [
    "y_true = [1,0,1,0,1,0,1,]"
   ]
  },
  {
   "cell_type": "code",
   "execution_count": 7,
   "metadata": {
    "collapsed": true
   },
   "outputs": [],
   "source": [
    "y_pred = np.random.rand(7)"
   ]
  },
  {
   "cell_type": "code",
   "execution_count": 8,
   "metadata": {},
   "outputs": [
    {
     "data": {
      "text/plain": [
       "array([ 0.74496283,  0.72259903,  0.09733755,  0.39817765,  0.662597  ,\n",
       "        0.38668384,  0.35910613])"
      ]
     },
     "execution_count": 8,
     "metadata": {},
     "output_type": "execute_result"
    }
   ],
   "source": [
    "y_pred"
   ]
  },
  {
   "cell_type": "code",
   "execution_count": 13,
   "metadata": {
    "collapsed": true
   },
   "outputs": [],
   "source": [
    "?precision_recall_curve"
   ]
  },
  {
   "cell_type": "code",
   "execution_count": 49,
   "metadata": {},
   "outputs": [],
   "source": [
    "precisions, recalls, thresholds = precision_recall_curve(y_true, y_pred)"
   ]
  },
  {
   "cell_type": "code",
   "execution_count": 50,
   "metadata": {},
   "outputs": [
    {
     "data": {
      "text/plain": [
       "(5001,)"
      ]
     },
     "execution_count": 50,
     "metadata": {},
     "output_type": "execute_result"
    }
   ],
   "source": [
    "precisions.shape"
   ]
  },
  {
   "cell_type": "code",
   "execution_count": 51,
   "metadata": {},
   "outputs": [
    {
     "data": {
      "text/plain": [
       "(5000,)"
      ]
     },
     "execution_count": 51,
     "metadata": {},
     "output_type": "execute_result"
    }
   ],
   "source": [
    "thresholds.shape"
   ]
  },
  {
   "cell_type": "code",
   "execution_count": 52,
   "metadata": {},
   "outputs": [
    {
     "data": {
      "text/plain": [
       "(5001,)"
      ]
     },
     "execution_count": 52,
     "metadata": {},
     "output_type": "execute_result"
    }
   ],
   "source": [
    "recalls.shape"
   ]
  },
  {
   "cell_type": "code",
   "execution_count": 16,
   "metadata": {},
   "outputs": [],
   "source": [
    "import matplotlib.pyplot as plt"
   ]
  },
  {
   "cell_type": "code",
   "execution_count": 20,
   "metadata": {},
   "outputs": [
    {
     "data": {
      "image/png": "[encoded data removed]",
      "text/plain": [
       "<matplotlib.figure.Figure at 0x7f6cc7376cd0>"
      ]
     },
     "metadata": {},
     "output_type": "display_data"
    }
   ],
   "source": [
    "plt.step(recalls, precisions)\n",
    "plt.xlabel(\"recall\")\n",
    "plt.ylabel(\"precision\")\n",
    "plt.show()"
   ]
  },
  {
   "cell_type": "code",
   "execution_count": 55,
   "metadata": {
    "collapsed": true
   },
   "outputs": [],
   "source": [
    "f1 = 2 * precisions * recalls / (precisions + recalls)"
   ]
  },
  {
   "cell_type": "code",
   "execution_count": 56,
   "metadata": {},
   "outputs": [
    {
     "data": {
      "text/plain": [
       "0.6645299145299145"
      ]
     },
     "execution_count": 56,
     "metadata": {},
     "output_type": "execute_result"
    }
   ],
   "source": [
    "f1.max()"
   ]
  },
  {
   "cell_type": "code",
   "execution_count": 57,
   "metadata": {},
   "outputs": [
    {
     "data": {
      "text/plain": [
       "array([ 0.66452991,  0.66435154,  0.66417312, ...,  0.00080321,\n",
       "        0.00080354,  0.        ])"
      ]
     },
     "execution_count": 57,
     "metadata": {},
     "output_type": "execute_result"
    }
   ],
   "source": [
    "f1"
   ]
  },
  {
   "cell_type": "code",
   "execution_count": 58,
   "metadata": {},
   "outputs": [
    {
     "data": {
      "image/png": "[encoded data removed]",
      "text/plain": [
       "<matplotlib.figure.Figure at 0x7f6cc7112610>"
      ]
     },
     "metadata": {},
     "output_type": "display_data"
    }
   ],
   "source": [
    "plt.plot(thresholds, f1[:-1])\n",
    "plt.show()"
   ]
  },
  {
   "cell_type": "code",
   "execution_count": 68,
   "metadata": {},
   "outputs": [
    {
     "data": {
      "text/plain": [
       "[1, 2, 3, 4, 1]"
      ]
     },
     "execution_count": 68,
     "metadata": {},
     "output_type": "execute_result"
    }
   ],
   "source": [
    "l"
   ]
  },
  {
   "cell_type": "code",
   "execution_count": 70,
   "metadata": {},
   "outputs": [
    {
     "data": {
      "text/plain": [
       "0"
      ]
     },
     "execution_count": 70,
     "metadata": {},
     "output_type": "execute_result"
    }
   ],
   "source": [
    "l.count(0)"
   ]
  },
  {
   "cell_type": "code",
   "execution_count": 72,
   "metadata": {
    "collapsed": true
   },
   "outputs": [],
   "source": [
    "d= {\"banana\" : 1}"
   ]
  },
  {
   "cell_type": "code",
   "execution_count": 76,
   "metadata": {
    "collapsed": true
   },
   "outputs": [],
   "source": [
    "d.update({\"banana\" : d.get(\"banana\") + 1})"
   ]
  },
  {
   "cell_type": "code",
   "execution_count": 77,
   "metadata": {},
   "outputs": [
    {
     "data": {
      "text/plain": [
       "{'banana': 2}"
      ]
     },
     "execution_count": 77,
     "metadata": {},
     "output_type": "execute_result"
    }
   ],
   "source": [
    "d"
   ]
  },
  {
   "cell_type": "code",
   "execution_count": 75,
   "metadata": {},
   "outputs": [
    {
     "ename": "SyntaxError",
     "evalue": "can't assign to function call (<ipython-input-75-80a880195c08>, line 1)",
     "output_type": "error",
     "traceback": [
      "\u001b[0;36m  File \u001b[0;32m\"<ipython-input-75-80a880195c08>\"\u001b[0;36m, line \u001b[0;32m1\u001b[0m\n\u001b[0;31m    d.get(\"banana\") =+ 1\u001b[0m\n\u001b[0;31mSyntaxError\u001b[0m\u001b[0;31m:\u001b[0m can't assign to function call\n"
     ]
    }
   ],
   "source": [
    "d.get(\"banana\") =+ 1"
   ]
  },
  {
   "cell_type": "code",
   "execution_count": 94,
   "metadata": {
    "collapsed": true
   },
   "outputs": [],
   "source": []
  },
  {
   "cell_type": "code",
   "execution_count": 95,
   "metadata": {},
   "outputs": [
    {
     "data": {
      "text/plain": [
       "[[0, 1], [1, 2], [3, 4]]"
      ]
     },
     "execution_count": 95,
     "metadata": {},
     "output_type": "execute_result"
    }
   ],
   "source": [
    "removed_edges"
   ]
  },
  {
   "cell_type": "code",
   "execution_count": 101,
   "metadata": {},
   "outputs": [
    {
     "data": {
      "text/plain": [
       "[[0, 1], [1, 2], [3, 4], [5, 6], [3, 6], [6, 7]]"
      ]
     },
     "execution_count": 101,
     "metadata": {},
     "output_type": "execute_result"
    }
   ],
   "source": [
    "candidate_edges"
   ]
  },
  {
   "cell_type": "code",
   "execution_count": 104,
   "metadata": {},
   "outputs": [],
   "source": [
    "ul = zip(*candidate_edges)"
   ]
  },
  {
   "cell_type": "code",
   "execution_count": 106,
   "metadata": {},
   "outputs": [],
   "source": [
    "embedding = np.random.rand(10, 2)"
   ]
  },
  {
   "cell_type": "code",
   "execution_count": 111,
   "metadata": {},
   "outputs": [
    {
     "data": {
      "text/plain": [
       "array([[ 0.38376961,  0.39041111],\n",
       "       [ 0.38578275,  0.361221  ],\n",
       "       [ 0.4495091 ,  0.55501952],\n",
       "       [ 0.14418538,  0.75930784],\n",
       "       [ 0.66541881,  0.84041472],\n",
       "       [ 0.05703385,  0.78470753],\n",
       "       [ 0.67555474,  0.3085342 ],\n",
       "       [ 0.80008874,  0.75267279],\n",
       "       [ 0.89953663,  0.16983895],\n",
       "       [ 0.31584827,  0.16205886]])"
      ]
     },
     "execution_count": 111,
     "metadata": {},
     "output_type": "execute_result"
    }
   ],
   "source": [
    "embedding"
   ]
  },
  {
   "cell_type": "code",
   "execution_count": 114,
   "metadata": {},
   "outputs": [],
   "source": [
    "import networkx as nx"
   ]
  },
  {
   "cell_type": "code",
   "execution_count": 117,
   "metadata": {
    "collapsed": true
   },
   "outputs": [],
   "source": [
    "G = nx.read_gml(\"../data/facebook/facebook_graph.gml\",  )"
   ]
  },
  {
   "cell_type": "code",
   "execution_count": 118,
   "metadata": {},
   "outputs": [
    {
     "data": {
      "text/plain": [
       "88234"
      ]
     },
     "execution_count": 118,
     "metadata": {},
     "output_type": "execute_result"
    }
   ],
   "source": [
    "len(G.edges)"
   ]
  },
  {
   "cell_type": "code",
   "execution_count": 107,
   "metadata": {},
   "outputs": [
    {
     "data": {
      "text/plain": [
       "(0, 1, 3, 5, 3, 6)"
      ]
     },
     "execution_count": 107,
     "metadata": {},
     "output_type": "execute_result"
    }
   ],
   "source": [
    "ul[0]"
   ]
  },
  {
   "cell_type": "code",
   "execution_count": 110,
   "metadata": {},
   "outputs": [
    {
     "data": {
      "text/plain": [
       "array([[ 0.38376961,  0.39041111],\n",
       "       [ 0.38578275,  0.361221  ],\n",
       "       [ 0.14418538,  0.75930784],\n",
       "       [ 0.05703385,  0.78470753],\n",
       "       [ 0.14418538,  0.75930784],\n",
       "       [ 0.67555474,  0.3085342 ]])"
      ]
     },
     "execution_count": 110,
     "metadata": {},
     "output_type": "execute_result"
    }
   ],
   "source": [
    "embedding[ul[0], :]"
   ]
  },
  {
   "cell_type": "code",
   "execution_count": 98,
   "metadata": {},
   "outputs": [
    {
     "name": "stdout",
     "output_type": "stream",
     "text": [
      "False\n"
     ]
    }
   ],
   "source": [
    "print [3,6] in removed_edges"
   ]
  },
  {
   "cell_type": "code",
   "execution_count": 99,
   "metadata": {},
   "outputs": [
    {
     "name": "stdout",
     "output_type": "stream",
     "text": [
      "[0, 1]\n",
      "True\n",
      "[1, 2]\n",
      "True\n",
      "[3, 4]\n",
      "True\n",
      "[5, 6]\n",
      "False\n",
      "[3, 6]\n",
      "False\n",
      "[6, 7]\n",
      "False\n"
     ]
    }
   ],
   "source": [
    "for edge in candidate_edges:\n",
    "    print edge\n",
    "    print edge in removed_edges"
   ]
  },
  {
   "cell_type": "code",
   "execution_count": 167,
   "metadata": {},
   "outputs": [],
   "source": [
    "G = nx.read_edgelist(\"../data/cora/cites.tsv\", delimiter=\"\\t\")\n",
    "G = nx.convert_node_labels_to_integers(G)"
   ]
  },
  {
   "cell_type": "code",
   "execution_count": 168,
   "metadata": {},
   "outputs": [],
   "source": [
    "import random\n",
    "def remove_edges(G, number_of_edges_to_remove):\n",
    "\n",
    "\t# print number_of_edges_to_remove\n",
    "\t# print nx.is_connected(G), nx.number_connected_components(G), len(G), len(G.edges)\n",
    "\t# raise SystemExit\n",
    "\n",
    "\tN = len(G)\n",
    "\tremoved_edges = []\n",
    "\tedges = list(G.edges)\n",
    "\trandom.shuffle(edges)\n",
    "\n",
    "\tfor u, v in edges:\n",
    "\n",
    "\t\tif len(removed_edges) == number_of_edges_to_remove:\n",
    "\t\t\t# print \"BREAKING\"\n",
    "\t\t\tbreak\n",
    "\n",
    "\t\tif G.degree(u) > 1 and G.degree(v) > 1:\n",
    "\t\t\tG.remove_edge(u, v)\n",
    "\t\t\ti = min(u, v)\n",
    "\t\t\tj = max(u, v)\n",
    "\t\t\tremoved_edges.append((i, j))\n",
    "\t\t\tprint \"removed edge {}: {}\".format(len(removed_edges), (i, j))\n",
    "\n",
    "\treturn G, removed_edges"
   ]
  },
  {
   "cell_type": "code",
   "execution_count": 169,
   "metadata": {},
   "outputs": [
    {
     "name": "stdout",
     "output_type": "stream",
     "text": [
      "removed edge 1: (183, 645)\n",
      "removed edge 2: (1779, 2701)\n",
      "removed edge 3: (1436, 2502)\n",
      "removed edge 4: (287, 1316)\n",
      "removed edge 5: (946, 1903)\n",
      "removed edge 6: (29, 2366)\n",
      "removed edge 7: (467, 1681)\n",
      "removed edge 8: (97, 1896)\n",
      "removed edge 9: (24, 678)\n",
      "removed edge 10: (302, 2079)\n",
      "removed edge 11: (2413, 2670)\n",
      "removed edge 12: (717, 1221)\n",
      "removed edge 13: (1185, 1478)\n",
      "removed edge 14: (397, 1953)\n",
      "removed edge 15: (1285, 1436)\n",
      "removed edge 16: (1278, 2091)\n",
      "removed edge 17: (1851, 2566)\n",
      "removed edge 18: (1478, 2341)\n",
      "removed edge 19: (1715, 2273)\n",
      "removed edge 20: (1631, 2603)\n",
      "removed edge 21: (2141, 2586)\n",
      "removed edge 22: (2238, 2521)\n",
      "removed edge 23: (82, 310)\n",
      "removed edge 24: (1870, 2091)\n",
      "removed edge 25: (645, 2101)\n",
      "removed edge 26: (1001, 2535)\n",
      "removed edge 27: (1430, 2652)\n",
      "removed edge 28: (511, 2200)\n",
      "removed edge 29: (1241, 1461)\n",
      "removed edge 30: (122, 2371)\n",
      "removed edge 31: (1186, 2199)\n",
      "removed edge 32: (1692, 2502)\n",
      "removed edge 33: (2091, 2464)\n",
      "removed edge 34: (374, 637)\n",
      "removed edge 35: (501, 2227)\n",
      "removed edge 36: (177, 490)\n",
      "removed edge 37: (1680, 1953)\n",
      "removed edge 38: (662, 2649)\n",
      "removed edge 39: (1156, 1227)\n",
      "removed edge 40: (458, 606)\n",
      "removed edge 41: (1028, 2707)\n",
      "removed edge 42: (806, 1251)\n",
      "removed edge 43: (450, 1312)\n",
      "removed edge 44: (1676, 2521)\n",
      "removed edge 45: (300, 1515)\n",
      "removed edge 46: (508, 2555)\n",
      "removed edge 47: (315, 1123)\n",
      "removed edge 48: (141, 2618)\n",
      "removed edge 49: (706, 1040)\n",
      "removed edge 50: (1739, 2091)\n",
      "removed edge 51: (541, 1775)\n",
      "removed edge 52: (1132, 2547)\n",
      "removed edge 53: (1849, 2638)\n",
      "removed edge 54: (1382, 2697)\n",
      "removed edge 55: (1422, 2042)\n",
      "removed edge 56: (624, 2032)\n",
      "removed edge 57: (334, 1423)\n",
      "removed edge 58: (2274, 2485)\n",
      "removed edge 59: (926, 2608)\n",
      "removed edge 60: (511, 1283)\n",
      "removed edge 61: (559, 2505)\n",
      "removed edge 62: (1196, 2047)\n",
      "removed edge 63: (645, 2671)\n",
      "removed edge 64: (1722, 2534)\n",
      "removed edge 65: (194, 195)\n",
      "removed edge 66: (391, 883)\n",
      "removed edge 67: (2040, 2237)\n",
      "removed edge 68: (397, 398)\n",
      "removed edge 69: (1635, 2465)\n",
      "removed edge 70: (606, 2483)\n",
      "removed edge 71: (1612, 2701)\n",
      "removed edge 72: (434, 1509)\n",
      "removed edge 73: (474, 1609)\n",
      "removed edge 74: (1057, 2257)\n",
      "removed edge 75: (1556, 2466)\n",
      "removed edge 76: (168, 1211)\n",
      "removed edge 77: (1596, 2542)\n",
      "removed edge 78: (2311, 2407)\n",
      "removed edge 79: (2148, 2280)\n",
      "removed edge 80: (985, 2523)\n",
      "removed edge 81: (211, 2034)\n",
      "removed edge 82: (1052, 1162)\n",
      "removed edge 83: (533, 838)\n",
      "removed edge 84: (2142, 2586)\n",
      "removed edge 85: (1686, 1700)\n",
      "removed edge 86: (1151, 2348)\n",
      "removed edge 87: (300, 2636)\n",
      "removed edge 88: (1913, 2435)\n",
      "removed edge 89: (444, 1630)\n",
      "removed edge 90: (1594, 2371)\n",
      "removed edge 91: (1160, 1418)\n",
      "removed edge 92: (1279, 1763)\n",
      "removed edge 93: (13, 1344)\n",
      "removed edge 94: (302, 1430)\n",
      "removed edge 95: (537, 578)\n",
      "removed edge 96: (192, 1978)\n",
      "removed edge 97: (1036, 2226)\n",
      "removed edge 98: (2087, 2257)\n",
      "removed edge 99: (919, 1314)\n",
      "removed edge 100: (872, 1749)\n",
      "removed edge 101: (944, 2091)\n",
      "removed edge 102: (278, 1839)\n",
      "removed edge 103: (942, 2091)\n",
      "removed edge 104: (1077, 2091)\n",
      "removed edge 105: (1452, 2110)\n",
      "removed edge 106: (895, 952)\n",
      "removed edge 107: (1804, 2586)\n",
      "removed edge 108: (1034, 2142)\n",
      "removed edge 109: (1631, 1722)\n",
      "removed edge 110: (693, 1624)\n",
      "removed edge 111: (520, 1423)\n",
      "removed edge 112: (1133, 1265)\n",
      "removed edge 113: (560, 2601)\n",
      "removed edge 114: (302, 1646)\n",
      "removed edge 115: (903, 2358)\n",
      "removed edge 116: (2339, 2651)\n",
      "removed edge 117: (2170, 2171)\n",
      "removed edge 118: (1900, 1990)\n",
      "removed edge 119: (437, 2045)\n",
      "removed edge 120: (319, 1498)\n",
      "removed edge 121: (1644, 2166)\n",
      "removed edge 122: (870, 1903)\n",
      "removed edge 123: (302, 1757)\n",
      "removed edge 124: (511, 2043)\n",
      "removed edge 125: (1467, 2032)\n",
      "removed edge 126: (657, 1430)\n",
      "removed edge 127: (21, 879)\n",
      "removed edge 128: (302, 1515)\n",
      "removed edge 129: (645, 1825)\n",
      "removed edge 130: (2436, 2665)\n",
      "removed edge 131: (1774, 1940)\n",
      "removed edge 132: (1154, 2169)\n",
      "removed edge 133: (278, 1543)\n",
      "removed edge 134: (1303, 2576)\n",
      "removed edge 135: (525, 2399)\n",
      "removed edge 136: (1974, 2407)\n",
      "removed edge 137: (590, 2021)\n",
      "removed edge 138: (1846, 2393)\n",
      "removed edge 139: (733, 1769)\n",
      "removed edge 140: (543, 681)\n",
      "removed edge 141: (1652, 1855)\n",
      "removed edge 142: (1630, 1883)\n",
      "removed edge 143: (2042, 2498)\n",
      "removed edge 144: (1477, 1919)\n",
      "removed edge 145: (768, 1555)\n",
      "removed edge 146: (952, 2578)\n",
      "removed edge 147: (1665, 1849)\n",
      "removed edge 148: (1498, 1986)\n",
      "removed edge 149: (1363, 2561)\n",
      "removed edge 150: (877, 2094)\n",
      "removed edge 151: (163, 1880)\n",
      "removed edge 152: (366, 1853)\n",
      "removed edge 153: (600, 1122)\n",
      "removed edge 154: (511, 2021)\n",
      "removed edge 155: (2091, 2092)\n",
      "removed edge 156: (1362, 1375)\n",
      "removed edge 157: (1255, 2540)\n",
      "removed edge 158: (631, 1843)\n",
      "removed edge 159: (346, 2192)\n",
      "removed edge 160: (982, 1352)\n",
      "removed edge 161: (902, 1454)\n",
      "removed edge 162: (1791, 2707)\n",
      "removed edge 163: (202, 384)\n",
      "removed edge 164: (903, 1961)\n",
      "removed edge 165: (2643, 2701)\n",
      "removed edge 166: (2703, 2704)\n",
      "removed edge 167: (1458, 1595)\n",
      "removed edge 168: (1116, 1449)\n",
      "removed edge 169: (262, 265)\n",
      "removed edge 170: (1149, 1155)\n",
      "removed edge 171: (1348, 2407)\n",
      "removed edge 172: (1722, 2495)\n",
      "removed edge 173: (2160, 2297)\n",
      "removed edge 174: (616, 1042)\n",
      "removed edge 175: (703, 711)\n",
      "removed edge 176: (281, 1274)\n",
      "removed edge 177: (900, 2656)\n",
      "removed edge 178: (1368, 2590)\n",
      "removed edge 179: (30, 427)\n",
      "removed edge 180: (127, 2177)\n",
      "removed edge 181: (1422, 2643)\n",
      "removed edge 182: (207, 2485)\n",
      "removed edge 183: (1322, 1445)\n",
      "removed edge 184: (2000, 2051)\n",
      "removed edge 185: (23, 1576)\n",
      "removed edge 186: (1792, 2503)\n",
      "removed edge 187: (2196, 2572)\n",
      "removed edge 188: (142, 1448)\n",
      "removed edge 189: (653, 1060)\n",
      "removed edge 190: (1063, 2535)\n",
      "removed edge 191: (2283, 2618)\n",
      "removed edge 192: (1858, 2187)\n",
      "removed edge 193: (495, 2366)\n",
      "removed edge 194: (577, 2576)\n",
      "removed edge 195: (1500, 1501)\n",
      "removed edge 196: (126, 1522)\n",
      "removed edge 197: (899, 2576)\n",
      "removed edge 198: (2000, 2326)\n",
      "removed edge 199: (298, 2241)\n",
      "removed edge 200: (410, 1503)\n",
      "removed edge 201: (278, 953)\n",
      "removed edge 202: (1266, 1796)\n",
      "removed edge 203: (2238, 2520)\n",
      "removed edge 204: (573, 2007)\n",
      "removed edge 205: (779, 1162)\n",
      "removed edge 206: (840, 1997)\n",
      "removed edge 207: (1804, 2397)\n",
      "removed edge 208: (1134, 2197)\n",
      "removed edge 209: (864, 1359)\n",
      "removed edge 210: (383, 2442)\n",
      "removed edge 211: (2277, 2543)\n",
      "removed edge 212: (21, 309)\n",
      "removed edge 213: (209, 846)\n",
      "removed edge 214: (613, 1325)\n",
      "removed edge 215: (497, 1805)\n",
      "removed edge 216: (1427, 2689)\n",
      "removed edge 217: (761, 2321)\n",
      "removed edge 218: (304, 972)\n",
      "removed edge 219: (47, 2637)\n",
      "removed edge 220: (1325, 2053)\n",
      "removed edge 221: (267, 1751)\n",
      "removed edge 222: (1606, 1633)\n",
      "removed edge 223: (41, 1539)\n",
      "removed edge 224: (959, 2538)\n",
      "removed edge 225: (1448, 1979)\n",
      "removed edge 226: (342, 2091)\n",
      "removed edge 227: (283, 1469)\n",
      "removed edge 228: (1881, 2112)\n",
      "removed edge 229: (427, 1753)\n",
      "removed edge 230: (168, 1412)\n",
      "removed edge 231: (1046, 1048)\n",
      "removed edge 232: (1679, 1685)\n",
      "removed edge 233: (1889, 2624)\n",
      "removed edge 234: (893, 1801)\n",
      "removed edge 235: (1449, 2589)\n",
      "removed edge 236: (2270, 2703)\n",
      "removed edge 237: (572, 2275)\n",
      "removed edge 238: (301, 1998)\n",
      "removed edge 239: (107, 2701)\n",
      "removed edge 240: (1498, 2422)\n",
      "removed edge 241: (1762, 1854)\n",
      "removed edge 242: (471, 2604)\n",
      "removed edge 243: (444, 464)\n",
      "removed edge 244: (1308, 2660)\n",
      "removed edge 245: (1162, 1810)\n",
      "removed edge 246: (2000, 2373)\n",
      "removed edge 247: (2354, 2562)\n",
      "removed edge 248: (623, 2623)\n",
      "removed edge 249: (286, 336)\n",
      "removed edge 250: (1618, 2220)\n",
      "removed edge 251: (1684, 1762)\n",
      "removed edge 252: (826, 1851)\n",
      "removed edge 253: (733, 2494)\n",
      "removed edge 254: (81, 2373)\n",
      "removed edge 255: (768, 1781)\n",
      "removed edge 256: (278, 473)\n",
      "removed edge 257: (1941, 2091)\n",
      "removed edge 258: (1700, 1849)\n",
      "removed edge 259: (200, 783)\n",
      "removed edge 260: (384, 874)\n",
      "removed edge 261: (895, 1371)\n",
      "removed edge 262: (327, 1160)\n",
      "removed edge 263: (2030, 2031)\n",
      "removed edge 264: (438, 1854)\n",
      "removed edge 265: (744, 944)\n",
      "removed edge 266: (961, 2701)\n",
      "removed edge 267: (1925, 1930)\n",
      "removed edge 268: (341, 893)\n",
      "removed edge 269: (4, 2701)\n",
      "removed edge 270: (1993, 2359)\n",
      "removed edge 271: (701, 1049)\n",
      "removed edge 272: (457, 2583)\n",
      "removed edge 273: (2185, 2576)\n",
      "removed edge 274: (605, 2042)\n",
      "removed edge 275: (1080, 1081)\n",
      "removed edge 276: (967, 1462)\n",
      "removed edge 277: (1860, 2582)\n",
      "removed edge 278: (120, 2701)\n",
      "removed edge 279: (102, 2314)\n",
      "removed edge 280: (1045, 1740)\n",
      "removed edge 281: (256, 2594)\n",
      "removed edge 282: (623, 1593)\n",
      "removed edge 283: (641, 840)\n",
      "removed edge 284: (302, 2134)\n",
      "removed edge 285: (1753, 2514)\n",
      "removed edge 286: (515, 1203)\n",
      "removed edge 287: (930, 2233)\n",
      "removed edge 288: (2283, 2285)\n",
      "removed edge 289: (365, 1409)\n",
      "removed edge 290: (278, 662)\n",
      "removed edge 291: (997, 1056)\n",
      "removed edge 292: (747, 2042)\n",
      "removed edge 293: (1826, 2286)\n",
      "removed edge 294: (114, 301)\n",
      "removed edge 295: (992, 2061)\n",
      "removed edge 296: (1733, 2504)\n",
      "removed edge 297: (1083, 1820)\n",
      "removed edge 298: (678, 2075)\n",
      "removed edge 299: (1509, 1750)\n",
      "removed edge 300: (1731, 2203)\n",
      "removed edge 301: (383, 773)\n",
      "removed edge 302: (390, 885)\n",
      "removed edge 303: (817, 1938)\n",
      "removed edge 304: (969, 1038)\n",
      "removed edge 305: (276, 490)\n",
      "removed edge 306: (1058, 2091)\n",
      "removed edge 307: (271, 603)\n",
      "removed edge 308: (92, 671)\n",
      "removed edge 309: (2012, 2070)\n",
      "removed edge 310: (1854, 2558)\n",
      "removed edge 311: (1486, 1855)\n",
      "removed edge 312: (379, 2045)\n",
      "removed edge 313: (1027, 1685)\n",
      "removed edge 314: (797, 2651)\n",
      "removed edge 315: (797, 2130)\n",
      "removed edge 316: (18, 20)\n",
      "removed edge 317: (732, 2706)\n",
      "removed edge 318: (511, 1295)\n",
      "removed edge 319: (2497, 2576)\n",
      "removed edge 320: (1497, 2670)\n",
      "removed edge 321: (1737, 2605)\n",
      "removed edge 322: (1288, 1805)\n",
      "removed edge 323: (52, 2093)\n",
      "removed edge 324: (2109, 2159)\n",
      "removed edge 325: (2504, 2648)\n",
      "removed edge 326: (293, 1579)\n",
      "removed edge 327: (598, 2042)\n",
      "removed edge 328: (1592, 1797)\n",
      "removed edge 329: (1332, 2081)\n",
      "removed edge 330: (52, 2522)\n",
      "removed edge 331: (11, 2435)\n",
      "removed edge 332: (1775, 2486)\n",
      "removed edge 333: (508, 2531)\n",
      "removed edge 334: (1048, 1692)\n",
      "removed edge 335: (349, 2576)\n",
      "removed edge 336: (1685, 2365)\n",
      "removed edge 337: (63, 2545)\n",
      "removed edge 338: (2322, 2652)\n",
      "removed edge 339: (461, 1498)\n",
      "removed edge 340: (1751, 2549)\n",
      "removed edge 341: (593, 1972)\n",
      "removed edge 342: (1944, 2299)\n",
      "removed edge 343: (1595, 1635)\n",
      "removed edge 344: (1190, 1733)\n",
      "removed edge 345: (394, 2565)\n",
      "removed edge 346: (1609, 1822)\n",
      "removed edge 347: (1140, 2387)\n",
      "removed edge 348: (1880, 1905)\n",
      "removed edge 349: (2187, 2517)\n",
      "removed edge 350: (2042, 2071)\n",
      "removed edge 351: (840, 1060)\n",
      "removed edge 352: (434, 1328)\n",
      "removed edge 353: (200, 2295)\n",
      "removed edge 354: (283, 1277)\n",
      "removed edge 355: (192, 1423)\n",
      "removed edge 356: (192, 1734)\n",
      "removed edge 357: (1598, 2549)\n",
      "removed edge 358: (1831, 2343)\n",
      "removed edge 359: (805, 2206)\n",
      "removed edge 360: (1304, 2288)\n",
      "removed edge 361: (567, 1509)\n",
      "removed edge 362: (2197, 2442)\n",
      "removed edge 363: (547, 1755)\n",
      "removed edge 364: (884, 1533)\n",
      "removed edge 365: (2324, 2325)\n",
      "removed edge 366: (240, 1220)\n",
      "removed edge 367: (1518, 1979)\n",
      "removed edge 368: (617, 1857)\n",
      "removed edge 369: (1828, 2177)\n",
      "removed edge 370: (1382, 2646)\n",
      "removed edge 371: (122, 1331)\n",
      "removed edge 372: (724, 789)\n",
      "removed edge 373: (52, 355)\n",
      "removed edge 374: (401, 405)\n",
      "removed edge 375: (508, 1904)\n",
      "removed edge 376: (621, 2384)\n",
      "removed edge 377: (544, 2576)\n",
      "removed edge 378: (468, 2701)\n",
      "removed edge 379: (1805, 2466)\n",
      "removed edge 380: (1266, 2383)\n",
      "removed edge 381: (55, 96)\n",
      "removed edge 382: (508, 715)\n",
      "removed edge 383: (1681, 2563)\n",
      "removed edge 384: (32, 115)\n",
      "removed edge 385: (941, 1801)\n",
      "removed edge 386: (645, 2440)\n",
      "removed edge 387: (479, 2217)\n",
      "removed edge 388: (2126, 2422)\n",
      "removed edge 389: (1800, 1979)\n",
      "removed edge 390: (2126, 2168)\n",
      "removed edge 391: (1160, 1937)\n",
      "removed edge 392: (2225, 2701)\n",
      "removed edge 393: (1652, 2374)\n",
      "removed edge 394: (570, 1305)\n",
      "removed edge 395: (2064, 2065)\n",
      "removed edge 396: (626, 1474)\n",
      "removed edge 397: (1601, 2111)\n",
      "removed edge 398: (300, 590)\n",
      "removed edge 399: (506, 2168)\n",
      "removed edge 400: (1971, 2042)\n",
      "removed edge 401: (1175, 2295)\n",
      "removed edge 402: (1751, 2091)\n",
      "removed edge 403: (381, 2131)\n",
      "removed edge 404: (530, 1509)\n",
      "removed edge 405: (265, 2029)\n",
      "removed edge 406: (349, 1200)\n",
      "removed edge 407: (278, 2175)\n",
      "removed edge 408: (1265, 1753)\n",
      "removed edge 409: (541, 2485)\n",
      "removed edge 410: (1702, 2400)\n",
      "removed edge 411: (2204, 2248)\n",
      "removed edge 412: (2105, 2704)\n",
      "removed edge 413: (886, 2443)\n",
      "removed edge 414: (2483, 2576)\n",
      "removed edge 415: (19, 2576)\n",
      "removed edge 416: (148, 1267)\n",
      "removed edge 417: (465, 2490)\n",
      "removed edge 418: (2598, 2701)\n",
      "removed edge 419: (2407, 2490)\n",
      "removed edge 420: (242, 965)\n",
      "removed edge 421: (88, 2000)\n",
      "removed edge 422: (978, 1812)\n",
      "removed edge 423: (1742, 2519)\n",
      "removed edge 424: (710, 1271)\n",
      "removed edge 425: (517, 1254)\n",
      "removed edge 426: (900, 2460)\n",
      "removed edge 427: (1186, 1856)\n",
      "removed edge 428: (887, 2646)\n",
      "removed edge 429: (1652, 1688)\n",
      "removed edge 430: (977, 1423)\n",
      "removed edge 431: (957, 1497)\n",
      "removed edge 432: (158, 1615)\n",
      "removed edge 433: (1310, 2212)\n",
      "removed edge 434: (786, 2540)\n",
      "removed edge 435: (1681, 2306)\n",
      "removed edge 436: (553, 567)\n",
      "removed edge 437: (1310, 1313)\n",
      "removed edge 438: (718, 2042)\n",
      "removed edge 439: (1347, 2691)\n",
      "removed edge 440: (578, 1771)\n",
      "removed edge 441: (747, 1847)\n",
      "removed edge 442: (341, 849)\n",
      "removed edge 443: (1462, 1726)\n",
      "removed edge 444: (763, 1237)\n",
      "removed edge 445: (1265, 1706)\n",
      "removed edge 446: (2321, 2663)\n",
      "removed edge 447: (972, 1454)\n",
      "removed edge 448: (278, 2483)\n",
      "removed edge 449: (223, 724)\n",
      "removed edge 450: (2486, 2499)\n",
      "removed edge 451: (1974, 2011)\n",
      "removed edge 452: (1035, 1922)\n",
      "removed edge 453: (349, 894)\n",
      "removed edge 454: (429, 1330)\n",
      "removed edge 455: (1362, 2094)\n",
      "removed edge 456: (1041, 1449)\n",
      "removed edge 457: (799, 1929)\n",
      "removed edge 458: (338, 2091)\n",
      "removed edge 459: (1781, 2374)\n",
      "removed edge 460: (1498, 1960)\n",
      "removed edge 461: (1, 1039)\n",
      "removed edge 462: (613, 1951)\n",
      "removed edge 463: (174, 988)\n",
      "removed edge 464: (756, 889)\n",
      "removed edge 465: (21, 2054)\n",
      "removed edge 466: (1106, 2167)\n",
      "removed edge 467: (37, 378)\n",
      "removed edge 468: (294, 741)\n",
      "removed edge 469: (228, 1138)\n",
      "removed edge 470: (1493, 1636)\n",
      "removed edge 471: (172, 678)\n",
      "removed edge 472: (490, 1403)\n",
      "removed edge 473: (448, 1600)\n",
      "removed edge 474: (371, 429)\n",
      "removed edge 475: (269, 2091)\n",
      "removed edge 476: (1682, 1930)\n",
      "removed edge 477: (1263, 1860)\n",
      "removed edge 478: (1206, 2042)\n",
      "removed edge 479: (349, 2108)\n",
      "removed edge 480: (1363, 2091)\n",
      "removed edge 481: (1569, 1622)\n",
      "removed edge 482: (1099, 1101)\n",
      "removed edge 483: (548, 1242)\n",
      "removed edge 484: (769, 2563)\n",
      "removed edge 485: (1833, 2534)\n",
      "removed edge 486: (338, 884)\n",
      "removed edge 487: (1042, 2568)\n",
      "removed edge 488: (639, 944)\n",
      "removed edge 489: (343, 2280)\n",
      "removed edge 490: (33, 1562)\n",
      "removed edge 491: (201, 1854)\n",
      "removed edge 492: (2093, 2269)\n",
      "removed edge 493: (1426, 1858)\n",
      "removed edge 494: (292, 842)\n",
      "removed edge 495: (1032, 2142)\n",
      "removed edge 496: (277, 2191)\n",
      "removed edge 497: (218, 2701)\n",
      "removed edge 498: (2473, 2652)\n",
      "removed edge 499: (2235, 2236)\n",
      "removed edge 500: (343, 674)\n",
      "removed edge 501: (115, 427)\n",
      "removed edge 502: (1433, 2295)\n",
      "removed edge 503: (645, 1029)\n",
      "removed edge 504: (448, 1642)\n",
      "removed edge 505: (449, 645)\n",
      "removed edge 506: (2098, 2412)\n",
      "removed edge 507: (327, 849)\n",
      "removed edge 508: (1611, 2662)\n",
      "removed edge 509: (746, 967)\n",
      "removed edge 510: (2204, 2506)\n",
      "removed edge 511: (752, 912)\n",
      "removed edge 512: (1220, 2573)\n",
      "removed edge 513: (2094, 2318)\n",
      "removed edge 514: (950, 1854)\n",
      "removed edge 515: (1929, 2603)\n",
      "removed edge 516: (325, 2631)\n",
      "removed edge 517: (448, 1599)\n",
      "removed edge 518: (645, 1147)\n",
      "removed edge 519: (367, 1446)\n",
      "removed edge 520: (600, 1144)\n",
      "removed edge 521: (884, 2088)\n",
      "removed edge 522: (1631, 1634)\n",
      "removed edge 523: (462, 987)\n",
      "removed edge 524: (933, 1436)\n",
      "removed edge 525: (850, 1416)\n",
      "removed edge 526: (1535, 2668)\n",
      "removed edge 527: (7, 118)\n",
      "removed edge 528: (1242, 1376)\n",
      "removed edge 529: (1249, 1805)\n",
      "removed edge 530: (620, 1880)\n",
      "removed edge 531: (59, 2269)\n",
      "removed edge 532: (115, 1262)\n",
      "removed edge 533: (1327, 1739)\n",
      "removed edge 534: (2406, 2633)\n",
      "removed edge 535: (1422, 2275)\n",
      "removed edge 536: (401, 1649)\n",
      "removed edge 537: (2216, 2475)\n",
      "removed edge 538: (127, 645)\n",
      "removed edge 539: (77, 2091)\n",
      "removed edge 540: (1270, 1446)\n",
      "removed edge 541: (1213, 2463)\n",
      "removed edge 542: (188, 405)\n",
      "removed edge 543: (2495, 2560)\n",
      "removed edge 544: (1277, 1585)\n",
      "removed edge 545: (2091, 2584)\n",
      "removed edge 546: (1479, 1989)\n",
      "removed edge 547: (656, 838)\n",
      "removed edge 548: (1598, 2091)\n",
      "removed edge 549: (1595, 2465)\n",
      "removed edge 550: (397, 2366)\n",
      "removed edge 551: (431, 932)\n",
      "removed edge 552: (263, 2301)\n",
      "removed edge 553: (302, 2632)\n",
      "removed edge 554: (541, 2486)\n",
      "removed edge 555: (2169, 2434)\n",
      "removed edge 556: (1479, 1925)\n",
      "removed edge 557: (1496, 1626)\n",
      "removed edge 558: (2091, 2100)\n",
      "removed edge 559: (833, 1640)\n",
      "removed edge 560: (2111, 2638)\n",
      "removed edge 561: (1085, 2459)\n",
      "removed edge 562: (1703, 2400)\n",
      "removed edge 563: (564, 2060)\n",
      "removed edge 564: (1958, 2091)\n",
      "removed edge 565: (564, 768)\n",
      "removed edge 566: (277, 1908)\n",
      "removed edge 567: (919, 1146)\n",
      "removed edge 568: (1345, 1537)\n",
      "removed edge 569: (1544, 1781)\n",
      "removed edge 570: (74, 1064)\n",
      "removed edge 571: (1185, 2658)\n",
      "removed edge 572: (340, 699)\n",
      "removed edge 573: (146, 426)\n",
      "removed edge 574: (6, 2114)\n",
      "removed edge 575: (580, 2177)\n",
      "removed edge 576: (1543, 2576)\n",
      "removed edge 577: (508, 759)\n",
      "removed edge 578: (236, 2109)\n",
      "removed edge 579: (698, 1187)\n",
      "removed edge 580: (311, 2550)\n",
      "removed edge 581: (1287, 2511)\n",
      "removed edge 582: (309, 2091)\n",
      "removed edge 583: (395, 2178)\n",
      "removed edge 584: (798, 2482)\n",
      "removed edge 585: (36, 1977)\n",
      "removed edge 586: (169, 1347)\n",
      "removed edge 587: (154, 1854)\n",
      "removed edge 588: (177, 278)\n",
      "removed edge 589: (2661, 2662)\n",
      "removed edge 590: (278, 769)\n",
      "removed edge 591: (3, 2668)\n",
      "removed edge 592: (1130, 2519)\n",
      "removed edge 593: (559, 2062)\n",
      "removed edge 594: (1500, 1604)\n",
      "removed edge 595: (1609, 1732)\n",
      "removed edge 596: (634, 1894)\n",
      "removed edge 597: (191, 2142)\n",
      "removed edge 598: (854, 2087)\n",
      "removed edge 599: (410, 551)\n",
      "removed edge 600: (2523, 2560)\n",
      "removed edge 601: (52, 2126)\n",
      "removed edge 602: (1403, 2185)\n",
      "removed edge 603: (1609, 2352)\n",
      "removed edge 604: (690, 1202)\n",
      "removed edge 605: (52, 1099)\n",
      "removed edge 606: (2087, 2543)\n",
      "removed edge 607: (179, 590)\n",
      "removed edge 608: (278, 423)\n",
      "removed edge 609: (302, 1296)\n",
      "removed edge 610: (764, 1951)\n",
      "removed edge 611: (1895, 2449)\n",
      "removed edge 612: (725, 1479)\n",
      "removed edge 613: (958, 2411)\n",
      "removed edge 614: (697, 1808)\n",
      "removed edge 615: (743, 1716)\n",
      "removed edge 616: (1056, 1631)\n",
      "removed edge 617: (442, 522)\n",
      "removed edge 618: (1296, 1556)\n",
      "removed edge 619: (973, 2091)\n",
      "removed edge 620: (829, 1942)\n",
      "removed edge 621: (1119, 2091)\n",
      "removed edge 622: (374, 696)\n",
      "removed edge 623: (1782, 2433)\n",
      "removed edge 624: (1124, 2444)\n",
      "removed edge 625: (705, 874)\n",
      "removed edge 626: (1851, 2648)\n",
      "removed edge 627: (630, 2131)\n",
      "removed edge 628: (1946, 2515)\n",
      "removed edge 629: (624, 1397)\n",
      "removed edge 630: (71, 1500)\n",
      "removed edge 631: (1907, 2523)\n",
      "removed edge 632: (974, 2703)\n",
      "removed edge 633: (349, 456)\n",
      "removed edge 634: (507, 798)\n",
      "removed edge 635: (278, 892)\n",
      "removed edge 636: (278, 2624)\n",
      "removed edge 637: (136, 1291)\n",
      "removed edge 638: (428, 545)\n",
      "removed edge 639: (278, 897)\n",
      "removed edge 640: (1429, 2689)\n",
      "removed edge 641: (798, 1971)\n",
      "removed edge 642: (391, 494)\n",
      "removed edge 643: (1415, 2625)\n",
      "removed edge 644: (850, 1609)\n",
      "removed edge 645: (354, 766)\n",
      "removed edge 646: (143, 1526)\n",
      "removed edge 647: (1866, 2704)\n",
      "removed edge 648: (341, 1856)\n",
      "removed edge 649: (1101, 2629)\n",
      "removed edge 650: (1201, 1264)\n",
      "removed edge 651: (927, 2341)\n",
      "removed edge 652: (448, 1742)\n",
      "removed edge 653: (1766, 1982)\n",
      "removed edge 654: (2010, 2697)\n",
      "removed edge 655: (1006, 2401)\n",
      "removed edge 656: (2268, 2494)\n",
      "removed edge 657: (457, 2141)\n",
      "removed edge 658: (958, 2585)\n",
      "removed edge 659: (1119, 1671)\n",
      "removed edge 660: (573, 877)\n",
      "removed edge 661: (1794, 2602)\n",
      "removed edge 662: (1685, 1841)\n",
      "removed edge 663: (353, 1962)\n",
      "removed edge 664: (105, 1242)\n",
      "removed edge 665: (1751, 1758)\n",
      "removed edge 666: (158, 621)\n",
      "removed edge 667: (478, 1305)\n",
      "removed edge 668: (864, 2185)\n",
      "removed edge 669: (292, 1679)\n",
      "removed edge 670: (533, 804)\n",
      "removed edge 671: (269, 2333)\n",
      "removed edge 672: (385, 1981)\n",
      "removed edge 673: (138, 762)\n",
      "removed edge 674: (1452, 2576)\n",
      "removed edge 675: (25, 1874)\n",
      "removed edge 676: (1469, 2407)\n",
      "removed edge 677: (270, 2540)\n",
      "removed edge 678: (413, 836)\n",
      "removed edge 679: (634, 1199)\n",
      "removed edge 680: (1011, 1026)\n",
      "removed edge 681: (22, 2100)\n",
      "removed edge 682: (294, 2701)\n",
      "removed edge 683: (484, 2181)\n",
      "removed edge 684: (1143, 1182)\n",
      "removed edge 685: (82, 2479)\n",
      "removed edge 686: (533, 583)\n",
      "removed edge 687: (1455, 1741)\n",
      "removed edge 688: (46, 2091)\n",
      "removed edge 689: (2262, 2488)\n",
      "removed edge 690: (1037, 2631)\n",
      "removed edge 691: (450, 2633)\n",
      "removed edge 692: (1490, 2546)\n",
      "removed edge 693: (2387, 2680)\n",
      "removed edge 694: (1523, 1608)\n",
      "removed edge 695: (438, 1851)\n",
      "removed edge 696: (1078, 2091)\n",
      "removed edge 697: (2130, 2346)\n",
      "removed edge 698: (686, 2164)\n",
      "removed edge 699: (283, 2655)\n",
      "removed edge 700: (278, 2299)\n",
      "removed edge 701: (941, 1609)\n",
      "removed edge 702: (626, 985)\n",
      "removed edge 703: (356, 1293)\n",
      "removed edge 704: (2036, 2422)\n",
      "removed edge 705: (1319, 2132)\n",
      "removed edge 706: (1435, 2413)\n",
      "removed edge 707: (978, 1328)\n",
      "removed edge 708: (145, 578)\n",
      "removed edge 709: (272, 2649)\n",
      "removed edge 710: (932, 1482)\n",
      "removed edge 711: (229, 1754)\n",
      "removed edge 712: (30, 1498)\n",
      "removed edge 713: (301, 888)\n",
      "removed edge 714: (1784, 1856)\n",
      "removed edge 715: (278, 1732)\n",
      "removed edge 716: (145, 866)\n",
      "removed edge 717: (1514, 2433)\n",
      "removed edge 718: (2589, 2691)\n",
      "removed edge 719: (146, 2320)\n",
      "removed edge 720: (75, 460)\n",
      "removed edge 721: (1693, 2281)\n",
      "removed edge 722: (9, 2062)\n",
      "removed edge 723: (2163, 2518)\n",
      "removed edge 724: (1569, 1861)\n",
      "removed edge 725: (859, 1033)\n",
      "removed edge 726: (1735, 2091)\n",
      "removed edge 727: (433, 826)\n",
      "removed edge 728: (508, 1872)\n",
      "removed edge 729: (873, 978)\n",
      "removed edge 730: (1701, 1836)\n",
      "removed edge 731: (508, 2351)\n",
      "removed edge 732: (93, 1424)\n",
      "removed edge 733: (247, 2339)\n",
      "removed edge 734: (82, 979)\n",
      "removed edge 735: (442, 905)\n",
      "removed edge 736: (1263, 1897)\n",
      "removed edge 737: (293, 1340)\n",
      "removed edge 738: (520, 2385)\n",
      "removed edge 739: (1138, 2121)\n",
      "removed edge 740: (431, 620)\n",
      "removed edge 741: (815, 1291)\n",
      "removed edge 742: (105, 1247)\n",
      "removed edge 743: (1637, 2630)\n",
      "removed edge 744: (1280, 2146)\n",
      "removed edge 745: (231, 1652)\n",
      "removed edge 746: (1462, 1610)\n",
      "removed edge 747: (438, 2049)\n",
      "removed edge 748: (1195, 1751)\n",
      "removed edge 749: (1664, 2687)\n",
      "removed edge 750: (226, 1864)\n",
      "removed edge 751: (274, 2375)\n",
      "removed edge 752: (158, 619)\n",
      "removed edge 753: (1674, 2701)\n",
      "removed edge 754: (638, 2591)\n",
      "removed edge 755: (591, 655)\n",
      "removed edge 756: (220, 2518)\n",
      "removed edge 757: (1853, 2424)\n",
      "removed edge 758: (1225, 2002)\n",
      "removed edge 759: (2017, 2018)\n",
      "removed edge 760: (525, 2681)\n",
      "removed edge 761: (1919, 2388)\n",
      "removed edge 762: (224, 907)\n",
      "removed edge 763: (1544, 2091)\n",
      "removed edge 764: (1701, 2326)\n",
      "removed edge 765: (1194, 2693)\n",
      "removed edge 766: (1137, 2664)\n",
      "removed edge 767: (912, 1046)\n",
      "removed edge 768: (932, 2092)\n",
      "removed edge 769: (824, 1890)\n",
      "removed edge 770: (1251, 1252)\n",
      "removed edge 771: (277, 2473)\n",
      "removed edge 772: (944, 1533)\n",
      "removed edge 773: (66, 698)\n",
      "removed edge 774: (1006, 1007)\n",
      "removed edge 775: (1562, 1563)\n",
      "removed edge 776: (683, 2583)\n",
      "removed edge 777: (2511, 2516)\n",
      "removed edge 778: (859, 1038)\n",
      "removed edge 779: (275, 1494)\n",
      "removed edge 780: (1263, 1371)\n",
      "removed edge 781: (471, 1325)\n",
      "removed edge 782: (197, 2701)\n",
      "removed edge 783: (520, 2077)\n",
      "removed edge 784: (1554, 2000)\n",
      "removed edge 785: (1240, 1273)\n",
      "removed edge 786: (959, 1804)\n",
      "removed edge 787: (2055, 2576)\n",
      "removed edge 788: (511, 601)\n",
      "removed edge 789: (1711, 2241)\n",
      "removed edge 790: (2168, 2422)\n",
      "removed edge 791: (63, 1705)\n",
      "removed edge 792: (1601, 2509)\n",
      "removed edge 793: (160, 1138)\n",
      "removed edge 794: (1049, 2400)\n",
      "removed edge 795: (1057, 2087)\n",
      "removed edge 796: (1422, 1593)\n",
      "removed edge 797: (1965, 2183)\n",
      "removed edge 798: (277, 1391)\n",
      "removed edge 799: (1521, 2339)\n",
      "removed edge 800: (1377, 2678)\n",
      "removed edge 801: (57, 2375)\n",
      "removed edge 802: (87, 1468)\n",
      "removed edge 803: (1199, 2547)\n",
      "removed edge 804: (1218, 2082)\n",
      "removed edge 805: (1963, 2063)\n",
      "removed edge 806: (1718, 2576)\n",
      "removed edge 807: (1173, 1576)\n",
      "removed edge 808: (278, 2458)\n",
      "removed edge 809: (1362, 2318)\n",
      "removed edge 810: (1327, 1946)\n",
      "removed edge 811: (2036, 2654)\n",
      "removed edge 812: (228, 2283)\n",
      "removed edge 813: (2091, 2229)\n",
      "removed edge 814: (221, 1052)\n",
      "removed edge 815: (641, 1011)\n",
      "removed edge 816: (1484, 2107)\n",
      "removed edge 817: (1819, 2091)\n",
      "removed edge 818: (632, 1048)\n",
      "removed edge 819: (44, 2687)\n",
      "removed edge 820: (1201, 2417)\n",
      "removed edge 821: (2287, 2321)\n",
      "removed edge 822: (1767, 1980)\n",
      "removed edge 823: (1191, 2110)\n",
      "removed edge 824: (150, 2320)\n",
      "removed edge 825: (384, 2170)\n",
      "removed edge 826: (809, 1659)\n",
      "removed edge 827: (520, 1628)\n",
      "removed edge 828: (277, 554)\n",
      "removed edge 829: (1682, 1743)\n",
      "removed edge 830: (383, 533)\n",
      "removed edge 831: (52, 1352)\n",
      "removed edge 832: (716, 2238)\n",
      "removed edge 833: (1498, 2376)\n",
      "removed edge 834: (1130, 1841)\n",
      "removed edge 835: (874, 1311)\n",
      "removed edge 836: (77, 1879)\n",
      "removed edge 837: (233, 2069)\n",
      "removed edge 838: (1726, 2091)\n",
      "removed edge 839: (12, 887)\n",
      "removed edge 840: (191, 2001)\n",
      "removed edge 841: (1263, 2151)\n",
      "removed edge 842: (1376, 1582)\n",
      "removed edge 843: (278, 1883)\n",
      "removed edge 844: (315, 818)\n",
      "removed edge 845: (2061, 2202)\n",
      "removed edge 846: (59, 1498)\n",
      "removed edge 847: (1854, 2019)\n",
      "removed edge 848: (1460, 1570)\n",
      "removed edge 849: (1408, 2505)\n",
      "removed edge 850: (1849, 2382)\n",
      "removed edge 851: (2287, 2302)\n",
      "removed edge 852: (2339, 2457)\n",
      "removed edge 853: (844, 1200)\n",
      "removed edge 854: (2249, 2444)\n",
      "removed edge 855: (278, 813)\n",
      "removed edge 856: (70, 2423)\n",
      "removed edge 857: (724, 1048)\n",
      "removed edge 858: (1932, 2046)\n",
      "removed edge 859: (278, 1724)\n",
      "removed edge 860: (1736, 1979)\n",
      "removed edge 861: (1761, 2701)\n",
      "removed edge 862: (178, 2505)\n",
      "removed edge 863: (508, 1048)\n",
      "removed edge 864: (1420, 2194)\n",
      "removed edge 865: (1606, 1632)\n",
      "removed edge 866: (57, 2064)\n",
      "removed edge 867: (1448, 1954)\n",
      "removed edge 868: (269, 792)\n",
      "removed edge 869: (1502, 1633)\n",
      "removed edge 870: (37, 1016)\n",
      "removed edge 871: (68, 2351)\n",
      "removed edge 872: (744, 1540)\n",
      "removed edge 873: (597, 798)\n",
      "removed edge 874: (391, 1792)\n",
      "removed edge 875: (302, 1214)\n",
      "removed edge 876: (467, 996)\n",
      "removed edge 877: (1242, 1247)\n",
      "removed edge 878: (798, 1431)\n",
      "removed edge 879: (1460, 1664)\n",
      "removed edge 880: (1893, 2580)\n",
      "removed edge 881: (3, 957)\n",
      "removed edge 882: (2407, 2493)\n",
      "removed edge 883: (1511, 2583)\n",
      "removed edge 884: (278, 375)\n",
      "removed edge 885: (892, 2590)\n",
      "removed edge 886: (236, 2630)\n",
      "removed edge 887: (1034, 1054)\n",
      "removed edge 888: (1836, 1877)\n",
      "removed edge 889: (283, 1821)\n",
      "removed edge 890: (146, 721)\n",
      "removed edge 891: (1111, 1644)\n",
      "removed edge 892: (560, 2703)\n",
      "removed edge 893: (1939, 2092)\n",
      "removed edge 894: (682, 1068)\n",
      "removed edge 895: (230, 908)\n",
      "removed edge 896: (1810, 2173)\n",
      "removed edge 897: (181, 713)\n",
      "removed edge 898: (1502, 1606)\n",
      "removed edge 899: (2046, 2629)\n",
      "removed edge 900: (999, 1128)\n",
      "removed edge 901: (794, 1454)\n",
      "removed edge 902: (1686, 2633)\n",
      "removed edge 903: (2127, 2362)\n",
      "removed edge 904: (1939, 2278)\n",
      "removed edge 905: (20, 2077)\n",
      "removed edge 906: (76, 528)\n",
      "removed edge 907: (486, 1810)\n",
      "removed edge 908: (1423, 2266)\n",
      "removed edge 909: (241, 2691)\n",
      "removed edge 910: (1866, 2703)\n",
      "removed edge 911: (63, 1209)\n",
      "removed edge 912: (647, 655)\n",
      "removed edge 913: (808, 1893)\n",
      "removed edge 914: (1200, 1338)\n",
      "removed edge 915: (963, 2631)\n",
      "removed edge 916: (1495, 2601)\n",
      "removed edge 917: (1318, 2062)\n",
      "removed edge 918: (1381, 1767)\n",
      "removed edge 919: (467, 2563)\n",
      "removed edge 920: (1895, 2373)\n",
      "removed edge 921: (104, 357)\n",
      "removed edge 922: (1204, 1686)\n",
      "removed edge 923: (645, 2177)\n",
      "removed edge 924: (1447, 1922)\n",
      "removed edge 925: (2354, 2616)\n",
      "removed edge 926: (545, 1218)\n",
      "removed edge 927: (398, 1953)\n",
      "removed edge 928: (1961, 2091)\n",
      "removed edge 929: (1168, 2540)\n",
      "removed edge 930: (52, 2660)\n",
      "removed edge 931: (138, 2687)\n",
      "removed edge 932: (1326, 1492)\n",
      "removed edge 933: (43, 1521)\n",
      "removed edge 934: (1700, 1834)\n",
      "removed edge 935: (895, 1900)\n",
      "removed edge 936: (577, 1550)\n",
      "removed edge 937: (2177, 2440)\n",
      "removed edge 938: (278, 377)\n",
      "removed edge 939: (762, 1442)\n",
      "removed edge 940: (404, 744)\n",
      "removed edge 941: (63, 2106)\n",
      "removed edge 942: (43, 1122)\n",
      "removed edge 943: (957, 2670)\n",
      "removed edge 944: (229, 1562)\n",
      "removed edge 945: (714, 2701)\n",
      "removed edge 946: (1222, 1766)\n",
      "removed edge 947: (1970, 2018)\n",
      "removed edge 948: (300, 1589)\n",
      "removed edge 949: (44, 653)\n",
      "removed edge 950: (1473, 1633)\n",
      "removed edge 951: (329, 2177)\n",
      "removed edge 952: (647, 1787)\n",
      "removed edge 953: (1498, 2604)\n",
      "removed edge 954: (86, 1376)\n",
      "removed edge 955: (1033, 1038)\n",
      "removed edge 956: (137, 1961)\n",
      "removed edge 957: (813, 2590)\n",
      "removed edge 958: (2478, 2687)\n",
      "removed edge 959: (433, 1506)\n",
      "removed edge 960: (1032, 1054)\n",
      "removed edge 961: (1181, 2091)\n",
      "removed edge 962: (173, 744)\n",
      "removed edge 963: (1726, 2518)\n",
      "removed edge 964: (1497, 2668)\n",
      "removed edge 965: (1287, 2583)\n",
      "removed edge 966: (249, 308)\n",
      "removed edge 967: (957, 2668)\n",
      "removed edge 968: (1240, 2177)\n",
      "removed edge 969: (1576, 2100)\n",
      "removed edge 970: (275, 458)\n",
      "removed edge 971: (1744, 2427)\n",
      "removed edge 972: (1606, 2130)\n",
      "removed edge 973: (1096, 2407)\n",
      "removed edge 974: (2299, 2568)\n",
      "removed edge 975: (219, 812)\n",
      "removed edge 976: (1078, 2544)\n",
      "removed edge 977: (1485, 2017)\n",
      "removed edge 978: (183, 2407)\n",
      "removed edge 979: (729, 2576)\n",
      "removed edge 980: (495, 1387)\n",
      "removed edge 981: (310, 1202)\n",
      "removed edge 982: (85, 2428)\n",
      "removed edge 983: (1866, 2601)\n",
      "removed edge 984: (1339, 1557)\n",
      "removed edge 985: (303, 1817)\n",
      "removed edge 986: (633, 1741)\n",
      "removed edge 987: (959, 2201)\n",
      "removed edge 988: (405, 1227)\n",
      "removed edge 989: (1507, 2456)\n",
      "removed edge 990: (1998, 2583)\n",
      "removed edge 991: (1517, 1953)\n",
      "removed edge 992: (155, 508)\n",
      "removed edge 993: (525, 2250)\n",
      "removed edge 994: (984, 2081)\n",
      "removed edge 995: (887, 1683)\n",
      "removed edge 996: (230, 2254)\n",
      "removed edge 997: (1507, 2339)\n",
      "removed edge 998: (795, 1310)\n",
      "removed edge 999: (2081, 2099)\n",
      "removed edge 1000: (1492, 2060)\n",
      "removed edge 1001: (1070, 2228)\n",
      "removed edge 1002: (45, 474)\n",
      "removed edge 1003: (1627, 1912)\n",
      "removed edge 1004: (1150, 1819)\n",
      "removed edge 1005: (34, 36)\n",
      "removed edge 1006: (659, 1725)\n",
      "removed edge 1007: (735, 2673)\n",
      "removed edge 1008: (866, 2282)\n",
      "removed edge 1009: (409, 1130)\n",
      "removed edge 1010: (903, 1301)\n",
      "removed edge 1011: (2047, 2407)\n",
      "removed edge 1012: (1062, 1498)\n",
      "removed edge 1013: (8, 692)\n",
      "removed edge 1014: (293, 1571)\n",
      "removed edge 1015: (529, 1309)\n",
      "removed edge 1016: (508, 1123)\n",
      "removed edge 1017: (772, 2274)\n",
      "removed edge 1018: (1310, 2655)\n",
      "removed edge 1019: (2081, 2397)\n",
      "removed edge 1020: (884, 2508)\n",
      "removed edge 1021: (73, 1302)\n",
      "removed edge 1022: (1335, 2383)\n",
      "removed edge 1023: (598, 1130)\n",
      "removed edge 1024: (957, 1393)\n",
      "removed edge 1025: (1608, 2091)\n",
      "removed edge 1026: (416, 2577)\n",
      "removed edge 1027: (63, 2259)\n",
      "removed edge 1028: (992, 1701)\n",
      "removed edge 1029: (1898, 2583)\n",
      "removed edge 1030: (167, 574)\n",
      "removed edge 1031: (1797, 2110)\n",
      "removed edge 1032: (1010, 1881)\n",
      "removed edge 1033: (1040, 1998)\n",
      "removed edge 1034: (455, 2704)\n",
      "removed edge 1035: (711, 2091)\n",
      "removed edge 1036: (645, 1456)\n",
      "removed edge 1037: (4, 798)\n",
      "removed edge 1038: (399, 508)\n",
      "removed edge 1039: (1549, 2091)\n",
      "removed edge 1040: (278, 2332)\n",
      "removed edge 1041: (1436, 1713)\n",
      "removed edge 1042: (314, 1334)\n",
      "removed edge 1043: (1101, 1849)\n",
      "removed edge 1044: (662, 2068)\n",
      "removed edge 1045: (641, 1997)\n",
      "removed edge 1046: (508, 789)\n",
      "removed edge 1047: (1502, 1635)\n",
      "removed edge 1048: (1860, 2353)\n",
      "removed edge 1049: (1512, 2701)\n",
      "removed edge 1050: (776, 1780)\n",
      "removed edge 1051: (126, 1572)\n",
      "removed edge 1052: (34, 35)\n",
      "removed edge 1053: (277, 294)\n",
      "removed edge 1054: (1572, 2258)\n",
      "removed edge 1055: (1634, 1833)\n",
      "removed edge 1056: (1203, 1574)\n",
      "removed edge 1057: (919, 1255)\n",
      "removed edge 1058: (320, 2701)\n",
      "removed edge 1059: (507, 717)\n",
      "removed edge 1060: (813, 2576)\n",
      "removed edge 1061: (911, 930)\n",
      "removed edge 1062: (537, 880)\n",
      "removed edge 1063: (541, 2499)\n",
      "removed edge 1064: (143, 1307)\n",
      "removed edge 1065: (1488, 2009)\n",
      "removed edge 1066: (407, 2130)\n",
      "removed edge 1067: (1804, 2583)\n",
      "removed edge 1068: (471, 674)\n",
      "removed edge 1069: (2518, 2633)\n",
      "removed edge 1070: (1758, 2091)\n",
      "removed edge 1071: (609, 930)\n",
      "removed edge 1072: (278, 349)\n",
      "removed edge 1073: (523, 525)\n",
      "removed edge 1074: (2153, 2187)\n",
      "removed edge 1075: (332, 773)\n",
      "removed edge 1076: (1857, 1903)\n",
      "removed edge 1077: (440, 457)\n",
      "removed edge 1078: (1064, 1598)\n",
      "removed edge 1079: (354, 2042)\n",
      "removed edge 1080: (465, 1642)\n",
      "removed edge 1081: (471, 1235)\n",
      "removed edge 1082: (173, 2091)\n",
      "removed edge 1083: (2279, 2481)\n",
      "removed edge 1084: (2177, 2587)\n",
      "removed edge 1085: (1926, 1999)\n",
      "removed edge 1086: (1164, 1812)\n",
      "removed edge 1087: (2191, 2448)\n",
      "removed edge 1088: (633, 917)\n",
      "removed edge 1089: (2332, 2576)\n",
      "removed edge 1090: (6, 2384)\n",
      "removed edge 1091: (644, 2083)\n",
      "removed edge 1092: (1927, 2234)\n",
      "removed edge 1093: (621, 2568)\n",
      "removed edge 1094: (2012, 2265)\n",
      "removed edge 1095: (199, 2081)\n",
      "removed edge 1096: (1171, 2406)\n",
      "removed edge 1097: (2091, 2296)\n",
      "removed edge 1098: (1333, 1498)\n",
      "removed edge 1099: (44, 164)\n",
      "removed edge 1100: (420, 2577)\n",
      "removed edge 1101: (1007, 2467)\n",
      "removed edge 1102: (1390, 2437)\n",
      "removed edge 1103: (255, 583)\n",
      "removed edge 1104: (606, 1543)\n",
      "removed edge 1105: (255, 383)\n",
      "removed edge 1106: (1634, 2534)\n",
      "removed edge 1107: (508, 1341)\n",
      "removed edge 1108: (1860, 2136)\n",
      "removed edge 1109: (2090, 2410)\n",
      "removed edge 1110: (359, 1854)\n",
      "removed edge 1111: (321, 471)\n",
      "removed edge 1112: (523, 1928)\n",
      "removed edge 1113: (2198, 2566)\n",
      "removed edge 1114: (1953, 2583)\n",
      "removed edge 1115: (2186, 2188)\n",
      "removed edge 1116: (16, 375)\n",
      "removed edge 1117: (1162, 1849)\n",
      "removed edge 1118: (396, 906)\n",
      "removed edge 1119: (374, 2351)\n",
      "removed edge 1120: (205, 918)\n",
      "removed edge 1121: (996, 2563)\n",
      "removed edge 1122: (1444, 1482)\n",
      "removed edge 1123: (488, 551)\n",
      "removed edge 1124: (1409, 2242)\n",
      "removed edge 1125: (23, 1173)\n",
      "removed edge 1126: (973, 1751)\n",
      "removed edge 1127: (53, 1017)\n",
      "removed edge 1128: (1182, 1539)\n",
      "removed edge 1129: (967, 2199)\n",
      "removed edge 1130: (275, 1249)\n",
      "removed edge 1131: (1854, 1930)\n",
      "removed edge 1132: (1577, 2212)\n",
      "removed edge 1133: (623, 2580)\n",
      "removed edge 1134: (2153, 2654)\n",
      "removed edge 1135: (279, 798)\n",
      "removed edge 1136: (311, 1799)\n",
      "removed edge 1137: (2152, 2413)\n",
      "removed edge 1138: (1423, 2704)\n",
      "removed edge 1139: (884, 1278)\n",
      "removed edge 1140: (425, 945)\n",
      "removed edge 1141: (439, 1596)\n",
      "removed edge 1142: (1423, 2228)\n",
      "removed edge 1143: (459, 1032)\n",
      "removed edge 1144: (834, 2668)\n",
      "removed edge 1145: (30, 305)\n",
      "removed edge 1146: (1274, 1310)\n",
      "removed edge 1147: (823, 1706)\n",
      "removed edge 1148: (237, 1405)\n",
      "removed edge 1149: (1703, 2344)\n",
      "removed edge 1150: (1694, 1954)\n",
      "removed edge 1151: (538, 1233)\n",
      "removed edge 1152: (1781, 2238)\n",
      "removed edge 1153: (1152, 1153)\n",
      "removed edge 1154: (656, 2052)\n",
      "removed edge 1155: (1751, 2342)\n",
      "removed edge 1156: (623, 1852)\n",
      "removed edge 1157: (705, 1812)\n",
      "removed edge 1158: (598, 792)\n",
      "removed edge 1159: (300, 364)\n",
      "removed edge 1160: (1149, 1205)\n",
      "removed edge 1161: (1705, 1846)\n",
      "removed edge 1162: (238, 2445)\n",
      "removed edge 1163: (95, 967)\n",
      "removed edge 1164: (105, 1423)\n",
      "removed edge 1165: (1015, 1837)\n",
      "removed edge 1166: (700, 985)\n",
      "removed edge 1167: (673, 2091)\n",
      "removed edge 1168: (1136, 1306)\n",
      "removed edge 1169: (391, 2024)\n",
      "removed edge 1170: (303, 629)\n",
      "removed edge 1171: (1592, 2506)\n",
      "removed edge 1172: (1658, 2637)\n",
      "removed edge 1173: (705, 2281)\n",
      "removed edge 1174: (508, 2215)\n",
      "removed edge 1175: (13, 1585)\n",
      "removed edge 1176: (2326, 2363)\n",
      "removed edge 1177: (973, 2547)\n",
      "removed edge 1178: (1084, 1223)\n",
      "removed edge 1179: (1147, 1456)\n",
      "removed edge 1180: (265, 1015)\n",
      "removed edge 1181: (1684, 1913)\n",
      "removed edge 1182: (1475, 1840)\n",
      "removed edge 1183: (277, 2577)\n",
      "removed edge 1184: (164, 2286)\n",
      "removed edge 1185: (350, 1898)\n",
      "removed edge 1186: (1308, 2414)\n",
      "removed edge 1187: (408, 1008)\n",
      "removed edge 1188: (2114, 2382)\n",
      "removed edge 1189: (207, 239)\n",
      "removed edge 1190: (468, 577)\n",
      "removed edge 1191: (2397, 2507)\n",
      "removed edge 1192: (2105, 2395)\n",
      "removed edge 1193: (990, 2339)\n",
      "removed edge 1194: (11, 415)\n",
      "removed edge 1195: (668, 2576)\n",
      "removed edge 1196: (1772, 2387)\n",
      "removed edge 1197: (277, 741)\n",
      "removed edge 1198: (1261, 2469)\n",
      "removed edge 1199: (1017, 2393)\n",
      "removed edge 1200: (2091, 2535)\n",
      "removed edge 1201: (1489, 2042)\n",
      "removed edge 1202: (287, 594)\n",
      "removed edge 1203: (52, 2382)\n",
      "removed edge 1204: (1328, 2094)\n",
      "removed edge 1205: (1254, 2513)\n",
      "removed edge 1206: (592, 636)\n",
      "removed edge 1207: (2187, 2654)\n",
      "removed edge 1208: (1391, 2576)\n",
      "removed edge 1209: (1773, 1860)\n",
      "removed edge 1210: (908, 2629)\n",
      "removed edge 1211: (1414, 2406)\n",
      "removed edge 1212: (1705, 2435)\n",
      "removed edge 1213: (1608, 2282)\n",
      "removed edge 1214: (1325, 1950)\n",
      "removed edge 1215: (1944, 2584)\n",
      "removed edge 1216: (155, 974)\n",
      "removed edge 1217: (1134, 2002)\n",
      "removed edge 1218: (148, 777)\n",
      "removed edge 1219: (449, 1029)\n",
      "removed edge 1220: (2162, 2181)\n",
      "removed edge 1221: (2055, 2373)\n",
      "removed edge 1222: (121, 2407)\n",
      "removed edge 1223: (804, 838)\n",
      "removed edge 1224: (582, 2385)\n",
      "removed edge 1225: (328, 1559)\n",
      "removed edge 1226: (298, 1624)\n",
      "removed edge 1227: (84, 525)\n",
      "removed edge 1228: (1203, 1420)\n",
      "removed edge 1229: (1682, 2696)\n",
      "removed edge 1230: (524, 859)\n",
      "removed edge 1231: (805, 2416)\n",
      "removed edge 1232: (241, 1116)\n",
      "removed edge 1233: (491, 669)\n",
      "removed edge 1234: (1645, 2490)\n",
      "removed edge 1235: (225, 724)\n",
      "removed edge 1236: (880, 1523)\n",
      "removed edge 1237: (616, 621)\n",
      "removed edge 1238: (1144, 1701)\n",
      "removed edge 1239: (1205, 2153)\n",
      "removed edge 1240: (17, 473)\n",
      "removed edge 1241: (1061, 2143)\n",
      "removed edge 1242: (2178, 2179)\n",
      "removed edge 1243: (2091, 2622)\n",
      "removed edge 1244: (240, 2383)\n",
      "removed edge 1245: (1426, 2517)\n",
      "removed edge 1246: (1570, 2168)\n",
      "removed edge 1247: (206, 1698)\n",
      "removed edge 1248: (1160, 2576)\n",
      "removed edge 1249: (1334, 2093)\n",
      "removed edge 1250: (1120, 2331)\n",
      "removed edge 1251: (673, 903)\n",
      "removed edge 1252: (455, 579)\n",
      "removed edge 1253: (1085, 2701)\n",
      "removed edge 1254: (1696, 2542)\n",
      "removed edge 1255: (545, 1957)\n",
      "removed edge 1256: (52, 1101)\n",
      "removed edge 1257: (1357, 2290)\n",
      "removed edge 1258: (482, 2466)\n",
      "removed edge 1259: (30, 368)\n",
      "removed edge 1260: (2091, 2231)\n",
      "removed edge 1261: (61, 62)\n",
      "removed edge 1262: (1492, 1735)\n",
      "removed edge 1263: (185, 2576)\n",
      "removed edge 1264: (122, 1233)\n",
      "removed edge 1265: (22, 1576)\n",
      "removed edge 1266: (28, 511)\n",
      "removed edge 1267: (499, 511)\n",
      "removed edge 1268: (1583, 2490)\n",
      "removed edge 1269: (278, 2072)\n",
      "removed edge 1270: (911, 2233)\n",
      "removed edge 1271: (1150, 1811)\n",
      "removed edge 1272: (442, 1642)\n",
      "removed edge 1273: (516, 2476)\n",
      "removed edge 1274: (1985, 2091)\n",
      "removed edge 1275: (535, 2354)\n",
      "removed edge 1276: (1426, 2654)\n",
      "removed edge 1277: (1354, 2446)\n",
      "removed edge 1278: (148, 508)\n",
      "removed edge 1279: (374, 1353)\n",
      "removed edge 1280: (692, 1397)\n",
      "removed edge 1281: (623, 1789)\n",
      "removed edge 1282: (2217, 2375)\n",
      "removed edge 1283: (35, 1977)\n",
      "removed edge 1284: (132, 882)\n",
      "removed edge 1285: (1702, 2344)\n",
      "removed edge 1286: (978, 1509)\n",
      "removed edge 1287: (686, 1685)\n",
      "removed edge 1288: (732, 1466)\n",
      "removed edge 1289: (230, 1211)\n",
      "removed edge 1290: (1265, 2340)\n",
      "removed edge 1291: (497, 2061)\n",
      "removed edge 1292: (1846, 2545)\n",
      "removed edge 1293: (1407, 2091)\n",
      "removed edge 1294: (278, 1609)\n",
      "removed edge 1295: (57, 2378)\n",
      "removed edge 1296: (757, 872)\n",
      "removed edge 1297: (1647, 2701)\n",
      "removed edge 1298: (1273, 2177)\n",
      "removed edge 1299: (1854, 2693)\n",
      "removed edge 1300: (1806, 2349)\n",
      "removed edge 1301: (270, 349)\n",
      "removed edge 1302: (38, 40)\n",
      "removed edge 1303: (400, 2394)\n",
      "removed edge 1304: (860, 2042)\n",
      "removed edge 1305: (2200, 2406)\n",
      "removed edge 1306: (262, 811)\n",
      "removed edge 1307: (283, 618)\n",
      "removed edge 1308: (1817, 1921)\n",
      "removed edge 1309: (137, 1232)\n",
      "removed edge 1310: (479, 1493)\n",
      "removed edge 1311: (1075, 2670)\n",
      "removed edge 1312: (1500, 1816)\n",
      "removed edge 1313: (18, 974)\n",
      "removed edge 1314: (407, 1700)\n",
      "removed edge 1315: (1685, 2148)\n",
      "removed edge 1316: (1415, 2094)\n",
      "removed edge 1317: (74, 2091)\n",
      "removed edge 1318: (960, 1800)\n",
      "removed edge 1319: (2117, 2701)\n",
      "removed edge 1320: (1343, 2641)\n",
      "removed edge 1321: (837, 1998)\n",
      "removed edge 1322: (0, 838)\n",
      "removed edge 1323: (2344, 2400)\n",
      "removed edge 1324: (383, 2052)\n",
      "removed edge 1325: (607, 1127)\n",
      "removed edge 1326: (328, 2302)\n",
      "removed edge 1327: (2176, 2584)\n",
      "removed edge 1328: (734, 2285)\n",
      "removed edge 1329: (2570, 2576)\n",
      "removed edge 1330: (239, 2486)\n",
      "removed edge 1331: (1700, 2400)\n",
      "removed edge 1332: (895, 1270)\n",
      "removed edge 1333: (761, 1477)\n",
      "removed edge 1334: (1601, 1849)\n",
      "removed edge 1335: (1756, 2632)\n",
      "removed edge 1336: (249, 1781)\n",
      "removed edge 1337: (992, 1073)\n",
      "removed edge 1338: (2246, 2701)\n",
      "removed edge 1339: (373, 2042)\n",
      "removed edge 1340: (1136, 1176)\n",
      "removed edge 1341: (1705, 2545)\n",
      "removed edge 1342: (1773, 2060)\n",
      "removed edge 1343: (2224, 2701)\n",
      "removed edge 1344: (1033, 1869)\n",
      "removed edge 1345: (333, 2000)\n",
      "removed edge 1346: (805, 1527)\n",
      "removed edge 1347: (1953, 1997)\n",
      "removed edge 1348: (16, 277)\n",
      "removed edge 1349: (56, 2000)\n",
      "removed edge 1350: (2281, 2424)\n",
      "removed edge 1351: (550, 898)\n",
      "removed edge 1352: (1171, 2200)\n",
      "removed edge 1353: (163, 837)\n",
      "removed edge 1354: (983, 1759)\n",
      "removed edge 1355: (717, 2408)\n",
      "removed edge 1356: (1270, 1860)\n",
      "removed edge 1357: (1122, 2042)\n",
      "removed edge 1358: (1101, 2114)\n",
      "removed edge 1359: (533, 656)\n",
      "removed edge 1360: (717, 2379)\n",
      "removed edge 1361: (1974, 2014)\n",
      "removed edge 1362: (1975, 2518)\n",
      "removed edge 1363: (975, 2435)\n",
      "removed edge 1364: (1279, 2177)\n",
      "removed edge 1365: (16, 278)\n",
      "removed edge 1366: (2099, 2116)\n",
      "removed edge 1367: (1934, 2276)\n",
      "removed edge 1368: (263, 919)\n",
      "removed edge 1369: (168, 230)\n",
      "removed edge 1370: (2279, 2646)\n",
      "removed edge 1371: (367, 895)\n",
      "removed edge 1372: (781, 1898)\n",
      "removed edge 1373: (746, 1915)\n",
      "removed edge 1374: (997, 1833)\n",
      "removed edge 1375: (540, 1137)\n",
      "removed edge 1376: (621, 2176)\n",
      "removed edge 1377: (883, 1705)\n",
      "removed edge 1378: (347, 568)\n",
      "removed edge 1379: (2091, 2180)\n",
      "removed edge 1380: (1365, 2030)\n",
      "removed edge 1381: (1216, 2153)\n",
      "removed edge 1382: (1781, 2091)\n",
      "removed edge 1383: (977, 1142)\n",
      "removed edge 1384: (689, 2253)\n",
      "removed edge 1385: (1230, 1404)\n",
      "removed edge 1386: (1986, 2125)\n",
      "removed edge 1387: (712, 2287)\n",
      "removed edge 1388: (1072, 1413)\n",
      "removed edge 1389: (770, 1263)\n",
      "removed edge 1390: (866, 1920)\n",
      "removed edge 1391: (52, 1818)\n",
      "removed edge 1392: (1218, 1886)\n",
      "removed edge 1393: (526, 1216)\n",
      "removed edge 1394: (301, 1530)\n",
      "removed edge 1395: (240, 613)\n",
      "removed edge 1396: (2284, 2617)\n",
      "removed edge 1397: (880, 2291)\n",
      "removed edge 1398: (508, 1413)\n",
      "removed edge 1399: (1325, 2581)\n",
      "removed edge 1400: (917, 1627)\n",
      "removed edge 1401: (732, 1784)\n",
      "removed edge 1402: (1190, 2146)\n",
      "removed edge 1403: (2152, 2455)\n",
      "removed edge 1404: (1071, 1609)\n",
      "removed edge 1405: (1117, 1423)\n",
      "removed edge 1406: (2403, 2583)\n",
      "removed edge 1407: (1319, 2282)\n",
      "removed edge 1408: (139, 1975)\n",
      "removed edge 1409: (333, 1077)\n",
      "removed edge 1410: (613, 2629)\n",
      "removed edge 1411: (2138, 2380)\n",
      "removed edge 1412: (1162, 1169)\n",
      "removed edge 1413: (1854, 2460)\n",
      "removed edge 1414: (167, 2555)\n",
      "removed edge 1415: (1758, 1781)\n",
      "removed edge 1416: (607, 1599)\n",
      "removed edge 1417: (52, 1681)\n",
      "removed edge 1418: (220, 740)\n",
      "removed edge 1419: (662, 1531)\n",
      "removed edge 1420: (2183, 2437)\n",
      "removed edge 1421: (571, 1983)\n",
      "removed edge 1422: (405, 1649)\n",
      "removed edge 1423: (11, 991)\n",
      "removed edge 1424: (42, 2091)\n",
      "removed edge 1425: (63, 2418)\n",
      "removed edge 1426: (554, 2668)\n",
      "removed edge 1427: (839, 2535)\n",
      "removed edge 1428: (508, 2696)\n",
      "removed edge 1429: (177, 349)\n",
      "removed edge 1430: (773, 804)\n",
      "removed edge 1431: (1395, 2432)\n",
      "removed edge 1432: (56, 2175)\n",
      "removed edge 1433: (526, 2186)\n",
      "removed edge 1434: (2559, 2684)\n",
      "removed edge 1435: (63, 494)\n",
      "removed edge 1436: (1319, 2325)\n",
      "removed edge 1437: (1185, 1470)\n",
      "removed edge 1438: (2002, 2197)\n",
      "removed edge 1439: (302, 629)\n",
      "removed edge 1440: (242, 528)\n",
      "removed edge 1441: (19, 278)\n",
      "removed edge 1442: (1160, 1226)\n",
      "removed edge 1443: (502, 1060)\n",
      "removed edge 1444: (680, 2352)\n",
      "removed edge 1445: (126, 1448)\n",
      "removed edge 1446: (2472, 2601)\n",
      "removed edge 1447: (564, 566)\n",
      "removed edge 1448: (526, 2188)\n",
      "removed edge 1449: (595, 746)\n",
      "removed edge 1450: (1368, 2007)\n",
      "removed edge 1451: (1099, 1100)\n",
      "removed edge 1452: (415, 975)\n",
      "removed edge 1453: (1700, 2336)\n",
      "removed edge 1454: (2170, 2434)\n",
      "removed edge 1455: (603, 704)\n",
      "removed edge 1456: (1474, 2523)\n",
      "removed edge 1457: (528, 965)\n",
      "removed edge 1458: (418, 433)\n",
      "removed edge 1459: (395, 2169)\n",
      "removed edge 1460: (485, 2280)\n",
      "removed edge 1461: (877, 1920)\n",
      "removed edge 1462: (1412, 1796)\n",
      "removed edge 1463: (400, 2302)\n",
      "removed edge 1464: (41, 1182)\n",
      "removed edge 1465: (52, 2661)\n",
      "removed edge 1466: (1162, 2367)\n",
      "removed edge 1467: (726, 1019)\n",
      "removed edge 1468: (1405, 2292)\n",
      "removed edge 1469: (833, 2335)\n",
      "removed edge 1470: (278, 871)\n",
      "removed edge 1471: (1147, 1196)\n",
      "removed edge 1472: (903, 2333)\n",
      "removed edge 1473: (29, 1680)\n",
      "removed edge 1474: (1050, 2438)\n",
      "removed edge 1475: (1704, 2010)\n",
      "removed edge 1476: (1811, 2091)\n",
      "removed edge 1477: (471, 2615)\n",
      "removed edge 1478: (1245, 2020)\n",
      "removed edge 1479: (1863, 2635)\n",
      "removed edge 1480: (2013, 2594)\n",
      "removed edge 1481: (1200, 2108)\n",
      "removed edge 1482: (651, 1498)\n",
      "removed edge 1483: (2043, 2135)\n",
      "removed edge 1484: (2091, 2316)\n",
      "removed edge 1485: (798, 2211)\n",
      "removed edge 1486: (204, 1155)\n",
      "removed edge 1487: (616, 2299)\n",
      "removed edge 1488: (1809, 2204)\n",
      "removed edge 1489: (278, 2068)\n",
      "removed edge 1490: (1318, 2173)\n",
      "removed edge 1491: (283, 1274)\n",
      "removed edge 1492: (188, 550)\n",
      "removed edge 1493: (93, 1054)\n",
      "removed edge 1494: (1061, 2091)\n",
      "removed edge 1495: (150, 888)\n",
      "removed edge 1496: (329, 1695)\n",
      "removed edge 1497: (684, 2060)\n",
      "removed edge 1498: (2277, 2337)\n",
      "removed edge 1499: (261, 1879)\n",
      "removed edge 1500: (1867, 2260)\n",
      "removed edge 1501: (1127, 1599)\n",
      "removed edge 1502: (885, 2299)\n",
      "removed edge 1503: (824, 2288)\n",
      "removed edge 1504: (446, 2576)\n",
      "removed edge 1505: (926, 2424)\n",
      "removed edge 1506: (1484, 1832)\n",
      "removed edge 1507: (302, 526)\n",
      "removed edge 1508: (1220, 2383)\n",
      "removed edge 1509: (400, 445)\n",
      "removed edge 1510: (1449, 2182)\n",
      "removed edge 1511: (887, 2337)\n",
      "removed edge 1512: (117, 306)\n",
      "removed edge 1513: (1434, 2621)\n",
      "removed edge 1514: (2277, 2687)\n",
      "removed edge 1515: (617, 2393)\n",
      "removed edge 1516: (356, 2042)\n",
      "removed edge 1517: (606, 2590)\n",
      "removed edge 1518: (1498, 2502)\n",
      "removed edge 1519: (323, 1751)\n",
      "removed edge 1520: (239, 1775)\n",
      "removed edge 1521: (772, 2486)\n",
      "removed edge 1522: (283, 1421)\n",
      "removed edge 1523: (874, 1400)\n",
      "removed edge 1524: (1055, 2233)\n",
      "removed edge 1525: (29, 1570)\n",
      "removed edge 1526: (919, 1168)\n",
      "removed edge 1527: (187, 526)\n",
      "removed edge 1528: (1781, 2335)\n",
      "removed edge 1529: (1263, 2425)\n",
      "removed edge 1530: (525, 1933)\n",
      "removed edge 1531: (2517, 2629)\n",
      "removed edge 1532: (47, 1658)\n",
      "removed edge 1533: (591, 2021)\n",
      "removed edge 1534: (572, 1293)\n",
      "removed edge 1535: (158, 616)\n",
      "removed edge 1536: (1780, 1898)\n",
      "removed edge 1537: (1761, 2157)\n",
      "removed edge 1538: (278, 606)\n",
      "removed edge 1539: (1034, 1804)\n",
      "removed edge 1540: (1011, 1641)\n",
      "removed edge 1541: (545, 2685)\n",
      "removed edge 1542: (2260, 2641)\n",
      "removed edge 1543: (1650, 2282)\n",
      "removed edge 1544: (974, 1526)\n",
      "removed edge 1545: (76, 905)\n",
      "removed edge 1546: (594, 2302)\n",
      "removed edge 1547: (1684, 1969)\n",
      "removed edge 1548: (35, 36)\n",
      "removed edge 1549: (1368, 2006)\n",
      "removed edge 1550: (782, 2065)\n",
      "removed edge 1551: (278, 1824)\n",
      "removed edge 1552: (2432, 2642)\n",
      "removed edge 1553: (251, 1814)\n",
      "removed edge 1554: (2118, 2693)\n",
      "removed edge 1555: (2091, 2465)\n",
      "removed edge 1556: (619, 2356)\n",
      "removed edge 1557: (249, 944)\n",
      "removed edge 1558: (1957, 2475)\n",
      "removed edge 1559: (114, 2558)\n",
      "removed edge 1560: (1816, 2648)\n",
      "removed edge 1561: (1659, 2042)\n",
      "removed edge 1562: (471, 793)\n",
      "removed edge 1563: (827, 2703)\n",
      "removed edge 1564: (2480, 2670)\n",
      "removed edge 1565: (317, 2091)\n",
      "removed edge 1566: (367, 1735)\n",
      "removed edge 1567: (122, 1594)\n",
      "removed edge 1568: (2276, 2366)\n",
      "removed edge 1569: (1488, 2678)\n",
      "removed edge 1570: (98, 1238)\n",
      "removed edge 1571: (1058, 2299)\n",
      "removed edge 1572: (34, 1977)\n",
      "removed edge 1573: (887, 1665)\n",
      "removed edge 1574: (919, 2301)\n",
      "removed edge 1575: (1032, 1034)\n",
      "removed edge 1576: (512, 1002)\n",
      "removed edge 1577: (386, 773)\n",
      "removed edge 1578: (1292, 1849)\n",
      "removed edge 1579: (737, 788)\n",
      "removed edge 1580: (63, 1709)\n",
      "removed edge 1581: (819, 2327)\n",
      "removed edge 1582: (1773, 2091)\n",
      "removed edge 1583: (70, 2650)\n",
      "removed edge 1584: (523, 753)\n",
      "removed edge 1585: (1435, 2639)\n",
      "removed edge 1586: (91, 2059)\n",
      "removed edge 1587: (508, 2524)\n",
      "removed edge 1588: (278, 1554)\n",
      "removed edge 1589: (1974, 2065)\n",
      "removed edge 1590: (1283, 1295)\n",
      "removed edge 1591: (2177, 2407)\n",
      "removed edge 1592: (410, 910)\n",
      "removed edge 1593: (1771, 2494)\n",
      "removed edge 1594: (777, 798)\n",
      "removed edge 1595: (302, 1262)\n",
      "removed edge 1596: (371, 2568)\n",
      "removed edge 1597: (848, 1854)\n",
      "removed edge 1598: (1175, 2544)\n",
      "removed edge 1599: (326, 1310)\n",
      "removed edge 1600: (281, 795)\n",
      "removed edge 1601: (1798, 2639)\n",
      "removed edge 1602: (218, 477)\n",
      "removed edge 1603: (977, 1978)\n",
      "removed edge 1604: (1056, 1838)\n",
      "removed edge 1605: (893, 941)\n",
      "removed edge 1606: (1912, 2029)\n",
      "removed edge 1607: (171, 2193)\n",
      "removed edge 1608: (334, 1146)\n",
      "removed edge 1609: (184, 2177)\n",
      "removed edge 1610: (1403, 2566)\n",
      "removed edge 1611: (1033, 1036)\n",
      "removed edge 1612: (1599, 2307)\n",
      "removed edge 1613: (810, 860)\n",
      "removed edge 1614: (1525, 2152)\n",
      "removed edge 1615: (1303, 1338)\n",
      "removed edge 1616: (522, 1565)\n",
      "removed edge 1617: (155, 579)\n",
      "removed edge 1618: (1659, 2348)\n",
      "removed edge 1619: (125, 1653)\n",
      "removed edge 1620: (798, 1223)\n",
      "removed edge 1621: (81, 1284)\n",
      "removed edge 1622: (744, 1339)\n",
      "removed edge 1623: (100, 218)\n",
      "removed edge 1624: (1132, 1652)\n",
      "removed edge 1625: (577, 1896)\n",
      "removed edge 1626: (1567, 1754)\n",
      "removed edge 1627: (1162, 1558)\n",
      "removed edge 1628: (91, 1569)\n",
      "removed edge 1629: (278, 757)\n",
      "removed edge 1630: (508, 640)\n",
      "removed edge 1631: (333, 2143)\n",
      "removed edge 1632: (1165, 2506)\n",
      "removed edge 1633: (692, 1747)\n",
      "removed edge 1634: (351, 934)\n",
      "removed edge 1635: (282, 2519)\n",
      "removed edge 1636: (2204, 2205)\n",
      "removed edge 1637: (2404, 2577)\n",
      "removed edge 1638: (1849, 2114)\n",
      "removed edge 1639: (866, 874)\n",
      "removed edge 1640: (448, 607)\n",
      "removed edge 1641: (851, 1291)\n",
      "removed edge 1642: (1530, 2441)\n",
      "removed edge 1643: (884, 2443)\n",
      "removed edge 1644: (2081, 2522)\n",
      "removed edge 1645: (1310, 1577)\n",
      "removed edge 1646: (1186, 1801)\n",
      "removed edge 1647: (842, 2366)\n",
      "removed edge 1648: (966, 2098)\n",
      "removed edge 1649: (488, 1804)\n",
      "removed edge 1650: (1645, 2208)\n",
      "removed edge 1651: (393, 2565)\n",
      "removed edge 1652: (139, 2518)\n",
      "removed edge 1653: (1854, 1923)\n",
      "removed edge 1654: (217, 1229)\n",
      "removed edge 1655: (147, 286)\n",
      "removed edge 1656: (1439, 1482)\n",
      "removed edge 1657: (2185, 2473)\n",
      "removed edge 1658: (1107, 1269)\n",
      "removed edge 1659: (508, 1692)\n",
      "removed edge 1660: (798, 1267)\n",
      "removed edge 1661: (798, 2691)\n",
      "removed edge 1662: (765, 1032)\n",
      "removed edge 1663: (2086, 2672)\n",
      "removed edge 1664: (545, 1435)\n",
      "removed edge 1665: (1412, 1834)\n",
      "removed edge 1666: (202, 1224)\n",
      "removed edge 1667: (983, 2191)\n",
      "removed edge 1668: (2295, 2591)\n",
      "removed edge 1669: (674, 2148)\n",
      "removed edge 1670: (1738, 2109)\n",
      "removed edge 1671: (414, 836)\n",
      "removed edge 1672: (388, 1048)\n",
      "removed edge 1673: (1595, 1606)\n",
      "removed edge 1674: (2042, 2450)\n",
      "removed edge 1675: (690, 2581)\n",
      "removed edge 1676: (1790, 2114)\n",
      "removed edge 1677: (1896, 2239)\n",
      "removed edge 1678: (278, 2431)\n",
      "removed edge 1679: (2091, 2515)\n",
      "removed edge 1680: (49, 2016)\n",
      "removed edge 1681: (1225, 2197)\n",
      "removed edge 1682: (1682, 1867)\n",
      "removed edge 1683: (937, 2233)\n",
      "removed edge 1684: (749, 2348)\n",
      "removed edge 1685: (1606, 1635)\n",
      "removed edge 1686: (388, 508)\n",
      "removed edge 1687: (690, 1757)\n",
      "removed edge 1688: (1162, 1700)\n",
      "removed edge 1689: (220, 1272)\n",
      "removed edge 1690: (1995, 2524)\n",
      "removed edge 1691: (1941, 2436)\n",
      "removed edge 1692: (1537, 2664)\n",
      "removed edge 1693: (754, 806)\n",
      "removed edge 1694: (301, 758)\n",
      "removed edge 1695: (769, 2576)\n",
      "removed edge 1696: (183, 186)\n",
      "removed edge 1697: (790, 868)\n",
      "removed edge 1698: (148, 2701)\n",
      "removed edge 1699: (488, 2538)\n",
      "removed edge 1700: (769, 1873)\n",
      "removed edge 1701: (2293, 2701)\n",
      "removed edge 1702: (1315, 1833)\n",
      "removed edge 1703: (276, 277)\n",
      "removed edge 1704: (886, 1175)\n",
      "removed edge 1705: (293, 696)\n",
      "removed edge 1706: (2226, 2567)\n",
      "removed edge 1707: (654, 744)\n",
      "removed edge 1708: (716, 2048)\n",
      "removed edge 1709: (1751, 2521)\n",
      "removed edge 1710: (73, 680)\n",
      "removed edge 1711: (535, 545)\n",
      "removed edge 1712: (613, 1700)\n",
      "removed edge 1713: (315, 905)\n",
      "removed edge 1714: (1835, 2352)\n",
      "removed edge 1715: (1442, 2687)\n",
      "removed edge 1716: (756, 1123)\n",
      "removed edge 1717: (1272, 2701)\n",
      "removed edge 1718: (2412, 2577)\n",
      "removed edge 1719: (1509, 2324)\n",
      "removed edge 1720: (1123, 1347)\n",
      "removed edge 1721: (453, 2375)\n",
      "removed edge 1722: (660, 908)\n",
      "removed edge 1723: (287, 1153)\n",
      "removed edge 1724: (63, 1901)\n",
      "removed edge 1725: (211, 1840)\n",
      "removed edge 1726: (1537, 2304)\n",
      "removed edge 1727: (885, 1055)\n",
      "removed edge 1728: (171, 226)\n",
      "removed edge 1729: (1121, 2704)\n",
      "removed edge 1730: (1514, 1928)\n",
      "removed edge 1731: (62, 754)\n",
      "removed edge 1732: (1162, 2397)\n",
      "removed edge 1733: (234, 498)\n",
      "removed edge 1734: (1765, 2593)\n",
      "removed edge 1735: (2060, 2202)\n",
      "removed edge 1736: (70, 1859)\n",
      "removed edge 1737: (1558, 1849)\n",
      "removed edge 1738: (1608, 2183)\n",
      "removed edge 1739: (1314, 1571)\n",
      "removed edge 1740: (277, 278)\n",
      "removed edge 1741: (766, 1704)\n",
      "removed edge 1742: (284, 1310)\n",
      "removed edge 1743: (947, 1961)\n",
      "removed edge 1744: (1921, 2460)\n",
      "removed edge 1745: (73, 277)\n",
      "removed edge 1746: (350, 1498)\n",
      "removed edge 1747: (1922, 2390)\n",
      "removed edge 1748: (1903, 1913)\n",
      "removed edge 1749: (1458, 1632)\n",
      "removed edge 1750: (895, 1044)\n",
      "removed edge 1751: (2621, 2625)\n",
      "removed edge 1752: (485, 674)\n",
      "removed edge 1753: (272, 1191)\n",
      "removed edge 1754: (405, 1876)\n",
      "removed edge 1755: (213, 938)\n",
      "removed edge 1756: (1953, 2370)\n",
      "removed edge 1757: (1356, 1552)\n",
      "removed edge 1758: (1479, 2546)\n",
      "removed edge 1759: (1829, 1956)\n",
      "removed edge 1760: (1354, 2462)\n",
      "removed edge 1761: (302, 1817)\n",
      "removed edge 1762: (21, 2231)\n",
      "removed edge 1763: (542, 2472)\n",
      "removed edge 1764: (19, 277)\n",
      "removed edge 1765: (269, 2582)\n",
      "removed edge 1766: (1059, 1556)\n",
      "removed edge 1767: (725, 1925)\n",
      "removed edge 1768: (260, 2671)\n",
      "removed edge 1769: (1139, 1740)\n",
      "removed edge 1770: (758, 1090)\n",
      "removed edge 1771: (1060, 1826)\n",
      "removed edge 1772: (140, 1111)\n",
      "removed edge 1773: (883, 1903)\n",
      "removed edge 1774: (633, 1355)\n",
      "removed edge 1775: (328, 2204)\n",
      "removed edge 1776: (1325, 2663)\n",
      "removed edge 1777: (2274, 2486)\n",
      "removed edge 1778: (2003, 2091)\n",
      "removed edge 1779: (52, 2016)\n",
      "removed edge 1780: (1427, 2586)\n",
      "removed edge 1781: (1498, 2269)\n",
      "removed edge 1782: (1706, 1856)\n",
      "removed edge 1783: (1564, 2518)\n",
      "removed edge 1784: (758, 1040)\n",
      "removed edge 1785: (81, 603)\n",
      "removed edge 1786: (85, 87)\n",
      "removed edge 1787: (1061, 1195)\n",
      "removed edge 1788: (1833, 2560)\n",
      "removed edge 1789: (16, 1609)\n",
      "removed edge 1790: (841, 1953)\n",
      "removed edge 1791: (23, 643)\n",
      "removed edge 1792: (1314, 2551)\n",
      "removed edge 1793: (1482, 1652)\n",
      "removed edge 1794: (698, 2178)\n",
      "removed edge 1795: (1183, 2128)\n",
      "removed edge 1796: (617, 1411)\n",
      "removed edge 1797: (2412, 2576)\n",
      "removed edge 1798: (25, 579)\n",
      "removed edge 1799: (1686, 2042)\n",
      "removed edge 1800: (2306, 2632)\n",
      "removed edge 1801: (744, 1877)\n",
      "removed edge 1802: (1390, 1609)\n",
      "removed edge 1803: (1503, 2288)\n",
      "removed edge 1804: (1201, 1278)\n",
      "removed edge 1805: (1854, 2643)\n",
      "removed edge 1806: (433, 1507)\n",
      "removed edge 1807: (1051, 1184)\n",
      "removed edge 1808: (609, 2091)\n",
      "removed edge 1809: (269, 768)\n",
      "removed edge 1810: (114, 1621)\n",
      "removed edge 1811: (693, 2395)\n",
      "removed edge 1812: (1108, 2042)\n",
      "removed edge 1813: (499, 2200)\n",
      "removed edge 1814: (1310, 1821)\n",
      "removed edge 1815: (1039, 1487)\n",
      "removed edge 1816: (444, 1460)\n",
      "removed edge 1817: (115, 364)\n",
      "removed edge 1818: (956, 2132)\n",
      "removed edge 1819: (204, 1149)\n",
      "removed edge 1820: (104, 2066)\n",
      "removed edge 1821: (886, 1425)\n",
      "removed edge 1822: (982, 2397)\n",
      "removed edge 1823: (798, 1761)\n",
      "removed edge 1824: (588, 2041)\n",
      "removed edge 1825: (1146, 1359)\n",
      "removed edge 1826: (205, 1904)\n",
      "removed edge 1827: (122, 1015)\n",
      "removed edge 1828: (488, 2012)\n",
      "removed edge 1829: (1037, 2375)\n",
      "removed edge 1830: (170, 1700)\n",
      "removed edge 1831: (97, 2449)\n",
      "removed edge 1832: (613, 2265)\n",
      "removed edge 1833: (1631, 1833)\n",
      "removed edge 1834: (508, 1124)\n",
      "removed edge 1835: (429, 971)\n",
      "removed edge 1836: (1026, 2146)\n",
      "removed edge 1837: (382, 994)\n",
      "removed edge 1838: (124, 157)\n",
      "removed edge 1839: (1364, 2157)\n",
      "removed edge 1840: (1137, 1265)\n",
      "removed edge 1841: (464, 816)\n",
      "removed edge 1842: (210, 2060)\n",
      "removed edge 1843: (2367, 2506)\n",
      "removed edge 1844: (1257, 2127)\n",
      "removed edge 1845: (1684, 2693)\n",
      "removed edge 1846: (797, 1506)\n",
      "removed edge 1847: (1010, 2112)\n",
      "removed edge 1848: (500, 2389)\n",
      "removed edge 1849: (690, 1965)\n",
      "removed edge 1850: (1401, 2091)\n",
      "removed edge 1851: (192, 1874)\n",
      "removed edge 1852: (512, 629)\n",
      "removed edge 1853: (2091, 2194)\n",
      "removed edge 1854: (340, 2577)\n",
      "removed edge 1855: (66, 1417)\n",
      "removed edge 1856: (277, 334)\n",
      "removed edge 1857: (109, 545)\n",
      "removed edge 1858: (37, 38)\n",
      "removed edge 1859: (966, 2701)\n",
      "removed edge 1860: (1064, 2091)\n",
      "removed edge 1861: (616, 2091)\n",
      "removed edge 1862: (302, 962)\n",
      "removed edge 1863: (1684, 1854)\n",
      "removed edge 1864: (97, 456)\n",
      "removed edge 1865: (91, 2244)\n",
      "removed edge 1866: (992, 1549)\n",
      "removed edge 1867: (123, 1756)\n",
      "removed edge 1868: (1012, 2064)\n",
      "removed edge 1869: (177, 2576)\n",
      "removed edge 1870: (578, 1769)\n",
      "removed edge 1871: (2086, 2265)\n",
      "removed edge 1872: (102, 222)\n",
      "removed edge 1873: (2345, 2662)\n",
      "removed edge 1874: (163, 2124)\n",
      "removed edge 1875: (1152, 1559)\n",
      "removed edge 1876: (655, 1430)\n",
      "removed edge 1877: (687, 2629)\n",
      "removed edge 1878: (508, 1271)\n",
      "removed edge 1879: (2208, 2407)\n",
      "removed edge 1880: (146, 1222)\n",
      "removed edge 1881: (1009, 2091)\n",
      "removed edge 1882: (1395, 1835)\n",
      "removed edge 1883: (505, 1116)\n",
      "removed edge 1884: (1599, 1642)\n",
      "removed edge 1885: (948, 1187)\n",
      "removed edge 1886: (787, 2226)\n",
      "removed edge 1887: (1045, 2451)\n",
      "removed edge 1888: (1316, 1854)\n",
      "removed edge 1889: (429, 616)\n",
      "removed edge 1890: (1611, 2661)\n",
      "removed edge 1891: (632, 2502)\n",
      "removed edge 1892: (855, 1306)\n",
      "removed edge 1893: (164, 653)\n",
      "removed edge 1894: (74, 2056)\n",
      "removed edge 1895: (327, 341)\n",
      "removed edge 1896: (1479, 1682)\n",
      "removed edge 1897: (421, 566)\n",
      "removed edge 1898: (1377, 1378)\n",
      "removed edge 1899: (1641, 2352)\n",
      "removed edge 1900: (1149, 1677)\n",
      "removed edge 1901: (1609, 2291)\n",
      "removed edge 1902: (1320, 1740)\n",
      "removed edge 1903: (505, 1854)\n",
      "removed edge 1904: (1831, 2030)\n",
      "removed edge 1905: (1462, 2091)\n",
      "removed edge 1906: (1500, 2566)\n",
      "removed edge 1907: (1460, 1733)\n",
      "removed edge 1908: (79, 2357)\n",
      "removed edge 1909: (2125, 2437)\n",
      "removed edge 1910: (1633, 2465)\n",
      "removed edge 1911: (1537, 2574)\n",
      "removed edge 1912: (1035, 2134)\n",
      "removed edge 1913: (93, 1287)\n",
      "removed edge 1914: (1450, 2226)\n",
      "removed edge 1915: (927, 1470)\n",
      "removed edge 1916: (1328, 1415)\n",
      "removed edge 1917: (264, 1170)\n",
      "removed edge 1918: (1230, 2048)\n",
      "removed edge 1919: (1922, 2119)\n",
      "removed edge 1920: (1951, 2383)\n",
      "removed edge 1921: (355, 1435)\n",
      "removed edge 1922: (422, 2042)\n",
      "removed edge 1923: (530, 565)\n",
      "removed edge 1924: (1309, 1917)\n",
      "removed edge 1925: (1395, 2352)\n",
      "removed edge 1926: (379, 1345)\n",
      "removed edge 1927: (364, 1909)\n",
      "removed edge 1928: (450, 1748)\n",
      "removed edge 1929: (273, 2254)\n",
      "removed edge 1930: (553, 2439)\n",
      "removed edge 1931: (1877, 2060)\n",
      "removed edge 1932: (1747, 2525)\n",
      "removed edge 1933: (484, 679)\n",
      "removed edge 1934: (1395, 1721)\n",
      "removed edge 1935: (1112, 2701)\n",
      "removed edge 1936: (1473, 1606)\n",
      "removed edge 1937: (277, 490)\n",
      "removed edge 1938: (278, 2540)\n",
      "removed edge 1939: (819, 2001)\n",
      "removed edge 1940: (97, 1980)\n",
      "removed edge 1941: (508, 2211)\n",
      "removed edge 1942: (141, 2230)\n",
      "removed edge 1943: (464, 2000)\n",
      "removed edge 1944: (21, 117)\n",
      "removed edge 1945: (301, 2095)\n",
      "removed edge 1946: (1168, 1314)\n",
      "removed edge 1947: (1807, 2087)\n",
      "removed edge 1948: (1523, 2169)\n",
      "removed edge 1949: (991, 2691)\n",
      "removed edge 1950: (1198, 2609)\n",
      "removed edge 1951: (1178, 2573)\n",
      "removed edge 1952: (508, 1269)\n",
      "removed edge 1953: (461, 471)\n",
      "removed edge 1954: (2091, 2453)\n",
      "removed edge 1955: (886, 2304)\n",
      "removed edge 1956: (1086, 2466)\n",
      "removed edge 1957: (688, 851)\n",
      "removed edge 1958: (1705, 2039)\n",
      "removed edge 1959: (941, 1608)\n",
      "removed edge 1960: (725, 1668)\n",
      "removed edge 1961: (2366, 2538)\n",
      "removed edge 1962: (1770, 1953)\n",
      "removed edge 1963: (2113, 2389)\n",
      "removed edge 1964: (996, 1681)\n",
      "removed edge 1965: (548, 1643)\n",
      "removed edge 1966: (1006, 2467)\n",
      "removed edge 1967: (1813, 2465)\n",
      "removed edge 1968: (44, 1826)\n",
      "removed edge 1969: (797, 2071)\n",
      "removed edge 1970: (87, 2596)\n",
      "removed edge 1971: (980, 1531)\n",
      "removed edge 1972: (301, 1621)\n",
      "removed edge 1973: (1278, 1856)\n",
      "removed edge 1974: (1954, 2096)\n",
      "removed edge 1975: (571, 1939)\n",
      "removed edge 1976: (269, 1301)\n",
      "removed edge 1977: (789, 887)\n",
      "removed edge 1978: (114, 1207)\n",
      "removed edge 1979: (126, 2226)\n",
      "removed edge 1980: (2230, 2350)\n",
      "removed edge 1981: (169, 2640)\n",
      "removed edge 1982: (907, 2265)\n",
      "removed edge 1983: (789, 1048)\n",
      "removed edge 1984: (1569, 1795)\n",
      "removed edge 1985: (278, 1416)\n",
      "removed edge 1986: (464, 1071)\n",
      "removed edge 1987: (1345, 1698)\n",
      "removed edge 1988: (304, 1988)\n",
      "removed edge 1989: (770, 1860)\n",
      "removed edge 1990: (1117, 2385)\n",
      "removed edge 1991: (987, 2147)\n",
      "removed edge 1992: (616, 619)\n",
      "removed edge 1993: (581, 1804)\n",
      "removed edge 1994: (981, 999)\n",
      "removed edge 1995: (2042, 2669)\n",
      "removed edge 1996: (1794, 1903)\n",
      "removed edge 1997: (158, 985)\n",
      "removed edge 1998: (1032, 1804)\n",
      "removed edge 1999: (604, 2457)\n",
      "removed edge 2000: (1162, 1680)\n",
      "removed edge 2001: (2036, 2081)\n",
      "removed edge 2002: (279, 2701)\n",
      "removed edge 2003: (275, 1071)\n",
      "removed edge 2004: (2054, 2091)\n",
      "removed edge 2005: (725, 1930)\n",
      "removed edge 2006: (105, 1677)\n",
      "removed edge 2007: (89, 568)\n",
      "removed edge 2008: (450, 2081)\n",
      "removed edge 2009: (410, 790)\n",
      "removed edge 2010: (522, 1716)\n",
      "removed edge 2011: (1812, 2399)\n",
      "removed edge 2012: (1627, 1793)\n",
      "removed edge 2013: (1849, 2263)\n",
      "removed edge 2014: (302, 2384)\n",
      "removed edge 2015: (1100, 2114)\n",
      "removed edge 2016: (1051, 1881)\n",
      "removed edge 2017: (885, 886)\n",
      "removed edge 2018: (406, 920)\n",
      "removed edge 2019: (1620, 1776)\n",
      "removed edge 2020: (545, 2354)\n",
      "removed edge 2021: (487, 1953)\n",
      "removed edge 2022: (508, 2294)\n",
      "removed edge 2023: (718, 1015)\n",
      "removed edge 2024: (1395, 2606)\n",
      "removed edge 2025: (1537, 1698)\n",
      "removed edge 2026: (2452, 2576)\n",
      "removed edge 2027: (1195, 2091)\n",
      "removed edge 2028: (1180, 1698)\n",
      "removed edge 2029: (1010, 1390)\n",
      "removed edge 2030: (2091, 2369)\n",
      "removed edge 2031: (2013, 2666)\n",
      "removed edge 2032: (566, 1555)\n",
      "removed edge 2033: (282, 817)\n",
      "removed edge 2034: (571, 1230)\n",
      "removed edge 2035: (793, 1677)\n",
      "removed edge 2036: (517, 1253)\n",
      "removed edge 2037: (1924, 2652)\n",
      "removed edge 2038: (222, 1322)\n",
      "removed edge 2039: (16, 56)\n",
      "removed edge 2040: (691, 746)\n",
      "removed edge 2041: (999, 2368)\n",
      "removed edge 2042: (349, 2606)\n",
      "removed edge 2043: (313, 2352)\n",
      "removed edge 2044: (562, 2231)\n",
      "removed edge 2045: (1639, 1863)\n",
      "removed edge 2046: (2137, 2302)\n",
      "removed edge 2047: (1593, 1789)\n",
      "removed edge 2048: (1854, 2049)\n",
      "removed edge 2049: (179, 2021)\n",
      "removed edge 2050: (275, 1381)\n",
      "removed edge 2051: (1065, 2704)\n",
      "removed edge 2052: (2583, 2597)\n",
      "removed edge 2053: (287, 1152)\n",
      "removed edge 2054: (423, 1160)\n",
      "removed edge 2055: (1090, 2631)\n",
      "removed edge 2056: (849, 2091)\n",
      "removed edge 2057: (2047, 2701)\n",
      "removed edge 2058: (1044, 1860)\n",
      "removed edge 2059: (967, 2363)\n",
      "removed edge 2060: (2332, 2479)\n",
      "removed edge 2061: (509, 623)\n",
      "removed edge 2062: (334, 2577)\n",
      "removed edge 2063: (29, 1460)\n",
      "removed edge 2064: (49, 1474)\n",
      "removed edge 2065: (1420, 1574)\n",
      "removed edge 2066: (753, 1556)\n",
      "removed edge 2067: (1310, 2047)\n",
      "removed edge 2068: (1378, 1701)\n",
      "removed edge 2069: (46, 944)\n",
      "removed edge 2070: (163, 1040)\n",
      "removed edge 2071: (526, 1757)\n",
      "removed edge 2072: (1599, 2699)\n",
      "removed edge 2073: (1189, 1269)\n",
      "removed edge 2074: (1961, 2678)\n",
      "removed edge 2075: (637, 762)\n",
      "removed edge 2076: (109, 302)\n",
      "removed edge 2077: (2160, 2563)\n",
      "removed edge 2078: (278, 1178)\n",
      "removed edge 2079: (163, 1303)\n",
      "removed edge 2080: (916, 2689)\n",
      "removed edge 2081: (2297, 2629)\n",
      "removed edge 2082: (1498, 2000)\n",
      "removed edge 2083: (1329, 2306)\n",
      "removed edge 2084: (374, 2302)\n",
      "removed edge 2085: (1804, 2141)\n",
      "removed edge 2086: (137, 2091)\n",
      "removed edge 2087: (797, 1507)\n",
      "removed edge 2088: (122, 1014)\n",
      "removed edge 2089: (702, 2091)\n",
      "removed edge 2090: (1720, 1751)\n",
      "removed edge 2091: (1125, 2091)\n",
      "removed edge 2092: (1436, 2079)\n",
      "removed edge 2093: (185, 1191)\n",
      "removed edge 2094: (207, 2274)\n",
      "removed edge 2095: (695, 1152)\n",
      "removed edge 2096: (964, 2388)\n",
      "removed edge 2097: (2000, 2172)\n",
      "removed edge 2098: (1160, 1944)\n",
      "removed edge 2099: (877, 1415)\n",
      "removed edge 2100: (1204, 2042)\n",
      "removed edge 2101: (466, 1681)\n",
      "removed edge 2102: (619, 621)\n",
      "removed edge 2103: (404, 2097)\n",
      "removed edge 2104: (500, 2076)\n",
      "removed edge 2105: (98, 1892)\n",
      "removed edge 2106: (1615, 2299)\n",
      "removed edge 2107: (1212, 2201)\n",
      "removed edge 2108: (2095, 2632)\n",
      "removed edge 2109: (140, 1788)\n",
      "removed edge 2110: (49, 52)\n",
      "removed edge 2111: (511, 1700)\n",
      "removed edge 2112: (957, 1284)\n",
      "removed edge 2113: (1716, 1759)\n",
      "removed edge 2114: (2395, 2396)\n",
      "removed edge 2115: (943, 1088)\n",
      "removed edge 2116: (621, 1615)\n",
      "removed edge 2117: (2109, 2389)\n",
      "removed edge 2118: (944, 1961)\n",
      "removed edge 2119: (941, 944)\n",
      "removed edge 2120: (597, 944)\n",
      "removed edge 2121: (488, 2583)\n",
      "removed edge 2122: (193, 1908)\n",
      "removed edge 2123: (755, 2366)\n",
      "removed edge 2124: (246, 277)\n",
      "removed edge 2125: (919, 1571)\n",
      "removed edge 2126: (156, 1712)\n",
      "removed edge 2127: (20, 974)\n",
      "removed edge 2128: (1077, 2088)\n",
      "removed edge 2129: (513, 2645)\n",
      "removed edge 2130: (545, 599)\n",
      "removed edge 2131: (1079, 1540)\n",
      "removed edge 2132: (509, 604)\n",
      "removed edge 2133: (1108, 2498)\n",
      "removed edge 2134: (2003, 2061)\n",
      "removed edge 2135: (269, 825)\n",
      "removed edge 2136: (1133, 1136)\n",
      "removed edge 2137: (288, 1698)\n",
      "removed edge 2138: (761, 964)\n",
      "removed edge 2139: (987, 988)\n",
      "removed edge 2140: (2367, 2551)\n",
      "removed edge 2141: (3, 460)\n",
      "removed edge 2142: (560, 2505)\n",
      "removed edge 2143: (16, 1226)\n",
      "removed edge 2144: (640, 690)\n",
      "removed edge 2145: (230, 1412)\n",
      "removed edge 2146: (517, 1742)\n",
      "removed edge 2147: (1889, 2000)\n",
      "removed edge 2148: (1794, 2209)\n",
      "removed edge 2149: (249, 1265)\n",
      "removed edge 2150: (783, 1425)\n",
      "removed edge 2151: (1575, 2163)\n",
      "removed edge 2152: (370, 1854)\n",
      "removed edge 2153: (193, 2091)\n",
      "removed edge 2154: (52, 2662)\n",
      "removed edge 2155: (277, 446)\n",
      "removed edge 2156: (422, 1854)\n",
      "removed edge 2157: (1770, 2366)\n",
      "removed edge 2158: (2040, 2609)\n",
      "removed edge 2159: (1041, 1487)\n",
      "removed edge 2160: (1272, 1893)\n",
      "removed edge 2161: (2042, 2206)\n",
      "removed edge 2162: (269, 941)\n",
      "removed edge 2163: (265, 508)\n",
      "removed edge 2164: (71, 2580)\n",
      "removed edge 2165: (1209, 2503)\n",
      "removed edge 2166: (846, 2091)\n",
      "removed edge 2167: (722, 1449)\n",
      "removed edge 2168: (1858, 2654)\n",
      "removed edge 2169: (2629, 2672)\n",
      "removed edge 2170: (460, 2577)\n",
      "removed edge 2171: (1696, 2232)\n",
      "removed edge 2172: (2036, 2627)\n",
      "removed edge 2173: (1026, 1997)\n",
      "removed edge 2174: (1665, 1683)\n",
      "removed edge 2175: (2356, 2584)\n",
      "removed edge 2176: (1549, 1878)\n",
      "removed edge 2177: (792, 2091)\n",
      "removed edge 2178: (1537, 1641)\n",
      "removed edge 2179: (2113, 2630)\n",
      "removed edge 2180: (1081, 1677)\n",
      "removed edge 2181: (545, 1803)\n",
      "removed edge 2182: (858, 2701)\n",
      "removed edge 2183: (1435, 1436)\n",
      "removed edge 2184: (1424, 2142)\n",
      "removed edge 2185: (1843, 2490)\n",
      "removed edge 2186: (1644, 1788)\n",
      "removed edge 2187: (1500, 2367)\n",
      "removed edge 2188: (2299, 2356)\n",
      "removed edge 2189: (1079, 1836)\n",
      "removed edge 2190: (1686, 2173)\n",
      "removed edge 2191: (197, 2462)\n",
      "removed edge 2192: (603, 2699)\n",
      "removed edge 2193: (1953, 2168)\n",
      "removed edge 2194: (2094, 2621)\n",
      "removed edge 2195: (769, 1435)\n",
      "removed edge 2196: (1325, 1407)\n",
      "removed edge 2197: (525, 971)\n",
      "removed edge 2198: (12, 2366)\n",
      "removed edge 2199: (1874, 2228)\n",
      "removed edge 2200: (29, 368)\n",
      "removed edge 2201: (815, 2061)\n",
      "removed edge 2202: (895, 2151)\n",
      "removed edge 2203: (1220, 2057)\n",
      "removed edge 2204: (2013, 2157)\n",
      "removed edge 2205: (765, 2141)\n",
      "removed edge 2206: (1160, 1945)\n",
      "removed edge 2207: (423, 1531)\n",
      "removed edge 2208: (632, 724)\n",
      "removed edge 2209: (278, 844)\n",
      "removed edge 2210: (2293, 2518)\n",
      "removed edge 2211: (1854, 2623)\n",
      "removed edge 2212: (988, 1820)\n",
      "removed edge 2213: (1032, 1424)\n",
      "removed edge 2214: (850, 1839)\n",
      "removed edge 2215: (302, 1235)\n",
      "removed edge 2216: (63, 1903)\n",
      "removed edge 2217: (452, 2289)\n",
      "removed edge 2218: (67, 2074)\n",
      "removed edge 2219: (873, 1059)\n",
      "removed edge 2220: (652, 2042)\n",
      "removed edge 2221: (188, 898)\n",
      "removed edge 2222: (413, 1367)\n",
      "removed edge 2223: (52, 1100)\n",
      "removed edge 2224: (1833, 1929)\n",
      "removed edge 2225: (508, 2444)\n",
      "removed edge 2226: (508, 2092)\n",
      "removed edge 2227: (307, 1365)\n",
      "removed edge 2228: (1851, 2355)\n",
      "removed edge 2229: (740, 2518)\n",
      "removed edge 2230: (278, 474)\n",
      "removed edge 2231: (746, 1557)\n",
      "removed edge 2232: (23, 1619)\n",
      "removed edge 2233: (1364, 2013)\n",
      "removed edge 2234: (302, 1325)\n",
      "removed edge 2235: (1988, 2135)\n",
      "removed edge 2236: (11, 411)\n",
      "removed edge 2237: (2007, 2313)\n",
      "removed edge 2238: (2577, 2707)\n",
      "removed edge 2239: (391, 2106)\n",
      "removed edge 2240: (886, 2675)\n",
      "removed edge 2241: (2613, 2625)\n",
      "removed edge 2242: (2352, 2577)\n",
      "removed edge 2243: (874, 2091)\n",
      "removed edge 2244: (701, 2529)\n",
      "removed edge 2245: (1609, 1698)\n",
      "removed edge 2246: (545, 2400)\n",
      "removed edge 2247: (526, 2153)\n"
     ]
    },
    {
     "name": "stdout",
     "output_type": "stream",
     "text": [
      "removed edge 2248: (185, 2577)\n",
      "removed edge 2249: (1460, 2146)\n",
      "removed edge 2250: (2373, 2576)\n",
      "removed edge 2251: (1007, 2701)\n",
      "removed edge 2252: (1024, 2091)\n",
      "removed edge 2253: (2000, 2239)\n",
      "removed edge 2254: (30, 1849)\n",
      "removed edge 2255: (223, 1046)\n",
      "removed edge 2256: (1276, 2049)\n",
      "removed edge 2257: (1330, 1944)\n",
      "removed edge 2258: (601, 1787)\n",
      "removed edge 2259: (1374, 2580)\n",
      "removed edge 2260: (374, 508)\n",
      "removed edge 2261: (1874, 2703)\n",
      "removed edge 2262: (114, 2062)\n",
      "removed edge 2263: (457, 674)\n",
      "removed edge 2264: (1310, 2541)\n",
      "removed edge 2265: (662, 2479)\n",
      "removed edge 2266: (508, 1046)\n",
      "removed edge 2267: (777, 2701)\n",
      "removed edge 2268: (401, 1229)\n",
      "removed edge 2269: (128, 406)\n",
      "removed edge 2270: (839, 2151)\n",
      "removed edge 2271: (177, 921)\n",
      "removed edge 2272: (633, 2701)\n",
      "removed edge 2273: (364, 629)\n",
      "removed edge 2274: (137, 468)\n",
      "removed edge 2275: (947, 1751)\n",
      "removed edge 2276: (1312, 2320)\n",
      "removed edge 2277: (1817, 2645)\n",
      "removed edge 2278: (292, 459)\n",
      "removed edge 2279: (545, 1963)\n",
      "removed edge 2280: (2096, 2538)\n",
      "removed edge 2281: (1751, 2056)\n",
      "removed edge 2282: (578, 1224)\n",
      "removed edge 2283: (372, 866)\n",
      "removed edge 2284: (1723, 1999)\n",
      "removed edge 2285: (1790, 2522)\n",
      "removed edge 2286: (1626, 1944)\n",
      "removed edge 2287: (1643, 1677)\n",
      "removed edge 2288: (1912, 2395)\n",
      "removed edge 2289: (2337, 2543)\n",
      "removed edge 2290: (798, 863)\n",
      "removed edge 2291: (474, 1854)\n",
      "removed edge 2292: (1805, 2535)\n",
      "removed edge 2293: (533, 771)\n",
      "removed edge 2294: (645, 1828)\n",
      "removed edge 2295: (941, 1698)\n",
      "removed edge 2296: (233, 1912)\n",
      "removed edge 2297: (2107, 2423)\n",
      "removed edge 2298: (508, 662)\n",
      "removed edge 2299: (300, 1235)\n",
      "removed edge 2300: (472, 2701)\n",
      "removed edge 2301: (59, 2672)\n",
      "removed edge 2302: (858, 1892)\n",
      "removed edge 2303: (246, 2317)\n",
      "removed edge 2304: (954, 1804)\n",
      "removed edge 2305: (63, 346)\n",
      "removed edge 2306: (1619, 2091)\n",
      "removed edge 2307: (10, 400)\n",
      "removed edge 2308: (78, 638)\n",
      "removed edge 2309: (2526, 2693)\n",
      "removed edge 2310: (424, 428)\n",
      "removed edge 2311: (292, 485)\n",
      "removed edge 2312: (2091, 2299)\n",
      "removed edge 2313: (1554, 2701)\n",
      "removed edge 2314: (1198, 2040)\n",
      "removed edge 2315: (645, 2469)\n",
      "removed edge 2316: (930, 1549)\n",
      "removed edge 2317: (1672, 2328)\n",
      "removed edge 2318: (52, 1474)\n",
      "removed edge 2319: (2081, 2422)\n",
      "removed edge 2320: (1083, 1856)\n",
      "removed edge 2321: (2114, 2517)\n",
      "removed edge 2322: (1254, 1742)\n",
      "removed edge 2323: (1854, 2518)\n",
      "removed edge 2324: (230, 325)\n",
      "removed edge 2325: (768, 2060)\n",
      "removed edge 2326: (20, 2228)\n",
      "removed edge 2327: (168, 1700)\n",
      "removed edge 2328: (429, 619)\n",
      "removed edge 2329: (278, 2707)\n",
      "removed edge 2330: (529, 2601)\n",
      "removed edge 2331: (26, 433)\n",
      "removed edge 2332: (1690, 1953)\n",
      "removed edge 2333: (621, 1946)\n",
      "removed edge 2334: (1027, 2152)\n",
      "removed edge 2335: (2601, 2703)\n",
      "removed edge 2336: (828, 932)\n",
      "removed edge 2337: (434, 1164)\n",
      "removed edge 2338: (796, 1474)\n",
      "removed edge 2339: (302, 2095)\n",
      "removed edge 2340: (960, 1037)\n",
      "removed edge 2341: (1147, 2407)\n",
      "removed edge 2342: (980, 988)\n",
      "removed edge 2343: (828, 2091)\n",
      "removed edge 2344: (218, 568)\n",
      "removed edge 2345: (278, 2497)\n",
      "removed edge 2346: (30, 2627)\n",
      "removed edge 2347: (216, 1941)\n",
      "removed edge 2348: (2072, 2233)\n",
      "removed edge 2349: (1527, 2616)\n",
      "removed edge 2350: (523, 1965)\n",
      "removed edge 2351: (276, 278)\n",
      "removed edge 2352: (1324, 2577)\n",
      "removed edge 2353: (2424, 2608)\n",
      "removed edge 2354: (1417, 2567)\n",
      "removed edge 2355: (2480, 2668)\n",
      "removed edge 2356: (1130, 1918)\n",
      "removed edge 2357: (2060, 2091)\n",
      "removed edge 2358: (805, 994)\n",
      "removed edge 2359: (581, 2684)\n",
      "removed edge 2360: (544, 1907)\n",
      "removed edge 2361: (2091, 2430)\n",
      "removed edge 2362: (1832, 1912)\n",
      "removed edge 2363: (974, 977)\n",
      "removed edge 2364: (683, 1685)\n",
      "removed edge 2365: (638, 1433)\n",
      "removed edge 2366: (396, 2179)\n",
      "removed edge 2367: (990, 1854)\n",
      "removed edge 2368: (1640, 2091)\n",
      "removed edge 2369: (284, 795)\n",
      "removed edge 2370: (375, 1160)\n",
      "removed edge 2371: (2256, 2590)\n",
      "removed edge 2372: (1231, 2413)\n",
      "removed edge 2373: (1815, 1903)\n",
      "removed edge 2374: (1047, 2091)\n",
      "removed edge 2375: (999, 1620)\n",
      "removed edge 2376: (52, 644)\n",
      "removed edge 2377: (800, 2160)\n",
      "removed edge 2378: (944, 1753)\n",
      "removed edge 2379: (508, 922)\n",
      "removed edge 2380: (744, 1083)\n",
      "removed edge 2381: (576, 919)\n",
      "removed edge 2382: (126, 2073)\n",
      "removed edge 2383: (545, 1936)\n",
      "removed edge 2384: (374, 1152)\n",
      "removed edge 2385: (1032, 2586)\n",
      "removed edge 2386: (1937, 1945)\n",
      "removed edge 2387: (2506, 2551)\n",
      "removed edge 2388: (5, 2444)\n",
      "removed edge 2389: (978, 1164)\n",
      "removed edge 2390: (2272, 2467)\n",
      "removed edge 2391: (1436, 1609)\n",
      "removed edge 2392: (1009, 1640)\n",
      "removed edge 2393: (832, 2080)\n",
      "removed edge 2394: (837, 1040)\n",
      "removed edge 2395: (1844, 1849)\n",
      "removed edge 2396: (623, 1872)\n",
      "removed edge 2397: (431, 2294)\n",
      "removed edge 2398: (1682, 1925)\n",
      "removed edge 2399: (592, 2629)\n",
      "removed edge 2400: (47, 1006)\n",
      "removed edge 2401: (1279, 2587)\n",
      "removed edge 2402: (2063, 2616)\n",
      "removed edge 2403: (1722, 1838)\n",
      "removed edge 2404: (1609, 2072)\n",
      "removed edge 2405: (7, 1397)\n",
      "removed edge 2406: (826, 1854)\n",
      "removed edge 2407: (526, 2156)\n",
      "removed edge 2408: (1035, 2585)\n",
      "removed edge 2409: (302, 2321)\n",
      "removed edge 2410: (1425, 2091)\n",
      "removed edge 2411: (102, 2701)\n",
      "removed edge 2412: (108, 2701)\n",
      "removed edge 2413: (673, 1448)\n",
      "removed edge 2414: (1071, 2576)\n",
      "removed edge 2415: (302, 2229)\n",
      "removed edge 2416: (328, 1809)\n",
      "removed edge 2417: (1925, 2546)\n",
      "removed edge 2418: (1482, 1946)\n",
      "removed edge 2419: (500, 2630)\n",
      "removed edge 2420: (1393, 2670)\n",
      "removed edge 2421: (1060, 2687)\n",
      "removed edge 2422: (2543, 2687)\n",
      "removed edge 2423: (451, 2701)\n",
      "removed edge 2424: (552, 988)\n",
      "removed edge 2425: (291, 1904)\n",
      "removed edge 2426: (232, 1162)\n",
      "removed edge 2427: (174, 1820)\n",
      "removed edge 2428: (63, 1246)\n",
      "removed edge 2429: (2125, 2610)\n",
      "removed edge 2430: (409, 928)\n",
      "removed edge 2431: (2195, 2687)\n",
      "removed edge 2432: (1035, 1959)\n",
      "removed edge 2433: (621, 1432)\n",
      "removed edge 2434: (1685, 2070)\n",
      "removed edge 2435: (1003, 2042)\n",
      "removed edge 2436: (1629, 1630)\n",
      "removed edge 2437: (89, 574)\n",
      "removed edge 2438: (1613, 1833)\n",
      "removed edge 2439: (726, 2220)\n",
      "removed edge 2440: (488, 1710)\n",
      "removed edge 2441: (786, 1740)\n",
      "removed edge 2442: (1498, 1683)\n",
      "removed edge 2443: (1303, 2577)\n",
      "removed edge 2444: (1816, 1953)\n",
      "removed edge 2445: (188, 401)\n",
      "removed edge 2446: (1790, 1798)\n",
      "removed edge 2447: (508, 931)\n",
      "removed edge 2448: (1148, 1833)\n",
      "removed edge 2449: (2168, 2413)\n",
      "removed edge 2450: (278, 588)\n",
      "removed edge 2451: (2321, 2388)\n",
      "removed edge 2452: (1872, 2457)\n",
      "removed edge 2453: (1211, 1700)\n",
      "removed edge 2454: (662, 2000)\n",
      "removed edge 2455: (1851, 2693)\n",
      "removed edge 2456: (185, 490)\n",
      "removed edge 2457: (14, 1137)\n",
      "removed edge 2458: (233, 1484)\n",
      "removed edge 2459: (1912, 2107)\n",
      "removed edge 2460: (357, 2659)\n",
      "removed edge 2461: (1163, 2629)\n",
      "removed edge 2462: (798, 1488)\n",
      "removed edge 2463: (876, 1415)\n",
      "removed edge 2464: (230, 1796)\n",
      "removed edge 2465: (497, 2091)\n",
      "removed edge 2466: (2077, 2228)\n",
      "removed edge 2467: (1766, 2206)\n",
      "removed edge 2468: (1721, 2352)\n",
      "removed edge 2469: (1984, 2547)\n",
      "removed edge 2470: (965, 1500)\n",
      "removed edge 2471: (142, 1572)\n",
      "removed edge 2472: (644, 1498)\n",
      "removed edge 2473: (1179, 2629)\n",
      "removed edge 2474: (979, 1810)\n",
      "removed edge 2475: (2400, 2406)\n",
      "removed edge 2476: (1497, 2391)\n",
      "removed edge 2477: (396, 1004)\n",
      "removed edge 2478: (433, 1122)\n",
      "removed edge 2479: (1544, 2547)\n",
      "removed edge 2480: (1700, 1703)\n",
      "removed edge 2481: (1051, 1751)\n",
      "removed edge 2482: (1077, 2072)\n",
      "removed edge 2483: (785, 1498)\n",
      "removed edge 2484: (800, 2627)\n",
      "removed edge 2485: (2105, 2703)\n",
      "removed edge 2486: (894, 897)\n",
      "removed edge 2487: (349, 897)\n",
      "removed edge 2488: (1547, 2576)\n",
      "removed edge 2489: (374, 695)\n",
      "removed edge 2490: (1435, 2226)\n",
      "removed edge 2491: (1958, 2547)\n",
      "removed edge 2492: (1000, 2704)\n",
      "removed edge 2493: (1347, 2447)\n",
      "removed edge 2494: (953, 2576)\n",
      "removed edge 2495: (1717, 1886)\n",
      "removed edge 2496: (296, 346)\n",
      "removed edge 2497: (288, 549)\n",
      "removed edge 2498: (1631, 2534)\n",
      "removed edge 2499: (1903, 2039)\n",
      "removed edge 2500: (383, 2197)\n",
      "removed edge 2501: (705, 2428)\n",
      "removed edge 2502: (86, 1933)\n",
      "removed edge 2503: (94, 1851)\n",
      "removed edge 2504: (1965, 2433)\n",
      "removed edge 2505: (1682, 2074)\n",
      "removed edge 2506: (2176, 2299)\n",
      "removed edge 2507: (623, 1742)\n",
      "removed edge 2508: (605, 798)\n",
      "removed edge 2509: (651, 1753)\n",
      "removed edge 2510: (1637, 2228)\n",
      "removed edge 2511: (540, 1856)\n",
      "removed edge 2512: (2059, 2128)\n",
      "removed edge 2513: (762, 905)\n",
      "removed edge 2514: (1778, 1987)\n",
      "removed edge 2515: (1129, 1254)\n",
      "removed edge 2516: (1564, 2212)\n",
      "removed edge 2517: (16, 19)\n",
      "removed edge 2518: (522, 2191)\n",
      "removed edge 2519: (1234, 1967)\n",
      "removed edge 2520: (1145, 2652)\n",
      "removed edge 2521: (741, 2701)\n",
      "removed edge 2522: (670, 1954)\n",
      "removed edge 2523: (985, 1947)\n",
      "removed edge 2524: (700, 1162)\n",
      "removed edge 2525: (786, 1452)\n",
      "removed edge 2526: (732, 1278)\n",
      "removed edge 2527: (512, 1400)\n",
      "removed edge 2528: (1740, 2451)\n",
      "removed edge 2529: (178, 1917)\n",
      "removed edge 2530: (864, 2551)\n",
      "removed edge 2531: (2181, 2704)\n",
      "removed edge 2532: (688, 815)\n",
      "removed edge 2533: (1074, 2597)\n",
      "removed edge 2534: (599, 985)\n",
      "removed edge 2535: (1562, 1567)\n",
      "removed edge 2536: (1142, 1351)\n",
      "removed edge 2537: (277, 2639)\n",
      "removed edge 2538: (2063, 2354)\n",
      "removed edge 2539: (2485, 2486)\n",
      "removed edge 2540: (82, 813)\n",
      "removed edge 2541: (79, 1915)\n",
      "removed edge 2542: (213, 864)\n",
      "removed edge 2543: (494, 883)\n",
      "removed edge 2544: (2091, 2521)\n",
      "removed edge 2545: (885, 2430)\n",
      "removed edge 2546: (2322, 2529)\n",
      "removed edge 2547: (1244, 2028)\n",
      "removed edge 2548: (404, 493)\n",
      "removed edge 2549: (764, 1648)\n",
      "removed edge 2550: (563, 2223)\n",
      "removed edge 2551: (374, 1153)\n",
      "removed edge 2552: (392, 2091)\n",
      "removed edge 2553: (278, 1324)\n",
      "removed edge 2554: (1946, 2091)\n",
      "removed edge 2555: (1809, 2427)\n",
      "removed edge 2556: (1182, 2060)\n",
      "removed edge 2557: (50, 1436)\n",
      "removed edge 2558: (278, 704)\n",
      "removed edge 2559: (1884, 2590)\n",
      "removed edge 2560: (508, 745)\n",
      "removed edge 2561: (1763, 2587)\n",
      "removed edge 2562: (419, 2519)\n",
      "removed edge 2563: (549, 944)\n",
      "removed edge 2564: (588, 1822)\n",
      "removed edge 2565: (660, 687)\n",
      "removed edge 2566: (1939, 2091)\n",
      "removed edge 2567: (1875, 2701)\n",
      "removed edge 2568: (263, 775)\n",
      "removed edge 2569: (18, 500)\n",
      "removed edge 2570: (1240, 2407)\n",
      "removed edge 2571: (1004, 1417)\n",
      "removed edge 2572: (616, 2176)\n",
      "removed edge 2573: (1199, 1723)\n",
      "removed edge 2574: (245, 2563)\n",
      "removed edge 2575: (723, 1280)\n",
      "removed edge 2576: (278, 2110)\n",
      "removed edge 2577: (384, 1523)\n",
      "removed edge 2578: (303, 1336)\n",
      "removed edge 2579: (526, 1205)\n",
      "removed edge 2580: (2171, 2434)\n",
      "removed edge 2581: (2166, 2407)\n",
      "removed edge 2582: (1937, 2584)\n",
      "removed edge 2583: (1099, 1849)\n",
      "removed edge 2584: (1328, 2006)\n",
      "removed edge 2585: (278, 2172)\n",
      "removed edge 2586: (266, 471)\n",
      "removed edge 2587: (9, 479)\n",
      "removed edge 2588: (1810, 1834)\n",
      "removed edge 2589: (202, 880)\n",
      "removed edge 2590: (808, 925)\n",
      "removed edge 2591: (524, 1038)\n",
      "removed edge 2592: (770, 1541)\n",
      "removed edge 2593: (171, 1864)\n",
      "removed edge 2594: (601, 1171)\n",
      "removed edge 2595: (2091, 2317)\n",
      "removed edge 2596: (1526, 2704)\n",
      "removed edge 2597: (124, 171)\n",
      "removed edge 2598: (263, 938)\n",
      "removed edge 2599: (547, 1354)\n",
      "removed edge 2600: (5, 1221)\n",
      "removed edge 2601: (374, 2038)\n",
      "removed edge 2602: (508, 2484)\n",
      "removed edge 2603: (76, 1316)\n",
      "removed edge 2604: (744, 2154)\n",
      "removed edge 2605: (16, 2000)\n",
      "removed edge 2606: (880, 1620)\n",
      "removed edge 2607: (1609, 2299)\n",
      "removed edge 2608: (1092, 2352)\n",
      "removed edge 2609: (21, 1175)\n",
      "removed edge 2610: (1498, 1798)\n",
      "removed edge 2611: (831, 1040)\n",
      "removed edge 2612: (971, 2652)\n",
      "removed edge 2613: (1729, 2220)\n",
      "removed edge 2614: (1816, 2302)\n",
      "removed edge 2615: (985, 1163)\n",
      "removed edge 2616: (734, 2283)\n",
      "removed edge 2617: (1402, 2652)\n",
      "removed edge 2618: (1751, 1993)\n",
      "removed edge 2619: (1846, 1913)\n",
      "removed edge 2620: (122, 2232)\n",
      "removed edge 2621: (1181, 1781)\n",
      "removed edge 2622: (545, 2458)\n",
      "removed edge 2623: (492, 686)\n",
      "removed edge 2624: (1928, 2433)\n",
      "removed edge 2625: (1375, 2094)\n",
      "removed edge 2626: (741, 2000)\n",
      "removed edge 2627: (1849, 2502)\n",
      "removed edge 2628: (1849, 2057)\n",
      "removed edge 2629: (1242, 1643)\n",
      "removed edge 2630: (1330, 2299)\n",
      "removed edge 2631: (828, 1640)\n",
      "removed edge 2632: (753, 1653)\n",
      "removed edge 2633: (690, 1476)\n",
      "removed edge 2634: (513, 1477)\n",
      "removed edge 2635: (513, 2264)\n",
      "removed edge 2636: (1422, 2450)\n",
      "removed edge 2637: (198, 2141)\n",
      "removed edge 2638: (312, 1624)\n",
      "removed edge 2639: (944, 1125)\n",
      "removed edge 2640: (197, 2518)\n",
      "removed edge 2641: (9, 2375)\n",
      "removed edge 2642: (302, 2663)\n",
      "removed edge 2643: (577, 1402)\n",
      "removed edge 2644: (1029, 2407)\n",
      "removed edge 2645: (63, 883)\n",
      "removed edge 2646: (757, 2313)\n",
      "removed edge 2647: (1290, 2017)\n",
      "removed edge 2648: (78, 2295)\n",
      "removed edge 2649: (145, 1417)\n",
      "removed edge 2650: (2599, 2629)\n",
      "removed edge 2651: (1036, 1869)\n",
      "removed edge 2652: (1810, 2406)\n",
      "removed edge 2653: (1543, 2000)\n",
      "removed edge 2654: (2193, 2392)\n",
      "removed edge 2655: (1310, 1875)\n",
      "removed edge 2656: (247, 990)\n",
      "removed edge 2657: (2497, 2590)\n",
      "removed edge 2658: (1546, 2580)\n",
      "removed edge 2659: (268, 2348)\n",
      "removed edge 2660: (1803, 2063)\n",
      "removed edge 2661: (954, 1074)\n",
      "removed edge 2662: (218, 1643)\n",
      "removed edge 2663: (811, 1829)\n",
      "removed edge 2664: (2211, 2701)\n",
      "removed edge 2665: (223, 225)\n",
      "removed edge 2666: (548, 1677)\n",
      "removed edge 2667: (1199, 1999)\n",
      "removed edge 2668: (667, 2301)\n",
      "removed edge 2669: (366, 2281)\n",
      "removed edge 2670: (1727, 2541)\n",
      "removed edge 2671: (765, 1054)\n",
      "removed edge 2672: (722, 2182)\n",
      "removed edge 2673: (20, 1738)\n",
      "removed edge 2674: (2384, 2647)\n",
      "removed edge 2675: (1147, 1828)\n",
      "removed edge 2676: (302, 2323)\n",
      "removed edge 2677: (82, 2663)\n",
      "removed edge 2678: (1740, 2540)\n",
      "removed edge 2679: (817, 1293)\n",
      "removed edge 2680: (122, 439)\n",
      "removed edge 2681: (704, 1884)\n",
      "removed edge 2682: (449, 2177)\n",
      "removed edge 2683: (1610, 1766)\n",
      "removed edge 2684: (642, 2158)\n",
      "removed edge 2685: (971, 1242)\n",
      "removed edge 2686: (698, 948)\n",
      "removed edge 2687: (395, 2179)\n",
      "removed edge 2688: (2049, 2162)\n",
      "removed edge 2689: (184, 645)\n",
      "removed edge 2690: (1205, 1216)\n",
      "removed edge 2691: (522, 1759)\n",
      "removed edge 2692: (1051, 2091)\n",
      "removed edge 2693: (1014, 1331)\n",
      "removed edge 2694: (2540, 2597)\n",
      "removed edge 2695: (1056, 1315)\n",
      "removed edge 2696: (356, 817)\n",
      "removed edge 2697: (711, 2366)\n",
      "removed edge 2698: (690, 2053)\n",
      "removed edge 2699: (957, 2479)\n",
      "removed edge 2700: (52, 2507)\n",
      "removed edge 2701: (594, 974)\n",
      "removed edge 2702: (1086, 1820)\n",
      "removed edge 2703: (350, 1032)\n",
      "removed edge 2704: (1212, 1427)\n",
      "removed edge 2705: (1961, 2465)\n",
      "removed edge 2706: (508, 555)\n",
      "removed edge 2707: (24, 798)\n",
      "removed edge 2708: (513, 1115)\n",
      "removed edge 2709: (947, 2091)\n",
      "removed edge 2710: (768, 1047)\n",
      "removed edge 2711: (1854, 2272)\n",
      "removed edge 2712: (514, 2091)\n",
      "removed edge 2713: (1324, 2000)\n",
      "removed edge 2714: (374, 1851)\n",
      "removed edge 2715: (1414, 1700)\n",
      "removed edge 2716: (1831, 2575)\n",
      "removed edge 2717: (511, 1542)\n",
      "removed edge 2718: (880, 999)\n",
      "removed edge 2719: (1232, 2009)\n",
      "removed edge 2720: (2204, 2394)\n",
      "removed edge 2721: (1110, 2148)\n",
      "removed edge 2722: (887, 1933)\n",
      "removed edge 2723: (1551, 2160)\n",
      "removed edge 2724: (1279, 2671)\n",
      "removed edge 2725: (322, 2161)\n",
      "removed edge 2726: (2091, 2359)\n",
      "removed edge 2727: (1216, 2345)\n",
      "removed edge 2728: (1449, 2272)\n",
      "removed edge 2729: (1720, 2091)\n",
      "removed edge 2730: (812, 1621)\n",
      "removed edge 2731: (508, 1831)\n",
      "removed edge 2732: (421, 1079)\n",
      "removed edge 2733: (976, 2042)\n",
      "removed edge 2734: (1959, 2633)\n",
      "removed edge 2735: (2283, 2698)\n",
      "removed edge 2736: (170, 230)\n",
      "removed edge 2737: (344, 347)\n",
      "removed edge 2738: (414, 1367)\n",
      "removed edge 2739: (994, 2042)\n",
      "removed edge 2740: (1556, 2522)\n",
      "removed edge 2741: (854, 2277)\n",
      "removed edge 2742: (1993, 2091)\n",
      "removed edge 2743: (1096, 2177)\n",
      "removed edge 2744: (1569, 2020)\n",
      "removed edge 2745: (1761, 2598)\n",
      "removed edge 2746: (392, 2233)\n",
      "removed edge 2747: (215, 1661)\n",
      "removed edge 2748: (220, 945)\n",
      "removed edge 2749: (1051, 1652)\n",
      "removed edge 2750: (1854, 2239)\n",
      "removed edge 2751: (960, 2694)\n",
      "removed edge 2752: (815, 1095)\n",
      "removed edge 2753: (647, 1171)\n",
      "removed edge 2754: (1145, 2424)\n",
      "removed edge 2755: (711, 960)\n",
      "removed edge 2756: (600, 2697)\n",
      "removed edge 2757: (2277, 2478)\n",
      "removed edge 2758: (22, 1173)\n",
      "removed edge 2759: (1307, 2696)\n",
      "removed edge 2760: (1060, 2286)\n",
      "removed edge 2761: (164, 2687)\n",
      "removed edge 2762: (911, 1698)\n",
      "removed edge 2763: (122, 1268)\n",
      "removed edge 2764: (269, 815)\n",
      "removed edge 2765: (2005, 2091)\n",
      "removed edge 2766: (444, 1835)\n",
      "removed edge 2767: (537, 866)\n",
      "removed edge 2768: (8, 2525)\n",
      "removed edge 2769: (349, 377)\n",
      "removed edge 2770: (285, 2366)\n",
      "removed edge 2771: (674, 1685)\n",
      "removed edge 2772: (441, 856)\n",
      "removed edge 2773: (1640, 1848)\n",
      "removed edge 2774: (277, 662)\n",
      "removed edge 2775: (396, 2226)\n",
      "removed edge 2776: (9, 1318)\n",
      "removed edge 2777: (1276, 1487)\n",
      "removed edge 2778: (2352, 2432)\n",
      "removed edge 2779: (1479, 1743)\n",
      "removed edge 2780: (650, 1244)\n",
      "removed edge 2781: (1811, 2611)\n",
      "removed edge 2782: (1410, 1567)\n",
      "removed edge 2783: (755, 887)\n",
      "removed edge 2784: (49, 1748)\n",
      "removed edge 2785: (75, 349)\n",
      "removed edge 2786: (450, 1171)\n",
      "removed edge 2787: (1372, 1891)\n",
      "removed edge 2788: (1656, 2407)\n",
      "removed edge 2789: (1649, 1876)\n",
      "removed edge 2790: (1953, 2516)\n",
      "removed edge 2791: (779, 1849)\n",
      "removed edge 2792: (2271, 2308)\n",
      "removed edge 2793: (1724, 1899)\n",
      "removed edge 2794: (1228, 1781)\n",
      "removed edge 2795: (419, 640)\n",
      "removed edge 2796: (388, 2502)\n",
      "removed edge 2797: (278, 2391)\n",
      "removed edge 2798: (645, 1196)\n",
      "removed edge 2799: (1203, 2194)\n",
      "removed edge 2800: (1648, 2629)\n",
      "removed edge 2801: (215, 739)\n",
      "removed edge 2802: (810, 1347)\n",
      "removed edge 2803: (864, 938)\n",
      "removed edge 2804: (1205, 2345)\n",
      "removed edge 2805: (1034, 1491)\n",
      "removed edge 2806: (835, 1355)\n",
      "removed edge 2807: (1952, 2126)\n",
      "removed edge 2808: (2652, 2680)\n",
      "removed edge 2809: (1698, 2582)\n",
      "removed edge 2810: (170, 1211)\n",
      "removed edge 2811: (117, 2091)\n",
      "removed edge 2812: (1609, 2391)\n",
      "removed edge 2813: (1541, 2151)\n",
      "removed edge 2814: (754, 1480)\n",
      "removed edge 2815: (653, 2687)\n",
      "removed edge 2816: (623, 1918)\n",
      "removed edge 2817: (1498, 2406)\n",
      "removed edge 2818: (702, 885)\n",
      "removed edge 2819: (702, 2443)\n",
      "removed edge 2820: (2014, 2666)\n",
      "removed edge 2821: (1716, 2448)\n",
      "removed edge 2822: (1354, 2091)\n",
      "removed edge 2823: (723, 2091)\n",
      "removed edge 2824: (350, 459)\n",
      "removed edge 2825: (307, 2029)\n",
      "removed edge 2826: (1340, 2506)\n",
      "removed edge 2827: (58, 2652)\n",
      "removed edge 2828: (391, 1913)\n",
      "removed edge 2829: (635, 1781)\n",
      "removed edge 2830: (1338, 2576)\n",
      "removed edge 2831: (184, 1147)\n",
      "removed edge 2832: (183, 2177)\n",
      "removed edge 2833: (551, 674)\n",
      "removed edge 2834: (1483, 2091)\n",
      "removed edge 2835: (1082, 2580)\n",
      "removed edge 2836: (564, 1250)\n",
      "removed edge 2837: (20, 2389)\n",
      "removed edge 2838: (278, 490)\n",
      "removed edge 2839: (177, 606)\n",
      "removed edge 2840: (679, 2181)\n",
      "removed edge 2841: (1281, 2150)\n",
      "removed edge 2842: (900, 1959)\n",
      "removed edge 2843: (96, 146)\n",
      "removed edge 2844: (76, 293)\n",
      "removed edge 2845: (1060, 1295)\n",
      "removed edge 2846: (1878, 2091)\n",
      "removed edge 2847: (52, 2437)\n",
      "removed edge 2848: (1859, 2423)\n",
      "removed edge 2849: (1207, 2156)\n",
      "removed edge 2850: (270, 278)\n",
      "removed edge 2851: (1557, 1915)\n",
      "removed edge 2852: (1623, 2394)\n",
      "removed edge 2853: (383, 838)\n",
      "removed edge 2854: (597, 639)\n",
      "removed edge 2855: (1206, 2701)\n",
      "removed edge 2856: (1804, 2538)\n",
      "removed edge 2857: (1377, 2091)\n",
      "removed edge 2858: (1493, 2366)\n",
      "removed edge 2859: (1040, 1090)\n",
      "removed edge 2860: (540, 1943)\n",
      "removed edge 2861: (1656, 2177)\n",
      "removed edge 2862: (2064, 2095)\n",
      "removed edge 2863: (603, 2110)\n",
      "removed edge 2864: (1310, 1421)\n",
      "removed edge 2865: (1640, 2335)\n",
      "removed edge 2866: (583, 1651)\n",
      "removed edge 2867: (56, 603)\n",
      "removed edge 2868: (508, 1512)\n",
      "removed edge 2869: (1769, 1771)\n",
      "removed edge 2870: (1263, 1270)\n",
      "removed edge 2871: (479, 559)\n",
      "removed edge 2872: (453, 479)\n",
      "removed edge 2873: (361, 2242)\n",
      "removed edge 2874: (287, 1571)\n",
      "removed edge 2875: (1145, 1853)\n",
      "removed edge 2876: (914, 1809)\n",
      "removed edge 2877: (318, 2374)\n",
      "removed edge 2878: (459, 674)\n",
      "removed edge 2879: (464, 544)\n",
      "removed edge 2880: (941, 2091)\n",
      "removed edge 2881: (524, 2652)\n",
      "removed edge 2882: (2091, 2470)\n",
      "removed edge 2883: (462, 570)\n",
      "removed edge 2884: (256, 1761)\n",
      "removed edge 2885: (1672, 2263)\n",
      "removed edge 2886: (1133, 2091)\n",
      "removed edge 2887: (1562, 1754)\n",
      "removed edge 2888: (683, 686)\n",
      "removed edge 2889: (599, 2562)\n",
      "removed edge 2890: (1391, 2577)\n",
      "removed edge 2891: (1057, 2543)\n",
      "removed edge 2892: (1047, 2252)\n",
      "removed edge 2893: (278, 1896)\n",
      "removed edge 2894: (2110, 2634)\n",
      "removed edge 2895: (284, 353)\n",
      "removed edge 2896: (216, 2091)\n",
      "removed edge 2897: (952, 1498)\n",
      "removed edge 2898: (1634, 1929)\n",
      "removed edge 2899: (528, 576)\n",
      "removed edge 2900: (798, 1766)\n",
      "removed edge 2901: (1540, 2091)\n",
      "removed edge 2902: (233, 1985)\n",
      "removed edge 2903: (1147, 1279)\n",
      "removed edge 2904: (77, 1652)\n",
      "removed edge 2905: (143, 2595)\n",
      "removed edge 2906: (2282, 2439)\n",
      "removed edge 2907: (1011, 1565)\n",
      "removed edge 2908: (1751, 1811)\n",
      "removed edge 2909: (97, 1391)\n",
      "removed edge 2910: (1178, 2110)\n",
      "removed edge 2911: (798, 1084)\n",
      "removed edge 2912: (1376, 2652)\n",
      "removed edge 2913: (645, 1656)\n",
      "removed edge 2914: (850, 2634)\n",
      "removed edge 2915: (1393, 2152)\n",
      "removed edge 2916: (1860, 2091)\n",
      "removed edge 2917: (142, 2346)\n",
      "removed edge 2918: (333, 2091)\n",
      "removed edge 2919: (551, 2146)\n",
      "removed edge 2920: (597, 1265)\n",
      "removed edge 2921: (193, 514)\n",
      "removed edge 2922: (661, 2308)\n",
      "removed edge 2923: (1182, 2133)\n",
      "removed edge 2924: (421, 2060)\n",
      "removed edge 2925: (846, 1372)\n",
      "removed edge 2926: (728, 2131)\n",
      "removed edge 2927: (1109, 1531)\n",
      "removed edge 2928: (750, 1833)\n",
      "removed edge 2929: (724, 2502)\n",
      "removed edge 2930: (422, 600)\n",
      "removed edge 2931: (508, 2487)\n",
      "removed edge 2932: (511, 1171)\n",
      "removed edge 2933: (114, 2104)\n",
      "removed edge 2934: (1181, 1751)\n",
      "removed edge 2935: (235, 1300)\n",
      "removed edge 2936: (94, 528)\n",
      "removed edge 2937: (1325, 1476)\n",
      "removed edge 2938: (623, 1129)\n",
      "removed edge 2939: (1556, 2079)\n",
      "removed edge 2940: (974, 2704)\n",
      "removed edge 2941: (49, 1472)\n",
      "removed edge 2942: (1041, 1299)\n",
      "removed edge 2943: (702, 1735)\n",
      "removed edge 2944: (47, 1007)\n",
      "removed edge 2945: (860, 2279)\n",
      "removed edge 2946: (1272, 1498)\n",
      "removed edge 2947: (697, 988)\n",
      "removed edge 2948: (1425, 2295)\n",
      "removed edge 2949: (343, 459)\n",
      "removed edge 2950: (1051, 2470)\n",
      "removed edge 2951: (283, 284)\n",
      "removed edge 2952: (102, 751)\n",
      "removed edge 2953: (798, 2598)\n",
      "removed edge 2954: (1132, 2091)\n",
      "removed edge 2955: (2269, 2297)\n",
      "removed edge 2956: (91, 1864)\n",
      "removed edge 2957: (1248, 1685)\n",
      "removed edge 2958: (19, 2000)\n",
      "removed edge 2959: (808, 1546)\n",
      "removed edge 2960: (1, 1487)\n",
      "removed edge 2961: (146, 2701)\n",
      "removed edge 2962: (1736, 2487)\n",
      "removed edge 2963: (1531, 1700)\n",
      "removed edge 2964: (623, 1130)\n",
      "removed edge 2965: (1234, 2269)\n",
      "removed edge 2966: (548, 1247)\n",
      "removed edge 2967: (277, 1478)\n",
      "removed edge 2968: (969, 1033)\n",
      "removed edge 2969: (888, 1295)\n",
      "removed edge 2970: (462, 2147)\n",
      "removed edge 2971: (58, 1922)\n",
      "removed edge 2972: (970, 1101)\n",
      "removed edge 2973: (270, 1003)\n",
      "removed edge 2974: (488, 1953)\n",
      "removed edge 2975: (360, 2278)\n",
      "removed edge 2976: (209, 1891)\n",
      "removed edge 2977: (581, 2096)\n",
      "removed edge 2978: (931, 1753)\n",
      "removed edge 2979: (446, 1460)\n",
      "removed edge 2980: (619, 2299)\n",
      "removed edge 2981: (1903, 2435)\n",
      "removed edge 2982: (692, 2525)\n",
      "removed edge 2983: (2446, 2701)\n",
      "removed edge 2984: (143, 1893)\n",
      "removed edge 2985: (70, 2398)\n",
      "removed edge 2986: (1002, 2366)\n",
      "removed edge 2987: (1350, 1766)\n",
      "removed edge 2988: (1034, 1424)\n",
      "removed edge 2989: (183, 1147)\n",
      "removed edge 2990: (422, 508)\n",
      "removed edge 2991: (526, 1012)\n",
      "removed edge 2992: (417, 2691)\n",
      "removed edge 2993: (1163, 1790)\n",
      "removed edge 2994: (1781, 2549)\n",
      "removed edge 2995: (1668, 2074)\n",
      "removed edge 2996: (277, 1403)\n",
      "removed edge 2997: (2172, 2576)\n",
      "removed edge 2998: (1080, 1266)\n",
      "removed edge 2999: (1609, 2091)\n",
      "removed edge 3000: (1366, 2091)\n",
      "removed edge 3001: (424, 880)\n",
      "removed edge 3002: (1129, 1851)\n",
      "removed edge 3003: (936, 2633)\n",
      "removed edge 3004: (578, 1529)\n",
      "removed edge 3005: (1161, 1323)\n",
      "removed edge 3006: (277, 2479)\n",
      "removed edge 3007: (1243, 1709)\n",
      "removed edge 3008: (623, 1994)\n",
      "removed edge 3009: (1378, 1814)\n",
      "removed edge 3010: (223, 508)\n",
      "removed edge 3011: (526, 785)\n",
      "removed edge 3012: (278, 2000)\n",
      "removed edge 3013: (936, 1318)\n",
      "removed edge 3014: (53, 1794)\n",
      "removed edge 3015: (837, 1960)\n",
      "removed edge 3016: (421, 768)\n",
      "removed edge 3017: (147, 2701)\n",
      "removed edge 3018: (763, 1554)\n",
      "removed edge 3019: (674, 683)\n",
      "removed edge 3020: (1481, 1498)\n",
      "removed edge 3021: (1609, 1915)\n",
      "removed edge 3022: (311, 2000)\n",
      "removed edge 3023: (81, 377)\n",
      "removed edge 3024: (1849, 2517)\n",
      "removed edge 3025: (2020, 2023)\n",
      "removed edge 3026: (1429, 2381)\n",
      "removed edge 3027: (1735, 1814)\n",
      "removed edge 3028: (2110, 2590)\n",
      "removed edge 3029: (2205, 2248)\n",
      "removed edge 3030: (1208, 2691)\n",
      "removed edge 3031: (383, 583)\n",
      "removed edge 3032: (1384, 2125)\n",
      "removed edge 3033: (1668, 1930)\n",
      "removed edge 3034: (1417, 2179)\n",
      "removed edge 3035: (1034, 2588)\n",
      "removed edge 3036: (617, 975)\n",
      "removed edge 3037: (419, 623)\n",
      "removed edge 3038: (1733, 1804)\n",
      "removed edge 3039: (1683, 2502)\n",
      "removed edge 3040: (551, 1804)\n",
      "removed edge 3041: (660, 2254)\n",
      "removed edge 3042: (89, 623)\n",
      "removed edge 3043: (934, 1435)\n",
      "removed edge 3044: (874, 2328)\n",
      "removed edge 3045: (805, 1582)\n",
      "removed edge 3046: (17, 2172)\n",
      "removed edge 3047: (319, 954)\n",
      "removed edge 3048: (1500, 2137)\n",
      "removed edge 3049: (349, 2412)\n",
      "removed edge 3050: (230, 687)\n",
      "removed edge 3051: (1477, 2388)\n",
      "removed edge 3052: (1849, 2383)\n",
      "removed edge 3053: (506, 1953)\n",
      "removed edge 3054: (669, 1851)\n",
      "removed edge 3055: (1160, 2584)\n",
      "removed edge 3056: (2033, 2283)\n",
      "removed edge 3057: (2091, 2568)\n",
      "removed edge 3058: (224, 2012)\n",
      "removed edge 3059: (938, 2427)\n",
      "removed edge 3060: (1846, 1903)\n",
      "removed edge 3061: (1854, 2526)\n",
      "removed edge 3062: (623, 2519)\n",
      "removed edge 3063: (2407, 2587)\n",
      "removed edge 3064: (384, 866)\n",
      "removed edge 3065: (163, 427)\n",
      "removed edge 3066: (739, 1846)\n",
      "removed edge 3067: (623, 782)\n",
      "removed edge 3068: (2656, 2704)\n",
      "removed edge 3069: (2407, 2671)\n",
      "removed edge 3070: (545, 1524)\n",
      "removed edge 3071: (213, 667)\n",
      "removed edge 3072: (409, 623)\n",
      "removed edge 3073: (239, 772)\n",
      "removed edge 3074: (939, 2091)\n",
      "removed edge 3075: (386, 2109)\n",
      "removed edge 3076: (545, 2063)\n",
      "removed edge 3077: (33, 1563)\n",
      "removed edge 3078: (46, 597)\n",
      "removed edge 3079: (1954, 2633)\n",
      "removed edge 3080: (1751, 1999)\n",
      "removed edge 3081: (2091, 2462)\n",
      "removed edge 3082: (980, 2091)\n",
      "removed edge 3083: (213, 2270)\n",
      "removed edge 3084: (969, 2300)\n",
      "removed edge 3085: (23, 2091)\n",
      "removed edge 3086: (24, 2701)\n",
      "removed edge 3087: (1227, 1649)\n",
      "removed edge 3088: (193, 1626)\n",
      "removed edge 3089: (1449, 1487)\n",
      "removed edge 3090: (606, 850)\n",
      "removed edge 3091: (673, 1751)\n",
      "removed edge 3092: (247, 604)\n",
      "removed edge 3093: (1134, 2129)\n",
      "removed edge 3094: (958, 1922)\n",
      "removed edge 3095: (827, 2704)\n",
      "removed edge 3096: (1395, 2332)\n",
      "removed edge 3097: (218, 1207)\n",
      "removed edge 3098: (29, 779)\n",
      "removed edge 3099: (21, 2091)\n",
      "removed edge 3100: (2361, 2448)\n",
      "removed edge 3101: (1325, 2694)\n",
      "removed edge 3102: (1798, 1849)\n",
      "removed edge 3103: (656, 658)\n",
      "removed edge 3104: (618, 2042)\n",
      "removed edge 3105: (1572, 2349)\n",
      "removed edge 3106: (576, 965)\n",
      "removed edge 3107: (433, 715)\n",
      "removed edge 3108: (143, 1245)\n",
      "removed edge 3109: (1634, 2603)\n",
      "removed edge 3110: (1685, 2012)\n",
      "removed edge 3111: (2339, 2456)\n",
      "removed edge 3112: (1036, 2281)\n",
      "removed edge 3113: (990, 2457)\n",
      "removed edge 3114: (654, 895)\n",
      "removed edge 3115: (2293, 2462)\n",
      "removed edge 3116: (1040, 2583)\n",
      "removed edge 3117: (629, 2627)\n",
      "removed edge 3118: (26, 1854)\n",
      "removed edge 3119: (1423, 1637)\n",
      "removed edge 3120: (302, 1046)\n",
      "removed edge 3121: (1506, 2456)\n",
      "removed edge 3122: (1423, 1738)\n",
      "removed edge 3123: (1293, 1938)\n",
      "removed edge 3124: (427, 1700)\n",
      "removed edge 3125: (104, 1894)\n",
      "removed edge 3126: (840, 2687)\n",
      "removed edge 3127: (1432, 2584)\n",
      "removed edge 3128: (1693, 2226)\n",
      "removed edge 3129: (1883, 2352)\n",
      "removed edge 3130: (2640, 2691)\n",
      "removed edge 3131: (5, 1396)\n",
      "removed edge 3132: (1498, 1531)\n",
      "removed edge 3133: (650, 1604)\n",
      "removed edge 3134: (2049, 2391)\n",
      "removed edge 3135: (247, 1506)\n",
      "removed edge 3136: (564, 1326)\n",
      "removed edge 3137: (2580, 2601)\n",
      "removed edge 3138: (702, 2675)\n",
      "removed edge 3139: (600, 826)\n",
      "removed edge 3140: (302, 1184)\n",
      "removed edge 3141: (1079, 1182)\n",
      "removed edge 3142: (370, 1318)\n",
      "removed edge 3143: (2352, 2404)\n",
      "removed edge 3144: (2014, 2157)\n",
      "removed edge 3145: (1856, 2091)\n",
      "removed edge 3146: (225, 962)\n",
      "removed edge 3147: (120, 2000)\n",
      "removed edge 3148: (698, 906)\n",
      "removed edge 3149: (281, 1277)\n",
      "removed edge 3150: (27, 433)\n",
      "removed edge 3151: (50, 146)\n",
      "removed edge 3152: (55, 508)\n",
      "removed edge 3153: (22, 2091)\n",
      "removed edge 3154: (884, 885)\n",
      "removed edge 3155: (102, 1761)\n",
      "removed edge 3156: (1325, 2578)\n",
      "removed edge 3157: (204, 958)\n",
      "removed edge 3158: (2055, 2577)\n",
      "removed edge 3159: (278, 2473)\n",
      "removed edge 3160: (220, 425)\n",
      "removed edge 3161: (79, 1609)\n",
      "removed edge 3162: (1084, 1766)\n",
      "removed edge 3163: (1110, 1804)\n",
      "removed edge 3164: (1277, 1310)\n",
      "removed edge 3165: (505, 1851)\n",
      "removed edge 3166: (1872, 2456)\n",
      "removed edge 3167: (775, 1295)\n",
      "removed edge 3168: (277, 1324)\n",
      "removed edge 3169: (623, 2670)\n",
      "removed edge 3170: (662, 798)\n",
      "removed edge 3171: (188, 735)\n",
      "removed edge 3172: (281, 284)\n",
      "removed edge 3173: (1295, 2135)\n",
      "removed edge 3174: (1423, 2181)\n",
      "removed edge 3175: (289, 2462)\n",
      "removed edge 3176: (471, 2321)\n",
      "removed edge 3177: (218, 2042)\n",
      "removed edge 3178: (1577, 2490)\n",
      "removed edge 3179: (277, 1543)\n",
      "removed edge 3180: (1800, 2346)\n",
      "removed edge 3181: (1160, 2000)\n",
      "removed edge 3182: (258, 278)\n",
      "removed edge 3183: (1324, 2042)\n",
      "removed edge 3184: (1881, 2183)\n",
      "removed edge 3185: (779, 2580)\n",
      "removed edge 3186: (1676, 1781)\n",
      "removed edge 3187: (1735, 2060)\n",
      "removed edge 3188: (552, 1808)\n",
      "removed edge 3189: (1785, 2441)\n",
      "removed edge 3190: (301, 303)\n",
      "removed edge 3191: (524, 1033)\n",
      "removed edge 3192: (52, 1472)\n",
      "removed edge 3193: (2134, 2135)\n",
      "removed edge 3194: (1682, 2260)\n",
      "removed edge 3195: (499, 1787)\n",
      "removed edge 3196: (1100, 1101)\n",
      "removed edge 3197: (1060, 2277)\n",
      "removed edge 3198: (1787, 2406)\n",
      "removed edge 3199: (708, 2042)\n",
      "removed edge 3200: (278, 2590)\n",
      "removed edge 3201: (2029, 2030)\n",
      "removed edge 3202: (400, 1500)\n",
      "removed edge 3203: (656, 1651)\n",
      "removed edge 3204: (1555, 2060)\n",
      "removed edge 3205: (315, 2351)\n",
      "removed edge 3206: (552, 570)\n",
      "removed edge 3207: (2286, 2687)\n",
      "removed edge 3208: (186, 645)\n",
      "removed edge 3209: (1252, 1804)\n",
      "removed edge 3210: (73, 1395)\n",
      "removed edge 3211: (102, 508)\n",
      "removed edge 3212: (2008, 2455)\n",
      "removed edge 3213: (1432, 2299)\n",
      "removed edge 3214: (1238, 2701)\n",
      "removed edge 3215: (374, 1072)\n",
      "removed edge 3216: (281, 283)\n",
      "removed edge 3217: (783, 2295)\n",
      "removed edge 3218: (1187, 2368)\n",
      "removed edge 3219: (1572, 1786)\n",
      "removed edge 3220: (688, 1373)\n",
      "removed edge 3221: (22, 1619)\n",
      "removed edge 3222: (1119, 1298)\n",
      "removed edge 3223: (577, 2239)\n",
      "removed edge 3224: (181, 2302)\n",
      "removed edge 3225: (152, 1478)\n",
      "removed edge 3226: (53, 2602)\n",
      "removed edge 3227: (798, 1974)\n",
      "removed edge 3228: (499, 2134)\n",
      "removed edge 3229: (429, 2299)\n",
      "removed edge 3230: (14, 46)\n",
      "removed edge 3231: (1265, 1784)\n",
      "removed edge 3232: (2086, 2297)\n",
      "removed edge 3233: (636, 1457)\n",
      "removed edge 3234: (1265, 2574)\n",
      "removed edge 3235: (426, 662)\n",
      "removed edge 3236: (623, 797)\n",
      "removed edge 3237: (29, 1162)\n",
      "removed edge 3238: (192, 2159)\n",
      "removed edge 3239: (2156, 2345)\n",
      "removed edge 3240: (1184, 1849)\n",
      "removed edge 3241: (52, 2269)\n",
      "removed edge 3242: (1170, 2635)\n",
      "removed edge 3243: (551, 910)\n",
      "removed edge 3244: (225, 1436)\n",
      "removed edge 3245: (798, 2206)\n",
      "removed edge 3246: (655, 2119)\n",
      "removed edge 3247: (1084, 1222)\n",
      "removed edge 3248: (970, 2610)\n",
      "removed edge 3249: (1199, 1640)\n",
      "removed edge 3250: (278, 1884)\n",
      "removed edge 3251: (819, 1429)\n",
      "removed edge 3252: (1867, 1925)\n",
      "removed edge 3253: (1116, 1276)\n",
      "removed edge 3254: (797, 1124)\n",
      "removed edge 3255: (471, 2134)\n",
      "removed edge 3256: (690, 2550)\n",
      "removed edge 3257: (1640, 2547)\n",
      "removed edge 3258: (1650, 2439)\n",
      "removed edge 3259: (488, 2403)\n",
      "removed edge 3260: (711, 1037)\n",
      "removed edge 3261: (97, 757)\n",
      "removed edge 3262: (1111, 2166)\n",
      "removed edge 3263: (485, 675)\n",
      "removed edge 3264: (494, 1903)\n",
      "removed edge 3265: (384, 2171)\n",
      "removed edge 3266: (508, 2479)\n",
      "removed edge 3267: (1036, 2322)\n",
      "removed edge 3268: (1043, 2091)\n",
      "removed edge 3269: (1187, 1609)\n",
      "removed edge 3270: (1268, 1682)\n",
      "removed edge 3271: (335, 2361)\n",
      "removed edge 3272: (600, 797)\n",
      "removed edge 3273: (2181, 2388)\n",
      "removed edge 3274: (1684, 1743)\n",
      "removed edge 3275: (599, 1803)\n",
      "removed edge 3276: (895, 1860)\n",
      "removed edge 3277: (1722, 1833)\n",
      "removed edge 3278: (895, 1263)\n",
      "removed edge 3279: (402, 1953)\n",
      "removed edge 3280: (449, 1656)\n",
      "removed edge 3281: (465, 2308)\n",
      "removed edge 3282: (21, 2470)\n",
      "removed edge 3283: (490, 606)\n",
      "removed edge 3284: (1924, 2322)\n",
      "removed edge 3285: (21, 306)\n",
      "removed edge 3286: (7, 2525)\n",
      "removed edge 3287: (383, 1651)\n",
      "removed edge 3288: (850, 871)\n",
      "removed edge 3289: (1450, 2281)\n",
      "removed edge 3290: (2601, 2704)\n",
      "removed edge 3291: (184, 2407)\n",
      "removed edge 3292: (893, 2512)\n",
      "removed edge 3293: (1685, 1710)\n",
      "removed edge 3294: (277, 464)\n",
      "removed edge 3295: (888, 1988)\n",
      "removed edge 3296: (1003, 2576)\n",
      "removed edge 3297: (277, 2051)\n",
      "removed edge 3298: (879, 2091)\n",
      "removed edge 3299: (2381, 2689)\n",
      "removed edge 3300: (313, 1153)\n",
      "removed edge 3301: (1911, 2192)\n",
      "removed edge 3302: (2366, 2694)\n",
      "removed edge 3303: (439, 1233)\n",
      "removed edge 3304: (52, 2422)\n",
      "removed edge 3305: (525, 1435)\n",
      "removed edge 3306: (2594, 2598)\n",
      "removed edge 3307: (2067, 2345)\n",
      "removed edge 3308: (921, 2479)\n",
      "removed edge 3309: (2412, 2432)\n",
      "removed edge 3310: (1044, 1541)\n",
      "removed edge 3311: (1978, 2228)\n",
      "removed edge 3312: (439, 2232)\n",
      "removed edge 3313: (277, 577)\n",
      "removed edge 3314: (471, 1035)\n",
      "removed edge 3315: (377, 2576)\n",
      "removed edge 3316: (277, 2068)\n",
      "removed edge 3317: (815, 1549)\n",
      "removed edge 3318: (1700, 2633)\n",
      "removed edge 3319: (302, 1035)\n",
      "removed edge 3320: (798, 1982)\n",
      "removed edge 3321: (1784, 2091)\n",
      "removed edge 3322: (466, 2563)\n",
      "removed edge 3323: (1250, 2384)\n",
      "removed edge 3324: (952, 2091)\n",
      "removed edge 3325: (487, 1997)\n",
      "removed edge 3326: (909, 1241)\n",
      "removed edge 3327: (944, 1265)\n",
      "removed edge 3328: (277, 2000)\n",
      "removed edge 3329: (276, 1609)\n",
      "removed edge 3330: (1569, 2058)\n",
      "removed edge 3331: (715, 1766)\n",
      "removed edge 3332: (1668, 1682)\n",
      "removed edge 3333: (1338, 2373)\n",
      "removed edge 3334: (508, 1431)\n",
      "removed edge 3335: (278, 1436)\n",
      "removed edge 3336: (1698, 2533)\n",
      "removed edge 3337: (606, 2707)\n",
      "removed edge 3338: (559, 2704)\n",
      "removed edge 3339: (173, 549)\n",
      "removed edge 3340: (500, 2077)\n",
      "removed edge 3341: (1804, 2146)\n",
      "removed edge 3342: (1125, 2508)\n",
      "removed edge 3343: (957, 2049)\n",
      "removed edge 3344: (1031, 2126)\n",
      "removed edge 3345: (250, 2601)\n",
      "removed edge 3346: (1964, 2531)\n",
      "removed edge 3347: (701, 2226)\n",
      "removed edge 3348: (97, 1221)\n",
      "removed edge 3349: (906, 1771)\n",
      "removed edge 3350: (1173, 1666)\n",
      "removed edge 3351: (222, 2407)\n",
      "removed edge 3352: (936, 1162)\n",
      "removed edge 3353: (1846, 2679)\n",
      "removed edge 3354: (1641, 2233)\n",
      "removed edge 3355: (233, 2575)\n",
      "removed edge 3356: (1813, 2091)\n",
      "removed edge 3357: (21, 2295)\n",
      "removed edge 3358: (220, 2117)\n",
      "removed edge 3359: (1800, 2071)\n",
      "removed edge 3360: (1953, 2559)\n",
      "removed edge 3361: (471, 1685)\n",
      "removed edge 3362: (941, 2202)\n",
      "removed edge 3363: (1652, 1946)\n",
      "removed edge 3364: (278, 1338)\n",
      "removed edge 3365: (1724, 2000)\n",
      "removed edge 3366: (975, 1903)\n",
      "removed edge 3367: (1723, 2547)\n",
      "removed edge 3368: (417, 1449)\n",
      "removed edge 3369: (93, 1953)\n",
      "removed edge 3370: (1733, 2146)\n",
      "removed edge 3371: (1541, 1814)\n",
      "removed edge 3372: (1763, 2407)\n",
      "removed edge 3373: (464, 2649)\n",
      "removed edge 3374: (222, 798)\n",
      "removed edge 3375: (619, 1432)\n",
      "removed edge 3376: (429, 621)\n",
      "removed edge 3377: (1724, 2649)\n",
      "removed edge 3378: (1472, 2523)\n",
      "removed edge 3379: (887, 2502)\n",
      "removed edge 3380: (2226, 2281)\n",
      "removed edge 3381: (958, 2156)\n",
      "removed edge 3382: (1207, 1475)\n",
      "removed edge 3383: (302, 1407)\n",
      "removed edge 3384: (1433, 2091)\n",
      "removed edge 3385: (1196, 2407)\n",
      "removed edge 3386: (187, 2629)\n",
      "removed edge 3387: (230, 273)\n",
      "removed edge 3388: (192, 1637)\n",
      "removed edge 3389: (1429, 2012)\n",
      "removed edge 3390: (81, 278)\n",
      "removed edge 3391: (133, 1854)\n",
      "removed edge 3392: (1498, 2161)\n",
      "removed edge 3393: (864, 1314)\n",
      "removed edge 3394: (308, 1894)\n",
      "removed edge 3395: (2091, 2335)\n",
      "removed edge 3396: (970, 1581)\n",
      "removed edge 3397: (139, 2163)\n",
      "removed edge 3398: (1211, 1266)\n",
      "removed edge 3399: (617, 1903)\n",
      "removed edge 3400: (815, 2091)\n",
      "removed edge 3401: (1458, 1633)\n",
      "removed edge 3402: (545, 1798)\n",
      "removed edge 3403: (2051, 2701)\n",
      "removed edge 3404: (2110, 2412)\n",
      "removed edge 3405: (302, 1548)\n",
      "removed edge 3406: (66, 395)\n",
      "removed edge 3407: (471, 1757)\n",
      "removed edge 3408: (278, 2373)\n",
      "removed edge 3409: (903, 1751)\n",
      "removed edge 3410: (1189, 1542)\n",
      "removed edge 3411: (471, 2384)\n",
      "removed edge 3412: (2233, 2533)\n",
      "removed edge 3413: (1598, 1751)\n",
      "removed edge 3414: (278, 1003)\n",
      "removed edge 3415: (508, 1322)\n",
      "removed edge 3416: (1154, 2171)\n",
      "removed edge 3417: (932, 1433)\n",
      "removed edge 3418: (873, 874)\n",
      "removed edge 3419: (1531, 2063)\n",
      "removed edge 3420: (12, 2631)\n",
      "removed edge 3421: (191, 1424)\n",
      "removed edge 3422: (220, 1089)\n",
      "removed edge 3423: (1340, 2394)\n",
      "removed edge 3424: (97, 885)\n",
      "removed edge 3425: (301, 1115)\n",
      "removed edge 3426: (458, 2000)\n",
      "removed edge 3427: (1036, 1038)\n",
      "removed edge 3428: (114, 900)\n",
      "removed edge 3429: (1032, 1491)\n",
      "removed edge 3430: (122, 1696)\n",
      "removed edge 3431: (396, 948)\n",
      "removed edge 3432: (549, 744)\n",
      "removed edge 3433: (1032, 1898)\n",
      "removed edge 3434: (1518, 1854)\n",
      "removed edge 3435: (177, 850)\n",
      "removed edge 3436: (1164, 1328)\n",
      "removed edge 3437: (1529, 2494)\n",
      "removed edge 3438: (174, 570)\n",
      "removed edge 3439: (1894, 2659)\n",
      "removed edge 3440: (888, 2135)\n",
      "removed edge 3441: (606, 1249)\n",
      "removed edge 3442: (28, 613)\n",
      "removed edge 3443: (49, 2437)\n",
      "removed edge 3444: (449, 580)\n",
      "removed edge 3445: (943, 1547)\n",
      "removed edge 3446: (370, 513)\n",
      "removed edge 3447: (366, 2424)\n",
      "removed edge 3448: (986, 2269)\n",
      "removed edge 3449: (2091, 2295)\n",
      "removed edge 3450: (1685, 1804)\n",
      "removed edge 3451: (2631, 2694)\n",
      "removed edge 3452: (1731, 2375)\n",
      "removed edge 3453: (368, 1040)\n",
      "removed edge 3454: (266, 302)\n",
      "removed edge 3455: (623, 2034)\n",
      "removed edge 3456: (1363, 2060)\n",
      "removed edge 3457: (1872, 2331)\n",
      "removed edge 3458: (1898, 2667)\n",
      "removed edge 3459: (805, 2000)\n",
      "removed edge 3460: (1318, 2323)\n",
      "removed edge 3461: (1915, 2358)\n",
      "removed edge 3462: (533, 608)\n",
      "removed edge 3463: (278, 1391)\n",
      "removed edge 3464: (647, 2406)\n",
      "removed edge 3465: (1130, 2670)\n",
      "removed edge 3466: (302, 471)\n",
      "removed edge 3467: (1700, 1702)\n",
      "removed edge 3468: (1652, 2091)\n",
      "removed edge 3469: (1661, 1846)\n",
      "removed edge 3470: (970, 1384)\n",
      "removed edge 3471: (16, 2172)\n",
      "removed edge 3472: (508, 588)\n",
      "removed edge 3473: (1609, 2242)\n",
      "removed edge 3474: (1608, 1609)\n",
      "removed edge 3475: (938, 1559)\n",
      "removed edge 3476: (1378, 1541)\n",
      "removed edge 3477: (277, 1178)\n",
      "removed edge 3478: (526, 2187)\n",
      "removed edge 3479: (1860, 1990)\n",
      "removed edge 3480: (1309, 2693)\n",
      "removed edge 3481: (464, 2576)\n",
      "removed edge 3482: (1468, 2562)\n",
      "removed edge 3483: (611, 808)\n",
      "removed edge 3484: (57, 322)\n",
      "removed edge 3485: (8, 118)\n",
      "removed edge 3486: (1083, 2091)\n",
      "removed edge 3487: (554, 2576)\n",
      "removed edge 3488: (1854, 1969)\n",
      "removed edge 3489: (571, 2091)\n",
      "removed edge 3490: (1637, 2109)\n",
      "removed edge 3491: (662, 2484)\n",
      "removed edge 3492: (693, 2396)\n",
      "removed edge 3493: (1184, 2091)\n",
      "removed edge 3494: (1582, 2701)\n",
      "removed edge 3495: (893, 2091)\n",
      "removed edge 3496: (674, 2583)\n",
      "removed edge 3497: (58, 853)\n",
      "removed edge 3498: (1732, 2701)\n",
      "removed edge 3499: (128, 1173)\n",
      "removed edge 3500: (812, 2375)\n",
      "removed edge 3501: (947, 2547)\n",
      "removed edge 3502: (1267, 2701)\n",
      "removed edge 3503: (1142, 1423)\n",
      "removed edge 3504: (528, 1571)\n",
      "removed edge 3505: (941, 2342)\n",
      "removed edge 3506: (73, 525)\n",
      "removed edge 3507: (1735, 2252)\n",
      "removed edge 3508: (1318, 1731)\n",
      "removed edge 3509: (543, 600)\n",
      "removed edge 3510: (600, 2042)\n",
      "removed edge 3511: (1569, 2595)\n",
      "removed edge 3512: (941, 1061)\n",
      "removed edge 3513: (265, 2042)\n",
      "removed edge 3514: (701, 1300)\n",
      "removed edge 3515: (1007, 2401)\n",
      "removed edge 3516: (163, 1685)\n",
      "removed edge 3517: (1410, 1563)\n",
      "removed edge 3518: (1294, 2109)\n",
      "removed edge 3519: (1321, 1716)\n",
      "removed edge 3520: (508, 1582)\n",
      "removed edge 3521: (900, 1329)\n",
      "removed edge 3522: (109, 2079)\n",
      "removed edge 3523: (723, 1751)\n",
      "removed edge 3524: (1786, 2444)\n",
      "removed edge 3525: (1860, 2510)\n",
      "removed edge 3526: (1043, 1735)\n",
      "removed edge 3527: (1325, 2134)\n",
      "removed edge 3528: (1698, 2091)\n",
      "removed edge 3529: (1095, 2061)\n",
      "removed edge 3530: (1797, 2577)\n",
      "removed edge 3531: (895, 1698)\n",
      "removed edge 3532: (798, 1659)\n",
      "removed edge 3533: (405, 1156)\n",
      "removed edge 3534: (26, 2701)\n",
      "removed edge 3535: (424, 874)\n",
      "removed edge 3536: (1569, 2059)\n",
      "removed edge 3537: (78, 1425)\n",
      "removed edge 3538: (783, 1879)\n",
      "removed edge 3539: (606, 2185)\n",
      "removed edge 3540: (29, 1953)\n",
      "removed edge 3541: (893, 1856)\n",
      "removed edge 3542: (1133, 1856)\n",
      "removed edge 3543: (449, 2407)\n",
      "removed edge 3544: (545, 2563)\n",
      "removed edge 3545: (1710, 2583)\n",
      "removed edge 3546: (674, 2141)\n",
      "removed edge 3547: (1245, 2595)\n",
      "removed edge 3548: (1100, 1849)\n",
      "removed edge 3549: (556, 1207)\n",
      "removed edge 3550: (1757, 2095)\n"
     ]
    }
   ],
   "source": [
    "G, removed_edges = remove_edges(G, 0.1*len(G.edges))"
   ]
  },
  {
   "cell_type": "code",
   "execution_count": 170,
   "metadata": {
    "collapsed": true
   },
   "outputs": [],
   "source": [
    "N = len(G)"
   ]
  },
  {
   "cell_type": "code",
   "execution_count": 176,
   "metadata": {
    "collapsed": true
   },
   "outputs": [],
   "source": [
    "def check((u, v), l):\n",
    "    for u_prime, v_prime in l:\n",
    "        if u_prime > u:\n",
    "            return False\n",
    "        if u_prime == u and v_prime == v:\n",
    "            return True"
   ]
  },
  {
   "cell_type": "code",
   "execution_count": 177,
   "metadata": {},
   "outputs": [
    {
     "ename": "SyntaxError",
     "evalue": "invalid syntax (<ipython-input-177-a84d79df58c5>, line 2)",
     "output_type": "error",
     "traceback": [
      "\u001b[0;36m  File \u001b[0;32m\"<ipython-input-177-a84d79df58c5>\"\u001b[0;36m, line \u001b[0;32m2\u001b[0m\n\u001b[0;31m    if (u, v) not in G.edges and (v, u) not in G.edges and (u, v) not check((u, v), removed_edges)]\u001b[0m\n\u001b[0m                                                                          ^\u001b[0m\n\u001b[0;31mSyntaxError\u001b[0m\u001b[0;31m:\u001b[0m invalid syntax\n"
     ]
    }
   ],
   "source": [
    "candidate_edges = [(u, v)for u in range(N) for v in range(u+1, N) \n",
    "                   if (u, v) not in G.edges and (v, u) not in G.edges and not check((u, v), removed_edges)]"
   ]
  },
  {
   "cell_type": "code",
   "execution_count": 172,
   "metadata": {},
   "outputs": [
    {
     "ename": "KeyboardInterrupt",
     "evalue": "",
     "output_type": "error",
     "traceback": [
      "\u001b[0;31m---------------------------------------------------------------------------\u001b[0m",
      "\u001b[0;31mKeyboardInterrupt\u001b[0m                         Traceback (most recent call last)",
      "\u001b[0;32m<ipython-input-172-2f70f91fac42>\u001b[0m in \u001b[0;36m<module>\u001b[0;34m()\u001b[0m\n\u001b[0;32m----> 1\u001b[0;31m \u001b[0mget_ipython\u001b[0m\u001b[0;34m(\u001b[0m\u001b[0;34m)\u001b[0m\u001b[0;34m.\u001b[0m\u001b[0mrun_cell_magic\u001b[0m\u001b[0;34m(\u001b[0m\u001b[0;34mu'timeit'\u001b[0m\u001b[0;34m,\u001b[0m \u001b[0;34mu''\u001b[0m\u001b[0;34m,\u001b[0m \u001b[0;34mu'a=np.array([1. if edge in removed_edges else 0 for edge in candidate_edges])'\u001b[0m\u001b[0;34m)\u001b[0m\u001b[0;34m\u001b[0m\u001b[0m\n\u001b[0m",
      "\u001b[0;32m/home/david/miniconda2/lib/python2.7/site-packages/IPython/core/interactiveshell.pyc\u001b[0m in \u001b[0;36mrun_cell_magic\u001b[0;34m(self, magic_name, line, cell)\u001b[0m\n\u001b[1;32m   2113\u001b[0m             \u001b[0mmagic_arg_s\u001b[0m \u001b[0;34m=\u001b[0m \u001b[0mself\u001b[0m\u001b[0;34m.\u001b[0m\u001b[0mvar_expand\u001b[0m\u001b[0;34m(\u001b[0m\u001b[0mline\u001b[0m\u001b[0;34m,\u001b[0m \u001b[0mstack_depth\u001b[0m\u001b[0;34m)\u001b[0m\u001b[0;34m\u001b[0m\u001b[0m\n\u001b[1;32m   2114\u001b[0m             \u001b[0;32mwith\u001b[0m \u001b[0mself\u001b[0m\u001b[0;34m.\u001b[0m\u001b[0mbuiltin_trap\u001b[0m\u001b[0;34m:\u001b[0m\u001b[0;34m\u001b[0m\u001b[0m\n\u001b[0;32m-> 2115\u001b[0;31m                 \u001b[0mresult\u001b[0m \u001b[0;34m=\u001b[0m \u001b[0mfn\u001b[0m\u001b[0;34m(\u001b[0m\u001b[0mmagic_arg_s\u001b[0m\u001b[0;34m,\u001b[0m \u001b[0mcell\u001b[0m\u001b[0;34m)\u001b[0m\u001b[0;34m\u001b[0m\u001b[0m\n\u001b[0m\u001b[1;32m   2116\u001b[0m             \u001b[0;32mreturn\u001b[0m \u001b[0mresult\u001b[0m\u001b[0;34m\u001b[0m\u001b[0m\n\u001b[1;32m   2117\u001b[0m \u001b[0;34m\u001b[0m\u001b[0m\n",
      "\u001b[0;32m<decorator-gen-58>\u001b[0m in \u001b[0;36mtimeit\u001b[0;34m(self, line, cell)\u001b[0m\n",
      "\u001b[0;32m/home/david/miniconda2/lib/python2.7/site-packages/IPython/core/magic.pyc\u001b[0m in \u001b[0;36m<lambda>\u001b[0;34m(f, *a, **k)\u001b[0m\n\u001b[1;32m    186\u001b[0m     \u001b[0;31m# but it's overkill for just that one bit of state.\u001b[0m\u001b[0;34m\u001b[0m\u001b[0;34m\u001b[0m\u001b[0m\n\u001b[1;32m    187\u001b[0m     \u001b[0;32mdef\u001b[0m \u001b[0mmagic_deco\u001b[0m\u001b[0;34m(\u001b[0m\u001b[0marg\u001b[0m\u001b[0;34m)\u001b[0m\u001b[0;34m:\u001b[0m\u001b[0;34m\u001b[0m\u001b[0m\n\u001b[0;32m--> 188\u001b[0;31m         \u001b[0mcall\u001b[0m \u001b[0;34m=\u001b[0m \u001b[0;32mlambda\u001b[0m \u001b[0mf\u001b[0m\u001b[0;34m,\u001b[0m \u001b[0;34m*\u001b[0m\u001b[0ma\u001b[0m\u001b[0;34m,\u001b[0m \u001b[0;34m**\u001b[0m\u001b[0mk\u001b[0m\u001b[0;34m:\u001b[0m \u001b[0mf\u001b[0m\u001b[0;34m(\u001b[0m\u001b[0;34m*\u001b[0m\u001b[0ma\u001b[0m\u001b[0;34m,\u001b[0m \u001b[0;34m**\u001b[0m\u001b[0mk\u001b[0m\u001b[0;34m)\u001b[0m\u001b[0;34m\u001b[0m\u001b[0m\n\u001b[0m\u001b[1;32m    189\u001b[0m \u001b[0;34m\u001b[0m\u001b[0m\n\u001b[1;32m    190\u001b[0m         \u001b[0;32mif\u001b[0m \u001b[0mcallable\u001b[0m\u001b[0;34m(\u001b[0m\u001b[0marg\u001b[0m\u001b[0;34m)\u001b[0m\u001b[0;34m:\u001b[0m\u001b[0;34m\u001b[0m\u001b[0m\n",
      "\u001b[0;32m/home/david/miniconda2/lib/python2.7/site-packages/IPython/core/magics/execution.pyc\u001b[0m in \u001b[0;36mtimeit\u001b[0;34m(self, line, cell)\u001b[0m\n\u001b[1;32m   1052\u001b[0m                     \u001b[0;32mbreak\u001b[0m\u001b[0;34m\u001b[0m\u001b[0m\n\u001b[1;32m   1053\u001b[0m                 \u001b[0mnumber\u001b[0m \u001b[0;34m*=\u001b[0m \u001b[0;36m10\u001b[0m\u001b[0;34m\u001b[0m\u001b[0m\n\u001b[0;32m-> 1054\u001b[0;31m         \u001b[0mall_runs\u001b[0m \u001b[0;34m=\u001b[0m \u001b[0mtimer\u001b[0m\u001b[0;34m.\u001b[0m\u001b[0mrepeat\u001b[0m\u001b[0;34m(\u001b[0m\u001b[0mrepeat\u001b[0m\u001b[0;34m,\u001b[0m \u001b[0mnumber\u001b[0m\u001b[0;34m)\u001b[0m\u001b[0;34m\u001b[0m\u001b[0m\n\u001b[0m\u001b[1;32m   1055\u001b[0m         \u001b[0mbest\u001b[0m \u001b[0;34m=\u001b[0m \u001b[0mmin\u001b[0m\u001b[0;34m(\u001b[0m\u001b[0mall_runs\u001b[0m\u001b[0;34m)\u001b[0m \u001b[0;34m/\u001b[0m \u001b[0mnumber\u001b[0m\u001b[0;34m\u001b[0m\u001b[0m\n\u001b[1;32m   1056\u001b[0m \u001b[0;34m\u001b[0m\u001b[0m\n",
      "\u001b[0;32m/home/david/miniconda2/lib/python2.7/timeit.pyc\u001b[0m in \u001b[0;36mrepeat\u001b[0;34m(self, repeat, number)\u001b[0m\n\u001b[1;32m    228\u001b[0m         \u001b[0mr\u001b[0m \u001b[0;34m=\u001b[0m \u001b[0;34m[\u001b[0m\u001b[0;34m]\u001b[0m\u001b[0;34m\u001b[0m\u001b[0m\n\u001b[1;32m    229\u001b[0m         \u001b[0;32mfor\u001b[0m \u001b[0mi\u001b[0m \u001b[0;32min\u001b[0m \u001b[0mrange\u001b[0m\u001b[0;34m(\u001b[0m\u001b[0mrepeat\u001b[0m\u001b[0;34m)\u001b[0m\u001b[0;34m:\u001b[0m\u001b[0;34m\u001b[0m\u001b[0m\n\u001b[0;32m--> 230\u001b[0;31m             \u001b[0mt\u001b[0m \u001b[0;34m=\u001b[0m \u001b[0mself\u001b[0m\u001b[0;34m.\u001b[0m\u001b[0mtimeit\u001b[0m\u001b[0;34m(\u001b[0m\u001b[0mnumber\u001b[0m\u001b[0;34m)\u001b[0m\u001b[0;34m\u001b[0m\u001b[0m\n\u001b[0m\u001b[1;32m    231\u001b[0m             \u001b[0mr\u001b[0m\u001b[0;34m.\u001b[0m\u001b[0mappend\u001b[0m\u001b[0;34m(\u001b[0m\u001b[0mt\u001b[0m\u001b[0;34m)\u001b[0m\u001b[0;34m\u001b[0m\u001b[0m\n\u001b[1;32m    232\u001b[0m         \u001b[0;32mreturn\u001b[0m \u001b[0mr\u001b[0m\u001b[0;34m\u001b[0m\u001b[0m\n",
      "\u001b[0;32m/home/david/miniconda2/lib/python2.7/site-packages/IPython/core/magics/execution.pyc\u001b[0m in \u001b[0;36mtimeit\u001b[0;34m(self, number)\u001b[0m\n\u001b[1;32m    137\u001b[0m         \u001b[0mgc\u001b[0m\u001b[0;34m.\u001b[0m\u001b[0mdisable\u001b[0m\u001b[0;34m(\u001b[0m\u001b[0;34m)\u001b[0m\u001b[0;34m\u001b[0m\u001b[0m\n\u001b[1;32m    138\u001b[0m         \u001b[0;32mtry\u001b[0m\u001b[0;34m:\u001b[0m\u001b[0;34m\u001b[0m\u001b[0m\n\u001b[0;32m--> 139\u001b[0;31m             \u001b[0mtiming\u001b[0m \u001b[0;34m=\u001b[0m \u001b[0mself\u001b[0m\u001b[0;34m.\u001b[0m\u001b[0minner\u001b[0m\u001b[0;34m(\u001b[0m\u001b[0mit\u001b[0m\u001b[0;34m,\u001b[0m \u001b[0mself\u001b[0m\u001b[0;34m.\u001b[0m\u001b[0mtimer\u001b[0m\u001b[0;34m)\u001b[0m\u001b[0;34m\u001b[0m\u001b[0m\n\u001b[0m\u001b[1;32m    140\u001b[0m         \u001b[0;32mfinally\u001b[0m\u001b[0;34m:\u001b[0m\u001b[0;34m\u001b[0m\u001b[0m\n\u001b[1;32m    141\u001b[0m             \u001b[0;32mif\u001b[0m \u001b[0mgcold\u001b[0m\u001b[0;34m:\u001b[0m\u001b[0;34m\u001b[0m\u001b[0m\n",
      "\u001b[0;32m<magic-timeit>\u001b[0m in \u001b[0;36minner\u001b[0;34m(_it, _timer)\u001b[0m\n",
      "\u001b[0;31mKeyboardInterrupt\u001b[0m: "
     ]
    }
   ],
   "source": [
    "%%timeit \n",
    "a=np.array([1. if edge in removed_edges else 0 for edge in candidate_edges])"
   ]
  },
  {
   "cell_type": "code",
   "execution_count": null,
   "metadata": {
    "collapsed": true
   },
   "outputs": [],
   "source": [
    "candidate_edges_array = np.array(candidate_edges)\n",
    "removed_edges_array = np.array(removed_edges)"
   ]
  },
  {
   "cell_type": "code",
   "execution_count": null,
   "metadata": {
    "collapsed": true
   },
   "outputs": [],
   "source": [
    "def find_rows(a, b):\n",
    "    dt = np.dtype((np.void, a.dtype.itemsize * a.shape[1]))\n",
    "\n",
    "    a_view = np.ascontiguousarray(a).view(dt).ravel()\n",
    "    b_view = np.ascontiguousarray(b).view(dt).ravel()\n",
    "\n",
    "    sort_b = np.argsort(b_view)\n",
    "    where_in_b = np.searchsorted(b_view, a_view,\n",
    "                                 sorter=sort_b)\n",
    "    where_in_b = np.take(sort_b, where_in_b)\n",
    "    which_in_a = np.take(b_view, where_in_b) == a_view\n",
    "    where_in_b = where_in_b[which_in_a]\n",
    "#     which_in_a = np.nonzero(which_in_a)[0]\n",
    "    return where_in_b"
   ]
  },
  {
   "cell_type": "code",
   "execution_count": null,
   "metadata": {},
   "outputs": [],
   "source": [
    "%%timeit \n",
    "b = np.zeros(candidate_edges_array.shape[0])\n",
    "idx = find_rows(removed_edges_array, candidate_edges_array)\n",
    "b[idx]=1"
   ]
  },
  {
   "cell_type": "code",
   "execution_count": 144,
   "metadata": {},
   "outputs": [
    {
     "data": {
      "text/plain": [
       "array([ 1.,  0.,  0., ...,  0.,  0.,  0.])"
      ]
     },
     "execution_count": 144,
     "metadata": {},
     "output_type": "execute_result"
    }
   ],
   "source": [
    "a"
   ]
  },
  {
   "cell_type": "code",
   "execution_count": 145,
   "metadata": {},
   "outputs": [
    {
     "data": {
      "text/plain": [
       "array([ 1.,  0.,  0., ...,  0.,  0.,  0.])"
      ]
     },
     "execution_count": 145,
     "metadata": {},
     "output_type": "execute_result"
    }
   ],
   "source": [
    "b"
   ]
  },
  {
   "cell_type": "code",
   "execution_count": 143,
   "metadata": {},
   "outputs": [
    {
     "data": {
      "text/plain": [
       "False"
      ]
     },
     "execution_count": 143,
     "metadata": {},
     "output_type": "execute_result"
    }
   ],
   "source": [
    "np.allclose(a, b)"
   ]
  },
  {
   "cell_type": "code",
   "execution_count": 131,
   "metadata": {},
   "outputs": [
    {
     "data": {
      "text/plain": [
       "array([[0, 0],\n",
       "       [1, 3],\n",
       "       [2, 4]])"
      ]
     },
     "execution_count": 131,
     "metadata": {},
     "output_type": "execute_result"
    }
   ],
   "source": [
    "find_rows(removed_edges_array, candidate_edges_array)"
   ]
  },
  {
   "cell_type": "code",
   "execution_count": 123,
   "metadata": {},
   "outputs": [
    {
     "name": "stderr",
     "output_type": "stream",
     "text": [
      "/home/david/miniconda2/lib/python2.7/site-packages/ipykernel_launcher.py:1: DeprecationWarning: elementwise == comparison failed; this will raise an error in the future.\n",
      "  \"\"\"Entry point for launching an IPython kernel.\n"
     ]
    },
    {
     "data": {
      "text/plain": [
       "(array([], dtype=int64),)"
      ]
     },
     "execution_count": 123,
     "metadata": {},
     "output_type": "execute_result"
    }
   ],
   "source": [
    "np.where(candidate_edges_array ==removed_edges_array)"
   ]
  },
  {
   "cell_type": "code",
   "execution_count": null,
   "metadata": {
    "collapsed": true
   },
   "outputs": [],
   "source": [
    "candidate_edges[-2] in removed_edges"
   ]
  },
  {
   "cell_type": "code",
   "execution_count": 62,
   "metadata": {},
   "outputs": [
    {
     "data": {
      "text/plain": [
       "[1, 2, 3, 4]"
      ]
     },
     "execution_count": 62,
     "metadata": {},
     "output_type": "execute_result"
    }
   ],
   "source": [
    "l"
   ]
  },
  {
   "cell_type": "code",
   "execution_count": 63,
   "metadata": {
    "collapsed": true
   },
   "outputs": [],
   "source": [
    "?map"
   ]
  },
  {
   "cell_type": "code",
   "execution_count": 59,
   "metadata": {
    "collapsed": true
   },
   "outputs": [],
   "source": [
    "?precision_recall_curve"
   ]
  },
  {
   "cell_type": "code",
   "execution_count": 28,
   "metadata": {
    "collapsed": true
   },
   "outputs": [],
   "source": [
    "def sigmoid(x):\n",
    "    return 1. / (1+ np.exp(-x))"
   ]
  },
  {
   "cell_type": "code",
   "execution_count": 38,
   "metadata": {},
   "outputs": [],
   "source": [
    "y_true = np.random.randint(2, size=(5000,))\n",
    "distances = np.random.rand(5000)\n",
    "r = 0.5\n",
    "t = 1\n",
    "y_pred = sigmoid((r - distances) / t)"
   ]
  },
  {
   "cell_type": "code",
   "execution_count": 43,
   "metadata": {
    "collapsed": true
   },
   "outputs": [],
   "source": [
    "removed_edges = np.array([[0,1], [2,3]])\n",
    "edges = np.array([[0,1],[2,3],[5,6]])"
   ]
  },
  {
   "cell_type": "code",
   "execution_count": 44,
   "metadata": {},
   "outputs": [
    {
     "data": {
      "text/plain": [
       "array([[0, 1],\n",
       "       [2, 3],\n",
       "       [5, 6]])"
      ]
     },
     "execution_count": 44,
     "metadata": {},
     "output_type": "execute_result"
    }
   ],
   "source": [
    "edges"
   ]
  },
  {
   "cell_type": "code",
   "execution_count": 45,
   "metadata": {},
   "outputs": [
    {
     "data": {
      "text/plain": [
       "array([[0, 1],\n",
       "       [2, 3]])"
      ]
     },
     "execution_count": 45,
     "metadata": {},
     "output_type": "execute_result"
    }
   ],
   "source": [
    "removed_edges"
   ]
  },
  {
   "cell_type": "code",
   "execution_count": 47,
   "metadata": {},
   "outputs": [
    {
     "data": {
      "text/plain": [
       "array([1, 1, 0])"
      ]
     },
     "execution_count": 47,
     "metadata": {},
     "output_type": "execute_result"
    }
   ],
   "source": [
    "np.array([edge in removed_edges for edge in edges], dtype=int)"
   ]
  },
  {
   "cell_type": "code",
   "execution_count": 39,
   "metadata": {},
   "outputs": [
    {
     "data": {
      "text/plain": [
       "array([ 0.54902381,  0.58969081,  0.52443619,  0.47476066,  0.59761134,\n",
       "        0.43586358,  0.61586806,  0.60490365,  0.5784555 ,  0.42121725])"
      ]
     },
     "execution_count": 39,
     "metadata": {},
     "output_type": "execute_result"
    }
   ],
   "source": [
    "y_pred[:10]"
   ]
  },
  {
   "cell_type": "code",
   "execution_count": 40,
   "metadata": {},
   "outputs": [
    {
     "data": {
      "text/plain": [
       "array([ 0.30327275,  0.13731265,  0.40217731,  0.60104324,  0.10447785,\n",
       "        0.7579668 ,  0.02795335,  0.07406048,  0.18356371,  0.81777846])"
      ]
     },
     "execution_count": 40,
     "metadata": {},
     "output_type": "execute_result"
    }
   ],
   "source": [
    "distances[:10]"
   ]
  },
  {
   "cell_type": "code",
   "execution_count": 41,
   "metadata": {
    "collapsed": true
   },
   "outputs": [],
   "source": [
    "precisions, recalls, thresholds = precision_recall_curve(y_true, y_pred)"
   ]
  },
  {
   "cell_type": "code",
   "execution_count": 42,
   "metadata": {},
   "outputs": [
    {
     "data": {
      "image/png": "[encoded data removed]",
      "text/plain": [
       "<matplotlib.figure.Figure at 0x7f6cc727c950>"
      ]
     },
     "metadata": {},
     "output_type": "display_data"
    }
   ],
   "source": [
    "plt.step(recalls, precisions)\n",
    "plt.show()"
   ]
  },
  {
   "cell_type": "code",
   "execution_count": null,
   "metadata": {
    "collapsed": true
   },
   "outputs": [],
   "source": [
    "np.arange(10, dtype=)"
   ]
  },
  {
   "cell_type": "code",
   "execution_count": 3,
   "metadata": {
    "collapsed": true
   },
   "outputs": [],
   "source": [
    "a = np.arange(20).reshape(2, 5, 2)"
   ]
  },
  {
   "cell_type": "code",
   "execution_count": null,
   "metadata": {
    "collapsed": true
   },
   "outputs": [],
   "source": [
    "from sklearn.metrics import normalized_mutual_info_score"
   ]
  },
  {
   "cell_type": "code",
   "execution_count": 6,
   "metadata": {
    "collapsed": true
   },
   "outputs": [],
   "source": [
    "import networkx as nx"
   ]
  },
  {
   "cell_type": "code",
   "execution_count": 7,
   "metadata": {
    "collapsed": true
   },
   "outputs": [],
   "source": [
    "G = nx.karate_club_graph()"
   ]
  },
  {
   "cell_type": "code",
   "execution_count": 8,
   "metadata": {},
   "outputs": [
    {
     "data": {
      "text/plain": [
       "(34, 78)"
      ]
     },
     "execution_count": 8,
     "metadata": {},
     "output_type": "execute_result"
    }
   ],
   "source": [
    "len(G), len(G.edges)"
   ]
  },
  {
   "cell_type": "code",
   "execution_count": 9,
   "metadata": {
    "collapsed": true
   },
   "outputs": [],
   "source": [
    "distances = np.random.rand(10, 10)"
   ]
  },
  {
   "cell_type": "code",
   "execution_count": 18,
   "metadata": {
    "collapsed": true
   },
   "outputs": [],
   "source": [
    "distances = (distances + distances.T)/2"
   ]
  },
  {
   "cell_type": "code",
   "execution_count": 32,
   "metadata": {},
   "outputs": [
    {
     "data": {
      "text/plain": [
       "array([[ 0.83896054,  0.47466545,  0.55875586,  0.68247121,  0.45664458,\n",
       "         0.21498356,  0.58872997,  0.31692006,  0.61471032,  0.64306182],\n",
       "       [ 0.47466545,  0.97896358,  0.69912738,  0.60324237,  0.37954539,\n",
       "         0.25779261,  0.76407704,  0.29095238,  0.34819834,  0.62788455],\n",
       "       [ 0.55875586,  0.69912738,  0.90194589,  0.15014725,  0.0889662 ,\n",
       "         0.69080781,  0.65666331,  0.56483519,  0.47712702,  0.48509274],\n",
       "       [ 0.68247121,  0.60324237,  0.15014725,  0.28433696,  0.86388388,\n",
       "         0.51608873,  0.1335904 ,  0.49224278,  0.8176905 ,  0.36151818],\n",
       "       [ 0.45664458,  0.37954539,  0.0889662 ,  0.86388388,  0.12054901,\n",
       "         0.34303341,  0.26767971,  0.43583436,  0.49524281,  0.84399755],\n",
       "       [ 0.21498356,  0.25779261,  0.69080781,  0.51608873,  0.34303341,\n",
       "         0.13178458,  0.73347573,  0.25979509,  0.42428589,  0.49580901],\n",
       "       [ 0.58872997,  0.76407704,  0.65666331,  0.1335904 ,  0.26767971,\n",
       "         0.73347573,  0.96695078,  0.39924413,  0.72633729,  0.76182831],\n",
       "       [ 0.31692006,  0.29095238,  0.56483519,  0.49224278,  0.43583436,\n",
       "         0.25979509,  0.39924413,  0.81312416,  0.53208912,  0.78309099],\n",
       "       [ 0.61471032,  0.34819834,  0.47712702,  0.8176905 ,  0.49524281,\n",
       "         0.42428589,  0.72633729,  0.53208912,  0.00650869,  0.52618333],\n",
       "       [ 0.64306182,  0.62788455,  0.48509274,  0.36151818,  0.84399755,\n",
       "         0.49580901,  0.76182831,  0.78309099,  0.52618333,  0.8022223 ]])"
      ]
     },
     "execution_count": 32,
     "metadata": {},
     "output_type": "execute_result"
    }
   ],
   "source": [
    "distances"
   ]
  },
  {
   "cell_type": "code",
   "execution_count": 81,
   "metadata": {
    "collapsed": true
   },
   "outputs": [],
   "source": [
    "?G.add_edge"
   ]
  },
  {
   "cell_type": "code",
   "execution_count": 35,
   "metadata": {
    "collapsed": true
   },
   "outputs": [],
   "source": [
    "N = 10"
   ]
  },
  {
   "cell_type": "code",
   "execution_count": 38,
   "metadata": {
    "collapsed": true
   },
   "outputs": [],
   "source": [
    "s = {(u, v) for v in range(N) for u in range(N) if u != v and distances[u, v]>0.4 and (u, v) not in edges}"
   ]
  },
  {
   "cell_type": "code",
   "execution_count": 78,
   "metadata": {
    "collapsed": true
   },
   "outputs": [],
   "source": [
    "G = nx.karate_club_graph()"
   ]
  },
  {
   "cell_type": "code",
   "execution_count": 79,
   "metadata": {
    "collapsed": true
   },
   "outputs": [],
   "source": [
    "edges = list(G.edges(data=True))"
   ]
  },
  {
   "cell_type": "code",
   "execution_count": null,
   "metadata": {
    "collapsed": true
   },
   "outputs": [],
   "source": [
    "nx.num"
   ]
  },
  {
   "cell_type": "code",
   "execution_count": 83,
   "metadata": {
    "collapsed": true
   },
   "outputs": [],
   "source": [
    "?nx.set_edge_attributes"
   ]
  },
  {
   "cell_type": "code",
   "execution_count": 90,
   "metadata": {},
   "outputs": [
    {
     "data": {
      "text/plain": [
       "0"
      ]
     },
     "execution_count": 90,
     "metadata": {},
     "output_type": "execute_result"
    }
   ],
   "source": [
    "G.degree(11)"
   ]
  },
  {
   "cell_type": "code",
   "execution_count": 107,
   "metadata": {
    "collapsed": true
   },
   "outputs": [],
   "source": [
    "def safe_norm(x, axis=-1, sqrt=False):\n",
    "    x = np.sum(np.square(x), axis=-axis, keepdims=True) + K.epsilon()\n",
    "    if sqrt:\n",
    "        x = np.sqrt(x)\n",
    "    return x\n",
    "def squash(x, axis=-1):\n",
    "    squared_norm = safe_norm(x, axis=axis)\n",
    "    scale = squared_norm / (1 + squared_norm) / np.sqrt(squared_norm)\n",
    "    return scale * x\n",
    "def hyperbolic_distance(u, v):\n",
    "\treturn np.arccosh(1 + 2 * np.linalg.norm(u - v, axis=-1)**2 / (1 - np.linalg.norm(u, axis=-1)**2) * (1 - np.linalg.norm(v, axis=-1)**2))"
   ]
  },
  {
   "cell_type": "code",
   "execution_count": 108,
   "metadata": {
    "collapsed": true
   },
   "outputs": [],
   "source": [
    "from sklearn.metrics.pairwise import pairwise_distances"
   ]
  },
  {
   "cell_type": "code",
   "execution_count": 109,
   "metadata": {
    "collapsed": true
   },
   "outputs": [],
   "source": [
    "X = np.random.rand(100, 2)\n",
    "X = squash(X)"
   ]
  },
  {
   "cell_type": "code",
   "execution_count": 110,
   "metadata": {},
   "outputs": [
    {
     "data": {
      "text/plain": [
       "array([[ 0.        ,  0.49679349,  0.57491488, ...,  0.84579435,\n",
       "         0.58465807,  0.12585196],\n",
       "       [ 0.49679349,  0.        ,  0.36470227, ...,  0.75836137,\n",
       "         1.13221702,  0.76077136],\n",
       "       [ 0.57491488,  0.36470227,  0.        , ...,  0.40052449,\n",
       "         0.92889274,  0.77174446],\n",
       "       ..., \n",
       "       [ 0.84579435,  0.75836137,  0.40052449, ...,  0.        ,\n",
       "         1.0526439 ,  1.09104028],\n",
       "       [ 0.58465807,  1.13221702,  0.92889274, ...,  1.0526439 ,\n",
       "         0.        ,  0.49189674],\n",
       "       [ 0.12585196,  0.76077136,  0.77174446, ...,  1.09104028,\n",
       "         0.49189674,  0.        ]])"
      ]
     },
     "execution_count": 110,
     "metadata": {},
     "output_type": "execute_result"
    }
   ],
   "source": [
    "pairwise_distances(X, metric=hyperbolic_distance)"
   ]
  },
  {
   "cell_type": "code",
   "execution_count": 129,
   "metadata": {
    "collapsed": true
   },
   "outputs": [],
   "source": [
    "d={(u, v) : distances[u, v] for u in range(N) for v in range(u+1,N)}"
   ]
  },
  {
   "cell_type": "code",
   "execution_count": 140,
   "metadata": {},
   "outputs": [
    {
     "data": {
      "text/plain": [
       "EdgeView([(0, 1), (0, 2), (0, 3), (0, 4), (0, 5), (0, 6), (0, 7), (0, 8), (0, 10), (0, 12), (0, 13), (0, 17), (0, 19), (0, 21), (0, 31), (1, 2), (1, 3), (1, 7), (1, 13), (1, 17), (1, 19), (1, 21), (1, 30), (2, 3), (2, 32), (2, 7), (2, 8), (2, 9), (2, 13), (2, 27), (2, 28), (3, 7), (3, 12), (3, 13), (4, 10), (4, 6), (5, 16), (5, 10), (5, 6), (6, 16), (8, 32), (8, 30), (8, 33), (9, 33), (13, 33), (14, 32), (14, 33), (15, 32), (15, 33), (18, 32), (18, 33), (19, 33), (20, 32), (20, 33), (22, 32), (22, 33), (23, 32), (23, 25), (23, 27), (23, 29), (23, 33), (24, 25), (24, 27), (24, 31), (25, 31), (26, 33), (26, 29), (27, 33), (28, 33), (28, 31), (29, 32), (29, 33), (30, 33), (30, 32), (31, 33), (31, 32), (32, 33)])"
      ]
     },
     "execution_count": 140,
     "metadata": {},
     "output_type": "execute_result"
    }
   ],
   "source": [
    "G.edges"
   ]
  },
  {
   "cell_type": "code",
   "execution_count": 143,
   "metadata": {
    "collapsed": true
   },
   "outputs": [],
   "source": [
    "candidate_edges = [(u, v) for u in range(N) for v in range(u+1, N) if (u, v) not in G.edges]"
   ]
  },
  {
   "cell_type": "code",
   "execution_count": 145,
   "metadata": {},
   "outputs": [
    {
     "data": {
      "text/plain": [
       "array([[0, 9],\n",
       "       [1, 4],\n",
       "       [1, 5],\n",
       "       [1, 6],\n",
       "       [1, 8],\n",
       "       [1, 9],\n",
       "       [2, 4],\n",
       "       [2, 5],\n",
       "       [2, 6],\n",
       "       [3, 4],\n",
       "       [3, 5],\n",
       "       [3, 6],\n",
       "       [3, 8],\n",
       "       [3, 9],\n",
       "       [4, 5],\n",
       "       [4, 7],\n",
       "       [4, 8],\n",
       "       [4, 9],\n",
       "       [5, 7],\n",
       "       [5, 8],\n",
       "       [5, 9],\n",
       "       [6, 7],\n",
       "       [6, 8],\n",
       "       [6, 9],\n",
       "       [7, 8],\n",
       "       [7, 9],\n",
       "       [8, 9]])"
      ]
     },
     "execution_count": 145,
     "metadata": {},
     "output_type": "execute_result"
    }
   ],
   "source": [
    "np.array(candidate_edges)"
   ]
  },
  {
   "cell_type": "code",
   "execution_count": 131,
   "metadata": {},
   "outputs": [
    {
     "data": {
      "text/plain": [
       "0.08896620350350859"
      ]
     },
     "execution_count": 131,
     "metadata": {},
     "output_type": "execute_result"
    }
   ],
   "source": [
    "d[(2,4)]"
   ]
  },
  {
   "cell_type": "code",
   "execution_count": 135,
   "metadata": {
    "collapsed": true
   },
   "outputs": [],
   "source": [
    "s1 = {1, 2, 4}"
   ]
  },
  {
   "cell_type": "code",
   "execution_count": 136,
   "metadata": {
    "collapsed": true
   },
   "outputs": [],
   "source": [
    "s2 = {5,6,7}"
   ]
  },
  {
   "cell_type": "code",
   "execution_count": 139,
   "metadata": {},
   "outputs": [
    {
     "data": {
      "text/plain": [
       "set()"
      ]
     },
     "execution_count": 139,
     "metadata": {},
     "output_type": "execute_result"
    }
   ],
   "source": [
    "s1 & s2"
   ]
  },
  {
   "cell_type": "code",
   "execution_count": 134,
   "metadata": {},
   "outputs": [
    {
     "data": {
      "text/plain": [
       "[(2, 4),\n",
       " (3, 6),\n",
       " (2, 3),\n",
       " (0, 5),\n",
       " (1, 5),\n",
       " (5, 7),\n",
       " (4, 6),\n",
       " (1, 7),\n",
       " (0, 7),\n",
       " (4, 5),\n",
       " (1, 8),\n",
       " (3, 9),\n",
       " (1, 4),\n",
       " (6, 7),\n",
       " (5, 8),\n",
       " (4, 7),\n",
       " (0, 4),\n",
       " (0, 1),\n",
       " (2, 8),\n",
       " (2, 9),\n",
       " (3, 7),\n",
       " (4, 8),\n",
       " (5, 9),\n",
       " (3, 5),\n",
       " (8, 9),\n",
       " (7, 8),\n",
       " (0, 2),\n",
       " (2, 7),\n",
       " (0, 6),\n",
       " (1, 3),\n",
       " (0, 8),\n",
       " (1, 9),\n",
       " (0, 9),\n",
       " (2, 6),\n",
       " (0, 3),\n",
       " (2, 5),\n",
       " (1, 2),\n",
       " (6, 8),\n",
       " (5, 6),\n",
       " (6, 9),\n",
       " (1, 6),\n",
       " (7, 9),\n",
       " (3, 8),\n",
       " (4, 9),\n",
       " (3, 4)]"
      ]
     },
     "execution_count": 134,
     "metadata": {},
     "output_type": "execute_result"
    }
   ],
   "source": [
    "sorted(d, key=d.get)"
   ]
  },
  {
   "cell_type": "code",
   "execution_count": 122,
   "metadata": {},
   "outputs": [
    {
     "data": {
      "text/plain": [
       "10"
      ]
     },
     "execution_count": 122,
     "metadata": {},
     "output_type": "execute_result"
    }
   ],
   "source": [
    "N"
   ]
  },
  {
   "cell_type": "code",
   "execution_count": 121,
   "metadata": {},
   "outputs": [
    {
     "data": {
      "text/plain": [
       "array([[ 0.83896054,  0.47466545,  0.55875586,  0.68247121,  0.45664458,\n",
       "         0.21498356,  0.58872997,  0.31692006,  0.61471032,  0.64306182],\n",
       "       [ 0.47466545,  0.97896358,  0.69912738,  0.60324237,  0.37954539,\n",
       "         0.25779261,  0.76407704,  0.29095238,  0.34819834,  0.62788455],\n",
       "       [ 0.55875586,  0.69912738,  0.90194589,  0.15014725,  0.0889662 ,\n",
       "         0.69080781,  0.65666331,  0.56483519,  0.47712702,  0.48509274],\n",
       "       [ 0.68247121,  0.60324237,  0.15014725,  0.28433696,  0.86388388,\n",
       "         0.51608873,  0.1335904 ,  0.49224278,  0.8176905 ,  0.36151818],\n",
       "       [ 0.45664458,  0.37954539,  0.0889662 ,  0.86388388,  0.12054901,\n",
       "         0.34303341,  0.26767971,  0.43583436,  0.49524281,  0.84399755],\n",
       "       [ 0.21498356,  0.25779261,  0.69080781,  0.51608873,  0.34303341,\n",
       "         0.13178458,  0.73347573,  0.25979509,  0.42428589,  0.49580901],\n",
       "       [ 0.58872997,  0.76407704,  0.65666331,  0.1335904 ,  0.26767971,\n",
       "         0.73347573,  0.96695078,  0.39924413,  0.72633729,  0.76182831],\n",
       "       [ 0.31692006,  0.29095238,  0.56483519,  0.49224278,  0.43583436,\n",
       "         0.25979509,  0.39924413,  0.81312416,  0.53208912,  0.78309099],\n",
       "       [ 0.61471032,  0.34819834,  0.47712702,  0.8176905 ,  0.49524281,\n",
       "         0.42428589,  0.72633729,  0.53208912,  0.00650869,  0.52618333],\n",
       "       [ 0.64306182,  0.62788455,  0.48509274,  0.36151818,  0.84399755,\n",
       "         0.49580901,  0.76182831,  0.78309099,  0.52618333,  0.8022223 ]])"
      ]
     },
     "execution_count": 121,
     "metadata": {},
     "output_type": "execute_result"
    }
   ],
   "source": [
    "distances"
   ]
  },
  {
   "cell_type": "code",
   "execution_count": 114,
   "metadata": {
    "collapsed": true
   },
   "outputs": [],
   "source": [
    "a = np.array([[10, 2], [1,3], [8,7]])"
   ]
  },
  {
   "cell_type": "code",
   "execution_count": 115,
   "metadata": {},
   "outputs": [
    {
     "data": {
      "text/plain": [
       "array([[10,  2],\n",
       "       [ 1,  3],\n",
       "       [ 8,  7]])"
      ]
     },
     "execution_count": 115,
     "metadata": {},
     "output_type": "execute_result"
    }
   ],
   "source": [
    "a"
   ]
  },
  {
   "cell_type": "code",
   "execution_count": 120,
   "metadata": {
    "collapsed": true
   },
   "outputs": [],
   "source": [
    "?a.sort()"
   ]
  },
  {
   "cell_type": "code",
   "execution_count": 119,
   "metadata": {},
   "outputs": [
    {
     "data": {
      "text/plain": [
       "array([[ 2, 10],\n",
       "       [ 1,  3],\n",
       "       [ 7,  8]])"
      ]
     },
     "execution_count": 119,
     "metadata": {},
     "output_type": "execute_result"
    }
   ],
   "source": [
    "a"
   ]
  },
  {
   "cell_type": "code",
   "execution_count": 112,
   "metadata": {},
   "outputs": [
    {
     "data": {
      "text/plain": [
       "0.57491488119381784"
      ]
     },
     "execution_count": 112,
     "metadata": {},
     "output_type": "execute_result"
    }
   ],
   "source": [
    "hyperbolic_distance(X[0], X[2])"
   ]
  },
  {
   "cell_type": "code",
   "execution_count": 113,
   "metadata": {
    "collapsed": true
   },
   "outputs": [],
   "source": [
    "?np.linalg.norm"
   ]
  },
  {
   "cell_type": "code",
   "execution_count": 85,
   "metadata": {},
   "outputs": [
    {
     "data": {
      "text/plain": [
       "EdgeDataView([(11, 0)])"
      ]
     },
     "execution_count": 85,
     "metadata": {},
     "output_type": "execute_result"
    }
   ],
   "source": [
    "G.edges(11)"
   ]
  },
  {
   "cell_type": "code",
   "execution_count": 86,
   "metadata": {},
   "outputs": [
    {
     "data": {
      "text/plain": [
       "34"
      ]
     },
     "execution_count": 86,
     "metadata": {},
     "output_type": "execute_result"
    }
   ],
   "source": [
    "len(G)"
   ]
  },
  {
   "cell_type": "code",
   "execution_count": 88,
   "metadata": {
    "collapsed": true
   },
   "outputs": [],
   "source": [
    "G.remove_edge(11,0)"
   ]
  },
  {
   "cell_type": "code",
   "execution_count": 89,
   "metadata": {},
   "outputs": [
    {
     "data": {
      "text/plain": [
       "34"
      ]
     },
     "execution_count": 89,
     "metadata": {},
     "output_type": "execute_result"
    }
   ],
   "source": [
    "len(G)"
   ]
  },
  {
   "cell_type": "code",
   "execution_count": 80,
   "metadata": {},
   "outputs": [
    {
     "data": {
      "text/plain": [
       "[(0, 1, {}),\n",
       " (0, 2, {}),\n",
       " (0, 3, {}),\n",
       " (0, 4, {}),\n",
       " (0, 5, {}),\n",
       " (0, 6, {}),\n",
       " (0, 7, {}),\n",
       " (0, 8, {}),\n",
       " (0, 10, {}),\n",
       " (0, 11, {}),\n",
       " (0, 12, {}),\n",
       " (0, 13, {}),\n",
       " (0, 17, {}),\n",
       " (0, 19, {}),\n",
       " (0, 21, {}),\n",
       " (0, 31, {}),\n",
       " (1, 2, {}),\n",
       " (1, 3, {}),\n",
       " (1, 7, {}),\n",
       " (1, 13, {}),\n",
       " (1, 17, {}),\n",
       " (1, 19, {}),\n",
       " (1, 21, {}),\n",
       " (1, 30, {}),\n",
       " (2, 3, {}),\n",
       " (2, 32, {}),\n",
       " (2, 7, {}),\n",
       " (2, 8, {}),\n",
       " (2, 9, {}),\n",
       " (2, 13, {}),\n",
       " (2, 27, {}),\n",
       " (2, 28, {}),\n",
       " (3, 7, {}),\n",
       " (3, 12, {}),\n",
       " (3, 13, {}),\n",
       " (4, 10, {}),\n",
       " (4, 6, {}),\n",
       " (5, 16, {}),\n",
       " (5, 10, {}),\n",
       " (5, 6, {}),\n",
       " (6, 16, {}),\n",
       " (8, 32, {}),\n",
       " (8, 30, {}),\n",
       " (8, 33, {}),\n",
       " (9, 33, {}),\n",
       " (13, 33, {}),\n",
       " (14, 32, {}),\n",
       " (14, 33, {}),\n",
       " (15, 32, {}),\n",
       " (15, 33, {}),\n",
       " (18, 32, {}),\n",
       " (18, 33, {}),\n",
       " (19, 33, {}),\n",
       " (20, 32, {}),\n",
       " (20, 33, {}),\n",
       " (22, 32, {}),\n",
       " (22, 33, {}),\n",
       " (23, 32, {}),\n",
       " (23, 25, {}),\n",
       " (23, 27, {}),\n",
       " (23, 29, {}),\n",
       " (23, 33, {}),\n",
       " (24, 25, {}),\n",
       " (24, 27, {}),\n",
       " (24, 31, {}),\n",
       " (25, 31, {}),\n",
       " (26, 33, {}),\n",
       " (26, 29, {}),\n",
       " (27, 33, {}),\n",
       " (28, 33, {}),\n",
       " (28, 31, {}),\n",
       " (29, 32, {}),\n",
       " (29, 33, {}),\n",
       " (30, 33, {}),\n",
       " (30, 32, {}),\n",
       " (31, 33, {}),\n",
       " (31, 32, {}),\n",
       " (32, 33, {})]"
      ]
     },
     "execution_count": 80,
     "metadata": {},
     "output_type": "execute_result"
    }
   ],
   "source": [
    "edges"
   ]
  },
  {
   "cell_type": "code",
   "execution_count": 74,
   "metadata": {
    "collapsed": true
   },
   "outputs": [],
   "source": [
    "?G.remove_edge"
   ]
  },
  {
   "cell_type": "code",
   "execution_count": 73,
   "metadata": {},
   "outputs": [
    {
     "name": "stdout",
     "output_type": "stream",
     "text": [
      "removed (2, 32)\n",
      "removed (5, 16)\n",
      "removed (0, 31)\n",
      "removed (0, 7)\n",
      "removed (4, 6)\n",
      "removed (22, 33)\n",
      "removed (26, 29)\n",
      "removed (20, 33)\n",
      "removed (25, 31)\n",
      "removed (2, 7)\n",
      "removed (2, 8)\n",
      "removed (23, 33)\n",
      "removed (14, 33)\n",
      "removed (27, 33)\n",
      "removed (1, 13)\n",
      "removed (0, 6)\n",
      "removed (1, 21)\n",
      "removed (24, 31)\n",
      "removed (31, 32)\n",
      "removed (0, 4)\n",
      "cannot remove (22, 32)\n",
      "cannot remove (0, 5)\n",
      "cannot remove (23, 25)\n",
      "cannot remove (0, 19)\n",
      "cannot remove (8, 33)\n",
      "cannot remove (18, 33)\n",
      "cannot remove (0, 12)\n",
      "cannot remove (0, 10)\n",
      "cannot remove (2, 27)\n",
      "cannot remove (23, 29)\n",
      "cannot remove (14, 32)\n",
      "cannot remove (31, 33)\n",
      "cannot remove (19, 33)\n",
      "cannot remove (1, 7)\n",
      "cannot remove (3, 7)\n",
      "cannot remove (18, 32)\n",
      "cannot remove (0, 8)\n",
      "cannot remove (0, 1)\n",
      "cannot remove (20, 32)\n",
      "cannot remove (0, 13)\n",
      "cannot remove (3, 13)\n",
      "cannot remove (1, 2)\n",
      "cannot remove (29, 33)\n",
      "cannot remove (32, 33)\n",
      "cannot remove (9, 33)\n",
      "cannot remove (1, 30)\n",
      "cannot remove (1, 3)\n",
      "cannot remove (15, 33)\n",
      "cannot remove (2, 3)\n",
      "cannot remove (2, 13)\n",
      "cannot remove (29, 32)\n",
      "cannot remove (8, 30)\n",
      "cannot remove (28, 31)\n",
      "cannot remove (2, 9)\n",
      "cannot remove (0, 17)\n",
      "cannot remove (1, 19)\n",
      "cannot remove (0, 11)\n",
      "cannot remove (0, 2)\n",
      "cannot remove (5, 10)\n",
      "cannot remove (24, 25)\n",
      "cannot remove (23, 32)\n",
      "cannot remove (26, 33)\n",
      "cannot remove (23, 27)\n",
      "cannot remove (3, 12)\n",
      "cannot remove (8, 32)\n",
      "cannot remove (0, 3)\n",
      "cannot remove (28, 33)\n",
      "cannot remove (4, 10)\n",
      "cannot remove (15, 32)\n",
      "cannot remove (1, 17)\n",
      "cannot remove (2, 28)\n",
      "cannot remove (0, 21)\n",
      "cannot remove (5, 6)\n",
      "cannot remove (6, 16)\n",
      "cannot remove (13, 33)\n",
      "cannot remove (30, 33)\n",
      "cannot remove (30, 32)\n",
      "cannot remove (24, 27)\n"
     ]
    }
   ],
   "source": [
    "G = nx.karate_club_graph()\n",
    "num_edges_to_remove = 5\n",
    "H = G.copy()\n",
    "for e in edges:\n",
    "    G = H\n",
    "    H.remove_edge(*e)\n",
    "    if nx.is_connected(H):\n",
    "        print \"removed {}\".format(e)\n",
    "    else:\n",
    "        H = G.copy()\n",
    "        print \"cannot remove {}\".format(e)"
   ]
  },
  {
   "cell_type": "code",
   "execution_count": 66,
   "metadata": {
    "collapsed": true
   },
   "outputs": [],
   "source": [
    "import random"
   ]
  },
  {
   "cell_type": "code",
   "execution_count": 67,
   "metadata": {
    "collapsed": true
   },
   "outputs": [],
   "source": [
    "random.shuffle(edges)"
   ]
  },
  {
   "cell_type": "code",
   "execution_count": 68,
   "metadata": {},
   "outputs": [
    {
     "data": {
      "text/plain": [
       "[(2, 32),\n",
       " (5, 16),\n",
       " (0, 31),\n",
       " (0, 7),\n",
       " (4, 6),\n",
       " (22, 33),\n",
       " (26, 29),\n",
       " (20, 33),\n",
       " (25, 31),\n",
       " (2, 7),\n",
       " (2, 8),\n",
       " (23, 33),\n",
       " (14, 33),\n",
       " (27, 33),\n",
       " (1, 13),\n",
       " (0, 6),\n",
       " (1, 21),\n",
       " (24, 31),\n",
       " (31, 32),\n",
       " (0, 4),\n",
       " (22, 32),\n",
       " (0, 5),\n",
       " (23, 25),\n",
       " (0, 19),\n",
       " (8, 33),\n",
       " (18, 33),\n",
       " (0, 12),\n",
       " (0, 10),\n",
       " (2, 27),\n",
       " (23, 29),\n",
       " (14, 32),\n",
       " (31, 33),\n",
       " (19, 33),\n",
       " (1, 7),\n",
       " (3, 7),\n",
       " (18, 32),\n",
       " (0, 8),\n",
       " (0, 1),\n",
       " (20, 32),\n",
       " (0, 13),\n",
       " (3, 13),\n",
       " (1, 2),\n",
       " (29, 33),\n",
       " (32, 33),\n",
       " (9, 33),\n",
       " (1, 30),\n",
       " (1, 3),\n",
       " (15, 33),\n",
       " (2, 3),\n",
       " (2, 13),\n",
       " (29, 32),\n",
       " (8, 30),\n",
       " (28, 31),\n",
       " (2, 9),\n",
       " (0, 17),\n",
       " (1, 19),\n",
       " (0, 11),\n",
       " (0, 2),\n",
       " (5, 10),\n",
       " (24, 25),\n",
       " (23, 32),\n",
       " (26, 33),\n",
       " (23, 27),\n",
       " (3, 12),\n",
       " (8, 32),\n",
       " (0, 3),\n",
       " (28, 33),\n",
       " (4, 10),\n",
       " (15, 32),\n",
       " (1, 17),\n",
       " (2, 28),\n",
       " (0, 21),\n",
       " (5, 6),\n",
       " (6, 16),\n",
       " (13, 33),\n",
       " (30, 33),\n",
       " (30, 32),\n",
       " (24, 27)]"
      ]
     },
     "execution_count": 68,
     "metadata": {},
     "output_type": "execute_result"
    }
   ],
   "source": [
    "edges"
   ]
  },
  {
   "cell_type": "code",
   "execution_count": 62,
   "metadata": {
    "collapsed": true
   },
   "outputs": [],
   "source": [
    "?np.random.permutation"
   ]
  },
  {
   "cell_type": "code",
   "execution_count": 48,
   "metadata": {
    "collapsed": true
   },
   "outputs": [],
   "source": [
    "s = set()"
   ]
  },
  {
   "cell_type": "code",
   "execution_count": 53,
   "metadata": {
    "collapsed": true
   },
   "outputs": [],
   "source": [
    "s.add((1,4))"
   ]
  },
  {
   "cell_type": "code",
   "execution_count": 54,
   "metadata": {},
   "outputs": [
    {
     "data": {
      "text/plain": [
       "{7, (1, 4)}"
      ]
     },
     "execution_count": 54,
     "metadata": {},
     "output_type": "execute_result"
    }
   ],
   "source": [
    "s"
   ]
  },
  {
   "cell_type": "code",
   "execution_count": 40,
   "metadata": {},
   "outputs": [
    {
     "data": {
      "text/plain": [
       "18"
      ]
     },
     "execution_count": 40,
     "metadata": {},
     "output_type": "execute_result"
    }
   ],
   "source": [
    "len(s)"
   ]
  },
  {
   "cell_type": "code",
   "execution_count": 22,
   "metadata": {
    "collapsed": true
   },
   "outputs": [],
   "source": [
    "I, J = np.where(distances > 0.5,)"
   ]
  },
  {
   "cell_type": "code",
   "execution_count": null,
   "metadata": {
    "collapsed": true
   },
   "outputs": [],
   "source": [
    "edges = "
   ]
  },
  {
   "cell_type": "code",
   "execution_count": 23,
   "metadata": {
    "collapsed": true
   },
   "outputs": [],
   "source": [
    "edges = np.array([(u, v) for u, v in zip(I, J)])"
   ]
  },
  {
   "cell_type": "code",
   "execution_count": 27,
   "metadata": {
    "collapsed": true
   },
   "outputs": [],
   "source": [
    "e = np.array([(4,5), (6,7), (6,8)])"
   ]
  },
  {
   "cell_type": "code",
   "execution_count": 28,
   "metadata": {},
   "outputs": [
    {
     "ename": "ValueError",
     "evalue": "The truth value of an array with more than one element is ambiguous. Use a.any() or a.all()",
     "output_type": "error",
     "traceback": [
      "\u001b[0;31m---------------------------------------------------------------------------\u001b[0m",
      "\u001b[0;31mValueError\u001b[0m                                Traceback (most recent call last)",
      "\u001b[0;32m<ipython-input-28-6fe1eb9efb7f>\u001b[0m in \u001b[0;36m<module>\u001b[0;34m()\u001b[0m\n\u001b[0;32m----> 1\u001b[0;31m \u001b[0me\u001b[0m \u001b[0;32min\u001b[0m \u001b[0medges\u001b[0m\u001b[0;34m\u001b[0m\u001b[0m\n\u001b[0m",
      "\u001b[0;31mValueError\u001b[0m: The truth value of an array with more than one element is ambiguous. Use a.any() or a.all()"
     ]
    }
   ],
   "source": [
    "for ed in e:\n",
    "    if ed in edges:\n",
    "        "
   ]
  },
  {
   "cell_type": "code",
   "execution_count": 20,
   "metadata": {
    "collapsed": true
   },
   "outputs": [],
   "source": [
    "I, J = np.unravel_index(distances.argsort(axis=None)[::-1], distances.shape)"
   ]
  },
  {
   "cell_type": "code",
   "execution_count": null,
   "metadata": {
    "collapsed": true
   },
   "outputs": [],
   "source": [
    "np.arccosh"
   ]
  },
  {
   "cell_type": "code",
   "execution_count": 4,
   "metadata": {},
   "outputs": [
    {
     "data": {
      "text/plain": [
       "array([[[ 0,  1],\n",
       "        [ 2,  3],\n",
       "        [ 4,  5],\n",
       "        [ 6,  7],\n",
       "        [ 8,  9]],\n",
       "\n",
       "       [[10, 11],\n",
       "        [12, 13],\n",
       "        [14, 15],\n",
       "        [16, 17],\n",
       "        [18, 19]]])"
      ]
     },
     "execution_count": 4,
     "metadata": {},
     "output_type": "execute_result"
    }
   ],
   "source": [
    "a"
   ]
  },
  {
   "cell_type": "code",
   "execution_count": 5,
   "metadata": {},
   "outputs": [
    {
     "data": {
      "text/plain": [
       "array([[ 0,  1],\n",
       "       [ 2,  3],\n",
       "       [ 4,  5],\n",
       "       [ 6,  7],\n",
       "       [ 8,  9],\n",
       "       [10, 11],\n",
       "       [12, 13],\n",
       "       [14, 15],\n",
       "       [16, 17],\n",
       "       [18, 19]])"
      ]
     },
     "execution_count": 5,
     "metadata": {},
     "output_type": "execute_result"
    }
   ],
   "source": [
    "a.reshape(-1, a.shape[-1])"
   ]
  },
  {
   "cell_type": "code",
   "execution_count": 57,
   "metadata": {
    "collapsed": true
   },
   "outputs": [],
   "source": [
    "def list_apply(l, x):\n",
    "    y = x\n",
    "    for t in l:\n",
    "        for i in t:\n",
    "#             y = i(y)\n",
    "            print i\n",
    "        \n",
    "    return y\n",
    "\n",
    "# def zip_apply(l1, l2, x):\n",
    "#     y = x\n",
    "#     for t in zip(l1, l2):\n",
    "#         y = i(j(y))\n",
    "        \n",
    "#     return y"
   ]
  },
  {
   "cell_type": "code",
   "execution_count": 54,
   "metadata": {
    "collapsed": true
   },
   "outputs": [],
   "source": [
    "agg_layers = [\"agg_layer_0\", \"agg_layer_1\"]\n",
    "capsule_layers = [\"cap_layer_0\", \"cap_layer_1\"]\n",
    "capsule_outputs = [\"cap_layer_0\", \"cap_ouy_layer_1\"]\n",
    "reshape_layers = [\"reshape_0\", \"reshape_1\"]\n",
    "embeddings = [\"embedding_0\", \"embedding_1\"]"
   ]
  },
  {
   "cell_type": "code",
   "execution_count": 55,
   "metadata": {
    "collapsed": true
   },
   "outputs": [],
   "source": [
    "layer_lists = [zip(agg_layers[:l], capsule_layers[:l], capsule_outputs[:l]) + \n",
    "[(agg_layers[l], capsule_layers[l]), (reshape_layers[l], embeddings[l])] for l in range(2)]"
   ]
  },
  {
   "cell_type": "code",
   "execution_count": 56,
   "metadata": {},
   "outputs": [
    {
     "data": {
      "text/plain": [
       "[[('agg_layer_0', 'cap_layer_0'), ('reshape_0', 'embedding_0')],\n",
       " [('agg_layer_0', 'cap_layer_0', 'cap_layer_0'),\n",
       "  ('agg_layer_1', 'cap_layer_1'),\n",
       "  ('reshape_1', 'embedding_1')]]"
      ]
     },
     "execution_count": 56,
     "metadata": {},
     "output_type": "execute_result"
    }
   ],
   "source": [
    "layer_lists"
   ]
  },
  {
   "cell_type": "code",
   "execution_count": 64,
   "metadata": {
    "collapsed": true
   },
   "outputs": [],
   "source": [
    "lambdas = [lambda x, l=l: list_apply(l, x) for l in layer_lists]"
   ]
  },
  {
   "cell_type": "code",
   "execution_count": 62,
   "metadata": {},
   "outputs": [
    {
     "data": {
      "text/plain": [
       "[2, 3]"
      ]
     },
     "execution_count": 62,
     "metadata": {},
     "output_type": "execute_result"
    }
   ],
   "source": [
    "[len(l) for l in layer_lists]"
   ]
  },
  {
   "cell_type": "code",
   "execution_count": 65,
   "metadata": {},
   "outputs": [
    {
     "name": "stdout",
     "output_type": "stream",
     "text": [
      "agg_layer_0\n",
      "cap_layer_0\n",
      "reshape_0\n",
      "embedding_0\n"
     ]
    },
    {
     "data": {
      "text/plain": [
       "1"
      ]
     },
     "execution_count": 65,
     "metadata": {},
     "output_type": "execute_result"
    }
   ],
   "source": [
    "lambdas[0](1)"
   ]
  },
  {
   "cell_type": "code",
   "execution_count": 66,
   "metadata": {},
   "outputs": [
    {
     "name": "stdout",
     "output_type": "stream",
     "text": [
      "agg_layer_0\n",
      "cap_layer_0\n",
      "cap_layer_0\n",
      "agg_layer_1\n",
      "cap_layer_1\n",
      "reshape_1\n",
      "embedding_1\n"
     ]
    },
    {
     "data": {
      "text/plain": [
       "1"
      ]
     },
     "execution_count": 66,
     "metadata": {},
     "output_type": "execute_result"
    }
   ],
   "source": [
    "lambdas[1](1)"
   ]
  },
  {
   "cell_type": "code",
   "execution_count": 26,
   "metadata": {
    "collapsed": true
   },
   "outputs": [],
   "source": [
    "from sklearn.preprocessing import StandardScaler\n",
    "from sklearn.feature_selection import VarianceThreshold"
   ]
  },
  {
   "cell_type": "code",
   "execution_count": 27,
   "metadata": {
    "collapsed": true
   },
   "outputs": [],
   "source": [
    "import scipy as sp"
   ]
  },
  {
   "cell_type": "code",
   "execution_count": 36,
   "metadata": {
    "collapsed": true
   },
   "outputs": [],
   "source": [
    "X = sp.sparse.load_npz(\"../data/cora/cited_words.npz\").toarray()"
   ]
  },
  {
   "cell_type": "code",
   "execution_count": 37,
   "metadata": {
    "collapsed": true
   },
   "outputs": [],
   "source": [
    "variance_threshold = VarianceThreshold()"
   ]
  },
  {
   "cell_type": "code",
   "execution_count": 38,
   "metadata": {
    "collapsed": true
   },
   "outputs": [],
   "source": [
    "Y = variance_threshold.fit_transform(X)"
   ]
  },
  {
   "cell_type": "code",
   "execution_count": 39,
   "metadata": {},
   "outputs": [
    {
     "data": {
      "text/plain": [
       "(2708, 1432)"
      ]
     },
     "execution_count": 39,
     "metadata": {},
     "output_type": "execute_result"
    }
   ],
   "source": [
    "Y.shape"
   ]
  },
  {
   "cell_type": "code",
   "execution_count": 40,
   "metadata": {
    "collapsed": true
   },
   "outputs": [],
   "source": [
    "scaler = StandardScaler()"
   ]
  },
  {
   "cell_type": "code",
   "execution_count": 41,
   "metadata": {
    "collapsed": true
   },
   "outputs": [],
   "source": [
    "Z = scaler.fit_transform(Y)"
   ]
  },
  {
   "cell_type": "code",
   "execution_count": 42,
   "metadata": {},
   "outputs": [
    {
     "data": {
      "text/plain": [
       "array([  2.55826871e-17,   1.31193267e-17,  -4.06699129e-17, ...,\n",
       "         0.00000000e+00,  -6.55966337e-18,   2.16468891e-17])"
      ]
     },
     "execution_count": 42,
     "metadata": {},
     "output_type": "execute_result"
    }
   ],
   "source": [
    "Z.mean(axis=0)"
   ]
  },
  {
   "cell_type": "code",
   "execution_count": 43,
   "metadata": {},
   "outputs": [
    {
     "data": {
      "text/plain": [
       "array([ 1.,  1.,  1., ...,  1.,  1.,  1.])"
      ]
     },
     "execution_count": 43,
     "metadata": {},
     "output_type": "execute_result"
    }
   ],
   "source": [
    "Z.std(axis=0)"
   ]
  },
  {
   "cell_type": "code",
   "execution_count": 44,
   "metadata": {},
   "outputs": [
    {
     "data": {
      "text/plain": [
       "array([[-0.07709433, -0.11276096, -0.16644514, ..., -0.047123  ,\n",
       "        -0.1568224 , -0.08405845],\n",
       "       [-0.07709433, -0.11276096, -0.16644514, ..., -0.047123  ,\n",
       "        -0.1568224 , -0.08405845],\n",
       "       [-0.07709433, -0.11276096, -0.16644514, ..., -0.047123  ,\n",
       "        -0.1568224 , -0.08405845],\n",
       "       ..., \n",
       "       [-0.07709433, -0.11276096, -0.16644514, ..., -0.047123  ,\n",
       "        -0.1568224 , -0.08405845],\n",
       "       [-0.07709433, -0.11276096, -0.16644514, ..., -0.047123  ,\n",
       "        -0.1568224 , -0.08405845],\n",
       "       [-0.07709433, -0.11276096, -0.16644514, ..., -0.047123  ,\n",
       "        -0.1568224 , -0.08405845]])"
      ]
     },
     "execution_count": 44,
     "metadata": {},
     "output_type": "execute_result"
    }
   ],
   "source": [
    "Z"
   ]
  },
  {
   "cell_type": "code",
   "execution_count": null,
   "metadata": {
    "collapsed": true
   },
   "outputs": [],
   "source": [
    "Model."
   ]
  },
  {
   "cell_type": "code",
   "execution_count": 7,
   "metadata": {
    "collapsed": true
   },
   "outputs": [],
   "source": [
    "l = [(\"1\",)]"
   ]
  },
  {
   "cell_type": "code",
   "execution_count": 8,
   "metadata": {},
   "outputs": [
    {
     "data": {
      "text/plain": [
       "[('1',)]"
      ]
     },
     "execution_count": 8,
     "metadata": {},
     "output_type": "execute_result"
    }
   ],
   "source": [
    "l"
   ]
  },
  {
   "cell_type": "code",
   "execution_count": 10,
   "metadata": {},
   "outputs": [
    {
     "name": "stdout",
     "output_type": "stream",
     "text": [
      "1\n",
      "1\n"
     ]
    }
   ],
   "source": [
    "for t in l:\n",
    "    print len(t)\n",
    "    for i in t:\n",
    "        print i"
   ]
  },
  {
   "cell_type": "code",
   "execution_count": 141,
   "metadata": {
    "collapsed": true
   },
   "outputs": [],
   "source": [
    "a = [1,2,3,4]\n",
    "c = [5,6,7,8]\n",
    "co = [9,10,11,12]\n",
    "em = [13,14,15,16]\n",
    "dis = [17,18,19,20]"
   ]
  },
  {
   "cell_type": "code",
   "execution_count": 145,
   "metadata": {},
   "outputs": [
    {
     "data": {
      "text/plain": [
       "4"
      ]
     },
     "execution_count": 145,
     "metadata": {},
     "output_type": "execute_result"
    }
   ],
   "source": [
    "a[3]"
   ]
  },
  {
   "cell_type": "code",
   "execution_count": 156,
   "metadata": {
    "collapsed": true
   },
   "outputs": [],
   "source": [
    "?K.mean()"
   ]
  },
  {
   "cell_type": "code",
   "execution_count": 165,
   "metadata": {
    "collapsed": true
   },
   "outputs": [],
   "source": [
    "?K.mean"
   ]
  },
  {
   "cell_type": "code",
   "execution_count": 185,
   "metadata": {},
   "outputs": [
    {
     "name": "stdout",
     "output_type": "stream",
     "text": [
      "[[[[  0.   1.]\n",
      "   [  2.   3.]\n",
      "   [  4.   5.]]\n",
      "\n",
      "  [[  6.   7.]\n",
      "   [  8.   9.]\n",
      "   [ 10.  11.]]\n",
      "\n",
      "  [[ 12.  13.]\n",
      "   [ 14.  15.]\n",
      "   [ 16.  17.]]\n",
      "\n",
      "  [[ 18.  19.]\n",
      "   [ 20.  21.]\n",
      "   [ 22.  23.]]\n",
      "\n",
      "  [[ 24.  25.]\n",
      "   [ 26.  27.]\n",
      "   [ 28.  29.]]\n",
      "\n",
      "  [[ 30.  31.]\n",
      "   [ 32.  33.]\n",
      "   [ 34.  35.]]\n",
      "\n",
      "  [[ 36.  37.]\n",
      "   [ 38.  39.]\n",
      "   [ 40.  41.]]\n",
      "\n",
      "  [[ 42.  43.]\n",
      "   [ 44.  45.]\n",
      "   [ 46.  47.]]\n",
      "\n",
      "  [[ 48.  49.]\n",
      "   [ 50.  51.]\n",
      "   [ 52.  53.]]\n",
      "\n",
      "  [[ 54.  55.]\n",
      "   [ 56.  57.]\n",
      "   [ 58.  59.]]\n",
      "\n",
      "  [[ 60.  61.]\n",
      "   [ 62.  63.]\n",
      "   [ 64.  65.]]\n",
      "\n",
      "  [[ 66.  67.]\n",
      "   [ 68.  69.]\n",
      "   [ 70.  71.]]\n",
      "\n",
      "  [[ 72.  73.]\n",
      "   [ 74.  75.]\n",
      "   [ 76.  77.]]\n",
      "\n",
      "  [[ 78.  79.]\n",
      "   [ 80.  81.]\n",
      "   [ 82.  83.]]\n",
      "\n",
      "  [[ 84.  85.]\n",
      "   [ 86.  87.]\n",
      "   [ 88.  89.]]]]\n",
      "[[[[  0.   1.   2.]\n",
      "   [  3.   4.   5.]]\n",
      "\n",
      "  [[  6.   7.   8.]\n",
      "   [  9.  10.  11.]]\n",
      "\n",
      "  [[ 12.  13.  14.]\n",
      "   [ 15.  16.  17.]]\n",
      "\n",
      "  [[ 18.  19.  20.]\n",
      "   [ 21.  22.  23.]]\n",
      "\n",
      "  [[ 24.  25.  26.]\n",
      "   [ 27.  28.  29.]]\n",
      "\n",
      "  [[ 30.  31.  32.]\n",
      "   [ 33.  34.  35.]]\n",
      "\n",
      "  [[ 36.  37.  38.]\n",
      "   [ 39.  40.  41.]]\n",
      "\n",
      "  [[ 42.  43.  44.]\n",
      "   [ 45.  46.  47.]]\n",
      "\n",
      "  [[ 48.  49.  50.]\n",
      "   [ 51.  52.  53.]]\n",
      "\n",
      "  [[ 54.  55.  56.]\n",
      "   [ 57.  58.  59.]]\n",
      "\n",
      "  [[ 60.  61.  62.]\n",
      "   [ 63.  64.  65.]]\n",
      "\n",
      "  [[ 66.  67.  68.]\n",
      "   [ 69.  70.  71.]]\n",
      "\n",
      "  [[ 72.  73.  74.]\n",
      "   [ 75.  76.  77.]]\n",
      "\n",
      "  [[ 78.  79.  80.]\n",
      "   [ 81.  82.  83.]]\n",
      "\n",
      "  [[ 84.  85.  86.]\n",
      "   [ 87.  88.  89.]]]]\n"
     ]
    }
   ],
   "source": [
    "with tf.Session() as sess:\n",
    "    \n",
    "    n = 2\n",
    "    \n",
    "    a = tf.constant(np.arange(90, dtype=np.float32).reshape(1, 15, 3, 2))\n",
    "    print a.eval(session=sess)\n",
    "#     print K.shape(a)\n",
    "# #     b = K.map_fn(lambda x : K.map_fn(lambda i: , elems=range(a.shape[1] / (n+1))), elems=a)\n",
    "\n",
    "#     b = K.reshape(a, shape=[1, -1, n+1] + [3, 2])\n",
    "    \n",
    "#     print b.shape\n",
    "# #     print b.eval(session=sess)\n",
    "    \n",
    "#     c = K.mean(b, axis=2)\n",
    "    \n",
    "#     print c.eval(session=sess)\n",
    "#     print c.shape\n",
    "    \n",
    "#     print a.eval(session=sess).shape\n",
    "    print K.reshape(a, shape=(1, 15, 2, 3)).eval(session=sess)\n",
    "    "
   ]
  },
  {
   "cell_type": "code",
   "execution_count": 153,
   "metadata": {},
   "outputs": [
    {
     "data": {
      "text/plain": [
       "[1, 2, 3]"
      ]
     },
     "execution_count": 153,
     "metadata": {},
     "output_type": "execute_result"
    }
   ],
   "source": [
    "a[:-1]"
   ]
  },
  {
   "cell_type": "code",
   "execution_count": 144,
   "metadata": {},
   "outputs": [
    {
     "ename": "TypeError",
     "evalue": "zip argument #1 must support iteration",
     "output_type": "error",
     "traceback": [
      "\u001b[0;31m---------------------------------------------------------------------------\u001b[0m",
      "\u001b[0;31mTypeError\u001b[0m                                 Traceback (most recent call last)",
      "\u001b[0;32m<ipython-input-144-4428cfa97ddf>\u001b[0m in \u001b[0;36m<module>\u001b[0;34m()\u001b[0m\n\u001b[0;32m----> 1\u001b[0;31m \u001b[0mzip\u001b[0m\u001b[0;34m(\u001b[0m\u001b[0ma\u001b[0m\u001b[0;34m[\u001b[0m\u001b[0;36m3\u001b[0m\u001b[0;34m]\u001b[0m\u001b[0;34m,\u001b[0m \u001b[0mc\u001b[0m\u001b[0;34m[\u001b[0m\u001b[0;36m3\u001b[0m\u001b[0;34m]\u001b[0m\u001b[0;34m)\u001b[0m\u001b[0;34m\u001b[0m\u001b[0m\n\u001b[0m",
      "\u001b[0;31mTypeError\u001b[0m: zip argument #1 must support iteration"
     ]
    }
   ],
   "source": [
    "zip(a[3], c[3])"
   ]
  },
  {
   "cell_type": "code",
   "execution_count": null,
   "metadata": {
    "collapsed": true
   },
   "outputs": [],
   "source": []
  },
  {
   "cell_type": "code",
   "execution_count": 151,
   "metadata": {},
   "outputs": [
    {
     "data": {
      "text/plain": [
       "[(1, 5, 9), (2, 6, 10), (3, 7), (15, 19)]"
      ]
     },
     "execution_count": 151,
     "metadata": {},
     "output_type": "execute_result"
    }
   ],
   "source": [
    "zip(a[:2], c[:2], co[:2]) + [(a[2], c[2]), (em[2], dis[2])]"
   ]
  },
  {
   "cell_type": "code",
   "execution_count": 128,
   "metadata": {},
   "outputs": [
    {
     "name": "stdout",
     "output_type": "stream",
     "text": [
      "1\n",
      "2\n",
      "3\n",
      "4\n"
     ]
    }
   ],
   "source": [
    "for i, in zip(l):\n",
    "    print i"
   ]
  },
  {
   "cell_type": "code",
   "execution_count": 47,
   "metadata": {
    "collapsed": true
   },
   "outputs": [],
   "source": [
    "x1 = Input(batch_shape=(100, 10))\n",
    "\n",
    "y1 = Dense(2, name=\"y1\")\n",
    "y2 = Dense(2, name=\"y2\")\n",
    "\n",
    "y = [y1, y2]\n",
    "\n",
    "z1 = Dense(2, name=\"z1\")\n",
    "z2 = Dense(2, name=\"z2\")\n",
    "\n",
    "z = [z1, z2]\n",
    "\n",
    "# output = list_apply(z, list_apply(y[:1], x1))\n",
    "output = lambda x: list_apply(zip(z, y), x)\n",
    "\n",
    "# y = y2(y1)\n",
    "\n",
    "m1 = Model(x1, output (x1))"
   ]
  },
  {
   "cell_type": "code",
   "execution_count": 48,
   "metadata": {},
   "outputs": [
    {
     "name": "stdout",
     "output_type": "stream",
     "text": [
      "_________________________________________________________________\n",
      "Layer (type)                 Output Shape              Param #   \n",
      "=================================================================\n",
      "input_2 (InputLayer)         (100, 10)                 0         \n",
      "_________________________________________________________________\n",
      "z1 (Dense)                   (100, 2)                  22        \n",
      "_________________________________________________________________\n",
      "y1 (Dense)                   (100, 2)                  6         \n",
      "_________________________________________________________________\n",
      "z2 (Dense)                   (100, 2)                  6         \n",
      "_________________________________________________________________\n",
      "y2 (Dense)                   (100, 2)                  6         \n",
      "=================================================================\n",
      "Total params: 40\n",
      "Trainable params: 40\n",
      "Non-trainable params: 0\n",
      "_________________________________________________________________\n"
     ]
    }
   ],
   "source": [
    "m1.summary()"
   ]
  },
  {
   "cell_type": "code",
   "execution_count": 50,
   "metadata": {},
   "outputs": [
    {
     "name": "stdout",
     "output_type": "stream",
     "text": [
      "z1\n",
      "z2\n"
     ]
    }
   ],
   "source": [
    "for layer in z:\n",
    "    print layer.name"
   ]
  },
  {
   "cell_type": "code",
   "execution_count": 51,
   "metadata": {
    "collapsed": true
   },
   "outputs": [],
   "source": [
    "f = lambda x: 2*x"
   ]
  },
  {
   "cell_type": "code",
   "execution_count": 53,
   "metadata": {},
   "outputs": [
    {
     "data": {
      "text/plain": [
       "'<lambda>'"
      ]
     },
     "execution_count": 53,
     "metadata": {},
     "output_type": "execute_result"
    }
   ],
   "source": [
    "f.func_name"
   ]
  },
  {
   "cell_type": "code",
   "execution_count": null,
   "metadata": {
    "collapsed": true
   },
   "outputs": [],
   "source": [
    "m1"
   ]
  },
  {
   "cell_type": "code",
   "execution_count": 92,
   "metadata": {
    "collapsed": true
   },
   "outputs": [],
   "source": [
    "x2 = Input(batch_shape=(10, 10))\n",
    "\n",
    "m2 = Model(x2, list_apply(y, x2))"
   ]
  },
  {
   "cell_type": "code",
   "execution_count": 93,
   "metadata": {},
   "outputs": [
    {
     "name": "stdout",
     "output_type": "stream",
     "text": [
      "_________________________________________________________________\n",
      "Layer (type)                 Output Shape              Param #   \n",
      "=================================================================\n",
      "input_6 (InputLayer)         (10, 10)                  0         \n",
      "_________________________________________________________________\n",
      "dense_2 (Dense)              multiple                  22        \n",
      "=================================================================\n",
      "Total params: 22\n",
      "Trainable params: 22\n",
      "Non-trainable params: 0\n",
      "_________________________________________________________________\n"
     ]
    }
   ],
   "source": [
    "m2.summary()"
   ]
  },
  {
   "cell_type": "code",
   "execution_count": 18,
   "metadata": {
    "collapsed": true
   },
   "outputs": [],
   "source": [
    "nodes = np.arange(100)\n",
    "walk = np.random.choice(nodes, replace=True, size=5)"
   ]
  },
  {
   "cell_type": "code",
   "execution_count": 19,
   "metadata": {},
   "outputs": [
    {
     "data": {
      "text/plain": [
       "array([83, 42, 46, 72,  9])"
      ]
     },
     "execution_count": 19,
     "metadata": {},
     "output_type": "execute_result"
    }
   ],
   "source": [
    "walk"
   ]
  },
  {
   "cell_type": "code",
   "execution_count": 20,
   "metadata": {
    "collapsed": true
   },
   "outputs": [],
   "source": [
    "context_size = 2\n",
    "pairs = []\n",
    "for i in range(len(walk)):\n",
    "    for j in range(i + 1, min(len(walk), i+context_size)):\n",
    "        \n",
    "        pairs.extend([(walk[i], walk[j]), (walk[j], walk[i])])"
   ]
  },
  {
   "cell_type": "code",
   "execution_count": 74,
   "metadata": {},
   "outputs": [
    {
     "data": {
      "text/plain": [
       "(1, 10)"
      ]
     },
     "execution_count": 74,
     "metadata": {},
     "output_type": "execute_result"
    }
   ],
   "source": [
    "np.arange(10).reshape(1, -1).shape"
   ]
  },
  {
   "cell_type": "code",
   "execution_count": 21,
   "metadata": {},
   "outputs": [
    {
     "data": {
      "text/plain": [
       "8"
      ]
     },
     "execution_count": 21,
     "metadata": {},
     "output_type": "execute_result"
    }
   ],
   "source": [
    "len(pairs)"
   ]
  },
  {
   "cell_type": "code",
   "execution_count": 24,
   "metadata": {},
   "outputs": [
    {
     "data": {
      "text/plain": [
       "array([42, 83])"
      ]
     },
     "execution_count": 24,
     "metadata": {},
     "output_type": "execute_result"
    }
   ],
   "source": [
    "np.array([83, 42])[::-1]"
   ]
  },
  {
   "cell_type": "code",
   "execution_count": 55,
   "metadata": {
    "collapsed": true
   },
   "outputs": [],
   "source": [
    "def gen():\n",
    "    i = 0\n",
    "    while True:\n",
    "        yield np.array([i, i+1])\n",
    "        i += 1"
   ]
  },
  {
   "cell_type": "code",
   "execution_count": 58,
   "metadata": {
    "collapsed": true
   },
   "outputs": [],
   "source": [
    "from itertools import islice, izip_longest"
   ]
  },
  {
   "cell_type": "code",
   "execution_count": 62,
   "metadata": {
    "collapsed": true
   },
   "outputs": [],
   "source": [
    "?izip_longest"
   ]
  },
  {
   "cell_type": "code",
   "execution_count": 59,
   "metadata": {
    "collapsed": true
   },
   "outputs": [],
   "source": [
    "def grouper(n, iterable, fillvalue=None):\n",
    "    \"grouper(3, 'ABCDEFG', 'x') --> ABC DEF Gxx\"\n",
    "    args = [iter(iterable)] * n\n",
    "    return izip_longest(fillvalue=fillvalue, *args)"
   ]
  },
  {
   "cell_type": "code",
   "execution_count": 72,
   "metadata": {},
   "outputs": [
    {
     "data": {
      "text/plain": [
       "array([[  0,   1],\n",
       "       [  1,   2],\n",
       "       [  2,   3],\n",
       "       [  3,   4],\n",
       "       [  4,   5],\n",
       "       [  5,   6],\n",
       "       [  6,   7],\n",
       "       [  7,   8],\n",
       "       [  8,   9],\n",
       "       [  9,  10],\n",
       "       [ 10,  11],\n",
       "       [ 11,  12],\n",
       "       [ 12,  13],\n",
       "       [ 13,  14],\n",
       "       [ 14,  15],\n",
       "       [ 15,  16],\n",
       "       [ 16,  17],\n",
       "       [ 17,  18],\n",
       "       [ 18,  19],\n",
       "       [ 19,  20],\n",
       "       [ 20,  21],\n",
       "       [ 21,  22],\n",
       "       [ 22,  23],\n",
       "       [ 23,  24],\n",
       "       [ 24,  25],\n",
       "       [ 25,  26],\n",
       "       [ 26,  27],\n",
       "       [ 27,  28],\n",
       "       [ 28,  29],\n",
       "       [ 29,  30],\n",
       "       [ 30,  31],\n",
       "       [ 31,  32],\n",
       "       [ 32,  33],\n",
       "       [ 33,  34],\n",
       "       [ 34,  35],\n",
       "       [ 35,  36],\n",
       "       [ 36,  37],\n",
       "       [ 37,  38],\n",
       "       [ 38,  39],\n",
       "       [ 39,  40],\n",
       "       [ 40,  41],\n",
       "       [ 41,  42],\n",
       "       [ 42,  43],\n",
       "       [ 43,  44],\n",
       "       [ 44,  45],\n",
       "       [ 45,  46],\n",
       "       [ 46,  47],\n",
       "       [ 47,  48],\n",
       "       [ 48,  49],\n",
       "       [ 49,  50],\n",
       "       [ 50,  51],\n",
       "       [ 51,  52],\n",
       "       [ 52,  53],\n",
       "       [ 53,  54],\n",
       "       [ 54,  55],\n",
       "       [ 55,  56],\n",
       "       [ 56,  57],\n",
       "       [ 57,  58],\n",
       "       [ 58,  59],\n",
       "       [ 59,  60],\n",
       "       [ 60,  61],\n",
       "       [ 61,  62],\n",
       "       [ 62,  63],\n",
       "       [ 63,  64],\n",
       "       [ 64,  65],\n",
       "       [ 65,  66],\n",
       "       [ 66,  67],\n",
       "       [ 67,  68],\n",
       "       [ 68,  69],\n",
       "       [ 69,  70],\n",
       "       [ 70,  71],\n",
       "       [ 71,  72],\n",
       "       [ 72,  73],\n",
       "       [ 73,  74],\n",
       "       [ 74,  75],\n",
       "       [ 75,  76],\n",
       "       [ 76,  77],\n",
       "       [ 77,  78],\n",
       "       [ 78,  79],\n",
       "       [ 79,  80],\n",
       "       [ 80,  81],\n",
       "       [ 81,  82],\n",
       "       [ 82,  83],\n",
       "       [ 83,  84],\n",
       "       [ 84,  85],\n",
       "       [ 85,  86],\n",
       "       [ 86,  87],\n",
       "       [ 87,  88],\n",
       "       [ 88,  89],\n",
       "       [ 89,  90],\n",
       "       [ 90,  91],\n",
       "       [ 91,  92],\n",
       "       [ 92,  93],\n",
       "       [ 93,  94],\n",
       "       [ 94,  95],\n",
       "       [ 95,  96],\n",
       "       [ 96,  97],\n",
       "       [ 97,  98],\n",
       "       [ 98,  99],\n",
       "       [ 99, 100]])"
      ]
     },
     "execution_count": 72,
     "metadata": {},
     "output_type": "execute_result"
    }
   ],
   "source": [
    "np.array(grouper(100, gen()).next())"
   ]
  },
  {
   "cell_type": "code",
   "execution_count": 52,
   "metadata": {},
   "outputs": [
    {
     "data": {
      "text/plain": [
       "array([43, 44])"
      ]
     },
     "execution_count": 52,
     "metadata": {},
     "output_type": "execute_result"
    }
   ],
   "source": [
    "islice(gen , 3, 10, 2).next()"
   ]
  },
  {
   "cell_type": "code",
   "execution_count": 2,
   "metadata": {
    "collapsed": true
   },
   "outputs": [],
   "source": [
    "def safe_norm(x, axis=-1, sqrt=False):\n",
    "    x = np.sum(np.square(x), axis=-axis, keepdims=True) + K.epsilon()\n",
    "    if sqrt:\n",
    "        x = np.sqrt(x)\n",
    "    return x\n",
    "def squash(x, axis=-1):\n",
    "    squared_norm = safe_norm(x, axis=axis)\n",
    "    scale = squared_norm / (1 + squared_norm) / np.sqrt(squared_norm)\n",
    "    return scale * x\n",
    "def hyperbolic_distance(u, v):\n",
    "    u_norm = np.linalg.norm(u, axis=-1)\n",
    "    v_norm = np.linalg.norm(v, axis=-1)\n",
    "    assert u_norm < 1 and v_norm < 1\n",
    "    return np.arccosh(1 + 2 * np.linalg.norm(u - v) ** 2 / ((1 - u_norm**2) * (1 - v_norm**2)))"
   ]
  },
  {
   "cell_type": "code",
   "execution_count": 30,
   "metadata": {},
   "outputs": [
    {
     "data": {
      "text/plain": [
       "array([[  9.24076173e-04,   1.91331978e-03,  -9.22470672e-05,\n",
       "         -7.13375370e-05],\n",
       "       [  1.20125040e-03,   1.11569007e-03,  -1.02094547e-03,\n",
       "         -1.22316875e-04]])"
      ]
     },
     "execution_count": 30,
     "metadata": {},
     "output_type": "execute_result"
    }
   ],
   "source": [
    "X = np.random.normal(scale=0.001, size=(2, 4))\n",
    "X"
   ]
  },
  {
   "cell_type": "code",
   "execution_count": 21,
   "metadata": {},
   "outputs": [
    {
     "data": {
      "text/plain": [
       "array([[-0.90384774,  0.58132038,  0.89521733, -0.47795096],\n",
       "       [ 0.50977571, -0.97172395,  0.81522698, -0.9444482 ]])"
      ]
     },
     "execution_count": 21,
     "metadata": {},
     "output_type": "execute_result"
    }
   ],
   "source": [
    "np.tanh(X)"
   ]
  },
  {
   "cell_type": "code",
   "execution_count": 31,
   "metadata": {},
   "outputs": [
    {
     "data": {
      "text/plain": [
       "array([[  2.17270860e-06,   4.49864032e-06,  -2.16893371e-07,\n",
       "         -1.67730415e-07],\n",
       "       [  2.61668981e-06,   2.43031331e-06,  -2.22393068e-06,\n",
       "         -2.66443466e-07]])"
      ]
     },
     "execution_count": 31,
     "metadata": {},
     "output_type": "execute_result"
    }
   ],
   "source": [
    "squashed_X = squash(X)\n",
    "squashed_X"
   ]
  },
  {
   "cell_type": "code",
   "execution_count": 32,
   "metadata": {},
   "outputs": [
    {
     "data": {
      "text/plain": [
       "array([[  2.17270860e-06,   4.49864032e-06,  -2.16893371e-07,\n",
       "         -1.67730415e-07],\n",
       "       [  2.61668981e-06,   2.43031331e-06,  -2.22393068e-06,\n",
       "         -2.66443466e-07]])"
      ]
     },
     "execution_count": 32,
     "metadata": {},
     "output_type": "execute_result"
    }
   ],
   "source": [
    "np.tanh(squashed_X)"
   ]
  },
  {
   "cell_type": "code",
   "execution_count": 33,
   "metadata": {},
   "outputs": [
    {
     "data": {
      "text/plain": [
       "array([[  5.00335924e-06],\n",
       "       [  4.21548908e-06]])"
      ]
     },
     "execution_count": 33,
     "metadata": {},
     "output_type": "execute_result"
    }
   ],
   "source": [
    "lengths = np.linalg.norm(squashed_X, axis=-1, keepdims=True)\n",
    "# lengths = 2 * (lengths - 0.5)\n",
    "\n",
    "lengths"
   ]
  },
  {
   "cell_type": "code",
   "execution_count": 25,
   "metadata": {},
   "outputs": [
    {
     "data": {
      "text/plain": [
       "array([ 0.4697683 ,  0.46730425])"
      ]
     },
     "execution_count": 25,
     "metadata": {},
     "output_type": "execute_result"
    }
   ],
   "source": [
    "feature_coords = squash(lengths, axis=0).flatten()\n",
    "# np.linalg.norm(2 * (feature_coords - 0.5))\n",
    "feature_coords"
   ]
  },
  {
   "cell_type": "code",
   "execution_count": 14,
   "metadata": {},
   "outputs": [
    {
     "data": {
      "text/plain": [
       "0.93473577793304197"
      ]
     },
     "execution_count": 14,
     "metadata": {},
     "output_type": "execute_result"
    }
   ],
   "source": [
    "np.linalg.norm(feature_coords)"
   ]
  },
  {
   "cell_type": "code",
   "execution_count": 65,
   "metadata": {
    "collapsed": true
   },
   "outputs": [],
   "source": [
    "r = np.linalg.norm(feature_coords)\n",
    "theta = 4*np.arctan(feature_coords[1]/ feature_coords[0])"
   ]
  },
  {
   "cell_type": "code",
   "execution_count": 68,
   "metadata": {
    "collapsed": true
   },
   "outputs": [],
   "source": [
    "f=r * np.array([np.cos(theta), np.sin(theta)])"
   ]
  },
  {
   "cell_type": "code",
   "execution_count": 70,
   "metadata": {},
   "outputs": [
    {
     "data": {
      "text/plain": [
       "0.99902412972352461"
      ]
     },
     "execution_count": 70,
     "metadata": {},
     "output_type": "execute_result"
    }
   ],
   "source": [
    "np.linalg.norm(f)"
   ]
  },
  {
   "cell_type": "code",
   "execution_count": 87,
   "metadata": {},
   "outputs": [
    {
     "data": {
      "text/plain": [
       "array([ 0.95542784,  0.94603661])"
      ]
     },
     "execution_count": 87,
     "metadata": {},
     "output_type": "execute_result"
    }
   ],
   "source": [
    "np.linalg.norm(squash(X), axis=-1)"
   ]
  },
  {
   "cell_type": "code",
   "execution_count": 35,
   "metadata": {
    "collapsed": true
   },
   "outputs": [],
   "source": [
    "%matplotlib inline\n",
    "import matplotlib.pyplot as plt"
   ]
  },
  {
   "cell_type": "code",
   "execution_count": 36,
   "metadata": {},
   "outputs": [
    {
     "data": {
      "text/plain": [
       "<matplotlib.collections.PathCollection at 0x7f6e4953e310>"
      ]
     },
     "execution_count": 36,
     "metadata": {},
     "output_type": "execute_result"
    },
    {
     "data": {
      "image/png": "[encoded data removed]",
      "text/plain": [
       "<matplotlib.figure.Figure at 0x7f6e49551910>"
      ]
     },
     "metadata": {},
     "output_type": "display_data"
    }
   ],
   "source": [
    "plt.scatter(np.arange(1, 10, 0.01), np.arccosh(np.arange(1, 10, 0.01)))"
   ]
  },
  {
   "cell_type": "code",
   "execution_count": 45,
   "metadata": {},
   "outputs": [
    {
     "data": {
      "text/plain": [
       "0.30119421191220214"
      ]
     },
     "execution_count": 45,
     "metadata": {},
     "output_type": "execute_result"
    }
   ],
   "source": [
    "np.exp(-1.2)"
   ]
  },
  {
   "cell_type": "code",
   "execution_count": 44,
   "metadata": {},
   "outputs": [
    {
     "data": {
      "text/plain": [
       "0.69314718055994529"
      ]
     },
     "execution_count": 44,
     "metadata": {},
     "output_type": "execute_result"
    }
   ],
   "source": [
    "-np.log(0.5)"
   ]
  },
  {
   "cell_type": "code",
   "execution_count": 38,
   "metadata": {},
   "outputs": [
    {
     "name": "stdout",
     "output_type": "stream",
     "text": [
      "(10, 4)\n"
     ]
    }
   ],
   "source": [
    "# def f(x):\n",
    "#     print x.shape\n",
    "#     return g(x)\n",
    "# def g(x):\n",
    "#     print x.shape\n",
    "#     return x\n",
    "\n",
    "# f = lambda x: x.shape\n",
    "\n",
    "with tf.Session() as sess:\n",
    "    \n",
    "#     Y = np.append(np.ones((10,1)), np.zeros((10, 9)), axis=1)\n",
    "#     print Y.shape\n",
    "    \n",
    "#     mask = np.zeros_like(Y)\n",
    "#     mask[1] = 1\n",
    "    \n",
    "#     n = np.array([[1,2,3],[4,5,6]])\n",
    "#     print n.shape\n",
    "    \n",
    "#     y_n = Y[n]\n",
    "#     print y_n.shape\n",
    "    \n",
    "#     m_n = mask[n]\n",
    "#     print (m_n > 0.).any()\n",
    "#     print m_n\n",
    "#     print m_n.mean()\n",
    "#     a = K.constant(np.zeros((5, 10, 3, 5)))\n",
    "#     print K.shape(a)[2].eval(session=sess)\n",
    "#     idx = K.constant(np.array([[1,3,5]]))\n",
    "#     print a[:, 0:10:2 ].shape\n",
    "#     print a.\n",
    "#     a = K.constant(np.ones((10, 1, 2)))\n",
    "#     b = K.constant(np.ones((10, 5, 2)))\n",
    "#     print (a-b).shape\n",
    "#     inputs = K.constant(np.random.rand(1, 1, 8, 3, 10))\n",
    "#     W = K.constant(np.ones((8, 3, 5, 10)))\n",
    "#     Wx = K.map_fn(lambda x : K.map_fn(lambda y: K.batch_dot(y, W, axes=[2,3]), elems=x), elems=inputs)\n",
    "#     print Wx.eval(session=sess)\n",
    "    a = K.constant(np.ones((10, 7, 4)))\n",
    "#     print safe_norm(a, ).eval(session=sess).shape\n",
    "#     print a.shape\n",
    "#     u = a[:,:1]\n",
    "#     v = a[:,1:]\n",
    "#     print u.shape, v.shape\n",
    "#     print (u-v).eval(session=sess)\n",
    "#     print (u-v).shape, safe_norm(u-v).shape\n",
    "    print a[:,0].shape"
   ]
  },
  {
   "cell_type": "code",
   "execution_count": 38,
   "metadata": {
    "collapsed": true
   },
   "outputs": [],
   "source": [
    "def squash(x):\n",
    "    norm = np.linalg.norm(x, axis=-1, keepdims=True)\n",
    "    print norm.shape\n",
    "    return norm**2 / (1 + norm**2) / (norm+1e-8) * x"
   ]
  },
  {
   "cell_type": "code",
   "execution_count": 39,
   "metadata": {
    "collapsed": true
   },
   "outputs": [],
   "source": [
    "A = np.random.rand(10, 8)*10"
   ]
  },
  {
   "cell_type": "code",
   "execution_count": 42,
   "metadata": {},
   "outputs": [
    {
     "name": "stdout",
     "output_type": "stream",
     "text": [
      "(10, 1)\n"
     ]
    }
   ],
   "source": [
    "squashed_a = squash(A)"
   ]
  },
  {
   "cell_type": "code",
   "execution_count": 47,
   "metadata": {
    "collapsed": true
   },
   "outputs": [],
   "source": [
    "length = np.linalg.norm(squashed_a, axis=1, keepdims=True)"
   ]
  },
  {
   "cell_type": "code",
   "execution_count": 53,
   "metadata": {},
   "outputs": [
    {
     "data": {
      "text/plain": [
       "array([[ 0.99561072],\n",
       "       [ 0.99737083],\n",
       "       [ 0.99615503],\n",
       "       [ 0.99569251],\n",
       "       [ 0.99564879],\n",
       "       [ 0.99762314],\n",
       "       [ 0.99609154],\n",
       "       [ 0.9952919 ],\n",
       "       [ 0.99722427],\n",
       "       [ 0.99755826]])"
      ]
     },
     "execution_count": 53,
     "metadata": {},
     "output_type": "execute_result"
    }
   ],
   "source": [
    "length"
   ]
  },
  {
   "cell_type": "code",
   "execution_count": 54,
   "metadata": {
    "collapsed": true
   },
   "outputs": [],
   "source": [
    "from scipy.sparse import csr_matrix"
   ]
  },
  {
   "cell_type": "code",
   "execution_count": 55,
   "metadata": {
    "collapsed": true
   },
   "outputs": [],
   "source": [
    "a = np.zeros((10, 2))\n",
    "a[1] = 1"
   ]
  },
  {
   "cell_type": "code",
   "execution_count": 56,
   "metadata": {},
   "outputs": [
    {
     "data": {
      "text/plain": [
       "<10x2 sparse matrix of type '<type 'numpy.float64'>'\n",
       "\twith 2 stored elements in Compressed Sparse Row format>"
      ]
     },
     "execution_count": 56,
     "metadata": {},
     "output_type": "execute_result"
    }
   ],
   "source": [
    "csr_matrix(a)"
   ]
  },
  {
   "cell_type": "code",
   "execution_count": 57,
   "metadata": {},
   "outputs": [
    {
     "ename": "NameError",
     "evalue": "name 'model' is not defined",
     "output_type": "error",
     "traceback": [
      "\u001b[0;31m---------------------------------------------------------------------------\u001b[0m",
      "\u001b[0;31mNameError\u001b[0m                                 Traceback (most recent call last)",
      "\u001b[0;32m<ipython-input-57-458d5f1afc81>\u001b[0m in \u001b[0;36m<module>\u001b[0;34m()\u001b[0m\n\u001b[0;32m----> 1\u001b[0;31m \u001b[0mmodel\u001b[0m\u001b[0;34m\u001b[0m\u001b[0m\n\u001b[0m",
      "\u001b[0;31mNameError\u001b[0m: name 'model' is not defined"
     ]
    }
   ],
   "source": [
    "model"
   ]
  },
  {
   "cell_type": "code",
   "execution_count": 48,
   "metadata": {},
   "outputs": [
    {
     "name": "stdout",
     "output_type": "stream",
     "text": [
      "(10, 1)\n"
     ]
    },
    {
     "data": {
      "text/plain": [
       "array([[ 0.49780054],\n",
       "       [ 0.49868368],\n",
       "       [ 0.49807381],\n",
       "       [ 0.49784161],\n",
       "       [ 0.49781966],\n",
       "       [ 0.49881015],\n",
       "       [ 0.49804195],\n",
       "       [ 0.4976404 ],\n",
       "       [ 0.4986102 ],\n",
       "       [ 0.49877763]])"
      ]
     },
     "execution_count": 48,
     "metadata": {},
     "output_type": "execute_result"
    }
   ],
   "source": [
    "squash(length)"
   ]
  },
  {
   "cell_type": "code",
   "execution_count": 52,
   "metadata": {},
   "outputs": [
    {
     "name": "stdout",
     "output_type": "stream",
     "text": [
      "(1,)\n"
     ]
    },
    {
     "data": {
      "text/plain": [
       "array([ 0.27584544,  0.35672784,  0.29480488,  0.27846333,  0.27705489,\n",
       "        0.37523098,  0.2923913 ,  0.26629921,  0.34715667,  0.37020046])"
      ]
     },
     "execution_count": 52,
     "metadata": {},
     "output_type": "execute_result"
    }
   ],
   "source": [
    "squash(np.linalg.norm(A, axis=1, keepdims=False))"
   ]
  },
  {
   "cell_type": "code",
   "execution_count": 16,
   "metadata": {},
   "outputs": [
    {
     "data": {
      "text/plain": [
       "array([], dtype=float64)"
      ]
     },
     "execution_count": 16,
     "metadata": {},
     "output_type": "execute_result"
    }
   ],
   "source": [
    "Y[X==1]"
   ]
  },
  {
   "cell_type": "code",
   "execution_count": 19,
   "metadata": {},
   "outputs": [
    {
     "data": {
      "text/plain": [
       "2.8284271247461903"
      ]
     },
     "execution_count": 19,
     "metadata": {},
     "output_type": "execute_result"
    }
   ],
   "source": [
    "np.linalg.norm(np.ones(8))"
   ]
  },
  {
   "cell_type": "code",
   "execution_count": 28,
   "metadata": {},
   "outputs": [
    {
     "ename": "AxisError",
     "evalue": "axis -1 is out of bounds for array of dimension 0",
     "output_type": "error",
     "traceback": [
      "\u001b[0;31m---------------------------------------------------------------------------\u001b[0m",
      "\u001b[0;31mAxisError\u001b[0m                                 Traceback (most recent call last)",
      "\u001b[0;32m<ipython-input-28-0625b36e4bd0>\u001b[0m in \u001b[0;36m<module>\u001b[0;34m()\u001b[0m\n\u001b[0;32m----> 1\u001b[0;31m \u001b[0msquash\u001b[0m\u001b[0;34m(\u001b[0m\u001b[0;36m2.8242\u001b[0m\u001b[0;34m)\u001b[0m\u001b[0;34m\u001b[0m\u001b[0m\n\u001b[0m",
      "\u001b[0;32m<ipython-input-27-25bf8f64808e>\u001b[0m in \u001b[0;36msquash\u001b[0;34m(x)\u001b[0m\n\u001b[1;32m      1\u001b[0m \u001b[0;32mdef\u001b[0m \u001b[0msquash\u001b[0m\u001b[0;34m(\u001b[0m\u001b[0mx\u001b[0m\u001b[0;34m)\u001b[0m\u001b[0;34m:\u001b[0m\u001b[0;34m\u001b[0m\u001b[0m\n\u001b[0;32m----> 2\u001b[0;31m     \u001b[0mnorm\u001b[0m \u001b[0;34m=\u001b[0m \u001b[0mnp\u001b[0m\u001b[0;34m.\u001b[0m\u001b[0mlinalg\u001b[0m\u001b[0;34m.\u001b[0m\u001b[0mnorm\u001b[0m\u001b[0;34m(\u001b[0m\u001b[0mx\u001b[0m\u001b[0;34m,\u001b[0m \u001b[0maxis\u001b[0m\u001b[0;34m=\u001b[0m\u001b[0;34m-\u001b[0m\u001b[0;36m1\u001b[0m\u001b[0;34m)\u001b[0m\u001b[0;34m\u001b[0m\u001b[0m\n\u001b[0m\u001b[1;32m      3\u001b[0m     \u001b[0;32mreturn\u001b[0m \u001b[0mnorm\u001b[0m\u001b[0;34m**\u001b[0m\u001b[0;36m2\u001b[0m \u001b[0;34m/\u001b[0m \u001b[0;34m(\u001b[0m\u001b[0;36m1\u001b[0m \u001b[0;34m+\u001b[0m \u001b[0mnorm\u001b[0m\u001b[0;34m**\u001b[0m\u001b[0;36m2\u001b[0m\u001b[0;34m)\u001b[0m \u001b[0;34m/\u001b[0m \u001b[0;34m(\u001b[0m\u001b[0mnorm\u001b[0m\u001b[0;34m+\u001b[0m\u001b[0;36m1e-8\u001b[0m\u001b[0;34m)\u001b[0m \u001b[0;34m*\u001b[0m \u001b[0mx\u001b[0m\u001b[0;34m\u001b[0m\u001b[0m\n",
      "\u001b[0;32m/home/david/miniconda2/lib/python2.7/site-packages/numpy/linalg/linalg.pyc\u001b[0m in \u001b[0;36mnorm\u001b[0;34m(x, ord, axis, keepdims)\u001b[0m\n\u001b[1;32m   2196\u001b[0m             \u001b[0;31m# special case for speedup\u001b[0m\u001b[0;34m\u001b[0m\u001b[0;34m\u001b[0m\u001b[0m\n\u001b[1;32m   2197\u001b[0m             \u001b[0ms\u001b[0m \u001b[0;34m=\u001b[0m \u001b[0;34m(\u001b[0m\u001b[0mx\u001b[0m\u001b[0;34m.\u001b[0m\u001b[0mconj\u001b[0m\u001b[0;34m(\u001b[0m\u001b[0;34m)\u001b[0m \u001b[0;34m*\u001b[0m \u001b[0mx\u001b[0m\u001b[0;34m)\u001b[0m\u001b[0;34m.\u001b[0m\u001b[0mreal\u001b[0m\u001b[0;34m\u001b[0m\u001b[0m\n\u001b[0;32m-> 2198\u001b[0;31m             \u001b[0;32mreturn\u001b[0m \u001b[0msqrt\u001b[0m\u001b[0;34m(\u001b[0m\u001b[0madd\u001b[0m\u001b[0;34m.\u001b[0m\u001b[0mreduce\u001b[0m\u001b[0;34m(\u001b[0m\u001b[0ms\u001b[0m\u001b[0;34m,\u001b[0m \u001b[0maxis\u001b[0m\u001b[0;34m=\u001b[0m\u001b[0maxis\u001b[0m\u001b[0;34m,\u001b[0m \u001b[0mkeepdims\u001b[0m\u001b[0;34m=\u001b[0m\u001b[0mkeepdims\u001b[0m\u001b[0;34m)\u001b[0m\u001b[0;34m)\u001b[0m\u001b[0;34m\u001b[0m\u001b[0m\n\u001b[0m\u001b[1;32m   2199\u001b[0m         \u001b[0;32melse\u001b[0m\u001b[0;34m:\u001b[0m\u001b[0;34m\u001b[0m\u001b[0m\n\u001b[1;32m   2200\u001b[0m             \u001b[0;32mtry\u001b[0m\u001b[0;34m:\u001b[0m\u001b[0;34m\u001b[0m\u001b[0m\n",
      "\u001b[0;31mAxisError\u001b[0m: axis -1 is out of bounds for array of dimension 0"
     ]
    }
   ],
   "source": [
    "squash(2.8242)"
   ]
  },
  {
   "cell_type": "code",
   "execution_count": 18,
   "metadata": {},
   "outputs": [
    {
     "data": {
      "text/plain": [
       "0.4999999950000001"
      ]
     },
     "execution_count": 18,
     "metadata": {},
     "output_type": "execute_result"
    }
   ],
   "source": [
    "1./(1+1) / (1+1e-8) * 1"
   ]
  },
  {
   "cell_type": "code",
   "execution_count": null,
   "metadata": {
    "collapsed": true
   },
   "outputs": [],
   "source": [
    "a = np.random.rand(10, 8) * 10\n"
   ]
  },
  {
   "cell_type": "code",
   "execution_count": 8,
   "metadata": {
    "collapsed": true
   },
   "outputs": [],
   "source": [
    "%matplotlib inline\n",
    "import matplotlib.pyplot as plt"
   ]
  },
  {
   "cell_type": "code",
   "execution_count": 9,
   "metadata": {},
   "outputs": [
    {
     "data": {
      "text/plain": [
       "<matplotlib.collections.PathCollection at 0x7f8e5c20d310>"
      ]
     },
     "execution_count": 9,
     "metadata": {},
     "output_type": "execute_result"
    },
    {
     "data": {
      "image/png": "[encoded data removed]",
      "text/plain": [
       "<matplotlib.figure.Figure at 0x7f8e5c21d550>"
      ]
     },
     "metadata": {},
     "output_type": "display_data"
    }
   ],
   "source": [
    "plt.scatter(X, Y)"
   ]
  },
  {
   "cell_type": "code",
   "execution_count": 26,
   "metadata": {},
   "outputs": [
    {
     "name": "stdout",
     "output_type": "stream",
     "text": [
      "1.4.1\n"
     ]
    }
   ],
   "source": [
    "print tf.__version__"
   ]
  },
  {
   "cell_type": "code",
   "execution_count": 63,
   "metadata": {
    "collapsed": true
   },
   "outputs": [],
   "source": [
    "?K.map_fn"
   ]
  },
  {
   "cell_type": "code",
   "execution_count": 70,
   "metadata": {
    "collapsed": true
   },
   "outputs": [],
   "source": [
    "a = np.array([[[[1,2,3]],[[4,5,6]]]])\n",
    "a = np.append(a, a, axis=0)"
   ]
  },
  {
   "cell_type": "code",
   "execution_count": 71,
   "metadata": {},
   "outputs": [
    {
     "data": {
      "text/plain": [
       "array([[[[1, 2, 3]],\n",
       "\n",
       "        [[4, 5, 6]]],\n",
       "\n",
       "\n",
       "       [[[1, 2, 3]],\n",
       "\n",
       "        [[4, 5, 6]]]])"
      ]
     },
     "execution_count": 71,
     "metadata": {},
     "output_type": "execute_result"
    }
   ],
   "source": [
    "a"
   ]
  },
  {
   "cell_type": "code",
   "execution_count": 72,
   "metadata": {},
   "outputs": [
    {
     "data": {
      "text/plain": [
       "(2, 2, 1, 3)"
      ]
     },
     "execution_count": 72,
     "metadata": {},
     "output_type": "execute_result"
    }
   ],
   "source": [
    "a.shape"
   ]
  },
  {
   "cell_type": "code",
   "execution_count": 73,
   "metadata": {},
   "outputs": [
    {
     "data": {
      "text/plain": [
       "array([[[1, 2, 3]],\n",
       "\n",
       "       [[4, 5, 6]],\n",
       "\n",
       "       [[1, 2, 3]],\n",
       "\n",
       "       [[4, 5, 6]]])"
      ]
     },
     "execution_count": 73,
     "metadata": {},
     "output_type": "execute_result"
    }
   ],
   "source": [
    "a.reshape(-1, 1, 3)"
   ]
  },
  {
   "cell_type": "code",
   "execution_count": 23,
   "metadata": {},
   "outputs": [
    {
     "name": "stderr",
     "output_type": "stream",
     "text": [
      "Using TensorFlow backend.\n"
     ]
    }
   ],
   "source": [
    "'''\n",
    "\n",
    "Much of this code is adapted from code written by \n",
    "Xifeng Guo, E-mail: `guoxifeng1990@163.com`, Github: `https://github.com/XifengGuo/CapsNet-Keras`\n",
    "'''\n",
    "\n",
    "\n",
    "import keras.backend as K\n",
    "import tensorflow as tf\n",
    "from keras import initializers, layers, activations\n",
    "from keras.regularizers import l2\n",
    "\n",
    "\n",
    "class Length(layers.Layer):\n",
    "    \"\"\"\n",
    "    Compute the length of vectors. This is used to compute a Tensor that has the same shape with y_true in margin_loss.\n",
    "    Using this layer as model's output can directly predict labels by using `y_pred = np.argmax(model.predict(x), 1)`\n",
    "    inputs: shape=[None, num_vectors, dim_vector]\n",
    "    output: shape=[None, num_vectors]\n",
    "    \n",
    "    Author: Xifeng Guo, E-mail: `guoxifeng1990@163.com`, Github: `https://github.com/XifengGuo/CapsNet-Keras`\n",
    "    \"\"\"\n",
    "    def call(self, inputs, **kwargs):\n",
    "        return K.sqrt(K.sum(K.square(inputs), -1))\n",
    "\n",
    "    def compute_output_shape(self, input_shape):\n",
    "        return input_shape[:-1]\n",
    "\n",
    "\n",
    "def squash(vectors, axis=-1):\n",
    "    \"\"\"\n",
    "    The non-linear activation used in Capsule. It drives the length of a large vector to near 1 and small vector to 0\n",
    "    :param vectors: some vectors to be squashed, N-dim tensor\n",
    "    :param axis: the axis to squash\n",
    "    :return: a Tensor with same shape as input vectors\n",
    "    \"\"\"\n",
    "    s_squared_norm = K.sum(K.square(vectors), axis, keepdims=True)\n",
    "    scale = s_squared_norm / (1 + s_squared_norm) / K.sqrt(s_squared_norm + K.epsilon())\n",
    "    return scale * vectors\n",
    "\n",
    "class CapsuleLayer(layers.Layer):\n",
    "    \"\"\"\n",
    "    The capsule layer. It is similar to Dense layer. Dense layer has `in_num` inputs, each is a scalar, the output of the \n",
    "    neuron from the former layer, and it has `out_num` output neurons. CapsuleLayer just expand the output of the neuron\n",
    "    from scalar to vector. So its input shape = [None, input_num_capsule, input_dim_capsule] and output shape = \\\n",
    "    [None, num_capsule, dim_capsule]. For Dense Layer, input_dim_capsule = dim_capsule = 1.\n",
    "    \n",
    "    :param num_capsule: number of capsules in this layer\n",
    "    :param dim_capsule: dimension of the output vectors of the capsules in this layer\n",
    "    :param num_routing: number of iterations for the routing algorithm\n",
    "\n",
    "    Author: Xifeng Guo, E-mail: `guoxifeng1990@163.com`, Github: `https://github.com/XifengGuo/CapsNet-Keras`\n",
    "    \"\"\"\n",
    "    def __init__(self, num_capsule, dim_capsule, num_routing=3,\n",
    "                 kernel_initializer='glorot_uniform', kernel_regularizer=l2(1e-2),\n",
    "                 **kwargs):\n",
    "        super(CapsuleLayer, self).__init__(**kwargs)\n",
    "        self.num_capsule = num_capsule\n",
    "        self.dim_capsule = dim_capsule\n",
    "        self.num_routing = num_routing\n",
    "        self.kernel_initializer = initializers.get(kernel_initializer)\n",
    "        self.kernel_regularizer = kernel_regularizer\n",
    "\n",
    "    def build(self, input_shape):\n",
    "        assert len(input_shape) >= 3, \"The input Tensor should have shape=[None, input_num_capsule, input_dim_capsule]\"\n",
    "        self.input_num_capsule = input_shape[1]\n",
    "        self.input_dim_capsule = input_shape[2]\n",
    "\n",
    "        # Transform matrix\n",
    "        self.W = self.add_weight(shape=[self.num_capsule, self.input_num_capsule,\n",
    "                                        self.dim_capsule, self.input_dim_capsule],\n",
    "                                 initializer=self.kernel_initializer,\n",
    "                                 regularizer=self.kernel_regularizer,\n",
    "                                 name='W')\n",
    "\n",
    "        self.built = True\n",
    "\n",
    "    def call(self, inputs, training=None):\n",
    "        # inputs.shape=[None, input_num_capsule, input_dim_capsule]\n",
    "        # inputs_expand.shape=[None, 1, input_num_capsule, input_dim_capsule]\n",
    "        inputs_expand = K.expand_dims(inputs, 1)\n",
    "\n",
    "        # Replicate num_capsule dimension to prepare being multiplied by W\n",
    "        # inputs_tiled.shape=[None, num_capsule, input_num_capsule, input_dim_capsule]\n",
    "        inputs_tiled = K.tile(inputs_expand, [1, self.num_capsule, 1, 1])\n",
    "\n",
    "        # Compute `inputs * W` by scanning inputs_tiled on dimension 0.\n",
    "        # x.shape=[num_capsule, input_num_capsule, input_dim_capsule]\n",
    "        # W.shape=[num_capsule, input_num_capsule, dim_capsule, input_dim_capsule]\n",
    "        # Regard the first two dimensions as `batch` dimension,\n",
    "        # then matmul: [input_dim_capsule] x [dim_capsule, input_dim_capsule]^T -> [dim_capsule].\n",
    "        # inputs_hat.shape = [None, num_capsule, input_num_capsule, dim_capsule]\n",
    "        inputs_hat = K.map_fn(lambda x: K.batch_dot(x, self.W, [2, 3]), elems=inputs_tiled)\n",
    "\n",
    "        \"\"\"\n",
    "        # Begin: routing algorithm V1, dynamic ------------------------------------------------------------#\n",
    "        # The prior for coupling coefficient, initialized as zeros.\n",
    "        b = K.zeros(shape=[self.batch_size, self.num_capsule, self.input_num_capsule])\n",
    "\n",
    "        def body(i, b, outputs):\n",
    "            c = tf.nn.softmax(b, dim=1)  # dim=2 is the num_capsule dimension\n",
    "            outputs = squash(K.batch_dot(c, inputs_hat, [2, 2]))\n",
    "            if i != 1:\n",
    "                b = b + K.batch_dot(outputs, inputs_hat, [2, 3])\n",
    "            return [i-1, b, outputs]\n",
    "\n",
    "        cond = lambda i, b, inputs_hat: i > 0\n",
    "        loop_vars = [K.constant(self.num_routing), b, K.sum(inputs_hat, 2, keepdims=False)]\n",
    "        shape_invariants = [tf.TensorShape([]),\n",
    "                            tf.TensorShape([None, self.num_capsule, self.input_num_capsule]),\n",
    "                            tf.TensorShape([None, self.num_capsule, self.dim_capsule])]\n",
    "        _, _, outputs = tf.while_loop(cond, body, loop_vars, shape_invariants)\n",
    "        # End: routing algorithm V1, dynamic ------------------------------------------------------------#\n",
    "        \"\"\"\n",
    "        # Begin: Routing algorithm ---------------------------------------------------------------------#\n",
    "        # In forward pass, `inputs_hat_stopped` = `inputs_hat`;\n",
    "        # In backward, no gradient can flow from `inputs_hat_stopped` back to `inputs_hat`.\n",
    "        inputs_hat_stopped = K.stop_gradient(inputs_hat)\n",
    "        \n",
    "        # The prior for coupling coefficient, initialized as zeros.\n",
    "        # b.shape = [None, self.num_capsule, self.input_num_capsule].\n",
    "        b = tf.zeros(shape=[K.shape(inputs_hat)[0], self.num_capsule, self.input_num_capsule])\n",
    "\n",
    "        assert self.num_routing > 0, 'The num_routing should be > 0.'\n",
    "        for i in range(self.num_routing):\n",
    "            # c.shape=[batch_size, num_capsule, input_num_capsule]\n",
    "            c = tf.nn.softmax(b, dim=1)\n",
    "\n",
    "            # At last iteration, use `inputs_hat` to compute `outputs` in order to backpropagate gradient\n",
    "            if i == self.num_routing - 1:\n",
    "                # c.shape =  [batch_size, num_capsule, input_num_capsule]\n",
    "                # inputs_hat.shape=[None, num_capsule, input_num_capsule, dim_capsule]\n",
    "                # The first two dimensions as `batch` dimension,\n",
    "                # then matmal: [input_num_capsule] x [input_num_capsule, dim_capsule] -> [dim_capsule].\n",
    "                # outputs.shape=[None, num_capsule, dim_capsule]\n",
    "                outputs = squash(K.batch_dot(c, inputs_hat, [2, 2]))  # [None, 10, 16]\n",
    "            else:  # Otherwise, use `inputs_hat_stopped` to update `b`. No gradients flow on this path.\n",
    "                outputs = squash(K.batch_dot(c, inputs_hat_stopped, [2, 2]))\n",
    "\n",
    "                # outputs.shape =  [None, num_capsule, dim_capsule]\n",
    "                # inputs_hat.shape=[None, num_capsule, input_num_capsule, dim_capsule]\n",
    "                # The first two dimensions as `batch` dimension,\n",
    "                # then matmal: [dim_capsule] x [input_num_capsule, dim_capsule]^T -> [input_num_capsule].\n",
    "                # b.shape=[batch_size, num_capsule, input_num_capsule]\n",
    "                b += K.batch_dot(outputs, inputs_hat_stopped, [2, 3])\n",
    "        # End: Routing algorithm -----------------------------------------------------------------------#\n",
    "\n",
    "        return outputs\n",
    "\n",
    "    def compute_output_shape(self, input_shape):\n",
    "        return tuple([None, self.num_capsule, self.dim_capsule])\n",
    "    \n",
    "class GraphCapsuleLayer(layers.Layer):\n",
    "    \"\"\"\n",
    "    The capsule layer. It is similar to Dense layer. Dense layer has `in_num` inputs, each is a scalar, the output of the \n",
    "    neuron from the former layer, and it has `out_num` output neurons. CapsuleLayer just expand the output of the neuron\n",
    "    from scalar to vector. So its input shape = [None, input_num_capsule, input_dim_capsule] and output shape = \\\n",
    "    [None, num_capsule, dim_capsule]. For Dense Layer, input_dim_capsule = dim_capsule = 1.\n",
    "    \n",
    "    :param num_capsule: number of capsules in this layer\n",
    "    :param dim_capsule: dimension of the output vectors of the capsules in this layer\n",
    "    :param num_routing: number of iterations for the routing algorithm\n",
    "\n",
    "    Author: Xifeng Guo, E-mail: `guoxifeng1990@163.com`, Github: `https://github.com/XifengGuo/CapsNet-Keras`\n",
    "    \"\"\"\n",
    "    def __init__(self, num_capsule, dim_capsule, num_routing=3,\n",
    "                 kernel_initializer='glorot_uniform', kernel_regularizer=l2(1e-4),\n",
    "                 **kwargs):\n",
    "        super(GraphCapsuleLayer, self).__init__(**kwargs)\n",
    "        self.num_capsule = num_capsule\n",
    "        self.dim_capsule = dim_capsule\n",
    "        self.num_routing = num_routing\n",
    "        self.kernel_initializer = initializers.get(kernel_initializer)\n",
    "        self.kernel_regularizer = kernel_regularizer\n",
    "\n",
    "    def build(self, input_shape):\n",
    "        assert len(input_shape) >= 4, \"The input Tensor should have shape=[None, N, input_num_capsule, input_dim_capsule]\"\n",
    "        self.input_num_capsule = input_shape[2]\n",
    "        self.input_dim_capsule = input_shape[3]\n",
    "\n",
    "        # Transform matrix\n",
    "        self.W = self.add_weight(shape=[self.num_capsule, self.input_num_capsule,\n",
    "                                        self.dim_capsule, self.input_dim_capsule],\n",
    "                                 initializer=self.kernel_initializer,\n",
    "                                 regularizer=self.kernel_regularizer,\n",
    "                                 name='W')\n",
    "\n",
    "        self.built = True\n",
    "\n",
    "    def call(self, inputs, training=None):\n",
    "        # inputs.shape=[None, N, input_num_capsule, input_dim_capsule]\n",
    "        # inputs_expand.shape=[None, N, 1, input_num_capsule, input_dim_capsule]\n",
    "        inputs_expand = K.expand_dims(inputs, 2)\n",
    "\n",
    "        # Replicate num_capsule dimension to prepare being multiplied by W\n",
    "        # inputs_tiled.shape=[None, N, num_capsule, input_num_capsule, input_dim_capsule]\n",
    "        inputs_tiled = K.tile(inputs_expand, [1, 1, self.num_capsule, 1, 1])\n",
    "\n",
    "        # Compute `inputs * W` by scanning inputs_tiled on dimension 0.\n",
    "        # x.shape=[num_capsule, input_num_capsule, input_dim_capsule]\n",
    "        # W.shape=[num_capsule, input_num_capsule, dim_capsule, input_dim_capsule]\n",
    "        # Regard the first two dimensions as `batch` dimension,\n",
    "        # then matmul: [input_dim_capsule] x [dim_capsule, input_dim_capsule]^T -> [dim_capsule].\n",
    "        # inputs_hat.shape = [None, num_capsule, input_num_capsule, dim_capsule]\n",
    "        inputs_hat = K.map_fn(lambda x: \n",
    "                              K.map_fn(lambda y: K.batch_dot(y, self.W, [2, 3]), elems=x), elems=inputs_tiled)\n",
    "        \n",
    "            # Begin: Routing algorithm ---------------------------------------------------------------------#\n",
    "        # In forward pass, `inputs_hat_stopped` = `inputs_hat`;\n",
    "        # In backward, no gradient can flow from `inputs_hat_stopped` back to `inputs_hat`.\n",
    "        inputs_hat_stopped = K.stop_gradient(inputs_hat)\n",
    "        \n",
    "        # The prior for coupling coefficient, initialized as zeros.\n",
    "        # b.shape = [None, N, self.num_capsule, self.input_num_capsule].\n",
    "        b = tf.zeros(shape=[K.shape(inputs_hat)[0], K.shape(inputs_hat)[1],\n",
    "                            self.num_capsule, self.input_num_capsule])\n",
    "\n",
    "        assert self.num_routing > 0, 'The num_routing should be > 0.'\n",
    "        for i in range(self.num_routing):\n",
    "            # c.shape=[batch_size, num_capsule, input_num_capsule]\n",
    "            c = tf.nn.softmax(b, dim=2)\n",
    "\n",
    "            # At last iteration, use `inputs_hat` to compute `outputs` in order to backpropagate gradient\n",
    "            if i == self.num_routing - 1:\n",
    "                # c.shape =  [batch_size, num_capsule, input_num_capsule]\n",
    "                # inputs_hat.shape=[None, num_capsule, input_num_capsule, dim_capsule]\n",
    "                # The first two dimensions as `batch` dimension,\n",
    "                # then matmal: [input_num_capsule] x [input_num_capsule, dim_capsule] -> [dim_capsule].\n",
    "                # outputs.shape=[None, num_capsule, dim_capsule]\n",
    "                outputs = squash(K.batch_dot(c, inputs_hat, [3, 3]))  # [None, 10, 16]\n",
    "            else:  # Otherwise, use `inputs_hat_stopped` to update `b`. No gradients flow on this path.\n",
    "                outputs = squash(K.batch_dot(c, inputs_hat_stopped, [3, 3]))\n",
    "\n",
    "                # outputs.shape =  [None, num_capsule, dim_capsule]\n",
    "                # inputs_hat.shape=[None, num_capsule, input_num_capsule, dim_capsule]\n",
    "                # The first two dimensions as `batch` dimension,\n",
    "                # then matmal: [dim_capsule] x [input_num_capsule, dim_capsule]^T -> [input_num_capsule].\n",
    "                # b.shape=[batch_size, num_capsule, input_num_capsule]\n",
    "                b += K.batch_dot(outputs, inputs_hat_stopped, [3, 4])\n",
    "        # End: Routing algorithm -----------------------------------------------------------------------#\n",
    "\n",
    "        return outputs\n",
    "\n",
    "    def compute_output_shape(self, input_shape):\n",
    "        return tuple(list(input_shape[:2]) + [self.num_capsule, self.dim_capsule])"
   ]
  },
  {
   "cell_type": "code",
   "execution_count": 26,
   "metadata": {
    "collapsed": true
   },
   "outputs": [],
   "source": [
    "?K.map_fn"
   ]
  },
  {
   "cell_type": "code",
   "execution_count": 2,
   "metadata": {
    "collapsed": true
   },
   "outputs": [],
   "source": [
    "\n",
    "\n",
    "\n",
    "def PrimaryCap(x, L, dim_capsule, num_capsule, kernel_size, activation=None):\n",
    "    \"\"\"\n",
    "    Apply GraphConv `n_channels` times and concatenate all capsules\n",
    "    :param inputs: 3D tensor, shape=[None, N, channels]\n",
    "    :param dim_capsule: the dim of the output vector of capsule\n",
    "    :param n_channels: the number of types of capsules\n",
    "    :return: output tensor, shape=[None, num_capsule, dim_capsule]\n",
    "\n",
    "    Author: David McDonald, E-mail: `dxm237@cs.bham.ac.uk`\n",
    "    \"\"\"\n",
    "    output = GraphConv(num_filters=dim_capsule*num_capsule, \n",
    "                       kernel_size=kernel_size, activation=activation,\n",
    "                           name='primarycap_GraphConv')([L, x])\n",
    "    outputs = layers.Reshape(target_shape=[-1, dim_capsule], name='primarycap_reshape')(output)\n",
    "    return layers.Lambda(squash, name='primarycap_squash')(outputs)\n",
    "\n",
    "# class GraphConv(layers.Layer):\n",
    "#     \"\"\"\n",
    "#     A layer to perform a convolutional filter on a graph\n",
    "\n",
    "#     :param L_hat: rescaled graph laplacian: L_hat = 2L/lambda_max - identity(N)\n",
    "#     :param num_filters: number of filters\n",
    "#     :param kernel_size: size of kernel to use\n",
    "    \n",
    "#     Author: David McDonald, Email: `dxm237@cs.bham.ac.uk'\n",
    "#     \"\"\"\n",
    "#     def __init__(self, new_dim, num_neighbours, num_filters, kernel_size, activation=None,\n",
    "#                  kernel_initializer='glorot_uniform', kernel_regularizer=l2(1e-3),\n",
    "#                  **kwargs):\n",
    "#         super(GraphConv, self).__init__(**kwargs)\n",
    "\n",
    "#         self.new_dim = new_dim\n",
    "#         self.num_neighbours = num_neighbours\n",
    "#         self.num_filters = num_filters\n",
    "#         self.kernel_size = kernel_size\n",
    "#         self.activation = activation\n",
    "#         self.kernel_initializer = initializers.get(kernel_initializer)\n",
    "#         self.kernel_regularizer = kernel_regularizer\n",
    "\n",
    "#     def build(self, input_shape):\n",
    "#         '''\n",
    "#         L input shape[0] = [batch_size, Nn+1, Nn]\n",
    "#         x input_shape[1] = [batch_size, Nn, D, input_channels]\n",
    "#         '''\n",
    "        \n",
    "# #         _, Nn_plus_1, _ = input_shape[0]\n",
    "#         _, _, D, num_channels = input_shape[1]\n",
    "        \n",
    "#         # chebyshev co-efficients\n",
    "#         self.chebyshev_cofficient_matrix = self.add_weight(shape=[num_channels * (self.kernel_size + 0), \n",
    "#                                   self.num_filters],\n",
    "#                                  initializer=self.kernel_initializer, regularizer=self.kernel_regularizer,\n",
    "#                                  name='chebyshev_co-efficients')\n",
    "        \n",
    "#         # dimensionality reduction\n",
    "#         self.W = self.add_weight(shape=[D, self.new_dim], \n",
    "#                                  initializer=self.kernel_initializer, regularizer=self.kernel_regularizer,\n",
    "#                                  name=\"w\")\n",
    "        \n",
    "#         # bias term ?\n",
    "#         self.bias = self.add_weight(shape=[1, 1, self.new_dim, 1], \n",
    "#                                     initializer=self.kernel_initializer, regularizer=self.kernel_regularizer,\n",
    "#                                    name=\"bias\")\n",
    "\n",
    "#         self.built = True\n",
    "        \n",
    "#     def compute_Lx(self, L, x):\n",
    "        \n",
    "#         '''\n",
    "#         L.shape = [B, Nn+1, Nn]\n",
    "#         x.shape = [B, Nn, D, C]\n",
    "        \n",
    "#         reshape x to [B, Nn, D*C]\n",
    "#         matmul with L: [N, N] @ [N, D*C] -> [N, D*C]\n",
    "#         reshape to [N, D, C]\n",
    "        \n",
    "#         '''\n",
    "        \n",
    "#         B = K.shape(x)[0]\n",
    "#         Nn = K.shape(x)[1]\n",
    "#         D = K.shape(x)[2]\n",
    "#         C = K.shape(x)[3]\n",
    "#         Nn_plus_1 = K.shape(L)[1]\n",
    "        \n",
    "#         x_transformed = x\n",
    "# #         x_transformed = K.permute_dimensions(x_transformed, [1,0,2])\n",
    "#         x_transformed = K.reshape(x_transformed, [B, Nn, D*C])\n",
    "#         x_transformed = K.batch_dot(L, x_transformed)\n",
    "# #         x_transformed =  K.reshape(x_transformed, [N, D, C])\n",
    "# #         return K.permute_dimensions(x_transformed, [1, 0, 2])\n",
    "#         return K.reshape(x_transformed, [B, Nn_plus_1, D, C])\n",
    "        \n",
    "#     def compute_x_hat(self, L, x):\n",
    "#         '''\n",
    "#         efficient computation of filter using recurrence relation of Chebyshev polynomials\n",
    "#         T_k(x) = 2xT_k-1(x) - T_k-2(x)\n",
    "#         T_0(x) = 1\n",
    "#         T_1(x) = x\n",
    "        \n",
    "#         input shape is [None, Nn, D, input_channels]\n",
    "#         output shape is [None, Nn+1, D, filters]\n",
    "        \n",
    "#         '''\n",
    "\n",
    "# #         x_hat = [x]\n",
    "#         x_hat = []\n",
    "        \n",
    "#         if self.kernel_size > 0:\n",
    "#             x_hat.append(self.compute_Lx(L, x))\n",
    "        \n",
    "#         for k in range(self.kernel_size - 1):\n",
    "#             x_hat.append(2 * self.compute_Lx(L, x_hat[-1]) - x_hat[-2])\n",
    "    \n",
    "#         # concatenate to combine input_channels and kernel_size axes\n",
    "#         return K.concatenate(x_hat, axis=-1)\n",
    "        \n",
    "#     def linear_dimensionality_reduce(self, x):\n",
    "        \n",
    "#         # x.shape = [N, Nn+1, D, F]\n",
    "#         x_transformed = K.permute_dimensions(x, [0,1,3,2])\n",
    "#         x_transformed = K.dot(x_transformed, self.W)\n",
    "        \n",
    "#         return K.permute_dimensions(x_transformed, [0,1,3,2])\n",
    "\n",
    "#     def call(self, inputs):\n",
    "\n",
    "#         '''\n",
    "#         chebyshev polynomial for filtering using coefficients started in kernel\n",
    "#         '''\n",
    "#         L, x = inputs\n",
    "#         x_hat = self.compute_x_hat(L, x)\n",
    "#         # x_hat shape = [None, D, input_channels*filter_size]\n",
    "#         # W shape = [input_channels*filter_size, num_filters]\n",
    "#         # output shape = [None, Nn+1, D, num_filters]\n",
    "#         output = K.dot(x_hat, self.chebyshev_cofficient_matrix)\n",
    "        \n",
    "        \n",
    "#         output = self.linear_dimensionality_reduce(output)\n",
    "        \n",
    "#         output += self.bias\n",
    "\n",
    "#         if self.activation is not None:\n",
    "#             output = activations.get(self.activation)(output)\n",
    "        \n",
    "#         return output\n",
    "        \n",
    "#     def compute_output_shape(self, input_shape):\n",
    "#         '''\n",
    "#         L input shape[0] = [batch_size, batch_size]\n",
    "#         x input_shape[1] = [batch_size, D, input_channels]\n",
    "        \n",
    "#         output_shape is [None, Nn+1, new D, num_filters]\n",
    "#         '''\n",
    "# #         return tuple([None, input_shape[1][1], self.num_filters])\n",
    "#         return tuple([None, self.num_neighbours, self.new_dim, self.num_filters])\n",
    "\n",
    "class AggregateLayer(layers.Layer):\n",
    "    \"\"\"\n",
    "    A layer to perform a convolutional filter on a graph with mean aggregation\n",
    "    TODO\n",
    "    \n",
    "    Author: David McDonald, Email: `dxm237@cs.bham.ac.uk'\n",
    "    \"\"\"\n",
    "    def __init__(self, new_dim, mode=\"mean\", activation=None,\n",
    "                 kernel_initializer='glorot_uniform', kernel_regularizer=l2(1e-4),\n",
    "                 **kwargs):\n",
    "        super(AggregateLayer, self).__init__(**kwargs)\n",
    "\n",
    "        self.new_dim = new_dim\n",
    "        self.mode = mode\n",
    "        self.activation = activation\n",
    "        self.kernel_initializer = initializers.get(kernel_initializer)\n",
    "        self.kernel_regularizer = kernel_regularizer\n",
    "        \n",
    "    def mean_weight_initializer(self, shape):\n",
    "        Nn_plus_1, Nn = shape\n",
    "        m = float(Nn) / Nn_plus_1\n",
    "        W = np.zeros((Nn_plus_1, Nn))\n",
    "        \n",
    "        rows = np.repeat(np.arange(Nn_plus_1), m)\n",
    "        cols = np.arange(Nn)\n",
    "        \n",
    "        W[rows, cols] = 1. \n",
    "\n",
    "        return K.constant(W)\n",
    "\n",
    "    def build(self, input_shape):\n",
    "        '''\n",
    "        input_shape = [batch_size, Nn, num_caps, cap_dim]\n",
    "        '''\n",
    "        \n",
    "        # bias term ?\n",
    "        if self.mode == \"mean\":\n",
    "            initializer = self.mean_weight_initializer\n",
    "        self.mean_vector = self.add_weight(shape=(self.new_dim, input_shape[1]), \n",
    "                                    trainable=False,  initializer=initializer,     \n",
    "                                   name=\"mean_weight_vector\")\n",
    "\n",
    "        self.built = True\n",
    "\n",
    "    def call(self, inputs):\n",
    "\n",
    "        '''\n",
    "        input shape = [None, Nn, num_caps, cap_dim]\n",
    "        '''\n",
    "        \n",
    "#         print \"agg input shape\", inputs.shape, \"W shape\", self.mean_vector.shape\n",
    "        \n",
    "        #aggregate over neighbours\n",
    "        inputs_shaped = K.reshape(inputs, shape=[K.shape(inputs)[0], K.shape(inputs)[1], -1])\n",
    "#         print \"inputs shaped\", inputs_shaped.shape\n",
    "        output = K.map_fn(lambda x : K.dot(self.mean_vector, x), elems=inputs_shaped)\n",
    "#         print output.shape\n",
    "        output = K.reshape(output, [K.shape(output)[0], K.shape(output)[1], K.shape(inputs)[2], K.shape(inputs)[3]])\n",
    "        # shape is now [None, Nn+1, num_caps, cap_dim]\n",
    "        \n",
    "        if self.activation is not None:\n",
    "            output = activations.get(self.activation)(output)\n",
    "        \n",
    "        return output\n",
    "        \n",
    "    def compute_output_shape(self, input_shape):\n",
    "        '''\n",
    "        input_shape = [None, Nn, num_caps, cap_dim]\n",
    "        output_shape is [None, Nn+1, num_caps, cap_dim]\n",
    "        '''\n",
    "        \n",
    "        return tuple([input_shape[0], self.new_dim, input_shape[2], input_shape[3]])\n",
    "\n",
    "\n",
    "class HyperbolicDistanceLayer(layers.Layer):\n",
    "    \"\"\"\n",
    "    TODO\n",
    "    \"\"\"\n",
    "    def __init__(self, num_positive_samples, num_negative_samples, **kwargs):\n",
    "        super(HyperbolicDistanceLayer, self).__init__(**kwargs)\n",
    "        self.num_positive_samples = num_positive_samples\n",
    "        self.num_negative_samples = num_negative_samples\n",
    "        \n",
    "    def safe_norm(self, x, sqrt=False):\n",
    "        x = K.sum(K.square(x) + K.epsilon(), axis=-1, keepdims=True)\n",
    "        if sqrt:\n",
    "            x = K.sqrt(x)\n",
    "        return x\n",
    "        \n",
    "    def call(self, inputs, **kwargs):\n",
    "        '''\n",
    "        input_shape = [None, 1 + num_pos + num_neg, 1, D]\n",
    "        '''\n",
    "        \n",
    "        u = inputs[:,:1]\n",
    "        v = inputs[:,1:]\n",
    "\n",
    "        d = tf.acosh(1 + 2 * self.safe_norm(u - v) / \n",
    "                     ((1 - self.safe_norm(u)) * (1 - self.safe_norm(v))))\n",
    "        d = K.squeeze(d, axis=-1)\n",
    "\n",
    "        return K.softmax(-d)\n",
    "\n",
    "    def compute_output_shape(self, input_shape):\n",
    "        return tuple([input_shape[0], self.num_positive_samples + self.num_negative_samples])"
   ]
  },
  {
   "cell_type": "code",
   "execution_count": 3,
   "metadata": {
    "collapsed": true
   },
   "outputs": [],
   "source": [
    "import numpy as np\n",
    "import networkx as nx\n",
    "import random\n",
    "\n",
    "class Graph():\n",
    "\tdef __init__(self, nx_G, is_directed, p, q):\n",
    "\t\tself.G = nx_G\n",
    "\t\tself.is_directed = is_directed\n",
    "\t\tself.p = p\n",
    "\t\tself.q = q\n",
    "\n",
    "\tdef node2vec_walk(self, walk_length, start_node):\n",
    "\t\t'''\n",
    "\t\tSimulate a random walk starting from start node.\n",
    "\t\t'''\n",
    "\t\tG = self.G\n",
    "\t\talias_nodes = self.alias_nodes\n",
    "\t\talias_edges = self.alias_edges\n",
    "\n",
    "\t\twalk = [start_node]\n",
    "\n",
    "\t\twhile len(walk) < walk_length:\n",
    "\t\t\tcur = walk[-1]\n",
    "\t\t\tcur_nbrs = sorted(G.neighbors(cur))\n",
    "\t\t\tif len(cur_nbrs) > 0:\n",
    "\t\t\t\tif len(walk) == 1:\n",
    "\t\t\t\t\twalk.append(cur_nbrs[alias_draw(alias_nodes[cur][0], alias_nodes[cur][1])])\n",
    "\t\t\t\telse:\n",
    "\t\t\t\t\tprev = walk[-2]\n",
    "\t\t\t\t\tnext = cur_nbrs[alias_draw(alias_edges[(prev, cur)][0], \n",
    "\t\t\t\t\t\talias_edges[(prev, cur)][1])]\n",
    "\t\t\t\t\twalk.append(next)\n",
    "\t\t\telse:\n",
    "\t\t\t\tbreak\n",
    "\n",
    "\t\treturn walk\n",
    "\n",
    "\tdef simulate_walks(self, num_walks, walk_length):\n",
    "\t\t'''\n",
    "\t\tRepeatedly simulate random walks from each node.\n",
    "\t\t'''\n",
    "\t\tG = self.G\n",
    "\t\twalks = []\n",
    "\t\tnodes = list(G.nodes())\n",
    "\t\tprint 'Walk iteration:'\n",
    "\t\tfor walk_iter in range(num_walks):\n",
    "\t\t\tprint str(walk_iter+1), '/', str(num_walks)\n",
    "# \t\t\trandom.shuffle(nodes)\n",
    "\t\t\tfor node in nodes:\n",
    "\t\t\t\twalks.append(self.node2vec_walk(walk_length=walk_length, start_node=node))\n",
    "\n",
    "\t\treturn walks\n",
    "\n",
    "\tdef get_alias_edge(self, src, dst):\n",
    "\t\t'''\n",
    "\t\tGet the alias edge setup lists for a given edge.\n",
    "\t\t'''\n",
    "\t\tG = self.G\n",
    "\t\tp = self.p\n",
    "\t\tq = self.q\n",
    "\n",
    "\t\tunnormalized_probs = []\n",
    "\t\tfor dst_nbr in sorted(G.neighbors(dst)):\n",
    "\t\t\tif dst_nbr == src:\n",
    "\t\t\t\tunnormalized_probs.append(G[dst][dst_nbr]['weight']/p)\n",
    "\t\t\telif G.has_edge(dst_nbr, src):\n",
    "\t\t\t\tunnormalized_probs.append(G[dst][dst_nbr]['weight'])\n",
    "\t\t\telse:\n",
    "\t\t\t\tunnormalized_probs.append(G[dst][dst_nbr]['weight']/q)\n",
    "\t\tnorm_const = sum(unnormalized_probs)\n",
    "\t\tnormalized_probs =  [float(u_prob)/norm_const for u_prob in unnormalized_probs]\n",
    "\n",
    "\t\treturn alias_setup(normalized_probs)\n",
    "\n",
    "\tdef preprocess_transition_probs(self):\n",
    "\t\t'''\n",
    "\t\tPreprocessing of transition probabilities for guiding the random walks.\n",
    "\t\t'''\n",
    "\t\tG = self.G\n",
    "\t\tis_directed = self.is_directed\n",
    "\n",
    "\t\talias_nodes = {}\n",
    "\t\tfor node in G.nodes():\n",
    "\t\t\tunnormalized_probs = [G[node][nbr]['weight'] for nbr in sorted(G.neighbors(node))]\n",
    "\t\t\tnorm_const = sum(unnormalized_probs)\n",
    "\t\t\tnormalized_probs =  [float(u_prob)/norm_const for u_prob in unnormalized_probs]\n",
    "\t\t\talias_nodes[node] = alias_setup(normalized_probs)\n",
    "\n",
    "\t\talias_edges = {}\n",
    "\t\ttriads = {}\n",
    "\n",
    "\t\tif is_directed:\n",
    "\t\t\tfor edge in G.edges():\n",
    "\t\t\t\talias_edges[edge] = self.get_alias_edge(edge[0], edge[1])\n",
    "\t\telse:\n",
    "\t\t\tfor edge in G.edges():\n",
    "\t\t\t\talias_edges[edge] = self.get_alias_edge(edge[0], edge[1])\n",
    "\t\t\t\talias_edges[(edge[1], edge[0])] = self.get_alias_edge(edge[1], edge[0])\n",
    "\n",
    "\t\tself.alias_nodes = alias_nodes\n",
    "\t\tself.alias_edges = alias_edges\n",
    "\n",
    "\t\treturn\n",
    "\n",
    "\n",
    "def alias_setup(probs):\n",
    "\t'''\n",
    "\tCompute utility lists for non-uniform sampling from discrete distributions.\n",
    "\tRefer to https://hips.seas.harvard.edu/blog/2013/03/03/the-alias-method-efficient-sampling-with-many-discrete-outcomes/\n",
    "\tfor details\n",
    "\t'''\n",
    "\tK = len(probs)\n",
    "\tq = np.zeros(K)\n",
    "\tJ = np.zeros(K, dtype=np.int)\n",
    "\n",
    "\tsmaller = []\n",
    "\tlarger = []\n",
    "\tfor kk, prob in enumerate(probs):\n",
    "\t    q[kk] = K*prob\n",
    "\t    if q[kk] < 1.0:\n",
    "\t        smaller.append(kk)\n",
    "\t    else:\n",
    "\t        larger.append(kk)\n",
    "\n",
    "\twhile len(smaller) > 0 and len(larger) > 0:\n",
    "\t    small = smaller.pop()\n",
    "\t    large = larger.pop()\n",
    "\n",
    "\t    J[small] = large\n",
    "\t    q[large] = q[large] + q[small] - 1.0\n",
    "\t    if q[large] < 1.0:\n",
    "\t        smaller.append(large)\n",
    "\t    else:\n",
    "\t        larger.append(large)\n",
    "\n",
    "\treturn J, q\n",
    "\n",
    "def alias_draw(J, q):\n",
    "\t'''\n",
    "\tDraw sample from a non-uniform discrete distribution using alias sampling.\n",
    "\t'''\n",
    "\tK = len(J)\n",
    "\n",
    "\tkk = int(np.floor(np.random.rand()*K))\n",
    "\tif np.random.rand() < q[kk]:\n",
    "\t    return kk\n",
    "\telse:\n",
    "\t    return J[kk]"
   ]
  },
  {
   "cell_type": "code",
   "execution_count": 4,
   "metadata": {
    "collapsed": true
   },
   "outputs": [],
   "source": [
    "import numpy as np\n",
    "import scipy as sp\n",
    "import pandas as pd\n",
    "\n",
    "from keras.models import Model\n",
    "from keras.layers import Input\n",
    "\n",
    "import networkx as nx"
   ]
  },
  {
   "cell_type": "code",
   "execution_count": 5,
   "metadata": {
    "collapsed": true
   },
   "outputs": [],
   "source": [
    "def masked_crossentropy(y_true, y_pred):\n",
    "    '''\n",
    "    y_true shape = [None, num_classes]\n",
    "    y_pred shape = [None, 2*  num_classes]\n",
    "    \n",
    "    '''    \n",
    "    mask, y_pred = tf.split(y_pred, num_or_size_splits=2, axis=-1)\n",
    "    \n",
    "    y_pred = K.clip(y_pred, min_value=K.epsilon(), max_value=1-K.epsilon())\n",
    "    \n",
    "    return -K.mean(K.sum(mask * y_true * K.log(y_pred), axis=1))\n",
    "\n",
    "def masked_margin_loss(y_true, y_pred):\n",
    "    \"\"\"\n",
    "    Margin loss for Eq.(4). When y_true[i, :] contains not just one `1`, this loss should work too. Not test it.\n",
    "    :param y_true: [None, n_classes]\n",
    "    :param y_pred: [None, 2 * num_classes]\n",
    "    :return: a scalar loss value.\n",
    "    \"\"\"\n",
    "\n",
    "    mask, y_pred = tf.split(y_pred, num_or_size_splits=2, axis=-1)\n",
    "    \n",
    "    L = y_true * K.square(K.maximum(0., 0.9 - y_pred)) + \\\n",
    "        0.5 * (1 - y_true) * K.square(K.maximum(0., y_pred - 0.1))\n",
    "        \n",
    "    L *= mask\n",
    "\n",
    "    return K.mean(K.sum(L, axis=1))\n",
    "\n",
    "def euclidean_negative_sampling_loss(y_true, y_pred, num_pos=1, num_neg=5):\n",
    "\n",
    "    # n shape = [None, D]\n",
    "    u = y_pred[:,:1]\n",
    "    v = K.permute_dimensions(y_pred[:,1:1+num_pos], [0,2,1])\n",
    "    neg_samples = K.permute_dimensions(y_pred[:,-num_neg:], [0,2,1])\n",
    "    \n",
    "    uv = K.batch_dot(u, v)\n",
    "    sig_uv = K.clip(K.sigmoid(uv), min_value=K.epsilon(), max_value=1-K.epsilon())\n",
    "    log_sig_uv = -K.log(sig_uv)\n",
    "    \n",
    "    \n",
    "    uneg = -K.batch_dot(u, neg_samples)\n",
    "    sig_uneg = K.clip(K.sigmoid(uneg), min_value=K.epsilon(), max_value=1-K.epsilon())\n",
    "    log_sig_uneg = -K.log(sig_uneg)\n",
    "    \n",
    "    \n",
    "    return K.mean(log_sig_uv + num_neg * K.mean(log_sig_uneg, axis=1))\n",
    "\n",
    "def hyperbolic_negative_sampling_loss(y_true, y_pred):\n",
    "\n",
    "    '''\n",
    "    norm y_pred < 1\n",
    "    '''\n",
    "\n",
    "    y_pred = K.clip(y_pred, min_value=K.epsilon(), max_value=1-K.epsilon())\n",
    "\n",
    "    pos = y_pred[:,:1]\n",
    "    neg = y_pred[:,1:]\n",
    "    \n",
    "#     num_neg = K.shape(neg)[1]\n",
    "    num_neg = 4\n",
    "    \n",
    "    return K.mean(-K.log(pos) - num_neg * K.mean(K.log(1 - neg), axis=1))"
   ]
  },
  {
   "cell_type": "code",
   "execution_count": 6,
   "metadata": {
    "collapsed": true
   },
   "outputs": [],
   "source": [
    "with open(\"../data/cora/cites.tsv\", \"rb\") as inf:\n",
    "    next(inf, \"\")\n",
    "    G = nx.read_edgelist(inf, delimiter=\"\\t\", )\n",
    "    \n",
    "nx.set_edge_attributes(G, name=\"weight\", values=1)\n",
    "\n",
    "X = sp.sparse.load_npz(\"../data/cora/cited_words.npz\")\n",
    "Y = sp.sparse.load_npz(\"../data/cora/paper_labels.npz\")\n",
    "\n",
    "N, D = X.shape\n",
    "_, num_classes = Y.shape\n",
    "Y = Y.argmax(axis=1)\n",
    "# C = 1\n",
    "\n",
    "# X = np.reshape(X.toarray(), [N, D, C]).astype(np.float32)\n",
    "# X = X.toarray().astype(np.float32)\n",
    "# Y = Y.toarray().astype(np.float32)"
   ]
  },
  {
   "cell_type": "code",
   "execution_count": 6,
   "metadata": {
    "collapsed": true
   },
   "outputs": [],
   "source": [
    "# G = nx.karate_club_graph()\n",
    "# N = nx.number_of_nodes(G)\n",
    "\n",
    "# X = np.identity(N)\n",
    "# map_ = {\"Mr. Hi\" : 0, \"Officer\" : 1}\n",
    "# Y = np.zeros((N, 2))\n",
    "# for i, v in enumerate(nx.get_node_attributes(G, \"club\").values()):\n",
    "#     Y[i, map_[v]] = 1\n",
    "    \n",
    "# N, D = X.shape\n",
    "# _, num_classes = Y.shape\n",
    "# C = 1\n",
    "\n",
    "# X = np.reshape(X, [N, D, C])"
   ]
  },
  {
   "cell_type": "code",
   "execution_count": 69,
   "metadata": {
    "collapsed": true
   },
   "outputs": [],
   "source": [
    "# p = 20\n",
    "# assignments = Y.argmax(axis=1)\n",
    "# patterns_to_remove = np.concatenate([np.random.permutation(np.where(assignments==i)[0])[:-p] \n",
    "#                                      for i in range(num_classes)])\n",
    "# mask = np.ones(Y.shape, dtype=np.float32)\n",
    "# mask[patterns_to_remove] = 0"
   ]
  },
  {
   "cell_type": "code",
   "execution_count": 6,
   "metadata": {
    "collapsed": true
   },
   "outputs": [],
   "source": [
    "# L = nx.laplacian_matrix(G).astype(np.float32)\n",
    "# l, U = sp.sparse.linalg.eigen.arpack.eigsh(L, k=1, which=\"LM\")\n",
    "\n",
    "# L_hat = (2 * L / l[0] - sp.sparse.identity(L.shape[0], dtype=np.float32)).astype(np.float32)"
   ]
  },
  {
   "cell_type": "code",
   "execution_count": 1,
   "metadata": {
    "collapsed": true
   },
   "outputs": [],
   "source": [
    "# def sparse_matrix_power(M, n):\n",
    "#     if n==0:\n",
    "#         return sp.sparse.identity(M.shape[0])\n",
    "#     if n%2==0:\n",
    "#         x = sparse_matrix_power(M, n/2)\n",
    "#         return x.dot(x)\n",
    "#     return M.dot(sparse_matrix_power(M, n-1))\n",
    "\n",
    "# def pad_neighbours(N, neighbours, desired_num_neighbours):\n",
    "#     num_neighbours = len(neighbours)\n",
    "#     if num_neighbours < desired_num_neighbours:\n",
    "#         non_neighbours = np.arange(N)[np.isin(np.arange(N), neighbours, assume_unique=True, invert=True)]\n",
    "#         neighbours = np.append(neighbours, np.random.choice(non_neighbours, replace=False, \n",
    "#                                                             size=(desired_num_neighbours-num_neighbours)))\n",
    "#     return neighbours\n",
    "\n",
    "# def n_hop_neighbours(L, num_neighbours, n=2):\n",
    "#     N = L.shape[0]\n",
    "#     I, J = np.nonzero(sparse_matrix_power(L, n))\n",
    "#     return [pad_neighbours(N, J[I==i], num_neighbours) for i in range(N)]\n",
    "\n",
    "# def generator(L, X, Y, mask, num_nodes=1, num_neighbours=100, n=2):\n",
    "#     n_hop_nodes = n_hop_neighbours(L, num_neighbours=num_neighbours, n=n)\n",
    "#     N = L.shape[0]\n",
    "#     i = 0\n",
    "#     nodes = np.random.permutation(N)\n",
    "#     batch = np.zeros(num_nodes*num_neighbours, dtype=np.int)\n",
    "#     while True:\n",
    "        \n",
    "#         for node in range(num_nodes):\n",
    "#             if i == N:\n",
    "#                 i -= N\n",
    "#                 nodes = np.random.permutation(N)\n",
    "#             n = nodes[i]\n",
    "#             neighbours = np.random.choice(n_hop_nodes[n], size=num_neighbours-1, replace=False )\n",
    "#             batch[node*num_neighbours] = n\n",
    "#             batch[node*num_neighbours+1:(node+1)*num_neighbours] = neighbours\n",
    "#             i += 1\n",
    "#         if (mask[batch]>0).any():\n",
    "#             yield [X[batch], L[batch][:, batch].todense(), mask[batch]], Y[batch]\n",
    "\n",
    "def neighbourhood_sample_generator(G, X, Y, sample_sizes, num_positive_samples, num_negative_samples, batch_size):\n",
    "    \n",
    "    '''\n",
    "    PRECOMPUTE SOME STUFF....\n",
    "\n",
    "    '''\n",
    "\n",
    "    G = nx.convert_node_labels_to_integers(G)\n",
    "    \n",
    "    N = len(G)\n",
    "    \n",
    "    node2vec_graph = Graph(nx_G=G, is_directed=False, p=1, q=1)\n",
    "    node2vec_graph.preprocess_transition_probs()\n",
    "    walks = node2vec_graph.simulate_walks(num_walks=1, walk_length=15)\n",
    "    \n",
    "    neighbours = [list(G.neighbors(i)) for i in list(G.nodes())]\n",
    "    \n",
    "    frequencies = np.array(dict(G.degree()).values()) ** 0.75\n",
    "    \n",
    "    targets = np.tile(np.concatenate([np.ones(num_positive_samples), np.zeros(num_negative_samples)]), \n",
    "                      [batch_size, 1])\n",
    "\n",
    "#     targets = np.zeros((batch_size, 1 + num_positive_samples + num_negative_samples, 2))\n",
    "    \n",
    "    '''\n",
    "    END OF PRECOMPUTATION\n",
    "    '''\n",
    "    \n",
    "    i = 0\n",
    "    nodes = np.random.permutation(N)\n",
    "    output_dimension = 1 + num_positive_samples + num_negative_samples\n",
    "    \n",
    "    while True:\n",
    "        \n",
    "        batch_nodes = np.zeros((batch_size, output_dimension), dtype=int)\n",
    "        \n",
    "        for j in range(batch_size):\n",
    "            \n",
    "            if i == N:\n",
    "                nodes = np.random.permutation(N)\n",
    "                i = 0\n",
    "                \n",
    "            n = nodes[i]\n",
    "            \n",
    "            positive_samples = np.random.choice(walks[n], replace=True, size=num_positive_samples)\n",
    "            possible_negative_samples = np.setdiff1d(range(N), walks[n])\n",
    "            possible_negative_sample_frequencies = frequencies[possible_negative_samples]\n",
    "            negative_samples = np.random.choice(possible_negative_samples, replace=True, size=num_negative_samples, \n",
    "                            p=possible_negative_sample_frequencies / possible_negative_sample_frequencies.sum())\n",
    "                                                     \n",
    "            batch_nodes[j, 0] = n\n",
    "            batch_nodes[j, 1 : 1 + num_positive_samples] = positive_samples\n",
    "            batch_nodes[j, 1 + num_positive_samples : ] = negative_samples\n",
    "        \n",
    "            i += 1\n",
    "    \n",
    "        neighbour_list = [batch_nodes]\n",
    "        for sample_size in sample_sizes:\n",
    "            neighbour_list.append(np.array([\n",
    "                np.concatenate([ np.append(n, np.random.choice(neighbours[n], replace=True, size=sample_size)) \n",
    "                                for n in batch]) \n",
    "                                    for batch in neighbour_list[-1]]))\n",
    "            \n",
    "\n",
    "        # shape is [batch_size, output_shape*prod(sample_sizes), D, num_channels]\n",
    "        x = X[neighbour_list[-1].flatten()].toarray().reshape(list(neighbour_list[-1].shape) + [-1])\n",
    "        x = np.expand_dims(x, 2)\n",
    "#         targets = \n",
    "        \n",
    "#         L_list = [np.array([L[neighbour_list[-i-1][j]][:,neighbour_list[-i][j]].todense() for j in range(batch_size)]) \n",
    "#                   for i in range(1, len(neighbour_list))]\n",
    "        \n",
    "#         yield [x] + L_list, targets\n",
    "        targets = Y[neighbour_list[0]].squeeze(-1)\n",
    "        yield x, targets"
   ]
  },
  {
   "cell_type": "code",
   "execution_count": 3,
   "metadata": {
    "collapsed": true
   },
   "outputs": [],
   "source": [
    "import numpy as np"
   ]
  },
  {
   "cell_type": "code",
   "execution_count": null,
   "metadata": {
    "collapsed": true
   },
   "outputs": [],
   "source": []
  },
  {
   "cell_type": "code",
   "execution_count": 11,
   "metadata": {
    "collapsed": true
   },
   "outputs": [],
   "source": [
    "sample_size=np.array([3,5])"
   ]
  },
  {
   "cell_type": "code",
   "execution_count": 17,
   "metadata": {},
   "outputs": [
    {
     "data": {
      "text/plain": [
       "array([3, 5])"
      ]
     },
     "execution_count": 17,
     "metadata": {},
     "output_type": "execute_result"
    }
   ],
   "source": [
    "sample_size\n"
   ]
  },
  {
   "cell_type": "code",
   "execution_count": 21,
   "metadata": {},
   "outputs": [
    {
     "data": {
      "text/plain": [
       "[1, 4, 24]"
      ]
     },
     "execution_count": 21,
     "metadata": {},
     "output_type": "execute_result"
    }
   ],
   "source": [
    "[np.prod(sample_size[:i] + 1) for i in range(len(sample_size) + 1, )]"
   ]
  },
  {
   "cell_type": "code",
   "execution_count": 9,
   "metadata": {},
   "outputs": [
    {
     "ename": "NameError",
     "evalue": "name 'G' is not defined",
     "output_type": "error",
     "traceback": [
      "\u001b[0;31m---------------------------------------------------------------------------\u001b[0m",
      "\u001b[0;31mNameError\u001b[0m                                 Traceback (most recent call last)",
      "\u001b[0;32m<ipython-input-9-eb1504fd52f0>\u001b[0m in \u001b[0;36m<module>\u001b[0;34m()\u001b[0m\n\u001b[1;32m      4\u001b[0m \u001b[0moutput_size\u001b[0m \u001b[0;34m=\u001b[0m \u001b[0;36m1\u001b[0m \u001b[0;34m+\u001b[0m \u001b[0mnum_positive_samples\u001b[0m \u001b[0;34m+\u001b[0m \u001b[0mnum_negative_samples\u001b[0m\u001b[0;34m\u001b[0m\u001b[0m\n\u001b[1;32m      5\u001b[0m \u001b[0mbatch_size\u001b[0m \u001b[0;34m=\u001b[0m \u001b[0;36m100\u001b[0m\u001b[0;34m\u001b[0m\u001b[0m\n\u001b[0;32m----> 6\u001b[0;31m gen = neighbourhood_sample_generator(G, X, Y, sample_sizes, \n\u001b[0m\u001b[1;32m      7\u001b[0m                                    \u001b[0mnum_positive_samples\u001b[0m\u001b[0;34m=\u001b[0m\u001b[0mnum_positive_samples\u001b[0m\u001b[0;34m,\u001b[0m\u001b[0;34m\u001b[0m\u001b[0m\n\u001b[1;32m      8\u001b[0m                                      \u001b[0mnum_negative_samples\u001b[0m\u001b[0;34m=\u001b[0m\u001b[0mnum_negative_samples\u001b[0m\u001b[0;34m,\u001b[0m\u001b[0;34m\u001b[0m\u001b[0m\n",
      "\u001b[0;31mNameError\u001b[0m: name 'G' is not defined"
     ]
    }
   ],
   "source": [
    "sample_sizes = np.array([3, 5])\n",
    "num_positive_samples = 1\n",
    "num_negative_samples = 4\n",
    "output_size = 1 + num_positive_samples + num_negative_samples\n",
    "batch_size = 100\n",
    "gen = neighbourhood_sample_generator(G, X, Y, sample_sizes, \n",
    "                                   num_positive_samples=num_positive_samples, \n",
    "                                     num_negative_samples=num_negative_samples, \n",
    "                                     batch_size=batch_size)"
   ]
  },
  {
   "cell_type": "code",
   "execution_count": 9,
   "metadata": {},
   "outputs": [
    {
     "name": "stdout",
     "output_type": "stream",
     "text": [
      "Walk iteration:\n",
      "1 / 1\n"
     ]
    }
   ],
   "source": [
    "in_, out_ = gen.next()"
   ]
  },
  {
   "cell_type": "code",
   "execution_count": 10,
   "metadata": {},
   "outputs": [
    {
     "data": {
      "text/plain": [
       "(100, 144, 1, 1433)"
      ]
     },
     "execution_count": 10,
     "metadata": {},
     "output_type": "execute_result"
    }
   ],
   "source": [
    "in_.shape"
   ]
  },
  {
   "cell_type": "code",
   "execution_count": 11,
   "metadata": {},
   "outputs": [
    {
     "name": "stdout",
     "output_type": "stream",
     "text": [
      "_________________________________________________________________\n",
      "Layer (type)                 Output Shape              Param #   \n",
      "=================================================================\n",
      "input_signal (InputLayer)    (None, 144, 1, 1433)      0         \n",
      "_________________________________________________________________\n",
      "agg1 (AggregateLayer)        (None, 24, 1, 1433)       3456      \n",
      "_________________________________________________________________\n",
      "cap1 (GraphCapsuleLayer)     (None, 24, 32, 8)         366848    \n",
      "_________________________________________________________________\n",
      "agg2 (AggregateLayer)        (None, 6, 32, 8)          144       \n",
      "_________________________________________________________________\n",
      "cap2 (GraphCapsuleLayer)     (None, 6, 1, 2)           512       \n",
      "_________________________________________________________________\n",
      "reshape_1 (Reshape)          (None, 6, 2)              0         \n",
      "_________________________________________________________________\n",
      "hyperbolic_distance_layer_1  (None, 5)                 0         \n",
      "=================================================================\n",
      "Total params: 370,960\n",
      "Trainable params: 367,360\n",
      "Non-trainable params: 3,600\n",
      "_________________________________________________________________\n"
     ]
    }
   ],
   "source": [
    "x = Input(shape=(np.prod(sample_sizes + 1) * output_size, 1, D), name=\"input_signal\")\n",
    "agg1 = AggregateLayer(new_dim=np.prod(sample_sizes[:-1] + 1) * output_size,\n",
    "                            activation=None, name=\"agg1\")(x)\n",
    "cap1 = GraphCapsuleLayer(num_capsule=32, dim_capsule=8, name=\"cap1\")(agg1)\n",
    "\n",
    "agg2 = AggregateLayer(new_dim=np.prod(sample_sizes[:-2] + 1) * output_size,\n",
    "                            activation=None, name=\"agg2\")(cap1)\n",
    "cap2 = GraphCapsuleLayer(num_capsule=1, dim_capsule=2, name=\"cap2\")(agg2)\n",
    "\n",
    "# agg3 = AggregateLayer(new_dim=np.prod(sample_sizes[:-3] + 1) * output_size,\n",
    "#                             activation=None, name=\"agg3\")(cap2)\n",
    "# cap3 = GraphCapsuleLayer(num_capsule=1, dim_capsule=2, name=\"cap3\")(agg3)\n",
    "\n",
    "reshape_cap = layers.Reshape(target_shape=(1+num_positive_samples+num_negative_samples, 2))(cap2)\n",
    "\n",
    "\n",
    "hyperbolic_distance = HyperbolicDistanceLayer(num_positive_samples=num_positive_samples, \n",
    "                                             num_negative_samples=num_negative_samples)(reshape_cap)\n",
    "\n",
    "model = Model(x, hyperbolic_distance)\n",
    "model.compile(optimizer=\"adam\", loss=hyperbolic_negative_sampling_loss)\n",
    "model.summary()"
   ]
  },
  {
   "cell_type": "code",
   "execution_count": 27,
   "metadata": {
    "collapsed": true
   },
   "outputs": [],
   "source": [
    "?np.bool"
   ]
  },
  {
   "cell_type": "code",
   "execution_count": 62,
   "metadata": {},
   "outputs": [
    {
     "name": "stdout",
     "output_type": "stream",
     "text": [
      "(1, 2)\n"
     ]
    },
    {
     "ename": "ValueError",
     "evalue": "Shape must be rank 1 but is rank 3 for 'strided_slice_12' (op: 'StridedSlice') with input shapes: [100,10,2], [1,1,2], [1,1,2], [1].",
     "output_type": "error",
     "traceback": [
      "\u001b[0;31m---------------------------------------------------------------------------\u001b[0m",
      "\u001b[0;31mValueError\u001b[0m                                Traceback (most recent call last)",
      "\u001b[0;32m<ipython-input-62-b686a41a4a13>\u001b[0m in \u001b[0;36m<module>\u001b[0;34m()\u001b[0m\n\u001b[1;32m     10\u001b[0m \u001b[0;31m#     print mask.eval(session=sess).shape\u001b[0m\u001b[0;34m\u001b[0m\u001b[0;34m\u001b[0m\u001b[0m\n\u001b[1;32m     11\u001b[0m \u001b[0;31m#     print tf.boolean_mask(tensor=x, mask=mask).eval(session = sess).shape\u001b[0m\u001b[0;34m\u001b[0m\u001b[0;34m\u001b[0m\u001b[0m\n\u001b[0;32m---> 12\u001b[0;31m     \u001b[0;32mprint\u001b[0m \u001b[0mx\u001b[0m\u001b[0;34m[\u001b[0m\u001b[0mmask\u001b[0m\u001b[0;34m]\u001b[0m\u001b[0;34m\u001b[0m\u001b[0m\n\u001b[0m",
      "\u001b[0;32m/home/david/miniconda2/lib/python2.7/site-packages/tensorflow/python/ops/array_ops.pyc\u001b[0m in \u001b[0;36m_SliceHelper\u001b[0;34m(tensor, slice_spec, var)\u001b[0m\n\u001b[1;32m    536\u001b[0m         \u001b[0mellipsis_mask\u001b[0m\u001b[0;34m=\u001b[0m\u001b[0mellipsis_mask\u001b[0m\u001b[0;34m,\u001b[0m\u001b[0;34m\u001b[0m\u001b[0m\n\u001b[1;32m    537\u001b[0m         \u001b[0mvar\u001b[0m\u001b[0;34m=\u001b[0m\u001b[0mvar\u001b[0m\u001b[0;34m,\u001b[0m\u001b[0;34m\u001b[0m\u001b[0m\n\u001b[0;32m--> 538\u001b[0;31m         name=name)\n\u001b[0m\u001b[1;32m    539\u001b[0m \u001b[0;34m\u001b[0m\u001b[0m\n\u001b[1;32m    540\u001b[0m \u001b[0;34m\u001b[0m\u001b[0m\n",
      "\u001b[0;32m/home/david/miniconda2/lib/python2.7/site-packages/tensorflow/python/ops/array_ops.pyc\u001b[0m in \u001b[0;36mstrided_slice\u001b[0;34m(input_, begin, end, strides, begin_mask, end_mask, ellipsis_mask, new_axis_mask, shrink_axis_mask, var, name)\u001b[0m\n\u001b[1;32m    704\u001b[0m       \u001b[0mellipsis_mask\u001b[0m\u001b[0;34m=\u001b[0m\u001b[0mellipsis_mask\u001b[0m\u001b[0;34m,\u001b[0m\u001b[0;34m\u001b[0m\u001b[0m\n\u001b[1;32m    705\u001b[0m       \u001b[0mnew_axis_mask\u001b[0m\u001b[0;34m=\u001b[0m\u001b[0mnew_axis_mask\u001b[0m\u001b[0;34m,\u001b[0m\u001b[0;34m\u001b[0m\u001b[0m\n\u001b[0;32m--> 706\u001b[0;31m       shrink_axis_mask=shrink_axis_mask)\n\u001b[0m\u001b[1;32m    707\u001b[0m \u001b[0;34m\u001b[0m\u001b[0m\n\u001b[1;32m    708\u001b[0m   \u001b[0mparent_name\u001b[0m \u001b[0;34m=\u001b[0m \u001b[0mname\u001b[0m\u001b[0;34m\u001b[0m\u001b[0m\n",
      "\u001b[0;32m/home/david/miniconda2/lib/python2.7/site-packages/tensorflow/python/ops/gen_array_ops.pyc\u001b[0m in \u001b[0;36mstrided_slice\u001b[0;34m(input, begin, end, strides, begin_mask, end_mask, ellipsis_mask, new_axis_mask, shrink_axis_mask, name)\u001b[0m\n\u001b[1;32m   5428\u001b[0m         \u001b[0mbegin_mask\u001b[0m\u001b[0;34m=\u001b[0m\u001b[0mbegin_mask\u001b[0m\u001b[0;34m,\u001b[0m \u001b[0mend_mask\u001b[0m\u001b[0;34m=\u001b[0m\u001b[0mend_mask\u001b[0m\u001b[0;34m,\u001b[0m \u001b[0mellipsis_mask\u001b[0m\u001b[0;34m=\u001b[0m\u001b[0mellipsis_mask\u001b[0m\u001b[0;34m,\u001b[0m\u001b[0;34m\u001b[0m\u001b[0m\n\u001b[1;32m   5429\u001b[0m         \u001b[0mnew_axis_mask\u001b[0m\u001b[0;34m=\u001b[0m\u001b[0mnew_axis_mask\u001b[0m\u001b[0;34m,\u001b[0m \u001b[0mshrink_axis_mask\u001b[0m\u001b[0;34m=\u001b[0m\u001b[0mshrink_axis_mask\u001b[0m\u001b[0;34m,\u001b[0m\u001b[0;34m\u001b[0m\u001b[0m\n\u001b[0;32m-> 5430\u001b[0;31m         name=name)\n\u001b[0m\u001b[1;32m   5431\u001b[0m     \u001b[0m_result\u001b[0m \u001b[0;34m=\u001b[0m \u001b[0m_op\u001b[0m\u001b[0;34m.\u001b[0m\u001b[0moutputs\u001b[0m\u001b[0;34m[\u001b[0m\u001b[0;34m:\u001b[0m\u001b[0;34m]\u001b[0m\u001b[0;34m\u001b[0m\u001b[0m\n\u001b[1;32m   5432\u001b[0m     \u001b[0m_inputs_flat\u001b[0m \u001b[0;34m=\u001b[0m \u001b[0m_op\u001b[0m\u001b[0;34m.\u001b[0m\u001b[0minputs\u001b[0m\u001b[0;34m\u001b[0m\u001b[0m\n",
      "\u001b[0;32m/home/david/miniconda2/lib/python2.7/site-packages/tensorflow/python/framework/op_def_library.pyc\u001b[0m in \u001b[0;36m_apply_op_helper\u001b[0;34m(self, op_type_name, name, **keywords)\u001b[0m\n\u001b[1;32m    785\u001b[0m         op = g.create_op(op_type_name, inputs, output_types, name=scope,\n\u001b[1;32m    786\u001b[0m                          \u001b[0minput_types\u001b[0m\u001b[0;34m=\u001b[0m\u001b[0minput_types\u001b[0m\u001b[0;34m,\u001b[0m \u001b[0mattrs\u001b[0m\u001b[0;34m=\u001b[0m\u001b[0mattr_protos\u001b[0m\u001b[0;34m,\u001b[0m\u001b[0;34m\u001b[0m\u001b[0m\n\u001b[0;32m--> 787\u001b[0;31m                          op_def=op_def)\n\u001b[0m\u001b[1;32m    788\u001b[0m       \u001b[0;32mreturn\u001b[0m \u001b[0moutput_structure\u001b[0m\u001b[0;34m,\u001b[0m \u001b[0mop_def\u001b[0m\u001b[0;34m.\u001b[0m\u001b[0mis_stateful\u001b[0m\u001b[0;34m,\u001b[0m \u001b[0mop\u001b[0m\u001b[0;34m\u001b[0m\u001b[0m\n\u001b[1;32m    789\u001b[0m \u001b[0;34m\u001b[0m\u001b[0m\n",
      "\u001b[0;32m/home/david/miniconda2/lib/python2.7/site-packages/tensorflow/python/framework/ops.pyc\u001b[0m in \u001b[0;36mcreate_op\u001b[0;34m(self, op_type, inputs, dtypes, input_types, name, attrs, op_def, compute_shapes, compute_device)\u001b[0m\n\u001b[1;32m   2956\u001b[0m         op_def=op_def)\n\u001b[1;32m   2957\u001b[0m     \u001b[0;32mif\u001b[0m \u001b[0mcompute_shapes\u001b[0m\u001b[0;34m:\u001b[0m\u001b[0;34m\u001b[0m\u001b[0m\n\u001b[0;32m-> 2958\u001b[0;31m       \u001b[0mset_shapes_for_outputs\u001b[0m\u001b[0;34m(\u001b[0m\u001b[0mret\u001b[0m\u001b[0;34m)\u001b[0m\u001b[0;34m\u001b[0m\u001b[0m\n\u001b[0m\u001b[1;32m   2959\u001b[0m     \u001b[0mself\u001b[0m\u001b[0;34m.\u001b[0m\u001b[0m_add_op\u001b[0m\u001b[0;34m(\u001b[0m\u001b[0mret\u001b[0m\u001b[0;34m)\u001b[0m\u001b[0;34m\u001b[0m\u001b[0m\n\u001b[1;32m   2960\u001b[0m     \u001b[0mself\u001b[0m\u001b[0;34m.\u001b[0m\u001b[0m_record_op_seen_by_control_dependencies\u001b[0m\u001b[0;34m(\u001b[0m\u001b[0mret\u001b[0m\u001b[0;34m)\u001b[0m\u001b[0;34m\u001b[0m\u001b[0m\n",
      "\u001b[0;32m/home/david/miniconda2/lib/python2.7/site-packages/tensorflow/python/framework/ops.pyc\u001b[0m in \u001b[0;36mset_shapes_for_outputs\u001b[0;34m(op)\u001b[0m\n\u001b[1;32m   2207\u001b[0m       \u001b[0mshape_func\u001b[0m \u001b[0;34m=\u001b[0m \u001b[0m_call_cpp_shape_fn_and_require_op\u001b[0m\u001b[0;34m\u001b[0m\u001b[0m\n\u001b[1;32m   2208\u001b[0m \u001b[0;34m\u001b[0m\u001b[0m\n\u001b[0;32m-> 2209\u001b[0;31m   \u001b[0mshapes\u001b[0m \u001b[0;34m=\u001b[0m \u001b[0mshape_func\u001b[0m\u001b[0;34m(\u001b[0m\u001b[0mop\u001b[0m\u001b[0;34m)\u001b[0m\u001b[0;34m\u001b[0m\u001b[0m\n\u001b[0m\u001b[1;32m   2210\u001b[0m   \u001b[0;32mif\u001b[0m \u001b[0mshapes\u001b[0m \u001b[0;32mis\u001b[0m \u001b[0mNone\u001b[0m\u001b[0;34m:\u001b[0m\u001b[0;34m\u001b[0m\u001b[0m\n\u001b[1;32m   2211\u001b[0m     raise RuntimeError(\n",
      "\u001b[0;32m/home/david/miniconda2/lib/python2.7/site-packages/tensorflow/python/framework/ops.pyc\u001b[0m in \u001b[0;36mcall_with_requiring\u001b[0;34m(op)\u001b[0m\n\u001b[1;32m   2157\u001b[0m \u001b[0;34m\u001b[0m\u001b[0m\n\u001b[1;32m   2158\u001b[0m   \u001b[0;32mdef\u001b[0m \u001b[0mcall_with_requiring\u001b[0m\u001b[0;34m(\u001b[0m\u001b[0mop\u001b[0m\u001b[0;34m)\u001b[0m\u001b[0;34m:\u001b[0m\u001b[0;34m\u001b[0m\u001b[0m\n\u001b[0;32m-> 2159\u001b[0;31m     \u001b[0;32mreturn\u001b[0m \u001b[0mcall_cpp_shape_fn\u001b[0m\u001b[0;34m(\u001b[0m\u001b[0mop\u001b[0m\u001b[0;34m,\u001b[0m \u001b[0mrequire_shape_fn\u001b[0m\u001b[0;34m=\u001b[0m\u001b[0mTrue\u001b[0m\u001b[0;34m)\u001b[0m\u001b[0;34m\u001b[0m\u001b[0m\n\u001b[0m\u001b[1;32m   2160\u001b[0m \u001b[0;34m\u001b[0m\u001b[0m\n\u001b[1;32m   2161\u001b[0m   \u001b[0m_call_cpp_shape_fn_and_require_op\u001b[0m \u001b[0;34m=\u001b[0m \u001b[0mcall_with_requiring\u001b[0m\u001b[0;34m\u001b[0m\u001b[0m\n",
      "\u001b[0;32m/home/david/miniconda2/lib/python2.7/site-packages/tensorflow/python/framework/common_shapes.pyc\u001b[0m in \u001b[0;36mcall_cpp_shape_fn\u001b[0;34m(op, require_shape_fn)\u001b[0m\n\u001b[1;32m    625\u001b[0m     res = _call_cpp_shape_fn_impl(op, input_tensors_needed,\n\u001b[1;32m    626\u001b[0m                                   \u001b[0minput_tensors_as_shapes_needed\u001b[0m\u001b[0;34m,\u001b[0m\u001b[0;34m\u001b[0m\u001b[0m\n\u001b[0;32m--> 627\u001b[0;31m                                   require_shape_fn)\n\u001b[0m\u001b[1;32m    628\u001b[0m     \u001b[0;32mif\u001b[0m \u001b[0;32mnot\u001b[0m \u001b[0misinstance\u001b[0m\u001b[0;34m(\u001b[0m\u001b[0mres\u001b[0m\u001b[0;34m,\u001b[0m \u001b[0mdict\u001b[0m\u001b[0;34m)\u001b[0m\u001b[0;34m:\u001b[0m\u001b[0;34m\u001b[0m\u001b[0m\n\u001b[1;32m    629\u001b[0m       \u001b[0;31m# Handles the case where _call_cpp_shape_fn_impl calls unknown_shape(op).\u001b[0m\u001b[0;34m\u001b[0m\u001b[0;34m\u001b[0m\u001b[0m\n",
      "\u001b[0;32m/home/david/miniconda2/lib/python2.7/site-packages/tensorflow/python/framework/common_shapes.pyc\u001b[0m in \u001b[0;36m_call_cpp_shape_fn_impl\u001b[0;34m(op, input_tensors_needed, input_tensors_as_shapes_needed, require_shape_fn)\u001b[0m\n\u001b[1;32m    689\u001b[0m       \u001b[0mmissing_shape_fn\u001b[0m \u001b[0;34m=\u001b[0m \u001b[0mTrue\u001b[0m\u001b[0;34m\u001b[0m\u001b[0m\n\u001b[1;32m    690\u001b[0m     \u001b[0;32melse\u001b[0m\u001b[0;34m:\u001b[0m\u001b[0;34m\u001b[0m\u001b[0m\n\u001b[0;32m--> 691\u001b[0;31m       \u001b[0;32mraise\u001b[0m \u001b[0mValueError\u001b[0m\u001b[0;34m(\u001b[0m\u001b[0merr\u001b[0m\u001b[0;34m.\u001b[0m\u001b[0mmessage\u001b[0m\u001b[0;34m)\u001b[0m\u001b[0;34m\u001b[0m\u001b[0m\n\u001b[0m\u001b[1;32m    692\u001b[0m \u001b[0;34m\u001b[0m\u001b[0m\n\u001b[1;32m    693\u001b[0m   \u001b[0;32mif\u001b[0m \u001b[0mmissing_shape_fn\u001b[0m\u001b[0;34m:\u001b[0m\u001b[0;34m\u001b[0m\u001b[0m\n",
      "\u001b[0;31mValueError\u001b[0m: Shape must be rank 1 but is rank 3 for 'strided_slice_12' (op: 'StridedSlice') with input shapes: [100,10,2], [1,1,2], [1,1,2], [1]."
     ]
    }
   ],
   "source": [
    "with tf.Session() as sess:\n",
    "    x = K.constant(np.zeros((100, 10, 2)))\n",
    "    mask = np.zeros((100, 10), dtype=bool)\n",
    "    mask[:,(1, 6), :, :] = 1\n",
    "    mask = K.constant(mask, dtype=np.int32)\n",
    "    print mask.shape\n",
    "#     print mask\n",
    "#     mask = K.constant(mask, dtype=bool)\n",
    "#     print mask.eval(session=sess).shape\n",
    "#     print tf.boolean_mask(tensor=x, mask=mask).eval(session = sess).shape\n",
    "    print x[mask]"
   ]
  },
  {
   "cell_type": "code",
   "execution_count": 73,
   "metadata": {
    "collapsed": true
   },
   "outputs": [],
   "source": [
    "# num_nodes = 1\n",
    "# num_neighbours = 25\n",
    "# batch_size = num_nodes * num_neighbours"
   ]
  },
  {
   "cell_type": "code",
   "execution_count": 13,
   "metadata": {
    "collapsed": true
   },
   "outputs": [],
   "source": [
    "# x = Input(shape=(np.prod(sample_sizes + 1) * output_size, D), name=\"input_signal\")\n",
    "# agg1 = MeanAggregateLayer(new_dim=500, num_neighbours=np.prod(sample_sizes[:-1] + 1) * output_size,\n",
    "#                             activation=\"relu\", name=\"agg1\")(x)\n",
    "\n",
    "# agg2 = MeanAggregateLayer(new_dim=250, num_neighbours=np.prod(sample_sizes[:-2] + 1) * output_size,\n",
    "#                             activation=\"relu\", name=\"agg2\")(agg1)\n",
    "\n",
    "# agg3 = MeanAggregateLayer(new_dim=2, num_neighbours=np.prod(sample_sizes[:-3] + 1) * output_size,\n",
    "#                             activation=None, name=\"agg3\")(agg2)\n",
    "\n",
    "# squashed_output = layers.Lambda(squash, )(agg3)\n",
    "# output = HyperbolicDistanceLayer(num_positive_samples=num_positive_samples, \n",
    "#                                  num_negative_samples=num_negative_samples)(squashed_output)\n",
    "\n",
    "# model = Model(x, output)\n",
    "# model.compile(optimizer=\"adam\", loss=hyperbolic_negative_sampling_loss)\n",
    "\n",
    "# model.summary()"
   ]
  },
  {
   "cell_type": "code",
   "execution_count": 193,
   "metadata": {
    "collapsed": true
   },
   "outputs": [
    {
     "name": "stdout",
     "output_type": "stream",
     "text": [
      "__________________________________________________________________________________________________\n",
      "Layer (type)                    Output Shape         Param #     Connected to                     \n",
      "==================================================================================================\n",
      "L_input_1 (InputLayer)          (None, 175, 875)     0                                            \n",
      "__________________________________________________________________________________________________\n",
      "signal_input (InputLayer)       (None, 875, 1433, 1) 0                                            \n",
      "__________________________________________________________________________________________________\n",
      "L_input_2 (InputLayer)          (None, 35, 175)      0                                            \n",
      "__________________________________________________________________________________________________\n",
      "conv1 (GraphConv)               (None, 175, 500, 256 717256      L_input_1[0][0]                  \n",
      "                                                                 signal_input[0][0]               \n",
      "__________________________________________________________________________________________________\n",
      "L_input_3 (InputLayer)          (None, 7.0, 35)      0                                            \n",
      "__________________________________________________________________________________________________\n",
      "conv2 (GraphConv)               (None, 175, 250, 256 190786      L_input_2[0][0]                  \n",
      "                                                                 conv1[0][0]                      \n",
      "__________________________________________________________________________________________________\n",
      "conv4 (GraphConv)               (None, 7.0, 2, 1)    758         L_input_3[0][0]                  \n",
      "                                                                 conv2[0][0]                      \n",
      "__________________________________________________________________________________________________\n",
      "reshape_22 (Reshape)            (None, 7, 2)         0           conv4[0][0]                      \n",
      "==================================================================================================\n",
      "Total params: 908,800\n",
      "Trainable params: 908,800\n",
      "Non-trainable params: 0\n",
      "__________________________________________________________________________________________________\n"
     ]
    }
   ],
   "source": [
    "# x = Input(shape=(output_size * np.prod(sample_sizes), D,), name=\"signal_input\")\n",
    "# # L_input = Input(shape=(batch_size,),  name=\"L_input\")\n",
    "# # mask_input = Input(shape=(num_classes,), name=\"mask_input\")\n",
    "\n",
    "# L_input_1 = Input(shape=(output_size * np.prod(sample_sizes[:-1]), output_size * np.prod(sample_sizes)), \n",
    "#                   name=\"L_input_1\")\n",
    "# conv1 = GraphConv(500, num_neighbours=output_size*np.prod(sample_sizes[:-1]), \n",
    "#                   num_filters=256, kernel_size=1, activation=\"relu\", \n",
    "#                   name=\"conv1\")([L_input_1, x])\n",
    "\n",
    "# L_input_2 = Input(shape=(output_size * np.prod(sample_sizes[:-2]), output_size * np.prod(sample_sizes[:-1])), \n",
    "#                   name=\"L_input_2\")\n",
    "# conv2 = GraphConv(250, num_neighbours=output_size * np.prod(sample_sizes[:-1]), \n",
    "#                   num_filters=256, kernel_size=1, activation=\"relu\", \n",
    "#                   name=\"conv2\")([L_input_2, conv1])\n",
    "\n",
    "# L_input_3 = Input(shape=(output_size * np.prod(sample_sizes[:-3]), output_size * np.prod(sample_sizes[:-2])), \n",
    "#                   name=\"L_input_3\")\n",
    "# conv3 = GraphConv(2, num_neighbours=output_size * np.prod(sample_sizes[:-3]), \n",
    "#                   num_filters=1, kernel_size=1, activation=\"linear\", \n",
    "#                   name=\"conv4\")([L_input_3, conv2])\n",
    "# # primary_cap = PrimaryCap(x=conv1, L=L_input, \n",
    "# #                          dim_capsule=8, num_capsule=32, kernel_size=1)\n",
    "# # secondary_cap = CapsuleLayer(dim_capsule=16, num_capsule=num_classes, \n",
    "# #                              num_routing=3, name=\"secondary_cap\")(primary_cap)\n",
    "# # secondary_cap_length = Length(name=\"length\")(secondary_cap)\n",
    "\n",
    "# # outputs = layers.Concatenate()([mask_input, secondary_cap_length])\n",
    "# # outputs = layers.Flatten(name=\"flatten\")(conv2)\n",
    "# embedding = layers.Reshape(target_shape=(output_size, -1))(conv3)\n",
    "# # outputs = layers.Dense(2)(outputs)\n",
    "# # outputs = EmbeddingSimilarityLayer(num_positive_samples=num_positive_samples, \n",
    "# #                                    num_negative_samples=num_negative_samples,\n",
    "# #                                   name=\"embedding_layer\")(embedding)\n",
    "\n",
    "# model = Model([x, L_input_1, L_input_2, L_input_3], [embedding])\n",
    "\n",
    "# model.compile(optimizer=\"adam\", #loss=[masked_margin_loss])\n",
    "# #               loss=masked_crossentropy)\n",
    "# #               loss=\"binary_crossentropy\")\n",
    "#               loss=negative_sampling_loss)\n",
    "# model.summary()"
   ]
  },
  {
   "cell_type": "code",
   "execution_count": 12,
   "metadata": {
    "collapsed": true
   },
   "outputs": [],
   "source": [
    "from keras.callbacks import TerminateOnNaN\n",
    "from keras_tqdm import TQDMNotebookCallback"
   ]
  },
  {
   "cell_type": "code",
   "execution_count": 115,
   "metadata": {
    "collapsed": true
   },
   "outputs": [],
   "source": [
    "# gen = generator(L_hat, X, Y, mask, num_nodes=num_nodes, num_neighbours=num_neighbours, n=2)"
   ]
  },
  {
   "cell_type": "code",
   "execution_count": 13,
   "metadata": {},
   "outputs": [
    {
     "data": {
      "application/vnd.jupyter.widget-view+json": {
       "model_id": "1bda1d4c1aa14961b51575f05655ceb7"
      }
     },
     "metadata": {},
     "output_type": "display_data"
    },
    {
     "data": {
      "application/vnd.jupyter.widget-view+json": {
       "model_id": "e2d5ce9e74474b82a40ff732d44207c1"
      }
     },
     "metadata": {},
     "output_type": "display_data"
    },
    {
     "ename": "KeyboardInterrupt",
     "evalue": "",
     "output_type": "error",
     "traceback": [
      "\u001b[0;31m---------------------------------------------------------------------------\u001b[0m",
      "\u001b[0;31mKeyboardInterrupt\u001b[0m                         Traceback (most recent call last)",
      "\u001b[0;32m<ipython-input-13-4338f3ef1e28>\u001b[0m in \u001b[0;36m<module>\u001b[0;34m()\u001b[0m\n\u001b[1;32m      1\u001b[0m model.fit_generator(generator=gen, verbose=0,\n\u001b[1;32m      2\u001b[0m                     \u001b[0mepochs\u001b[0m\u001b[0;34m=\u001b[0m\u001b[0;36m50\u001b[0m\u001b[0;34m,\u001b[0m \u001b[0msteps_per_epoch\u001b[0m\u001b[0;34m=\u001b[0m\u001b[0;36m1000\u001b[0m\u001b[0;34m,\u001b[0m\u001b[0;34m\u001b[0m\u001b[0m\n\u001b[0;32m----> 3\u001b[0;31m                     callbacks=[TerminateOnNaN(), TQDMNotebookCallback(leave_inner=False, leave_outer=True)])\n\u001b[0m",
      "\u001b[0;32m/home/david/miniconda2/lib/python2.7/site-packages/keras/legacy/interfaces.pyc\u001b[0m in \u001b[0;36mwrapper\u001b[0;34m(*args, **kwargs)\u001b[0m\n\u001b[1;32m     85\u001b[0m                 warnings.warn('Update your `' + object_name +\n\u001b[1;32m     86\u001b[0m                               '` call to the Keras 2 API: ' + signature, stacklevel=2)\n\u001b[0;32m---> 87\u001b[0;31m             \u001b[0;32mreturn\u001b[0m \u001b[0mfunc\u001b[0m\u001b[0;34m(\u001b[0m\u001b[0;34m*\u001b[0m\u001b[0margs\u001b[0m\u001b[0;34m,\u001b[0m \u001b[0;34m**\u001b[0m\u001b[0mkwargs\u001b[0m\u001b[0;34m)\u001b[0m\u001b[0;34m\u001b[0m\u001b[0m\n\u001b[0m\u001b[1;32m     88\u001b[0m         \u001b[0mwrapper\u001b[0m\u001b[0;34m.\u001b[0m\u001b[0m_original_function\u001b[0m \u001b[0;34m=\u001b[0m \u001b[0mfunc\u001b[0m\u001b[0;34m\u001b[0m\u001b[0m\n\u001b[1;32m     89\u001b[0m         \u001b[0;32mreturn\u001b[0m \u001b[0mwrapper\u001b[0m\u001b[0;34m\u001b[0m\u001b[0m\n",
      "\u001b[0;32m/home/david/miniconda2/lib/python2.7/site-packages/keras/engine/training.pyc\u001b[0m in \u001b[0;36mfit_generator\u001b[0;34m(self, generator, steps_per_epoch, epochs, verbose, callbacks, validation_data, validation_steps, class_weight, max_queue_size, workers, use_multiprocessing, shuffle, initial_epoch)\u001b[0m\n\u001b[1;32m   2145\u001b[0m                     outs = self.train_on_batch(x, y,\n\u001b[1;32m   2146\u001b[0m                                                \u001b[0msample_weight\u001b[0m\u001b[0;34m=\u001b[0m\u001b[0msample_weight\u001b[0m\u001b[0;34m,\u001b[0m\u001b[0;34m\u001b[0m\u001b[0m\n\u001b[0;32m-> 2147\u001b[0;31m                                                class_weight=class_weight)\n\u001b[0m\u001b[1;32m   2148\u001b[0m \u001b[0;34m\u001b[0m\u001b[0m\n\u001b[1;32m   2149\u001b[0m                     \u001b[0;32mif\u001b[0m \u001b[0;32mnot\u001b[0m \u001b[0misinstance\u001b[0m\u001b[0;34m(\u001b[0m\u001b[0mouts\u001b[0m\u001b[0;34m,\u001b[0m \u001b[0mlist\u001b[0m\u001b[0;34m)\u001b[0m\u001b[0;34m:\u001b[0m\u001b[0;34m\u001b[0m\u001b[0m\n",
      "\u001b[0;32m/home/david/miniconda2/lib/python2.7/site-packages/keras/engine/training.pyc\u001b[0m in \u001b[0;36mtrain_on_batch\u001b[0;34m(self, x, y, sample_weight, class_weight)\u001b[0m\n\u001b[1;32m   1837\u001b[0m             \u001b[0mins\u001b[0m \u001b[0;34m=\u001b[0m \u001b[0mx\u001b[0m \u001b[0;34m+\u001b[0m \u001b[0my\u001b[0m \u001b[0;34m+\u001b[0m \u001b[0msample_weights\u001b[0m\u001b[0;34m\u001b[0m\u001b[0m\n\u001b[1;32m   1838\u001b[0m         \u001b[0mself\u001b[0m\u001b[0;34m.\u001b[0m\u001b[0m_make_train_function\u001b[0m\u001b[0;34m(\u001b[0m\u001b[0;34m)\u001b[0m\u001b[0;34m\u001b[0m\u001b[0m\n\u001b[0;32m-> 1839\u001b[0;31m         \u001b[0moutputs\u001b[0m \u001b[0;34m=\u001b[0m \u001b[0mself\u001b[0m\u001b[0;34m.\u001b[0m\u001b[0mtrain_function\u001b[0m\u001b[0;34m(\u001b[0m\u001b[0mins\u001b[0m\u001b[0;34m)\u001b[0m\u001b[0;34m\u001b[0m\u001b[0m\n\u001b[0m\u001b[1;32m   1840\u001b[0m         \u001b[0;32mif\u001b[0m \u001b[0mlen\u001b[0m\u001b[0;34m(\u001b[0m\u001b[0moutputs\u001b[0m\u001b[0;34m)\u001b[0m \u001b[0;34m==\u001b[0m \u001b[0;36m1\u001b[0m\u001b[0;34m:\u001b[0m\u001b[0;34m\u001b[0m\u001b[0m\n\u001b[1;32m   1841\u001b[0m             \u001b[0;32mreturn\u001b[0m \u001b[0moutputs\u001b[0m\u001b[0;34m[\u001b[0m\u001b[0;36m0\u001b[0m\u001b[0;34m]\u001b[0m\u001b[0;34m\u001b[0m\u001b[0m\n",
      "\u001b[0;32m/home/david/miniconda2/lib/python2.7/site-packages/keras/backend/tensorflow_backend.pyc\u001b[0m in \u001b[0;36m__call__\u001b[0;34m(self, inputs)\u001b[0m\n\u001b[1;32m   2355\u001b[0m         \u001b[0msession\u001b[0m \u001b[0;34m=\u001b[0m \u001b[0mget_session\u001b[0m\u001b[0;34m(\u001b[0m\u001b[0;34m)\u001b[0m\u001b[0;34m\u001b[0m\u001b[0m\n\u001b[1;32m   2356\u001b[0m         updated = session.run(fetches=fetches, feed_dict=feed_dict,\n\u001b[0;32m-> 2357\u001b[0;31m                               **self.session_kwargs)\n\u001b[0m\u001b[1;32m   2358\u001b[0m         \u001b[0;32mreturn\u001b[0m \u001b[0mupdated\u001b[0m\u001b[0;34m[\u001b[0m\u001b[0;34m:\u001b[0m\u001b[0mlen\u001b[0m\u001b[0;34m(\u001b[0m\u001b[0mself\u001b[0m\u001b[0;34m.\u001b[0m\u001b[0moutputs\u001b[0m\u001b[0;34m)\u001b[0m\u001b[0;34m]\u001b[0m\u001b[0;34m\u001b[0m\u001b[0m\n\u001b[1;32m   2359\u001b[0m \u001b[0;34m\u001b[0m\u001b[0m\n",
      "\u001b[0;32m/home/david/miniconda2/lib/python2.7/site-packages/tensorflow/python/client/session.pyc\u001b[0m in \u001b[0;36mrun\u001b[0;34m(self, fetches, feed_dict, options, run_metadata)\u001b[0m\n\u001b[1;32m    887\u001b[0m     \u001b[0;32mtry\u001b[0m\u001b[0;34m:\u001b[0m\u001b[0;34m\u001b[0m\u001b[0m\n\u001b[1;32m    888\u001b[0m       result = self._run(None, fetches, feed_dict, options_ptr,\n\u001b[0;32m--> 889\u001b[0;31m                          run_metadata_ptr)\n\u001b[0m\u001b[1;32m    890\u001b[0m       \u001b[0;32mif\u001b[0m \u001b[0mrun_metadata\u001b[0m\u001b[0;34m:\u001b[0m\u001b[0;34m\u001b[0m\u001b[0m\n\u001b[1;32m    891\u001b[0m         \u001b[0mproto_data\u001b[0m \u001b[0;34m=\u001b[0m \u001b[0mtf_session\u001b[0m\u001b[0;34m.\u001b[0m\u001b[0mTF_GetBuffer\u001b[0m\u001b[0;34m(\u001b[0m\u001b[0mrun_metadata_ptr\u001b[0m\u001b[0;34m)\u001b[0m\u001b[0;34m\u001b[0m\u001b[0m\n",
      "\u001b[0;32m/home/david/miniconda2/lib/python2.7/site-packages/tensorflow/python/client/session.pyc\u001b[0m in \u001b[0;36m_run\u001b[0;34m(self, handle, fetches, feed_dict, options, run_metadata)\u001b[0m\n\u001b[1;32m   1118\u001b[0m     \u001b[0;32mif\u001b[0m \u001b[0mfinal_fetches\u001b[0m \u001b[0;32mor\u001b[0m \u001b[0mfinal_targets\u001b[0m \u001b[0;32mor\u001b[0m \u001b[0;34m(\u001b[0m\u001b[0mhandle\u001b[0m \u001b[0;32mand\u001b[0m \u001b[0mfeed_dict_tensor\u001b[0m\u001b[0;34m)\u001b[0m\u001b[0;34m:\u001b[0m\u001b[0;34m\u001b[0m\u001b[0m\n\u001b[1;32m   1119\u001b[0m       results = self._do_run(handle, final_targets, final_fetches,\n\u001b[0;32m-> 1120\u001b[0;31m                              feed_dict_tensor, options, run_metadata)\n\u001b[0m\u001b[1;32m   1121\u001b[0m     \u001b[0;32melse\u001b[0m\u001b[0;34m:\u001b[0m\u001b[0;34m\u001b[0m\u001b[0m\n\u001b[1;32m   1122\u001b[0m       \u001b[0mresults\u001b[0m \u001b[0;34m=\u001b[0m \u001b[0;34m[\u001b[0m\u001b[0;34m]\u001b[0m\u001b[0;34m\u001b[0m\u001b[0m\n",
      "\u001b[0;32m/home/david/miniconda2/lib/python2.7/site-packages/tensorflow/python/client/session.pyc\u001b[0m in \u001b[0;36m_do_run\u001b[0;34m(self, handle, target_list, fetch_list, feed_dict, options, run_metadata)\u001b[0m\n\u001b[1;32m   1315\u001b[0m     \u001b[0;32mif\u001b[0m \u001b[0mhandle\u001b[0m \u001b[0;32mis\u001b[0m \u001b[0mNone\u001b[0m\u001b[0;34m:\u001b[0m\u001b[0;34m\u001b[0m\u001b[0m\n\u001b[1;32m   1316\u001b[0m       return self._do_call(_run_fn, self._session, feeds, fetches, targets,\n\u001b[0;32m-> 1317\u001b[0;31m                            options, run_metadata)\n\u001b[0m\u001b[1;32m   1318\u001b[0m     \u001b[0;32melse\u001b[0m\u001b[0;34m:\u001b[0m\u001b[0;34m\u001b[0m\u001b[0m\n\u001b[1;32m   1319\u001b[0m       \u001b[0;32mreturn\u001b[0m \u001b[0mself\u001b[0m\u001b[0;34m.\u001b[0m\u001b[0m_do_call\u001b[0m\u001b[0;34m(\u001b[0m\u001b[0m_prun_fn\u001b[0m\u001b[0;34m,\u001b[0m \u001b[0mself\u001b[0m\u001b[0;34m.\u001b[0m\u001b[0m_session\u001b[0m\u001b[0;34m,\u001b[0m \u001b[0mhandle\u001b[0m\u001b[0;34m,\u001b[0m \u001b[0mfeeds\u001b[0m\u001b[0;34m,\u001b[0m \u001b[0mfetches\u001b[0m\u001b[0;34m)\u001b[0m\u001b[0;34m\u001b[0m\u001b[0m\n",
      "\u001b[0;32m/home/david/miniconda2/lib/python2.7/site-packages/tensorflow/python/client/session.pyc\u001b[0m in \u001b[0;36m_do_call\u001b[0;34m(self, fn, *args)\u001b[0m\n\u001b[1;32m   1321\u001b[0m   \u001b[0;32mdef\u001b[0m \u001b[0m_do_call\u001b[0m\u001b[0;34m(\u001b[0m\u001b[0mself\u001b[0m\u001b[0;34m,\u001b[0m \u001b[0mfn\u001b[0m\u001b[0;34m,\u001b[0m \u001b[0;34m*\u001b[0m\u001b[0margs\u001b[0m\u001b[0;34m)\u001b[0m\u001b[0;34m:\u001b[0m\u001b[0;34m\u001b[0m\u001b[0m\n\u001b[1;32m   1322\u001b[0m     \u001b[0;32mtry\u001b[0m\u001b[0;34m:\u001b[0m\u001b[0;34m\u001b[0m\u001b[0m\n\u001b[0;32m-> 1323\u001b[0;31m       \u001b[0;32mreturn\u001b[0m \u001b[0mfn\u001b[0m\u001b[0;34m(\u001b[0m\u001b[0;34m*\u001b[0m\u001b[0margs\u001b[0m\u001b[0;34m)\u001b[0m\u001b[0;34m\u001b[0m\u001b[0m\n\u001b[0m\u001b[1;32m   1324\u001b[0m     \u001b[0;32mexcept\u001b[0m \u001b[0merrors\u001b[0m\u001b[0;34m.\u001b[0m\u001b[0mOpError\u001b[0m \u001b[0;32mas\u001b[0m \u001b[0me\u001b[0m\u001b[0;34m:\u001b[0m\u001b[0;34m\u001b[0m\u001b[0m\n\u001b[1;32m   1325\u001b[0m       \u001b[0mmessage\u001b[0m \u001b[0;34m=\u001b[0m \u001b[0mcompat\u001b[0m\u001b[0;34m.\u001b[0m\u001b[0mas_text\u001b[0m\u001b[0;34m(\u001b[0m\u001b[0me\u001b[0m\u001b[0;34m.\u001b[0m\u001b[0mmessage\u001b[0m\u001b[0;34m)\u001b[0m\u001b[0;34m\u001b[0m\u001b[0m\n",
      "\u001b[0;32m/home/david/miniconda2/lib/python2.7/site-packages/tensorflow/python/client/session.pyc\u001b[0m in \u001b[0;36m_run_fn\u001b[0;34m(session, feed_dict, fetch_list, target_list, options, run_metadata)\u001b[0m\n\u001b[1;32m   1300\u001b[0m           return tf_session.TF_Run(session, options,\n\u001b[1;32m   1301\u001b[0m                                    \u001b[0mfeed_dict\u001b[0m\u001b[0;34m,\u001b[0m \u001b[0mfetch_list\u001b[0m\u001b[0;34m,\u001b[0m \u001b[0mtarget_list\u001b[0m\u001b[0;34m,\u001b[0m\u001b[0;34m\u001b[0m\u001b[0m\n\u001b[0;32m-> 1302\u001b[0;31m                                    status, run_metadata)\n\u001b[0m\u001b[1;32m   1303\u001b[0m \u001b[0;34m\u001b[0m\u001b[0m\n\u001b[1;32m   1304\u001b[0m     \u001b[0;32mdef\u001b[0m \u001b[0m_prun_fn\u001b[0m\u001b[0;34m(\u001b[0m\u001b[0msession\u001b[0m\u001b[0;34m,\u001b[0m \u001b[0mhandle\u001b[0m\u001b[0;34m,\u001b[0m \u001b[0mfeed_dict\u001b[0m\u001b[0;34m,\u001b[0m \u001b[0mfetch_list\u001b[0m\u001b[0;34m)\u001b[0m\u001b[0;34m:\u001b[0m\u001b[0;34m\u001b[0m\u001b[0m\n",
      "\u001b[0;31mKeyboardInterrupt\u001b[0m: "
     ]
    }
   ],
   "source": [
    "model.fit_generator(generator=gen, verbose=0,\n",
    "                    epochs=50, steps_per_epoch=1000, \n",
    "                    callbacks=[TerminateOnNaN(), TQDMNotebookCallback(leave_inner=False, leave_outer=True)])"
   ]
  },
  {
   "cell_type": "code",
   "execution_count": 17,
   "metadata": {
    "collapsed": true
   },
   "outputs": [],
   "source": [
    "inputs, targets = gen.next()"
   ]
  },
  {
   "cell_type": "code",
   "execution_count": 18,
   "metadata": {},
   "outputs": [
    {
     "data": {
      "text/plain": [
       "((100, 144, 1, 1433), (100, 6))"
      ]
     },
     "execution_count": 18,
     "metadata": {},
     "output_type": "execute_result"
    }
   ],
   "source": [
    "inputs.shape, targets.shape"
   ]
  },
  {
   "cell_type": "code",
   "execution_count": 19,
   "metadata": {
    "collapsed": true
   },
   "outputs": [],
   "source": [
    "embedding = Model(x, reshape_cap).predict(inputs).reshape(-1, 2)"
   ]
  },
  {
   "cell_type": "code",
   "execution_count": 20,
   "metadata": {},
   "outputs": [
    {
     "data": {
      "text/plain": [
       "(600, 2)"
      ]
     },
     "execution_count": 20,
     "metadata": {},
     "output_type": "execute_result"
    }
   ],
   "source": [
    "embedding.shape"
   ]
  },
  {
   "cell_type": "code",
   "execution_count": 23,
   "metadata": {},
   "outputs": [
    {
     "data": {
      "text/plain": [
       "array([[[[  5.91886192e-07,  -1.63102266e-06,  -8.34501009e-07, ...,\n",
       "            9.69976782e-07,   7.87806755e-07,   1.74515333e-06],\n",
       "         [ -1.35324240e-06,  -8.16128747e-08,  -2.92396123e-07, ...,\n",
       "           -4.07461528e-07,  -4.95564166e-07,  -1.07189386e-07],\n",
       "         [ -1.48687846e-07,   4.48063838e-06,   2.10881808e-06, ...,\n",
       "           -2.73079627e-06,   1.19888028e-07,   1.98477460e-06],\n",
       "         ..., \n",
       "         [  7.71935390e-07,  -1.24227086e-06,  -4.36518661e-08, ...,\n",
       "           -8.00241651e-07,  -2.67486051e-08,   7.53880045e-07],\n",
       "         [ -1.67452436e-06,   3.74101319e-07,  -2.82013707e-06, ...,\n",
       "            3.21574817e-07,  -2.37735594e-06,   1.46316665e-06],\n",
       "         [  1.33437140e-06,  -1.14274405e-06,   6.71247392e-07, ...,\n",
       "            3.47610687e-08,   1.09574421e-06,   5.17845876e-07]],\n",
       "\n",
       "        [[  2.23091643e-08,  -5.94245307e-07,   1.65354066e-07, ...,\n",
       "            3.36888291e-07,  -1.58713448e-07,  -8.26180084e-08],\n",
       "         [ -1.13558099e-06,  -2.33399078e-06,  -6.22693051e-07, ...,\n",
       "           -1.65073766e-06,   5.88617191e-08,  -9.15880349e-08],\n",
       "         [ -5.51326806e-08,   1.00664658e-06,   1.03183243e-06, ...,\n",
       "           -4.50915053e-07,  -1.24243763e-06,   8.63583637e-07],\n",
       "         ..., \n",
       "         [  3.91331582e-07,   5.75017054e-07,  -1.94374294e-07, ...,\n",
       "           -1.90031528e-08,  -1.69550162e-07,   7.14270016e-07],\n",
       "         [ -3.40572797e-07,   2.43234581e-07,  -5.47370405e-07, ...,\n",
       "            6.69820793e-07,  -4.19557773e-06,   2.77115669e-06],\n",
       "         [  4.32008335e-07,  -4.38309115e-07,   1.82642083e-07, ...,\n",
       "           -3.72653304e-08,   7.46999547e-07,   8.08817191e-08]],\n",
       "\n",
       "        [[  2.82143077e-07,  -6.93884601e-07,  -6.89341448e-07, ...,\n",
       "            5.81964969e-07,  -3.98941722e-07,   5.73956072e-07],\n",
       "         [ -3.60099733e-07,  -5.56145835e-07,  -4.27269867e-07, ...,\n",
       "            1.97377545e-07,   6.32784136e-08,  -8.00337503e-08],\n",
       "         [  3.46321542e-07,   2.59779677e-06,   1.05583399e-06, ...,\n",
       "           -9.19913987e-07,  -1.02174840e-06,   9.45346358e-07],\n",
       "         ..., \n",
       "         [ -3.44576101e-08,  -5.36151070e-08,  -9.41243030e-08, ...,\n",
       "           -3.69530142e-07,   2.43110605e-07,  -9.82783277e-09],\n",
       "         [ -6.02085436e-07,   7.24940037e-07,  -1.15637215e-06, ...,\n",
       "           -9.84202984e-07,  -1.64207165e-06,   2.30461501e-06],\n",
       "         [  2.21418929e-07,   3.61457694e-07,   6.01620172e-07, ...,\n",
       "           -2.43522805e-07,   3.90209152e-07,   4.43211462e-07]],\n",
       "\n",
       "        ..., \n",
       "        [[ -8.55958262e-07,   1.95825351e-07,  -5.40892813e-07, ...,\n",
       "           -6.36754180e-07,   2.84717828e-07,   4.55338807e-07],\n",
       "         [ -4.83843564e-07,   6.35736626e-07,   6.64997344e-07, ...,\n",
       "            8.96044185e-07,   4.44088727e-07,   4.31860059e-07],\n",
       "         [ -1.01006080e-07,  -2.89285644e-08,   3.77017159e-07, ...,\n",
       "            3.93248996e-07,  -9.98857459e-08,   1.74539693e-07],\n",
       "         ..., \n",
       "         [  4.95657275e-07,  -3.11907797e-07,   2.03264747e-07, ...,\n",
       "           -3.28821955e-07,   7.00984288e-07,   2.04996297e-07],\n",
       "         [ -2.07356109e-07,  -2.32860174e-07,   2.83437327e-08, ...,\n",
       "            9.17918385e-07,   7.87507233e-08,   7.05563181e-08],\n",
       "         [ -2.08004835e-07,   1.09874691e-06,   1.04387880e-06, ...,\n",
       "            5.71312455e-07,   1.52857595e-07,   7.29716021e-07]],\n",
       "\n",
       "        [[ -8.55958262e-07,   1.95825351e-07,  -5.40892813e-07, ...,\n",
       "           -6.36754180e-07,   2.84717828e-07,   4.55338807e-07],\n",
       "         [ -4.83843564e-07,   6.35736626e-07,   6.64997344e-07, ...,\n",
       "            8.96044185e-07,   4.44088727e-07,   4.31860059e-07],\n",
       "         [ -1.01006080e-07,  -2.89285644e-08,   3.77017159e-07, ...,\n",
       "            3.93248996e-07,  -9.98857459e-08,   1.74539693e-07],\n",
       "         ..., \n",
       "         [  4.95657275e-07,  -3.11907797e-07,   2.03264747e-07, ...,\n",
       "           -3.28821955e-07,   7.00984288e-07,   2.04996297e-07],\n",
       "         [ -2.07356109e-07,  -2.32860174e-07,   2.83437327e-08, ...,\n",
       "            9.17918385e-07,   7.87507233e-08,   7.05563181e-08],\n",
       "         [ -2.08004835e-07,   1.09874691e-06,   1.04387880e-06, ...,\n",
       "            5.71312455e-07,   1.52857595e-07,   7.29716021e-07]],\n",
       "\n",
       "        [[ -2.58212339e-07,  -1.60562710e-08,  -1.78080356e-07, ...,\n",
       "           -1.90562687e-07,  -9.47049772e-10,   1.49228228e-07],\n",
       "         [ -1.50540060e-08,   3.29819159e-08,   6.00021011e-08, ...,\n",
       "            9.45098861e-08,   3.32170380e-08,   4.60922926e-08],\n",
       "         [ -1.63179905e-08,   5.69904079e-09,   7.08265091e-08, ...,\n",
       "            1.98668477e-08,  -2.33926443e-08,   3.34671485e-10],\n",
       "         ..., \n",
       "         [  1.60162074e-07,   3.56073713e-08,   6.70032776e-08, ...,\n",
       "            4.70891992e-09,   1.81132023e-07,   8.30840108e-08],\n",
       "         [ -1.27660753e-08,  -1.03020788e-07,  -8.60514575e-08, ...,\n",
       "            2.36775819e-07,  -5.51158408e-08,   6.87764299e-08],\n",
       "         [  2.76663368e-08,   2.31204311e-07,   2.76111024e-07, ...,\n",
       "            7.13382846e-08,   4.78279070e-08,   1.57561530e-07]]],\n",
       "\n",
       "\n",
       "       [[[  4.48133548e-08,   2.17094836e-07,   3.20571615e-07, ...,\n",
       "           -7.75359936e-08,   1.21559736e-07,  -1.74497430e-07],\n",
       "         [  3.78155647e-07,  -1.95206322e-08,   4.97623063e-08, ...,\n",
       "           -8.26781729e-07,   4.67000007e-07,  -1.68741721e-07],\n",
       "         [ -8.38021379e-07,  -9.92248715e-07,  -4.71968889e-07, ...,\n",
       "           -7.19158663e-07,  -5.95267863e-07,  -1.24044914e-06],\n",
       "         ..., \n",
       "         [ -1.36899970e-07,  -6.07792401e-07,  -2.39012843e-06, ...,\n",
       "           -3.09566985e-07,   1.37995698e-06,   3.55935981e-06],\n",
       "         [ -3.22955361e-06,   2.67292603e-06,   3.25376959e-06, ...,\n",
       "            1.48353377e-06,   2.58702357e-06,   1.55117664e-06],\n",
       "         [ -5.38962070e-07,  -1.74193122e-08,  -7.33056993e-07, ...,\n",
       "            9.93920935e-07,  -1.65439729e-07,   1.04699416e-06]],\n",
       "\n",
       "        [[ -2.62184017e-07,   5.84132977e-07,   1.34774700e-06, ...,\n",
       "           -1.00278051e-07,   1.19774325e-06,   3.90421121e-07],\n",
       "         [ -3.75606497e-08,  -2.47379113e-08,  -5.32171214e-07, ...,\n",
       "           -4.12500412e-06,  -1.27303861e-06,  -6.86341480e-07],\n",
       "         [ -1.59473387e-07,  -1.52610184e-07,  -7.27209283e-07, ...,\n",
       "           -1.87161663e-06,  -2.86785252e-07,   1.80468328e-06],\n",
       "         ..., \n",
       "         [ -1.96850920e-06,   2.67573387e-06,  -1.65673453e-06, ...,\n",
       "           -1.50786400e-06,   4.10595931e-07,   6.67231143e-06],\n",
       "         [ -3.27365410e-06,   1.22294159e-06,   1.70769752e-07, ...,\n",
       "           -1.00487978e-06,  -9.11341758e-08,  -5.49656988e-07],\n",
       "         [ -1.60027264e-06,   9.35391711e-07,  -1.35206335e-06, ...,\n",
       "           -1.61729770e-06,  -1.38201823e-08,   2.52210089e-06]],\n",
       "\n",
       "        [[ -9.35119218e-08,   1.50110864e-07,  -4.62124561e-09, ...,\n",
       "           -3.99694677e-08,  -2.41459020e-07,  -2.38943727e-08],\n",
       "         [  5.42046479e-08,  -2.73936621e-07,  -5.13894634e-07, ...,\n",
       "           -4.98438510e-07,   1.66887531e-07,   1.29340293e-07],\n",
       "         [ -4.74425008e-07,  -2.29991713e-07,   1.75292300e-07, ...,\n",
       "           -5.72851604e-07,  -8.49856065e-07,   9.16261740e-07],\n",
       "         ..., \n",
       "         [ -5.31086528e-07,  -1.03772618e-06,  -1.13914325e-06, ...,\n",
       "            3.97099882e-07,   2.59841499e-07,   4.28008980e-06],\n",
       "         [ -2.44048829e-06,   2.22163931e-06,   1.70667434e-07, ...,\n",
       "            2.89831678e-06,   1.77567279e-06,   1.19741344e-06],\n",
       "         [ -1.80110277e-07,  -2.73124698e-07,  -5.02148907e-07, ...,\n",
       "            5.37499538e-08,  -1.48223222e-07,   5.65048424e-07]],\n",
       "\n",
       "        ..., \n",
       "        [[  4.73589466e-07,   4.75763727e-07,   1.59122450e-07, ...,\n",
       "            6.82658538e-07,  -3.31049762e-07,   1.90969502e-07],\n",
       "         [ -7.85307634e-07,  -7.05623449e-07,  -7.71560110e-07, ...,\n",
       "            1.77136652e-08,  -3.38470301e-07,   3.38557612e-07],\n",
       "         [  5.18076391e-08,   4.31058211e-08,  -1.01544606e-06, ...,\n",
       "           -1.48855611e-06,  -3.56396725e-07,   8.61697842e-08],\n",
       "         ..., \n",
       "         [  5.57186013e-07,  -5.38112658e-07,  -5.83572273e-07, ...,\n",
       "            3.67481690e-08,  -6.11148891e-07,   8.94805794e-07],\n",
       "         [  5.82927839e-07,   5.32770059e-08,  -1.21683183e-06, ...,\n",
       "           -1.82598527e-07,  -1.22267261e-06,   1.44537992e-07],\n",
       "         [ -6.87147462e-07,   3.48347726e-07,   1.59808417e-06, ...,\n",
       "            1.27590124e-06,   8.74524289e-07,   2.00438762e-06]],\n",
       "\n",
       "        [[  9.35948094e-07,  -3.25697123e-08,   2.07851895e-06, ...,\n",
       "            1.70348471e-06,  -1.86650743e-06,   1.47372202e-06],\n",
       "         [ -1.45548495e-06,  -3.22589494e-06,  -1.19821425e-06, ...,\n",
       "            4.17865408e-07,  -3.23350582e-06,  -6.21081313e-07],\n",
       "         [ -2.24321354e-07,   2.75689716e-09,  -2.07344698e-07, ...,\n",
       "           -1.74657578e-06,  -8.09242749e-07,   4.38994334e-07],\n",
       "         ..., \n",
       "         [ -1.58629098e-06,   8.60412626e-07,  -5.17606793e-07, ...,\n",
       "            3.06511112e-07,  -2.69690781e-06,  -1.49130983e-07],\n",
       "         [ -8.04985007e-07,   9.98080282e-07,  -1.00880811e-06, ...,\n",
       "           -1.04920912e-06,  -1.42831902e-06,   7.28468024e-07],\n",
       "         [ -1.74521304e-07,   1.51277766e-06,   2.74162380e-06, ...,\n",
       "            1.11378506e-06,   1.61037838e-06,  -6.19473752e-08]],\n",
       "\n",
       "        [[  8.56455245e-08,  -4.75092179e-07,   1.38397604e-06, ...,\n",
       "            4.70537884e-07,  -1.27955730e-06,   1.04535434e-06],\n",
       "         [ -2.00161730e-06,  -4.20464630e-07,  -4.68858360e-07, ...,\n",
       "           -5.57623935e-07,  -1.31555836e-07,   3.17649011e-07],\n",
       "         [  6.57817282e-07,   1.95581924e-06,  -1.42215674e-06, ...,\n",
       "           -2.35471543e-06,  -1.97943382e-06,  -7.17733258e-07],\n",
       "         ..., \n",
       "         [ -3.23277732e-07,   8.40790904e-07,   9.90940521e-08, ...,\n",
       "            1.13338831e-06,  -3.66667649e-07,   1.36133110e-06],\n",
       "         [ -5.78228480e-07,   2.64873847e-07,  -2.21089249e-06, ...,\n",
       "           -1.25292365e-06,  -2.48008450e-06,   4.24176136e-07],\n",
       "         [ -4.60887890e-07,   4.49169448e-07,   1.30719184e-06, ...,\n",
       "            1.08192876e-06,   1.06376626e-06,   6.03845308e-07]]],\n",
       "\n",
       "\n",
       "       [[[  8.80459368e-08,  -5.51628375e-07,   1.29497653e-06, ...,\n",
       "            9.30442354e-07,  -2.80521567e-06,   7.57379951e-07],\n",
       "         [  1.22805034e-06,   2.80049761e-07,  -3.53633567e-07, ...,\n",
       "           -2.36838545e-07,   2.08086774e-07,  -4.04632232e-07],\n",
       "         [ -2.33002311e-07,   6.81908261e-07,   3.13694869e-07, ...,\n",
       "           -1.55327228e-07,   1.30280782e-07,  -2.29537847e-08],\n",
       "         ..., \n",
       "         [ -3.23659947e-07,  -1.84165827e-07,   6.80771734e-07, ...,\n",
       "           -5.90829416e-07,  -3.87412655e-07,   1.35297796e-06],\n",
       "         [  6.46748859e-08,   2.02767254e-07,  -2.02493069e-07, ...,\n",
       "           -1.01207242e-07,   2.03998098e-07,   2.56558877e-07],\n",
       "         [ -6.78513885e-08,  -1.39357979e-07,  -1.74344294e-07, ...,\n",
       "            9.68032765e-08,   1.95386647e-07,   2.62956519e-07]],\n",
       "\n",
       "        [[ -3.32092299e-07,   7.75698794e-08,   3.71419560e-07, ...,\n",
       "            8.07606114e-07,  -1.46213222e-06,   2.05869952e-07],\n",
       "         [  6.92093408e-07,  -4.46797401e-07,  -6.26667486e-07, ...,\n",
       "           -8.67127810e-08,   9.11272195e-07,  -1.10284077e-06],\n",
       "         [ -8.01594524e-08,   5.86619251e-07,   2.68849874e-07, ...,\n",
       "           -1.11777389e-07,  -2.16738798e-07,   4.60760212e-08],\n",
       "         ..., \n",
       "         [ -5.67746206e-08,  -4.10924144e-07,   4.38190710e-07, ...,\n",
       "           -2.10535163e-07,   1.94168805e-07,   2.15940403e-07],\n",
       "         [  3.78954553e-07,   2.68928090e-07,  -3.98338216e-07, ...,\n",
       "            2.70130812e-07,   5.34049924e-08,   4.25688995e-07],\n",
       "         [ -1.36825605e-07,   3.55447924e-07,  -3.51640722e-07, ...,\n",
       "            3.21532269e-07,   1.16847234e-08,   3.14543314e-07]],\n",
       "\n",
       "        [[ -6.87556323e-08,  -2.62817821e-07,   5.82312964e-07, ...,\n",
       "            4.67437246e-07,  -7.72091482e-07,   1.13210490e-07],\n",
       "         [ -1.13953540e-07,  -1.00385250e-07,   1.67585540e-07, ...,\n",
       "           -3.05036387e-08,  -1.35165592e-07,  -1.36893198e-06],\n",
       "         [ -1.16836407e-08,  -1.65066069e-07,   2.57953960e-08, ...,\n",
       "           -2.15476049e-07,  -2.68631254e-07,   1.91793816e-07],\n",
       "         ..., \n",
       "         [  1.44329405e-07,   2.45765519e-09,   2.18848854e-07, ...,\n",
       "            1.22874837e-07,   1.67153772e-07,   8.03880994e-07],\n",
       "         [ -8.89377816e-08,   2.15162373e-07,   1.40067058e-07, ...,\n",
       "           -8.94855035e-08,  -5.22021992e-07,   7.51095854e-07],\n",
       "         [ -2.29723724e-07,  -6.04303352e-07,   2.54694868e-07, ...,\n",
       "            9.47433136e-08,  -2.40400322e-08,  -9.71352350e-08]],\n",
       "\n",
       "        ..., \n",
       "        [[  5.82988037e-07,  -1.57499460e-06,  -3.78633693e-08, ...,\n",
       "            8.96421170e-07,  -3.65409164e-07,   1.84981832e-06],\n",
       "         [ -8.19582169e-07,  -1.71870681e-07,  -2.27166097e-07, ...,\n",
       "           -1.82855331e-07,   3.95942919e-07,   4.12271817e-07],\n",
       "         [ -5.50165964e-07,  -1.09368227e-06,   4.27700598e-07, ...,\n",
       "           -9.73859528e-07,   2.66283649e-07,   7.89507681e-07],\n",
       "         ..., \n",
       "         [  9.07222386e-07,   1.74004686e-06,  -4.21976099e-09, ...,\n",
       "           -2.25104145e-06,   8.87189799e-07,   7.28916348e-07],\n",
       "         [ -4.12199967e-07,   1.04711421e-06,  -3.45874440e-07, ...,\n",
       "           -1.40672938e-07,  -1.95519578e-06,   5.22126470e-07],\n",
       "         [  2.71371931e-07,   1.13300217e-07,  -4.49025606e-07, ...,\n",
       "           -1.27999328e-06,   3.63888972e-07,   5.70899886e-07]],\n",
       "\n",
       "        [[ -3.02619213e-07,  -2.07555536e-06,  -5.95793836e-07, ...,\n",
       "            1.49983282e-06,  -2.74526565e-06,  -3.35413866e-08],\n",
       "         [  2.52779273e-06,   1.53107646e-06,  -1.50690323e-06, ...,\n",
       "            1.85957674e-07,  -1.19080892e-06,   3.21961807e-06],\n",
       "         [  3.11938237e-07,  -3.79816584e-07,   6.68323651e-07, ...,\n",
       "           -2.22520370e-07,  -5.08835512e-07,  -6.91630646e-08],\n",
       "         ..., \n",
       "         [  9.15932833e-06,   2.32683783e-06,  -4.59847342e-06, ...,\n",
       "           -3.74497131e-06,   1.05346116e-05,   2.29094303e-06],\n",
       "         [  3.00960687e-06,  -1.38859627e-06,   1.13064243e-06, ...,\n",
       "            1.00584487e-06,  -5.20560604e-07,   1.32296259e-06],\n",
       "         [  2.98220402e-06,  -8.57779867e-07,   4.58803640e-07, ...,\n",
       "            9.93654794e-07,   1.92286643e-06,  -4.68383092e-07]],\n",
       "\n",
       "        [[ -3.11005323e-07,  -1.08677250e-06,   5.94120820e-07, ...,\n",
       "            1.83344753e-07,  -3.26455188e-06,  -2.64043763e-07],\n",
       "         [  7.09523590e-07,  -2.82801125e-07,  -1.63441499e-07, ...,\n",
       "            9.15542344e-08,  -2.52412690e-07,   9.84315562e-08],\n",
       "         [ -6.42363261e-07,   6.82881989e-07,  -6.62810692e-07, ...,\n",
       "           -1.55169687e-06,  -7.07267475e-07,  -9.27719327e-07],\n",
       "         ..., \n",
       "         [  5.11149835e-07,   4.33393581e-07,   3.93024521e-07, ...,\n",
       "           -3.37377543e-07,   4.58964536e-07,  -1.90743549e-07],\n",
       "         [  2.48285005e-06,   1.04769629e-06,  -2.14531246e-06, ...,\n",
       "            2.37288504e-07,  -7.46238072e-07,   2.10315989e-07],\n",
       "         [  2.08483812e-06,   1.38740984e-06,  -2.76392961e-06, ...,\n",
       "            1.81525593e-06,   5.36618757e-07,   1.17572552e-06]]],\n",
       "\n",
       "\n",
       "       ..., \n",
       "       [[[  4.47258117e-06,  -4.40920758e-06,   1.48879758e-06, ...,\n",
       "           -3.50269715e-06,   2.30591439e-07,  -5.01059685e-06],\n",
       "         [  1.85713105e-07,   5.01449904e-07,  -1.35988319e-06, ...,\n",
       "           -3.64096286e-06,   2.64074265e-06,  -1.02686272e-06],\n",
       "         [  5.91311220e-07,  -2.83188365e-06,   1.94621848e-07, ...,\n",
       "           -4.24041082e-06,   6.96991435e-07,  -3.30981493e-06],\n",
       "         ..., \n",
       "         [  3.85767771e-06,   1.42929719e-06,  -3.01826185e-06, ...,\n",
       "            2.85318379e-06,  -3.53602627e-06,   4.61460877e-06],\n",
       "         [ -6.48640309e-07,   3.22557923e-07,   1.59889964e-07, ...,\n",
       "            1.21739811e-06,  -6.79325069e-07,   9.96954782e-07],\n",
       "         [  1.54611791e-06,   1.50566746e-06,  -8.82056206e-09, ...,\n",
       "           -5.70287341e-07,   1.37509960e-06,   3.13085195e-07]],\n",
       "\n",
       "        [[  1.19287267e-06,  -1.09517441e-06,   2.82939311e-07, ...,\n",
       "           -1.96236205e-09,  -5.58533429e-07,  -2.12849113e-06],\n",
       "         [  5.69135182e-07,   5.66017775e-07,  -6.45356920e-07, ...,\n",
       "           -8.56539884e-07,   8.35823698e-07,  -1.53168088e-07],\n",
       "         [  6.22864547e-07,  -1.12420946e-06,   2.15692310e-07, ...,\n",
       "           -1.99126180e-06,   6.77575485e-07,  -6.69643612e-07],\n",
       "         ..., \n",
       "         [  1.54851307e-06,  -4.25744133e-07,  -4.49900625e-07, ...,\n",
       "            1.33167407e-06,  -1.69783539e-06,   2.16965236e-06],\n",
       "         [ -5.10262453e-07,   6.87041961e-08,  -5.45049303e-08, ...,\n",
       "            1.03071511e-06,   2.65434981e-08,   6.24490951e-07],\n",
       "         [  5.59547289e-07,   4.70461771e-07,  -8.17276060e-08, ...,\n",
       "           -2.63305431e-08,   5.84310555e-07,   1.82049135e-07]],\n",
       "\n",
       "        [[  2.87825674e-06,  -1.58881062e-06,   1.43380078e-06, ...,\n",
       "            3.97293491e-07,  -1.60346838e-06,  -3.27243839e-07],\n",
       "         [ -2.51022084e-06,  -1.36258916e-06,  -6.93886079e-07, ...,\n",
       "           -2.15184605e-06,   6.62517436e-07,  -9.32162152e-07],\n",
       "         [  4.34655988e-07,   5.73845682e-07,   2.29545051e-07, ...,\n",
       "           -1.22193910e-06,  -2.37295851e-07,  -2.69461395e-07],\n",
       "         ..., \n",
       "         [  1.28034344e-07,   3.86046644e-08,  -1.10860299e-07, ...,\n",
       "           -1.51473714e-07,  -1.81814485e-07,   4.79670916e-07],\n",
       "         [ -1.21144274e-06,   8.90444653e-07,   7.27140517e-08, ...,\n",
       "           -4.59021123e-08,  -1.91924187e-06,   1.85594160e-06],\n",
       "         [ -5.74990615e-08,  -1.69584439e-07,   4.28871544e-07, ...,\n",
       "           -1.77251877e-07,   1.00946909e-06,   6.14342923e-07]],\n",
       "\n",
       "        ..., \n",
       "        [[ -3.49519638e-07,  -1.17837587e-07,  -8.78538572e-07, ...,\n",
       "           -9.44090914e-07,   1.67539042e-07,   4.31143690e-07],\n",
       "         [ -1.63745926e-06,  -6.07240622e-07,  -2.61973213e-07, ...,\n",
       "            8.60590035e-08,  -3.55755247e-07,  -5.65729238e-07],\n",
       "         [ -1.00187117e-06,   2.37035721e-07,   1.95845678e-06, ...,\n",
       "           -8.96223185e-07,  -8.15510859e-09,   9.10170854e-07],\n",
       "         ..., \n",
       "         [  3.88625125e-07,  -7.61319654e-07,   4.86975978e-07, ...,\n",
       "           -6.89392039e-07,   2.96298253e-07,   6.22120581e-07],\n",
       "         [ -1.97796254e-07,   1.60251588e-07,  -6.78711558e-07, ...,\n",
       "            6.86529461e-07,  -3.13715418e-07,   9.65859726e-07],\n",
       "         [  1.02372773e-07,  -2.45165495e-07,   5.07387995e-07, ...,\n",
       "            1.16517711e-07,  -2.06536171e-07,   6.17886087e-07]],\n",
       "\n",
       "        [[ -6.26595863e-07,  -5.39087807e-07,  -1.44528542e-06, ...,\n",
       "           -1.27525288e-06,   8.79631386e-07,   5.63329422e-07],\n",
       "         [ -2.77730237e-06,  -4.89450144e-07,   2.55928512e-07, ...,\n",
       "           -1.19664350e-07,  -7.94625066e-07,  -6.31235991e-07],\n",
       "         [ -4.14491114e-06,   2.51683275e-07,   4.77885624e-06, ...,\n",
       "           -8.83104633e-07,   1.32760692e-06,   3.69428835e-06],\n",
       "         ..., \n",
       "         [ -1.01220472e-08,  -7.00070018e-07,   2.80957408e-07, ...,\n",
       "           -6.72395970e-07,   8.87073156e-07,   6.49839009e-08],\n",
       "         [  6.01516319e-07,   8.82598044e-07,  -1.86020054e-06, ...,\n",
       "            2.36694837e-06,  -9.65708296e-07,   9.17199600e-07],\n",
       "         [  1.60001366e-06,  -1.91619904e-07,   1.99966294e-07, ...,\n",
       "            1.83518537e-07,  -1.23578639e-06,   6.96543623e-07]],\n",
       "\n",
       "        [[  7.43878672e-07,   5.43712360e-07,  -5.91582705e-07, ...,\n",
       "            1.17646391e-06,  -9.03896364e-07,   9.39982840e-07],\n",
       "         [ -1.34816887e-07,  -4.67353061e-07,   1.27302968e-07, ...,\n",
       "           -3.68690394e-07,   3.81708247e-07,  -3.78701003e-07],\n",
       "         [ -4.71405542e-07,  -6.60661499e-07,  -2.58048971e-07, ...,\n",
       "           -7.71895259e-07,  -2.52301277e-07,  -5.48767467e-08],\n",
       "         ..., \n",
       "         [  1.32260880e-07,  -1.00307750e-06,   1.34999436e-06, ...,\n",
       "           -2.08011443e-06,  -1.34157278e-06,   6.26586484e-07],\n",
       "         [  5.71348039e-07,   1.91394520e-06,  -9.69459748e-08, ...,\n",
       "            1.06121672e-06,  -2.31040030e-06,   2.81794360e-06],\n",
       "         [  9.36094295e-07,  -8.08457457e-07,   1.47200456e-06, ...,\n",
       "           -2.03067430e-07,   1.60248575e-07,  -1.82281099e-06]]],\n",
       "\n",
       "\n",
       "       [[[  1.29720917e-07,   1.63107802e-06,   2.85993519e-06, ...,\n",
       "            1.01540070e-06,  -1.95354528e-06,  -1.80613142e-06],\n",
       "         [ -1.21968753e-06,   1.05371335e-07,  -1.70960860e-07, ...,\n",
       "           -1.84120688e-06,   5.95543895e-07,  -1.71373779e-06],\n",
       "         [ -6.79049492e-07,  -2.72863332e-07,  -4.86157830e-07, ...,\n",
       "           -1.22290464e-06,  -1.36883682e-06,   2.18824312e-06],\n",
       "         ..., \n",
       "         [  8.27711915e-07,   1.24675682e-06,   2.69766269e-06, ...,\n",
       "            1.75077261e-07,   6.50547179e-07,   2.97353182e-07],\n",
       "         [  3.77314365e-07,  -8.63688854e-07,   6.52245973e-08, ...,\n",
       "            1.54780963e-07,  -5.89753483e-07,   9.53981839e-07],\n",
       "         [  7.00951375e-07,  -7.29477108e-07,   2.09819132e-06, ...,\n",
       "            9.43829548e-07,   3.70684120e-07,  -2.85018103e-07]],\n",
       "\n",
       "        [[  2.66728961e-07,  -1.82632803e-07,  -1.18199859e-08, ...,\n",
       "            1.59595235e-08,   4.93404784e-08,  -2.27081230e-07],\n",
       "         [ -2.03721220e-06,  -1.39345968e-06,   7.15816782e-07, ...,\n",
       "           -2.64031678e-06,   4.10434041e-06,  -2.92953519e-06],\n",
       "         [ -7.28847510e-07,  -3.24952197e-07,   4.95544725e-07, ...,\n",
       "           -3.06631307e-07,  -1.70987562e-06,   6.02847820e-07],\n",
       "         ..., \n",
       "         [  7.51155426e-07,   2.21128516e-06,   3.10131128e-07, ...,\n",
       "           -1.75957734e-06,   5.16973557e-07,  -5.27198381e-07],\n",
       "         [  4.83578162e-07,   2.00454423e-07,  -2.00769136e-06, ...,\n",
       "           -2.61084756e-06,   1.07944447e-06,   4.61772470e-06],\n",
       "         [ -9.06979551e-07,  -3.69187501e-06,   2.44851526e-06, ...,\n",
       "           -1.55732664e-07,   5.93609343e-07,   6.99623683e-07]],\n",
       "\n",
       "        [[  2.01578317e-07,  -1.25263952e-07,   1.26460209e-09, ...,\n",
       "            1.60763101e-08,   1.60026978e-08,  -1.78016151e-07],\n",
       "         [ -1.30862350e-06,  -8.39222196e-07,   3.54491362e-07, ...,\n",
       "           -1.48448726e-06,   2.43383784e-06,  -1.90625542e-06],\n",
       "         [ -5.64807351e-07,  -1.66323929e-07,   1.72415596e-07, ...,\n",
       "           -1.04413900e-07,  -1.24867142e-06,   3.79552205e-07],\n",
       "         ..., \n",
       "         [  5.81578945e-07,   1.32080083e-06,   2.60925702e-07, ...,\n",
       "           -8.54361986e-07,   2.62109438e-07,  -3.86881169e-07],\n",
       "         [  2.92199729e-07,  -8.33568663e-08,  -9.89745217e-07, ...,\n",
       "           -1.58326327e-06,   2.84476783e-07,   2.98775012e-06],\n",
       "         [ -5.81847416e-07,  -2.10222538e-06,   1.46479783e-06, ...,\n",
       "            1.99164560e-07,   4.01993532e-07,   4.31255245e-07]],\n",
       "\n",
       "        ..., \n",
       "        [[  1.54543989e-06,  -1.55287341e-06,   2.29452098e-07, ...,\n",
       "            5.73772923e-06,  -2.05992228e-06,   6.99420616e-06],\n",
       "         [ -9.83988912e-07,  -3.26910890e-06,  -1.40155828e-06, ...,\n",
       "           -1.67144754e-06,  -1.71794693e-06,   8.00148598e-07],\n",
       "         [ -4.68752120e-07,   1.13582746e-06,  -2.64079290e-07, ...,\n",
       "           -9.34752052e-07,  -6.92944923e-07,   4.47401106e-07],\n",
       "         ..., \n",
       "         [ -4.04253171e-07,   5.93213599e-07,  -4.88648880e-07, ...,\n",
       "           -6.30178306e-07,  -9.95155673e-08,  -9.10956089e-07],\n",
       "         [ -2.27639816e-06,   8.85974259e-07,   1.08839697e-06, ...,\n",
       "           -3.74895330e-06,  -7.14599025e-07,   2.72828674e-06],\n",
       "         [ -3.08482345e-06,  -6.90417835e-07,  -5.71748103e-07, ...,\n",
       "           -1.15360695e-06,   1.43165585e-06,   2.84494467e-06]],\n",
       "\n",
       "        [[  8.39299389e-07,   2.09150062e-06,   4.78211632e-07, ...,\n",
       "            6.50294851e-07,   1.15434329e-06,   1.16375463e-06],\n",
       "         [ -5.60769695e-06,  -4.53713483e-06,  -1.89035188e-06, ...,\n",
       "            7.98449037e-07,   2.57976785e-06,  -4.20293418e-06],\n",
       "         [  1.82975793e-06,   1.43419481e-06,  -7.81512199e-07, ...,\n",
       "           -3.75171862e-06,   5.99005432e-07,   9.48366164e-07],\n",
       "         ..., \n",
       "         [ -1.26114480e-06,  -1.26163604e-06,   2.03864579e-06, ...,\n",
       "           -6.21197501e-07,  -1.54430253e-07,   4.57479473e-06],\n",
       "         [ -1.85791168e-06,  -8.90855631e-07,  -3.67240943e-07, ...,\n",
       "           -1.32396315e-06,  -7.49288347e-07,  -5.12276756e-07],\n",
       "         [ -4.01314946e-06,  -2.93333301e-06,   1.07036112e-06, ...,\n",
       "           -1.21535788e-06,  -5.29083934e-07,   4.94868527e-06]],\n",
       "\n",
       "        [[  7.88456077e-07,   1.59710362e-06,   5.09876827e-07, ...,\n",
       "            8.97429800e-07,  -2.27360474e-07,   4.99792691e-07],\n",
       "         [ -7.43992132e-06,  -2.80019140e-06,  -1.97279428e-06, ...,\n",
       "           -4.28034440e-07,   2.50572339e-06,  -5.79035304e-06],\n",
       "         [  4.89398019e-07,  -1.38362736e-07,   1.65300861e-07, ...,\n",
       "           -1.12061878e-06,   1.00470345e-06,   6.20735534e-07],\n",
       "         ..., \n",
       "         [ -9.81827952e-07,  -2.41631074e-06,   1.45035472e-06, ...,\n",
       "           -6.23840606e-07,  -5.69190135e-08,   5.24557845e-06],\n",
       "         [ -3.70607904e-06,  -1.69382233e-07,  -1.12785506e-06, ...,\n",
       "           -1.24048461e-06,  -1.58727232e-07,   1.48634376e-06],\n",
       "         [ -3.42655881e-06,  -1.66320092e-06,   9.89489649e-07, ...,\n",
       "           -7.02438115e-07,  -2.09849119e-07,   2.39539804e-06]]],\n",
       "\n",
       "\n",
       "       [[[  2.10312396e-06,  -1.21612936e-06,   1.55069074e-06, ...,\n",
       "            2.21799201e-06,   1.02386457e-06,   2.68366853e-06],\n",
       "         [  5.07975187e-07,   1.82535715e-07,  -7.03532180e-07, ...,\n",
       "           -9.24328916e-08,  -9.16727231e-07,   3.15804215e-07],\n",
       "         [ -8.89118780e-07,  -3.38315840e-06,   2.60632896e-06, ...,\n",
       "           -1.21142102e-06,   2.83981626e-06,   9.33384968e-07],\n",
       "         ..., \n",
       "         [  1.10495307e-06,   4.39993443e-07,   2.99547878e-06, ...,\n",
       "           -8.23874359e-07,  -6.01588567e-07,   2.24996120e-06],\n",
       "         [ -9.78233516e-07,   1.25179031e-06,  -1.19146716e-06, ...,\n",
       "           -3.80897205e-07,  -2.78359676e-06,  -6.15771910e-07],\n",
       "         [ -3.16525814e-07,   1.62987170e-08,  -1.06890730e-06, ...,\n",
       "           -1.57478348e-06,   1.02577849e-06,   8.27312135e-07]],\n",
       "\n",
       "        [[  3.69555920e-07,  -1.06001812e-06,   2.57571259e-07, ...,\n",
       "           -6.00580165e-07,   1.56508165e-07,   1.31631964e-06],\n",
       "         [  2.29706586e-07,   8.77502373e-08,   1.11677274e-07, ...,\n",
       "            2.06073793e-07,   2.89353778e-07,  -2.78393856e-07],\n",
       "         [ -2.06747245e-07,   3.14993400e-07,  -2.86825042e-07, ...,\n",
       "           -4.06760449e-07,  -8.17447813e-07,   5.21813320e-07],\n",
       "         ..., \n",
       "         [  1.33035725e-08,   5.69790295e-08,  -1.27994866e-07, ...,\n",
       "            5.01456725e-07,   7.41074018e-07,   1.56599822e-06],\n",
       "         [ -3.67897314e-07,   2.89048614e-07,  -2.24858042e-07, ...,\n",
       "            3.90456563e-07,   4.55427411e-08,   2.77350097e-07],\n",
       "         [  1.51413047e-07,   2.26613537e-07,   7.18721083e-09, ...,\n",
       "            8.53782680e-08,  -1.34494456e-07,  -9.68332117e-08]],\n",
       "\n",
       "        [[  3.74773322e-07,  -1.65428773e-07,   3.67294831e-07, ...,\n",
       "            8.80309070e-09,   4.45068125e-08,   4.32996330e-07],\n",
       "         [  3.95896336e-07,  -6.03486626e-07,  -4.22152652e-07, ...,\n",
       "           -7.38175459e-07,   1.43634068e-07,  -7.39781910e-07],\n",
       "         [ -1.23848125e-07,  -8.84438350e-07,   6.11649511e-07, ...,\n",
       "           -6.62481796e-07,  -7.94526045e-08,  -2.91015496e-08],\n",
       "         ..., \n",
       "         [ -1.94797181e-07,  -3.13194050e-07,   6.91571074e-07, ...,\n",
       "            5.57311921e-07,  -1.21248002e-06,   7.88744330e-07],\n",
       "         [ -5.42870850e-07,   1.18232585e-07,   1.34304059e-07, ...,\n",
       "            4.36493792e-07,  -3.12830025e-07,  -1.83378674e-07],\n",
       "         [  8.46149362e-07,  -3.48517318e-07,  -5.75964236e-07, ...,\n",
       "            1.93485576e-07,   3.77122063e-07,   1.97681189e-07]],\n",
       "\n",
       "        ..., \n",
       "        [[ -1.87987781e-09,   2.43042496e-06,   1.66539451e-06, ...,\n",
       "            9.19348622e-07,  -7.36198047e-07,  -7.42865950e-07],\n",
       "         [ -9.28045438e-07,   5.70121415e-07,   8.45557736e-07, ...,\n",
       "            2.45940072e-07,  -6.35787387e-07,  -1.57927821e-06],\n",
       "         [ -4.37779022e-07,   1.03965669e-06,   9.42873385e-07, ...,\n",
       "           -1.63639402e-06,  -8.42270424e-07,  -1.05162371e-06],\n",
       "         ..., \n",
       "         [  5.14704254e-07,  -1.24565770e-06,   2.41034127e-06, ...,\n",
       "            1.22567519e-06,   1.37416089e-06,   1.04748983e-08],\n",
       "         [ -7.42563316e-07,   1.21156813e-06,  -1.18596472e-06, ...,\n",
       "           -2.77927143e-07,  -1.97758695e-07,   1.26613770e-06],\n",
       "         [ -1.02618799e-06,  -2.62646222e-06,   3.12916598e-07, ...,\n",
       "            8.23324513e-07,   8.64961123e-07,   2.23659913e-06]],\n",
       "\n",
       "        [[ -1.87987781e-09,   2.43042496e-06,   1.66539451e-06, ...,\n",
       "            9.19348622e-07,  -7.36198047e-07,  -7.42865950e-07],\n",
       "         [ -9.28045438e-07,   5.70121415e-07,   8.45557736e-07, ...,\n",
       "            2.45940072e-07,  -6.35787387e-07,  -1.57927821e-06],\n",
       "         [ -4.37779022e-07,   1.03965669e-06,   9.42873385e-07, ...,\n",
       "           -1.63639402e-06,  -8.42270424e-07,  -1.05162371e-06],\n",
       "         ..., \n",
       "         [  5.14704254e-07,  -1.24565770e-06,   2.41034127e-06, ...,\n",
       "            1.22567519e-06,   1.37416089e-06,   1.04748983e-08],\n",
       "         [ -7.42563316e-07,   1.21156813e-06,  -1.18596472e-06, ...,\n",
       "           -2.77927143e-07,  -1.97758695e-07,   1.26613770e-06],\n",
       "         [ -1.02618799e-06,  -2.62646222e-06,   3.12916598e-07, ...,\n",
       "            8.23324513e-07,   8.64961123e-07,   2.23659913e-06]],\n",
       "\n",
       "        [[ -1.40248767e-06,   8.45293357e-07,   8.73707791e-07, ...,\n",
       "            1.85730983e-06,  -6.44882334e-07,   5.90181912e-07],\n",
       "         [ -3.34045552e-07,   4.68763915e-07,  -3.16942845e-07, ...,\n",
       "            3.65556815e-07,   4.24525865e-07,  -7.99737961e-07],\n",
       "         [ -1.04092521e-06,   9.19463957e-07,   1.03039612e-08, ...,\n",
       "           -1.81283781e-06,  -1.27102192e-06,  -3.12136052e-07],\n",
       "         ..., \n",
       "         [  1.98707426e-07,  -1.91026857e-07,   3.74390332e-08, ...,\n",
       "            2.31755948e-07,   2.00992254e-08,  -1.68292800e-07],\n",
       "         [ -9.51521429e-07,   8.57826194e-07,  -5.66456436e-07, ...,\n",
       "            1.46644496e-07,   2.74063268e-07,   2.63868685e-07],\n",
       "         [ -2.55053664e-07,  -1.48775530e-06,  -6.66422977e-07, ...,\n",
       "            5.85344594e-07,   8.25934762e-07,   1.87245166e-06]]]], dtype=float32)"
      ]
     },
     "execution_count": 23,
     "metadata": {},
     "output_type": "execute_result"
    }
   ],
   "source": [
    "Model(x, cap1).predict(inputs)"
   ]
  },
  {
   "cell_type": "code",
   "execution_count": 21,
   "metadata": {
    "collapsed": true
   },
   "outputs": [],
   "source": [
    "predictions = model.predict(inputs)"
   ]
  },
  {
   "cell_type": "code",
   "execution_count": 22,
   "metadata": {},
   "outputs": [
    {
     "data": {
      "text/plain": [
       "array([[ 0.2,  0.2,  0.2,  0.2,  0.2],\n",
       "       [ 0.2,  0.2,  0.2,  0.2,  0.2],\n",
       "       [ 0.2,  0.2,  0.2,  0.2,  0.2],\n",
       "       [ 0.2,  0.2,  0.2,  0.2,  0.2],\n",
       "       [ 0.2,  0.2,  0.2,  0.2,  0.2],\n",
       "       [ 0.2,  0.2,  0.2,  0.2,  0.2],\n",
       "       [ 0.2,  0.2,  0.2,  0.2,  0.2],\n",
       "       [ 0.2,  0.2,  0.2,  0.2,  0.2],\n",
       "       [ 0.2,  0.2,  0.2,  0.2,  0.2],\n",
       "       [ 0.2,  0.2,  0.2,  0.2,  0.2],\n",
       "       [ 0.2,  0.2,  0.2,  0.2,  0.2],\n",
       "       [ 0.2,  0.2,  0.2,  0.2,  0.2],\n",
       "       [ 0.2,  0.2,  0.2,  0.2,  0.2],\n",
       "       [ 0.2,  0.2,  0.2,  0.2,  0.2],\n",
       "       [ 0.2,  0.2,  0.2,  0.2,  0.2],\n",
       "       [ 0.2,  0.2,  0.2,  0.2,  0.2],\n",
       "       [ 0.2,  0.2,  0.2,  0.2,  0.2],\n",
       "       [ 0.2,  0.2,  0.2,  0.2,  0.2],\n",
       "       [ 0.2,  0.2,  0.2,  0.2,  0.2],\n",
       "       [ 0.2,  0.2,  0.2,  0.2,  0.2],\n",
       "       [ 0.2,  0.2,  0.2,  0.2,  0.2],\n",
       "       [ 0.2,  0.2,  0.2,  0.2,  0.2],\n",
       "       [ 0.2,  0.2,  0.2,  0.2,  0.2],\n",
       "       [ 0.2,  0.2,  0.2,  0.2,  0.2],\n",
       "       [ 0.2,  0.2,  0.2,  0.2,  0.2],\n",
       "       [ 0.2,  0.2,  0.2,  0.2,  0.2],\n",
       "       [ 0.2,  0.2,  0.2,  0.2,  0.2],\n",
       "       [ 0.2,  0.2,  0.2,  0.2,  0.2],\n",
       "       [ 0.2,  0.2,  0.2,  0.2,  0.2],\n",
       "       [ 0.2,  0.2,  0.2,  0.2,  0.2],\n",
       "       [ 0.2,  0.2,  0.2,  0.2,  0.2],\n",
       "       [ 0.2,  0.2,  0.2,  0.2,  0.2],\n",
       "       [ 0.2,  0.2,  0.2,  0.2,  0.2],\n",
       "       [ 0.2,  0.2,  0.2,  0.2,  0.2],\n",
       "       [ 0.2,  0.2,  0.2,  0.2,  0.2],\n",
       "       [ 0.2,  0.2,  0.2,  0.2,  0.2],\n",
       "       [ 0.2,  0.2,  0.2,  0.2,  0.2],\n",
       "       [ 0.2,  0.2,  0.2,  0.2,  0.2],\n",
       "       [ 0.2,  0.2,  0.2,  0.2,  0.2],\n",
       "       [ 0.2,  0.2,  0.2,  0.2,  0.2],\n",
       "       [ 0.2,  0.2,  0.2,  0.2,  0.2],\n",
       "       [ 0.2,  0.2,  0.2,  0.2,  0.2],\n",
       "       [ 0.2,  0.2,  0.2,  0.2,  0.2],\n",
       "       [ 0.2,  0.2,  0.2,  0.2,  0.2],\n",
       "       [ 0.2,  0.2,  0.2,  0.2,  0.2],\n",
       "       [ 0.2,  0.2,  0.2,  0.2,  0.2],\n",
       "       [ 0.2,  0.2,  0.2,  0.2,  0.2],\n",
       "       [ 0.2,  0.2,  0.2,  0.2,  0.2],\n",
       "       [ 0.2,  0.2,  0.2,  0.2,  0.2],\n",
       "       [ 0.2,  0.2,  0.2,  0.2,  0.2],\n",
       "       [ 0.2,  0.2,  0.2,  0.2,  0.2],\n",
       "       [ 0.2,  0.2,  0.2,  0.2,  0.2],\n",
       "       [ 0.2,  0.2,  0.2,  0.2,  0.2],\n",
       "       [ 0.2,  0.2,  0.2,  0.2,  0.2],\n",
       "       [ 0.2,  0.2,  0.2,  0.2,  0.2],\n",
       "       [ 0.2,  0.2,  0.2,  0.2,  0.2],\n",
       "       [ 0.2,  0.2,  0.2,  0.2,  0.2],\n",
       "       [ 0.2,  0.2,  0.2,  0.2,  0.2],\n",
       "       [ 0.2,  0.2,  0.2,  0.2,  0.2],\n",
       "       [ 0.2,  0.2,  0.2,  0.2,  0.2],\n",
       "       [ 0.2,  0.2,  0.2,  0.2,  0.2],\n",
       "       [ 0.2,  0.2,  0.2,  0.2,  0.2],\n",
       "       [ 0.2,  0.2,  0.2,  0.2,  0.2],\n",
       "       [ 0.2,  0.2,  0.2,  0.2,  0.2],\n",
       "       [ 0.2,  0.2,  0.2,  0.2,  0.2],\n",
       "       [ 0.2,  0.2,  0.2,  0.2,  0.2],\n",
       "       [ 0.2,  0.2,  0.2,  0.2,  0.2],\n",
       "       [ 0.2,  0.2,  0.2,  0.2,  0.2],\n",
       "       [ 0.2,  0.2,  0.2,  0.2,  0.2],\n",
       "       [ 0.2,  0.2,  0.2,  0.2,  0.2],\n",
       "       [ 0.2,  0.2,  0.2,  0.2,  0.2],\n",
       "       [ 0.2,  0.2,  0.2,  0.2,  0.2],\n",
       "       [ 0.2,  0.2,  0.2,  0.2,  0.2],\n",
       "       [ 0.2,  0.2,  0.2,  0.2,  0.2],\n",
       "       [ 0.2,  0.2,  0.2,  0.2,  0.2],\n",
       "       [ 0.2,  0.2,  0.2,  0.2,  0.2],\n",
       "       [ 0.2,  0.2,  0.2,  0.2,  0.2],\n",
       "       [ 0.2,  0.2,  0.2,  0.2,  0.2],\n",
       "       [ 0.2,  0.2,  0.2,  0.2,  0.2],\n",
       "       [ 0.2,  0.2,  0.2,  0.2,  0.2],\n",
       "       [ 0.2,  0.2,  0.2,  0.2,  0.2],\n",
       "       [ 0.2,  0.2,  0.2,  0.2,  0.2],\n",
       "       [ 0.2,  0.2,  0.2,  0.2,  0.2],\n",
       "       [ 0.2,  0.2,  0.2,  0.2,  0.2],\n",
       "       [ 0.2,  0.2,  0.2,  0.2,  0.2],\n",
       "       [ 0.2,  0.2,  0.2,  0.2,  0.2],\n",
       "       [ 0.2,  0.2,  0.2,  0.2,  0.2],\n",
       "       [ 0.2,  0.2,  0.2,  0.2,  0.2],\n",
       "       [ 0.2,  0.2,  0.2,  0.2,  0.2],\n",
       "       [ 0.2,  0.2,  0.2,  0.2,  0.2],\n",
       "       [ 0.2,  0.2,  0.2,  0.2,  0.2],\n",
       "       [ 0.2,  0.2,  0.2,  0.2,  0.2],\n",
       "       [ 0.2,  0.2,  0.2,  0.2,  0.2],\n",
       "       [ 0.2,  0.2,  0.2,  0.2,  0.2],\n",
       "       [ 0.2,  0.2,  0.2,  0.2,  0.2],\n",
       "       [ 0.2,  0.2,  0.2,  0.2,  0.2],\n",
       "       [ 0.2,  0.2,  0.2,  0.2,  0.2],\n",
       "       [ 0.2,  0.2,  0.2,  0.2,  0.2],\n",
       "       [ 0.2,  0.2,  0.2,  0.2,  0.2],\n",
       "       [ 0.2,  0.2,  0.2,  0.2,  0.2]], dtype=float32)"
      ]
     },
     "execution_count": 22,
     "metadata": {},
     "output_type": "execute_result"
    }
   ],
   "source": [
    "predictions"
   ]
  },
  {
   "cell_type": "code",
   "execution_count": 18,
   "metadata": {
    "collapsed": true
   },
   "outputs": [],
   "source": [
    "%matplotlib inline\n",
    "import matplotlib.pyplot as plt"
   ]
  },
  {
   "cell_type": "code",
   "execution_count": 19,
   "metadata": {},
   "outputs": [
    {
     "data": {
      "image/png": "[encoded data removed]",
      "text/plain": [
       "<matplotlib.figure.Figure at 0x7f97a206aad0>"
      ]
     },
     "metadata": {},
     "output_type": "display_data"
    }
   ],
   "source": [
    "plt.figure(figsize=(10, 10))\n",
    "plt.scatter(embedding[:,0], embedding[:,1], c = np.array(targets).flatten())\n",
    "plt.savefig(\"fig.png\")"
   ]
  },
  {
   "cell_type": "code",
   "execution_count": 23,
   "metadata": {
    "collapsed": true
   },
   "outputs": [],
   "source": [
    "[X_test, L_test, mask_test], Y_test = gen.next()"
   ]
  },
  {
   "cell_type": "code",
   "execution_count": 24,
   "metadata": {},
   "outputs": [
    {
     "data": {
      "text/plain": [
       "((25, 1433, 1), (25, 25), (25, 7))"
      ]
     },
     "execution_count": 24,
     "metadata": {},
     "output_type": "execute_result"
    }
   ],
   "source": [
    "X_test.shape, L_test.shape, mask_test.shape"
   ]
  },
  {
   "cell_type": "code",
   "execution_count": 25,
   "metadata": {
    "collapsed": true
   },
   "outputs": [],
   "source": [
    "predictions = model.predict([X_test, L_test, mask_test], batch_size=X_test.shape[0])"
   ]
  },
  {
   "cell_type": "code",
   "execution_count": 26,
   "metadata": {},
   "outputs": [
    {
     "data": {
      "text/plain": [
       "array([[  0.00000000e+00,   0.00000000e+00,   0.00000000e+00,\n",
       "          0.00000000e+00,   0.00000000e+00,   7.67073482e-02,\n",
       "          5.64794242e-01,   1.59292474e-01,   6.10284328e-01,\n",
       "          2.39640381e-02,   3.39013904e-01,   1.23115987e-01,\n",
       "          0.00000000e+00,   1.00000000e+00,   0.00000000e+00,\n",
       "          0.00000000e+00,   0.00000000e+00,   0.00000000e+00,\n",
       "          0.00000000e+00],\n",
       "       [  0.00000000e+00,   0.00000000e+00,   0.00000000e+00,\n",
       "          0.00000000e+00,   0.00000000e+00,   8.90502781e-02,\n",
       "          5.34350574e-01,   1.51579112e-01,   2.77203053e-01,\n",
       "          1.32199693e-02,   2.47876480e-01,   3.84735227e-01,\n",
       "          0.00000000e+00,   1.00000000e+00,   0.00000000e+00,\n",
       "          0.00000000e+00,   0.00000000e+00,   0.00000000e+00,\n",
       "          0.00000000e+00],\n",
       "       [  0.00000000e+00,   0.00000000e+00,   0.00000000e+00,\n",
       "          0.00000000e+00,   0.00000000e+00,   5.06294426e-03,\n",
       "          4.98151720e-01,   7.95075521e-02,   2.92400301e-01,\n",
       "          6.75818399e-02,   1.91847682e-02,   1.19690910e-01,\n",
       "          0.00000000e+00,   1.00000000e+00,   0.00000000e+00,\n",
       "          0.00000000e+00,   0.00000000e+00,   0.00000000e+00,\n",
       "          0.00000000e+00],\n",
       "       [  0.00000000e+00,   0.00000000e+00,   0.00000000e+00,\n",
       "          0.00000000e+00,   0.00000000e+00,   6.37989864e-02,\n",
       "          1.01272948e-01,   3.97856049e-02,   1.44981772e-01,\n",
       "          3.09630245e-01,   1.07377255e-02,   4.02129501e-01,\n",
       "          0.00000000e+00,   1.00000000e+00,   0.00000000e+00,\n",
       "          0.00000000e+00,   0.00000000e+00,   0.00000000e+00,\n",
       "          0.00000000e+00],\n",
       "       [  0.00000000e+00,   0.00000000e+00,   0.00000000e+00,\n",
       "          0.00000000e+00,   0.00000000e+00,   4.51458581e-02,\n",
       "          4.99071240e-01,   7.87919834e-02,   2.35953614e-01,\n",
       "          4.02475521e-02,   9.83855650e-02,   6.09497316e-02,\n",
       "          0.00000000e+00,   1.00000000e+00,   0.00000000e+00,\n",
       "          0.00000000e+00,   0.00000000e+00,   0.00000000e+00,\n",
       "          0.00000000e+00],\n",
       "       [  0.00000000e+00,   0.00000000e+00,   0.00000000e+00,\n",
       "          0.00000000e+00,   0.00000000e+00,   1.15176418e-03,\n",
       "          4.73123908e-01,   5.55933774e-01,   5.96664250e-01,\n",
       "          3.26744765e-02,   2.51721479e-02,   1.61144495e-01,\n",
       "          0.00000000e+00,   1.00000000e+00,   0.00000000e+00,\n",
       "          0.00000000e+00,   0.00000000e+00,   0.00000000e+00,\n",
       "          0.00000000e+00],\n",
       "       [  0.00000000e+00,   0.00000000e+00,   0.00000000e+00,\n",
       "          0.00000000e+00,   0.00000000e+00,   8.60295594e-02,\n",
       "          3.71399164e-01,   3.41055915e-02,   3.57761681e-01,\n",
       "          3.45174998e-01,   5.42103872e-02,   1.25380740e-01,\n",
       "          0.00000000e+00,   1.00000000e+00,   0.00000000e+00,\n",
       "          0.00000000e+00,   0.00000000e+00,   0.00000000e+00,\n",
       "          0.00000000e+00],\n",
       "       [  0.00000000e+00,   0.00000000e+00,   0.00000000e+00,\n",
       "          0.00000000e+00,   0.00000000e+00,   1.56023145e-01,\n",
       "          4.07058895e-01,   5.29509448e-02,   4.34217751e-01,\n",
       "          1.29028484e-01,   2.04659358e-01,   3.95329297e-02,\n",
       "          0.00000000e+00,   1.00000000e+00,   0.00000000e+00,\n",
       "          0.00000000e+00,   0.00000000e+00,   0.00000000e+00,\n",
       "          0.00000000e+00],\n",
       "       [  1.00000000e+00,   1.00000000e+00,   1.00000000e+00,\n",
       "          1.00000000e+00,   1.00000000e+00,   1.01620024e-02,\n",
       "          2.64444649e-01,   5.66561699e-01,   3.70003372e-01,\n",
       "          1.31852537e-01,   1.28126398e-01,   8.11902583e-02,\n",
       "          0.00000000e+00,   1.00000000e+00,   0.00000000e+00,\n",
       "          0.00000000e+00,   0.00000000e+00,   0.00000000e+00,\n",
       "          0.00000000e+00],\n",
       "       [  0.00000000e+00,   0.00000000e+00,   0.00000000e+00,\n",
       "          0.00000000e+00,   0.00000000e+00,   9.81547986e-04,\n",
       "          7.92111695e-01,   1.42865092e-01,   6.65004477e-02,\n",
       "          1.65510461e-01,   6.17477410e-02,   1.66304857e-02,\n",
       "          0.00000000e+00,   1.00000000e+00,   0.00000000e+00,\n",
       "          0.00000000e+00,   0.00000000e+00,   0.00000000e+00,\n",
       "          0.00000000e+00],\n",
       "       [  0.00000000e+00,   0.00000000e+00,   0.00000000e+00,\n",
       "          0.00000000e+00,   0.00000000e+00,   2.32248623e-02,\n",
       "          4.64009821e-01,   5.06605208e-01,   3.07264954e-01,\n",
       "          6.87069520e-02,   1.74046591e-01,   4.18804377e-01,\n",
       "          0.00000000e+00,   1.00000000e+00,   0.00000000e+00,\n",
       "          0.00000000e+00,   0.00000000e+00,   0.00000000e+00,\n",
       "          0.00000000e+00],\n",
       "       [  1.00000000e+00,   1.00000000e+00,   1.00000000e+00,\n",
       "          1.00000000e+00,   1.00000000e+00,   9.57446694e-02,\n",
       "          7.10909426e-01,   2.73543727e-02,   4.54099000e-01,\n",
       "          2.53518343e-01,   2.48556718e-01,   2.14479744e-01,\n",
       "          0.00000000e+00,   1.00000000e+00,   0.00000000e+00,\n",
       "          0.00000000e+00,   0.00000000e+00,   0.00000000e+00,\n",
       "          0.00000000e+00],\n",
       "       [  0.00000000e+00,   0.00000000e+00,   0.00000000e+00,\n",
       "          0.00000000e+00,   0.00000000e+00,   1.01092316e-01,\n",
       "          5.51462889e-01,   3.04867864e-01,   2.61194795e-01,\n",
       "          7.06602857e-02,   2.42884047e-02,   3.14196140e-01,\n",
       "          0.00000000e+00,   1.00000000e+00,   0.00000000e+00,\n",
       "          0.00000000e+00,   0.00000000e+00,   0.00000000e+00,\n",
       "          0.00000000e+00],\n",
       "       [  0.00000000e+00,   0.00000000e+00,   0.00000000e+00,\n",
       "          0.00000000e+00,   0.00000000e+00,   8.49280357e-02,\n",
       "          4.74391729e-01,   5.07304072e-01,   1.21282801e-01,\n",
       "          4.73214351e-02,   2.22466160e-02,   5.76067328e-01,\n",
       "          0.00000000e+00,   1.00000000e+00,   0.00000000e+00,\n",
       "          0.00000000e+00,   0.00000000e+00,   0.00000000e+00,\n",
       "          0.00000000e+00],\n",
       "       [  0.00000000e+00,   0.00000000e+00,   0.00000000e+00,\n",
       "          0.00000000e+00,   0.00000000e+00,   4.12417501e-02,\n",
       "          3.91464353e-01,   1.35473930e-03,   1.90642532e-02,\n",
       "          5.03773130e-02,   1.81517620e-02,   1.04859218e-01,\n",
       "          0.00000000e+00,   1.00000000e+00,   0.00000000e+00,\n",
       "          0.00000000e+00,   0.00000000e+00,   0.00000000e+00,\n",
       "          0.00000000e+00],\n",
       "       [  0.00000000e+00,   0.00000000e+00,   0.00000000e+00,\n",
       "          0.00000000e+00,   0.00000000e+00,   8.61237384e-03,\n",
       "          5.56694746e-01,   3.57790217e-02,   3.11062306e-01,\n",
       "          2.51982622e-02,   3.12084228e-01,   3.31124663e-01,\n",
       "          0.00000000e+00,   1.00000000e+00,   0.00000000e+00,\n",
       "          0.00000000e+00,   0.00000000e+00,   0.00000000e+00,\n",
       "          0.00000000e+00],\n",
       "       [  0.00000000e+00,   0.00000000e+00,   0.00000000e+00,\n",
       "          0.00000000e+00,   0.00000000e+00,   2.48036510e-03,\n",
       "          3.64703447e-01,   6.66642636e-02,   1.77929461e-01,\n",
       "          2.65651699e-02,   6.84167594e-02,   6.62692357e-03,\n",
       "          0.00000000e+00,   0.00000000e+00,   0.00000000e+00,\n",
       "          0.00000000e+00,   0.00000000e+00,   0.00000000e+00,\n",
       "          1.00000000e+00],\n",
       "       [  0.00000000e+00,   0.00000000e+00,   0.00000000e+00,\n",
       "          0.00000000e+00,   0.00000000e+00,   1.01606436e-01,\n",
       "          4.74958390e-01,   1.15045691e-02,   6.59333169e-02,\n",
       "          2.55048096e-01,   5.93215413e-02,   1.47968605e-01,\n",
       "          0.00000000e+00,   1.00000000e+00,   0.00000000e+00,\n",
       "          0.00000000e+00,   0.00000000e+00,   0.00000000e+00,\n",
       "          0.00000000e+00],\n",
       "       [  0.00000000e+00,   0.00000000e+00,   0.00000000e+00,\n",
       "          0.00000000e+00,   0.00000000e+00,   7.67073482e-02,\n",
       "          5.64794242e-01,   1.59292474e-01,   6.10284328e-01,\n",
       "          2.39640381e-02,   3.39013904e-01,   1.23115987e-01,\n",
       "          0.00000000e+00,   1.00000000e+00,   0.00000000e+00,\n",
       "          0.00000000e+00,   0.00000000e+00,   0.00000000e+00,\n",
       "          0.00000000e+00],\n",
       "       [  1.00000000e+00,   1.00000000e+00,   1.00000000e+00,\n",
       "          1.00000000e+00,   1.00000000e+00,   2.44469964e-04,\n",
       "          7.95584500e-01,   1.34984791e-01,   1.20898180e-01,\n",
       "          6.76867226e-03,   8.13780576e-02,   5.28671443e-02,\n",
       "          0.00000000e+00,   1.00000000e+00,   0.00000000e+00,\n",
       "          0.00000000e+00,   0.00000000e+00,   0.00000000e+00,\n",
       "          0.00000000e+00],\n",
       "       [  0.00000000e+00,   0.00000000e+00,   0.00000000e+00,\n",
       "          0.00000000e+00,   0.00000000e+00,   1.33834565e-02,\n",
       "          1.95348725e-01,   7.51759931e-02,   6.13594294e-01,\n",
       "          3.90667245e-02,   3.30167145e-01,   4.25068915e-01,\n",
       "          0.00000000e+00,   1.00000000e+00,   0.00000000e+00,\n",
       "          0.00000000e+00,   0.00000000e+00,   0.00000000e+00,\n",
       "          0.00000000e+00],\n",
       "       [  0.00000000e+00,   0.00000000e+00,   0.00000000e+00,\n",
       "          0.00000000e+00,   0.00000000e+00,   7.30142742e-02,\n",
       "          5.14726341e-01,   2.38359552e-02,   3.59048307e-01,\n",
       "          3.79272900e-03,   1.91710994e-01,   3.12587112e-01,\n",
       "          0.00000000e+00,   1.00000000e+00,   0.00000000e+00,\n",
       "          0.00000000e+00,   0.00000000e+00,   0.00000000e+00,\n",
       "          0.00000000e+00],\n",
       "       [  0.00000000e+00,   0.00000000e+00,   0.00000000e+00,\n",
       "          0.00000000e+00,   0.00000000e+00,   9.11705047e-02,\n",
       "          2.64944524e-01,   4.23475742e-01,   3.45676392e-01,\n",
       "          1.27408832e-01,   1.19839106e-02,   2.61666119e-01,\n",
       "          0.00000000e+00,   0.00000000e+00,   1.00000000e+00,\n",
       "          0.00000000e+00,   0.00000000e+00,   0.00000000e+00,\n",
       "          0.00000000e+00],\n",
       "       [  0.00000000e+00,   0.00000000e+00,   0.00000000e+00,\n",
       "          0.00000000e+00,   0.00000000e+00,   2.20051166e-02,\n",
       "          6.67214915e-02,   2.35445760e-02,   2.68522762e-02,\n",
       "          6.33568177e-03,   3.17051113e-01,   4.59557623e-01,\n",
       "          0.00000000e+00,   1.00000000e+00,   0.00000000e+00,\n",
       "          0.00000000e+00,   0.00000000e+00,   0.00000000e+00,\n",
       "          0.00000000e+00],\n",
       "       [  0.00000000e+00,   0.00000000e+00,   0.00000000e+00,\n",
       "          0.00000000e+00,   0.00000000e+00,   5.48610277e-02,\n",
       "          3.83710325e-01,   2.86623538e-01,   3.62726212e-01,\n",
       "          1.25736654e-01,   3.66773546e-01,   6.39590621e-01,\n",
       "          0.00000000e+00,   1.00000000e+00,   0.00000000e+00,\n",
       "          0.00000000e+00,   0.00000000e+00,   0.00000000e+00,\n",
       "          0.00000000e+00]], dtype=float32)"
      ]
     },
     "execution_count": 26,
     "metadata": {},
     "output_type": "execute_result"
    }
   ],
   "source": [
    "np.concatenate([predictions[:,2:], Y_test], axis=1)"
   ]
  },
  {
   "cell_type": "code",
   "execution_count": 27,
   "metadata": {
    "collapsed": true
   },
   "outputs": [],
   "source": [
    "from sklearn.manifold import TSNE"
   ]
  },
  {
   "cell_type": "code",
   "execution_count": 28,
   "metadata": {
    "collapsed": true
   },
   "outputs": [],
   "source": [
    "tsne_raw = TSNE()"
   ]
  },
  {
   "cell_type": "code",
   "execution_count": 29,
   "metadata": {
    "collapsed": true
   },
   "outputs": [],
   "source": [
    "raw_embedding = tsne_raw.fit_transform(X_test.squeeze())"
   ]
  },
  {
   "cell_type": "code",
   "execution_count": 30,
   "metadata": {
    "collapsed": true
   },
   "outputs": [],
   "source": [
    "%matplotlib inline\n",
    "import matplotlib.pyplot as plt"
   ]
  },
  {
   "cell_type": "code",
   "execution_count": 31,
   "metadata": {},
   "outputs": [
    {
     "data": {
      "text/plain": [
       "array([[ 0.,  0.,  0., ...,  0.,  0.,  0.],\n",
       "       [ 0.,  0.,  0., ...,  0.,  0.,  0.],\n",
       "       [ 0.,  0.,  0., ...,  0.,  0.,  0.],\n",
       "       ..., \n",
       "       [ 0.,  0.,  0., ...,  0.,  0.,  0.],\n",
       "       [ 0.,  0.,  0., ...,  0.,  0.,  0.],\n",
       "       [ 0.,  1.,  1., ...,  0.,  0.,  0.]], dtype=float32)"
      ]
     },
     "execution_count": 31,
     "metadata": {},
     "output_type": "execute_result"
    }
   ],
   "source": [
    "X_test.squeeze()"
   ]
  },
  {
   "cell_type": "code",
   "execution_count": 32,
   "metadata": {},
   "outputs": [
    {
     "data": {
      "text/plain": [
       "<matplotlib.collections.PathCollection at 0x7fd2daca74d0>"
      ]
     },
     "execution_count": 32,
     "metadata": {},
     "output_type": "execute_result"
    },
    {
     "data": {
      "image/png": "[encoded data removed]",
      "text/plain": [
       "<matplotlib.figure.Figure at 0x7fd2dad3d850>"
      ]
     },
     "metadata": {},
     "output_type": "display_data"
    }
   ],
   "source": [
    "plt.scatter(raw_embedding[:,0], raw_embedding[:,1], c=Y_test.argmax(axis=1))"
   ]
  },
  {
   "cell_type": "code",
   "execution_count": 33,
   "metadata": {
    "collapsed": true
   },
   "outputs": [],
   "source": [
    "primary_cap_length = Length()(primary_cap)\n",
    "embedder = Model([x, L_input], primary_cap_length)"
   ]
  },
  {
   "cell_type": "code",
   "execution_count": 40,
   "metadata": {},
   "outputs": [
    {
     "data": {
      "text/plain": [
       "45856"
      ]
     },
     "execution_count": 40,
     "metadata": {},
     "output_type": "execute_result"
    }
   ],
   "source": [
    "1433 * 32"
   ]
  },
  {
   "cell_type": "code",
   "execution_count": 44,
   "metadata": {
    "collapsed": true
   },
   "outputs": [],
   "source": [
    "Lx =L_hat.dot(X.squeeze())"
   ]
  },
  {
   "cell_type": "code",
   "execution_count": 46,
   "metadata": {},
   "outputs": [
    {
     "data": {
      "text/plain": [
       "array([ 0.,  0.,  0., ...,  0.,  0.,  0.], dtype=float32)"
      ]
     },
     "execution_count": 46,
     "metadata": {},
     "output_type": "execute_result"
    }
   ],
   "source": [
    "X[0,:,0]"
   ]
  },
  {
   "cell_type": "code",
   "execution_count": 48,
   "metadata": {},
   "outputs": [
    {
     "data": {
      "text/plain": [
       "array([ 0.,  0.,  0., ...,  0.,  0.,  0.], dtype=float32)"
      ]
     },
     "execution_count": 48,
     "metadata": {},
     "output_type": "execute_result"
    }
   ],
   "source": [
    "Lx[0,:]"
   ]
  },
  {
   "cell_type": "code",
   "execution_count": 34,
   "metadata": {},
   "outputs": [
    {
     "name": "stdout",
     "output_type": "stream",
     "text": [
      "__________________________________________________________________________________________________\n",
      "Layer (type)                    Output Shape         Param #     Connected to                     \n",
      "==================================================================================================\n",
      "L_input (InputLayer)            (None, 25)           0                                            \n",
      "__________________________________________________________________________________________________\n",
      "signal_input (InputLayer)       (None, 1433, 1)      0                                            \n",
      "__________________________________________________________________________________________________\n",
      "conv1 (GraphConv)               (None, 1433, 32)     45920       L_input[0][0]                    \n",
      "                                                                 signal_input[0][0]               \n",
      "__________________________________________________________________________________________________\n",
      "primarycap_GraphConv (GraphConv (None, 1433, 256)    383232      L_input[0][0]                    \n",
      "                                                                 conv1[0][0]                      \n",
      "__________________________________________________________________________________________________\n",
      "primarycap_reshape (Reshape)    (None, 45856, 8)     0           primarycap_GraphConv[0][0]       \n",
      "__________________________________________________________________________________________________\n",
      "primarycap_squash (Lambda)      (None, 45856, 8)     0           primarycap_reshape[0][0]         \n",
      "__________________________________________________________________________________________________\n",
      "length_1 (Length)               (None, 45856)        0           primarycap_squash[0][0]          \n",
      "==================================================================================================\n",
      "Total params: 429,152\n",
      "Trainable params: 429,152\n",
      "Non-trainable params: 0\n",
      "__________________________________________________________________________________________________\n"
     ]
    }
   ],
   "source": [
    "embedder.summary()"
   ]
  },
  {
   "cell_type": "code",
   "execution_count": 35,
   "metadata": {
    "collapsed": true
   },
   "outputs": [],
   "source": [
    "embedding = embedder.predict_on_batch([X_test, L_test], )"
   ]
  },
  {
   "cell_type": "code",
   "execution_count": 37,
   "metadata": {
    "collapsed": true
   },
   "outputs": [],
   "source": [
    "tsne_embedder = TSNE()"
   ]
  },
  {
   "cell_type": "code",
   "execution_count": 38,
   "metadata": {
    "collapsed": true
   },
   "outputs": [],
   "source": [
    "tsne_embedding = tsne_embedder.fit_transform(embedding)"
   ]
  },
  {
   "cell_type": "code",
   "execution_count": 39,
   "metadata": {},
   "outputs": [
    {
     "data": {
      "text/plain": [
       "<matplotlib.collections.PathCollection at 0x7fd2dabe8c90>"
      ]
     },
     "execution_count": 39,
     "metadata": {},
     "output_type": "execute_result"
    },
    {
     "data": {
      "image/png": "[encoded data removed]",
      "text/plain": [
       "<matplotlib.figure.Figure at 0x7fd2dac82cd0>"
      ]
     },
     "metadata": {},
     "output_type": "display_data"
    }
   ],
   "source": [
    "plt.scatter(tsne_embedding[:,0], tsne_embedding[:,1], c=Y_test.argmax(axis=1))"
   ]
  },
  {
   "cell_type": "code",
   "execution_count": null,
   "metadata": {
    "collapsed": true
   },
   "outputs": [],
   "source": []
  }
 ],
 "metadata": {
  "kernelspec": {
   "display_name": "Python 2",
   "language": "python",
   "name": "python2"
  },
  "language_info": {
   "codemirror_mode": {
    "name": "ipython",
    "version": 2
   },
   "file_extension": ".py",
   "mimetype": "text/x-python",
   "name": "python",
   "nbconvert_exporter": "python",
   "pygments_lexer": "ipython2",
   "version": "2.7.13"
  }
 },
 "nbformat": 4,
 "nbformat_minor": 2
}
