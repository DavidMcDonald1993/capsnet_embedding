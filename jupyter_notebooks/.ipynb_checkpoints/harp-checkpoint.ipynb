{
 "cells": [
  {
   "cell_type": "code",
   "execution_count": 1,
   "metadata": {
    "collapsed": true
   },
   "outputs": [],
   "source": [
    "import random\n",
    "import numpy as np\n",
    "import networkx as nx\n",
    "from sklearn.metrics.pairwise import cosine_similarity"
   ]
  },
  {
   "cell_type": "code",
   "execution_count": 2,
   "metadata": {
    "collapsed": true
   },
   "outputs": [],
   "source": [
    "def contracted_nodes(G, nodes, self_loops=False):\n",
    "    \"\"\"Returns the graph that results from contracting ``u`` and ``v``.\n",
    "\n",
    "    Node contraction identifies the two nodes as a single node incident to any\n",
    "    edge that was incident to the original two nodes.\n",
    "\n",
    "    Parameters\n",
    "    ----------\n",
    "    G : NetworkX graph\n",
    "       The graph whose nodes will be contracted.\n",
    "\n",
    "    u, v : nodes\n",
    "       Must be nodes in ``G``.\n",
    "\n",
    "    self_loops : Boolean\n",
    "       If this is ``True``, any edges joining ``u`` and ``v`` in ``G`` become\n",
    "       self-loops on the new node in the returned graph.\n",
    "\n",
    "    Returns\n",
    "    -------\n",
    "    Networkx graph\n",
    "       A new graph object of the same type as ``G`` (leaving ``G`` unmodified)\n",
    "       with ``u`` and ``v`` identified in a single node. The right node ``v``\n",
    "       will be merged into the node ``u``, so only ``u`` will appear in the\n",
    "       returned graph.\n",
    "\n",
    "    Examples\n",
    "    --------\n",
    "    Contracting two nonadjacent nodes of the cycle graph on four nodes `C_4`\n",
    "    yields the path graph (ignoring parallel edges)::\n",
    "\n",
    "        >>> import networkx as nx\n",
    "        >>> G = nx.cycle_graph(4)\n",
    "        >>> M = nx.contracted_nodes(G, 1, 3)\n",
    "        >>> P3 = nx.path_graph(3)\n",
    "        >>> nx.is_isomorphic(M, P3)\n",
    "        True\n",
    "\n",
    "    See also\n",
    "    --------\n",
    "    contracted_edge\n",
    "    quotient_graph\n",
    "\n",
    "    Notes\n",
    "    -----\n",
    "    This function is also available as ``identified_nodes``.\n",
    "    \"\"\"\n",
    "    for u, v in nodes:\n",
    "        if G.is_directed():\n",
    "            in_edges = ((w, u, d) for w, x, d in G.in_edges(v, data=True)\n",
    "                        if self_loops or w != u)\n",
    "            out_edges = ((u, w, d) for x, w, d in G.out_edges(v, data=True)\n",
    "                         if self_loops or w != u)\n",
    "            new_edges = chain(in_edges, out_edges)\n",
    "        else:\n",
    "            new_edges = ((u, w, d) for x, w, d in G.edges(v, data=True)\n",
    "                         if self_loops or w != u)\n",
    "        v_data = G.node[v]\n",
    "        G.remove_node(v)\n",
    "        G.add_edges_from(new_edges)\n",
    "        if 'contraction' in G.node[u]:\n",
    "            G.node[u]['contraction'][v] = v_data\n",
    "        else:\n",
    "            G.node[u]['contraction'] = {v: v_data}\n"
   ]
  },
  {
   "cell_type": "code",
   "execution_count": 39,
   "metadata": {
    "collapsed": true
   },
   "outputs": [],
   "source": [
    "def select_nodes_edge_collapse(G):\n",
    "#     N = nx.number_of_nodes(G)\n",
    "#     A = nx.adjacency_matrix(G)\n",
    "#     S = cosine_similarity(A) - np.identity(N)\n",
    "\n",
    "#     degrees = {i : nx.degree(G, n) for i, n in enumerate(G.nodes())}\n",
    "    degrees = nx.degree(G)\n",
    "    nodes_sorted_by_degree = sorted(degrees, key=degrees.get)\n",
    "    min_degree = min(degrees.values())\n",
    "    nodes_with_min_degree = (k for k, v in degrees.items() if v == min_degree)\n",
    "    nodes = []\n",
    "    covered_nodes = []\n",
    "    for u in nodes_sorted_by_degree:\n",
    "#     for u in nodes_with_min_degree:\n",
    "#         if len(nodes) >= 10:\n",
    "#             break\n",
    "        if u in covered_nodes:\n",
    "            continue\n",
    "        neighbour_degrees = G.degree(G.neighbors(u))\n",
    "        for v in sorted(neighbour_degrees, key=neighbour_degrees.get):\n",
    "            if v in covered_nodes:\n",
    "                continue\n",
    "            if degrees[v] >= degrees[u]:\n",
    "                nodes.append((v, u))\n",
    "                covered_nodes.extend([u,v])\n",
    "                break\n",
    "    return nodes\n",
    "\n",
    "def select_nodes_star_collapse(G, thres=0.9):\n",
    "    \n",
    "    N = nx.number_of_nodes(G)\n",
    "    A = nx.adjacency_matrix(G)\n",
    "    S = cosine_similarity(A) - np.identity(N)\n",
    "\n",
    "    degrees = {i : nx.degree(G, n) for i, n in enumerate(G.nodes())}\n",
    "    nodes_sorted_by_degree = sorted(degrees, key=degrees.get)\n",
    "#     min_degree = min(degrees.values())\n",
    "#     nodes_with_min_degree = (k for k, v in degrees.items() if v == min_degree)\n",
    "    \n",
    "\n",
    "#     S = {G.nodes()[i] : {G.nodes()[j] : S[i, j] for j in range(S.shape[1])} for i in range(S.shape[0])}\n",
    "#     U, V = np.where(S > thres)\n",
    "#     idx = S[U, V].argsort()[::-1]\n",
    "#     U = U[idx]\n",
    "#     V = V[idx]\n",
    "    nodes = []\n",
    "    covered_nodes = []\n",
    "    for u in nodes_sorted_by_degree:\n",
    "        if u in covered_nodes:\n",
    "            continue\n",
    "#         for v in np.where(S[u] == 1)[0]:\n",
    "        for v in S[u].argsort()[::-1]:\n",
    "            if S[u, v] < 0.9999999:\n",
    "                break\n",
    "            if v in covered_nodes:\n",
    "                continue\n",
    "#         v = S[u].argmax()\n",
    "#         print np.where(S[u]==1)[0]\n",
    "#         if u not in covered_nodes and v not in covered_nodes:\n",
    "            nodes.append((G.nodes()[v], G.nodes()[u]))\n",
    "            covered_nodes.extend([u, v])\n",
    "            break\n",
    "    return nodes\n",
    "\n",
    "# def select_nodes_edge_collapse(G, thres=0.9):\n",
    "    \n",
    "#     N = nx.number_of_nodes(G)\n",
    "#     A = nx.adjacency_matrix(G)\n",
    "#     S = cosine_similarity(A) - np.identity(N)\n",
    "\n",
    "#     degrees = {i : nx.degree(G, n) for i, n in enumerate(G.nodes())}\n",
    "#     nodes_sorted_by_degree = sorted(degrees, key=degrees.get)\n",
    "# #     min_degree = min(degrees.values())\n",
    "# #     nodes_with_min_degree = (k for k, v in degrees.items() if v == min_degree)\n",
    "    \n",
    "\n",
    "# #     S = {G.nodes()[i] : {G.nodes()[j] : S[i, j] for j in range(S.shape[1])} for i in range(S.shape[0])}\n",
    "# #     U, V = np.where(S > thres)\n",
    "# #     idx = S[U, V].argsort()[::-1]\n",
    "# #     U = U[idx]\n",
    "# #     V = V[idx]\n",
    "#     nodes = []\n",
    "#     covered_nodes = []\n",
    "#     for u in nodes_sorted_by_degree:\n",
    "#         if u in covered_nodes:\n",
    "#             continue\n",
    "# #         for v in np.where(S[u] == 1)[0]:\n",
    "#         for v in S[u].argsort()[::-1]:\n",
    "# #             if S[u, v] < 0.999999999:\n",
    "# #                 break\n",
    "#             if v in covered_nodes or A[u, v] == 0:\n",
    "#                 continue\n",
    "# #         v = S[u].argmax()\n",
    "# #         print np.where(S[u]==1)[0]\n",
    "# #         if u not in covered_nodes and v not in covered_nodes:\n",
    "#             nodes.append((G.nodes()[v], G.nodes()[u]))\n",
    "#             covered_nodes.extend([u, v])\n",
    "#             break\n",
    "#     return nodes\n",
    "\n",
    "def edge_collapse(G):\n",
    "    nodes = select_nodes_edge_collapse(G)\n",
    "    contracted_nodes(G, nodes)\n",
    "\n",
    "def star_collapse(G):\n",
    "    nodes = select_nodes_star_collapse(G)\n",
    "    contracted_nodes(G, nodes)"
   ]
  },
  {
   "cell_type": "code",
   "execution_count": 23,
   "metadata": {
    "collapsed": true
   },
   "outputs": [],
   "source": [
    "# %matplotlib inline\n",
    "# import matplotlib.pyplot as plt"
   ]
  },
  {
   "cell_type": "code",
   "execution_count": 27,
   "metadata": {
    "collapsed": true
   },
   "outputs": [],
   "source": [
    "G = nx.Graph(nx.scale_free_graph(1000).to_undirected())"
   ]
  },
  {
   "cell_type": "code",
   "execution_count": 25,
   "metadata": {
    "collapsed": true
   },
   "outputs": [],
   "source": [
    "# G = nx.read_gml(\"../data/0_facebook_graph.gml\")"
   ]
  },
  {
   "cell_type": "code",
   "execution_count": 33,
   "metadata": {
    "collapsed": true
   },
   "outputs": [],
   "source": [
    "G = nx.read_gml(\"../data/facebook_graph.gml\")"
   ]
  },
  {
   "cell_type": "code",
   "execution_count": 40,
   "metadata": {},
   "outputs": [
    {
     "name": "stdout",
     "output_type": "stream",
     "text": [
      "4039 88234\n",
      "\n",
      "0 4039 88234\n",
      "0 5 6\n",
      "\n",
      "1 5 6\n",
      "1 1 0\n",
      "\n",
      "2 1 0\n",
      "2 1 0\n",
      "\n",
      "3 1 0\n",
      "3 1 0\n",
      "\n",
      "4 1 0\n",
      "4 1 0\n",
      "\n"
     ]
    }
   ],
   "source": [
    "H = G.copy()\n",
    "print nx.number_of_nodes(H), nx.number_of_edges(H)\n",
    "print \n",
    "\n",
    "for i in range(5):\n",
    "    \n",
    "#     num_nodes = nx.number_of_nodes(H)\n",
    "#     change = np.inf\n",
    "#     while change > 0:\n",
    "#         star_collapse(H)\n",
    "#         print \"star collapse\"\n",
    "#         change = num_nodes - nx.number_of_nodes(H)\n",
    "#         num_nodes = nx.number_of_nodes(H)\n",
    "#     star_collapse(H)\n",
    "    print i, nx.number_of_nodes(H), nx.number_of_edges(H)\n",
    "    edge_collapse(H)\n",
    "    print i, nx.number_of_nodes(H), nx.number_of_edges(H)\n",
    "    nx.write_edgelist(H, \"../data/collapsed_{}.edg\".format(i), data=False)\n",
    "    print\n",
    "    "
   ]
  },
  {
   "cell_type": "code",
   "execution_count": 17,
   "metadata": {
    "collapsed": true
   },
   "outputs": [],
   "source": [
    "!rm ../data/collapsed_*"
   ]
  },
  {
   "cell_type": "code",
   "execution_count": null,
   "metadata": {
    "collapsed": true
   },
   "outputs": [],
   "source": []
  }
 ],
 "metadata": {
  "kernelspec": {
   "display_name": "Python 2",
   "language": "python",
   "name": "python2"
  },
  "language_info": {
   "codemirror_mode": {
    "name": "ipython",
    "version": 2
   },
   "file_extension": ".py",
   "mimetype": "text/x-python",
   "name": "python",
   "nbconvert_exporter": "python",
   "pygments_lexer": "ipython2",
   "version": "2.7.13"
  }
 },
 "nbformat": 4,
 "nbformat_minor": 2
}
